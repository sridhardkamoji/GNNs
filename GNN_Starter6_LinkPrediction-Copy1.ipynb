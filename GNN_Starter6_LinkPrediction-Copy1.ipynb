{
 "cells": [
  {
   "cell_type": "code",
   "execution_count": 1,
   "id": "23395ed0-7c3f-4c03-bd89-0e83bfd6bff6",
   "metadata": {
    "tags": []
   },
   "outputs": [],
   "source": [
    "from IPython.core.interactiveshell import InteractiveShell\n",
    "InteractiveShell.ast_node_interactivity = \"all\""
   ]
  },
  {
   "cell_type": "code",
   "execution_count": 2,
   "id": "17ab6090-8806-4bb6-88e0-2f307f7ffa93",
   "metadata": {
    "tags": []
   },
   "outputs": [],
   "source": [
    "from torch_geometric.data import download_url, extract_zip"
   ]
  },
  {
   "cell_type": "code",
   "execution_count": 3,
   "id": "13392aa4-7f5c-4830-94d4-2890ec5df2a4",
   "metadata": {
    "tags": []
   },
   "outputs": [
    {
     "name": "stderr",
     "output_type": "stream",
     "text": [
      "Downloading https://files.grouplens.org/datasets/movielens/ml-latest.zip\n",
      "Extracting .\\ml-latest.zip\n"
     ]
    }
   ],
   "source": [
    "# url = 'https://files.grouplens.org/datasets/movielens/ml-latest-small.zip'\n",
    "url = 'https://files.grouplens.org/datasets/movielens/ml-latest.zip'\n",
    "extract_zip(download_url(url, '.'), '.')\n",
    "\n",
    "# movies_path = './ml-latest-small/movies.csv'\n",
    "# ratings_path = './ml-latest-small/ratings.csv'\n",
    "movies_path = './ml-latest/movies.csv'\n",
    "ratings_path = './ml-latest/ratings.csv'"
   ]
  },
  {
   "cell_type": "code",
   "execution_count": 4,
   "id": "1dd76592-f82e-4801-8f64-b1c8ac75d609",
   "metadata": {
    "tags": []
   },
   "outputs": [
    {
     "data": {
      "text/plain": [
       "['links.csv', 'movies.csv', 'ratings.csv', 'README.txt', 'tags.csv']"
      ]
     },
     "execution_count": 4,
     "metadata": {},
     "output_type": "execute_result"
    }
   ],
   "source": [
    "import os\n",
    "os.listdir('./ml-latest-small/')"
   ]
  },
  {
   "cell_type": "code",
   "execution_count": 5,
   "id": "0de9c1ad-13a2-4854-b3bd-6adaf6ec03f3",
   "metadata": {
    "tags": []
   },
   "outputs": [],
   "source": [
    "import pandas as pd\n",
    "movie_df = pd.read_csv(movies_path)\n",
    "ratings_df = pd.read_csv(ratings_path)"
   ]
  },
  {
   "cell_type": "code",
   "execution_count": 6,
   "id": "f0920c91-398b-4024-881f-a44ba80f9abb",
   "metadata": {
    "scrolled": true,
    "tags": []
   },
   "outputs": [
    {
     "data": {
      "text/html": [
       "<div>\n",
       "<style scoped>\n",
       "    .dataframe tbody tr th:only-of-type {\n",
       "        vertical-align: middle;\n",
       "    }\n",
       "\n",
       "    .dataframe tbody tr th {\n",
       "        vertical-align: top;\n",
       "    }\n",
       "\n",
       "    .dataframe thead th {\n",
       "        text-align: right;\n",
       "    }\n",
       "</style>\n",
       "<table border=\"1\" class=\"dataframe\">\n",
       "  <thead>\n",
       "    <tr style=\"text-align: right;\">\n",
       "      <th></th>\n",
       "      <th>movieId</th>\n",
       "      <th>title</th>\n",
       "      <th>genres</th>\n",
       "    </tr>\n",
       "  </thead>\n",
       "  <tbody>\n",
       "    <tr>\n",
       "      <th>0</th>\n",
       "      <td>1</td>\n",
       "      <td>Toy Story (1995)</td>\n",
       "      <td>Adventure|Animation|Children|Comedy|Fantasy</td>\n",
       "    </tr>\n",
       "    <tr>\n",
       "      <th>1</th>\n",
       "      <td>2</td>\n",
       "      <td>Jumanji (1995)</td>\n",
       "      <td>Adventure|Children|Fantasy</td>\n",
       "    </tr>\n",
       "    <tr>\n",
       "      <th>2</th>\n",
       "      <td>3</td>\n",
       "      <td>Grumpier Old Men (1995)</td>\n",
       "      <td>Comedy|Romance</td>\n",
       "    </tr>\n",
       "    <tr>\n",
       "      <th>3</th>\n",
       "      <td>4</td>\n",
       "      <td>Waiting to Exhale (1995)</td>\n",
       "      <td>Comedy|Drama|Romance</td>\n",
       "    </tr>\n",
       "    <tr>\n",
       "      <th>4</th>\n",
       "      <td>5</td>\n",
       "      <td>Father of the Bride Part II (1995)</td>\n",
       "      <td>Comedy</td>\n",
       "    </tr>\n",
       "  </tbody>\n",
       "</table>\n",
       "</div>"
      ],
      "text/plain": [
       "   movieId                               title  \\\n",
       "0        1                    Toy Story (1995)   \n",
       "1        2                      Jumanji (1995)   \n",
       "2        3             Grumpier Old Men (1995)   \n",
       "3        4            Waiting to Exhale (1995)   \n",
       "4        5  Father of the Bride Part II (1995)   \n",
       "\n",
       "                                        genres  \n",
       "0  Adventure|Animation|Children|Comedy|Fantasy  \n",
       "1                   Adventure|Children|Fantasy  \n",
       "2                               Comedy|Romance  \n",
       "3                         Comedy|Drama|Romance  \n",
       "4                                       Comedy  "
      ]
     },
     "execution_count": 6,
     "metadata": {},
     "output_type": "execute_result"
    },
    {
     "data": {
      "text/html": [
       "<div>\n",
       "<style scoped>\n",
       "    .dataframe tbody tr th:only-of-type {\n",
       "        vertical-align: middle;\n",
       "    }\n",
       "\n",
       "    .dataframe tbody tr th {\n",
       "        vertical-align: top;\n",
       "    }\n",
       "\n",
       "    .dataframe thead th {\n",
       "        text-align: right;\n",
       "    }\n",
       "</style>\n",
       "<table border=\"1\" class=\"dataframe\">\n",
       "  <thead>\n",
       "    <tr style=\"text-align: right;\">\n",
       "      <th></th>\n",
       "      <th>userId</th>\n",
       "      <th>movieId</th>\n",
       "      <th>rating</th>\n",
       "      <th>timestamp</th>\n",
       "    </tr>\n",
       "  </thead>\n",
       "  <tbody>\n",
       "    <tr>\n",
       "      <th>0</th>\n",
       "      <td>1</td>\n",
       "      <td>1</td>\n",
       "      <td>4.0</td>\n",
       "      <td>964982703</td>\n",
       "    </tr>\n",
       "    <tr>\n",
       "      <th>1</th>\n",
       "      <td>1</td>\n",
       "      <td>3</td>\n",
       "      <td>4.0</td>\n",
       "      <td>964981247</td>\n",
       "    </tr>\n",
       "    <tr>\n",
       "      <th>2</th>\n",
       "      <td>1</td>\n",
       "      <td>6</td>\n",
       "      <td>4.0</td>\n",
       "      <td>964982224</td>\n",
       "    </tr>\n",
       "    <tr>\n",
       "      <th>3</th>\n",
       "      <td>1</td>\n",
       "      <td>47</td>\n",
       "      <td>5.0</td>\n",
       "      <td>964983815</td>\n",
       "    </tr>\n",
       "    <tr>\n",
       "      <th>4</th>\n",
       "      <td>1</td>\n",
       "      <td>50</td>\n",
       "      <td>5.0</td>\n",
       "      <td>964982931</td>\n",
       "    </tr>\n",
       "  </tbody>\n",
       "</table>\n",
       "</div>"
      ],
      "text/plain": [
       "   userId  movieId  rating  timestamp\n",
       "0       1        1     4.0  964982703\n",
       "1       1        3     4.0  964981247\n",
       "2       1        6     4.0  964982224\n",
       "3       1       47     5.0  964983815\n",
       "4       1       50     5.0  964982931"
      ]
     },
     "execution_count": 6,
     "metadata": {},
     "output_type": "execute_result"
    }
   ],
   "source": [
    "movie_df.head()\n",
    "ratings_df.head()"
   ]
  },
  {
   "cell_type": "code",
   "execution_count": 42,
   "id": "4268aeba-d451-4f68-9869-55b18f0a294e",
   "metadata": {
    "tags": []
   },
   "outputs": [
    {
     "data": {
      "text/plain": [
       "rating\n",
       "4.0    26818\n",
       "3.0    20047\n",
       "5.0    13211\n",
       "3.5    13136\n",
       "4.5     8551\n",
       "2.0     7551\n",
       "2.5     5550\n",
       "1.0     2811\n",
       "1.5     1791\n",
       "0.5     1370\n",
       "Name: count, dtype: int64"
      ]
     },
     "execution_count": 42,
     "metadata": {},
     "output_type": "execute_result"
    }
   ],
   "source": [
    "ratings_df['rating'].value_counts()"
   ]
  },
  {
   "cell_type": "code",
   "execution_count": 7,
   "id": "b7cf72e0-e02a-493a-b8c2-1e5c032658bd",
   "metadata": {
    "tags": []
   },
   "outputs": [],
   "source": [
    "movie_df.set_index('movieId', inplace=True)"
   ]
  },
  {
   "cell_type": "code",
   "execution_count": 8,
   "id": "e3b01f1d-e8ae-40b1-a990-eef0c31be75c",
   "metadata": {
    "tags": []
   },
   "outputs": [],
   "source": [
    "genres = movie_df['genres'].str.get_dummies('|')"
   ]
  },
  {
   "cell_type": "code",
   "execution_count": 9,
   "id": "31d55c3f-a316-47d1-bc94-a42a2be61be3",
   "metadata": {
    "tags": []
   },
   "outputs": [
    {
     "data": {
      "text/plain": [
       "(9742, 20)"
      ]
     },
     "execution_count": 9,
     "metadata": {},
     "output_type": "execute_result"
    },
    {
     "data": {
      "text/html": [
       "<div>\n",
       "<style scoped>\n",
       "    .dataframe tbody tr th:only-of-type {\n",
       "        vertical-align: middle;\n",
       "    }\n",
       "\n",
       "    .dataframe tbody tr th {\n",
       "        vertical-align: top;\n",
       "    }\n",
       "\n",
       "    .dataframe thead th {\n",
       "        text-align: right;\n",
       "    }\n",
       "</style>\n",
       "<table border=\"1\" class=\"dataframe\">\n",
       "  <thead>\n",
       "    <tr style=\"text-align: right;\">\n",
       "      <th></th>\n",
       "      <th>(no genres listed)</th>\n",
       "      <th>Action</th>\n",
       "      <th>Adventure</th>\n",
       "      <th>Animation</th>\n",
       "      <th>Children</th>\n",
       "      <th>Comedy</th>\n",
       "      <th>Crime</th>\n",
       "      <th>Documentary</th>\n",
       "      <th>Drama</th>\n",
       "      <th>Fantasy</th>\n",
       "      <th>Film-Noir</th>\n",
       "      <th>Horror</th>\n",
       "      <th>IMAX</th>\n",
       "      <th>Musical</th>\n",
       "      <th>Mystery</th>\n",
       "      <th>Romance</th>\n",
       "      <th>Sci-Fi</th>\n",
       "      <th>Thriller</th>\n",
       "      <th>War</th>\n",
       "      <th>Western</th>\n",
       "    </tr>\n",
       "    <tr>\n",
       "      <th>movieId</th>\n",
       "      <th></th>\n",
       "      <th></th>\n",
       "      <th></th>\n",
       "      <th></th>\n",
       "      <th></th>\n",
       "      <th></th>\n",
       "      <th></th>\n",
       "      <th></th>\n",
       "      <th></th>\n",
       "      <th></th>\n",
       "      <th></th>\n",
       "      <th></th>\n",
       "      <th></th>\n",
       "      <th></th>\n",
       "      <th></th>\n",
       "      <th></th>\n",
       "      <th></th>\n",
       "      <th></th>\n",
       "      <th></th>\n",
       "      <th></th>\n",
       "    </tr>\n",
       "  </thead>\n",
       "  <tbody>\n",
       "    <tr>\n",
       "      <th>1</th>\n",
       "      <td>0</td>\n",
       "      <td>0</td>\n",
       "      <td>1</td>\n",
       "      <td>1</td>\n",
       "      <td>1</td>\n",
       "      <td>1</td>\n",
       "      <td>0</td>\n",
       "      <td>0</td>\n",
       "      <td>0</td>\n",
       "      <td>1</td>\n",
       "      <td>0</td>\n",
       "      <td>0</td>\n",
       "      <td>0</td>\n",
       "      <td>0</td>\n",
       "      <td>0</td>\n",
       "      <td>0</td>\n",
       "      <td>0</td>\n",
       "      <td>0</td>\n",
       "      <td>0</td>\n",
       "      <td>0</td>\n",
       "    </tr>\n",
       "    <tr>\n",
       "      <th>2</th>\n",
       "      <td>0</td>\n",
       "      <td>0</td>\n",
       "      <td>1</td>\n",
       "      <td>0</td>\n",
       "      <td>1</td>\n",
       "      <td>0</td>\n",
       "      <td>0</td>\n",
       "      <td>0</td>\n",
       "      <td>0</td>\n",
       "      <td>1</td>\n",
       "      <td>0</td>\n",
       "      <td>0</td>\n",
       "      <td>0</td>\n",
       "      <td>0</td>\n",
       "      <td>0</td>\n",
       "      <td>0</td>\n",
       "      <td>0</td>\n",
       "      <td>0</td>\n",
       "      <td>0</td>\n",
       "      <td>0</td>\n",
       "    </tr>\n",
       "    <tr>\n",
       "      <th>3</th>\n",
       "      <td>0</td>\n",
       "      <td>0</td>\n",
       "      <td>0</td>\n",
       "      <td>0</td>\n",
       "      <td>0</td>\n",
       "      <td>1</td>\n",
       "      <td>0</td>\n",
       "      <td>0</td>\n",
       "      <td>0</td>\n",
       "      <td>0</td>\n",
       "      <td>0</td>\n",
       "      <td>0</td>\n",
       "      <td>0</td>\n",
       "      <td>0</td>\n",
       "      <td>0</td>\n",
       "      <td>1</td>\n",
       "      <td>0</td>\n",
       "      <td>0</td>\n",
       "      <td>0</td>\n",
       "      <td>0</td>\n",
       "    </tr>\n",
       "    <tr>\n",
       "      <th>4</th>\n",
       "      <td>0</td>\n",
       "      <td>0</td>\n",
       "      <td>0</td>\n",
       "      <td>0</td>\n",
       "      <td>0</td>\n",
       "      <td>1</td>\n",
       "      <td>0</td>\n",
       "      <td>0</td>\n",
       "      <td>1</td>\n",
       "      <td>0</td>\n",
       "      <td>0</td>\n",
       "      <td>0</td>\n",
       "      <td>0</td>\n",
       "      <td>0</td>\n",
       "      <td>0</td>\n",
       "      <td>1</td>\n",
       "      <td>0</td>\n",
       "      <td>0</td>\n",
       "      <td>0</td>\n",
       "      <td>0</td>\n",
       "    </tr>\n",
       "    <tr>\n",
       "      <th>5</th>\n",
       "      <td>0</td>\n",
       "      <td>0</td>\n",
       "      <td>0</td>\n",
       "      <td>0</td>\n",
       "      <td>0</td>\n",
       "      <td>1</td>\n",
       "      <td>0</td>\n",
       "      <td>0</td>\n",
       "      <td>0</td>\n",
       "      <td>0</td>\n",
       "      <td>0</td>\n",
       "      <td>0</td>\n",
       "      <td>0</td>\n",
       "      <td>0</td>\n",
       "      <td>0</td>\n",
       "      <td>0</td>\n",
       "      <td>0</td>\n",
       "      <td>0</td>\n",
       "      <td>0</td>\n",
       "      <td>0</td>\n",
       "    </tr>\n",
       "  </tbody>\n",
       "</table>\n",
       "</div>"
      ],
      "text/plain": [
       "         (no genres listed)  Action  Adventure  Animation  Children  Comedy  \\\n",
       "movieId                                                                       \n",
       "1                         0       0          1          1         1       1   \n",
       "2                         0       0          1          0         1       0   \n",
       "3                         0       0          0          0         0       1   \n",
       "4                         0       0          0          0         0       1   \n",
       "5                         0       0          0          0         0       1   \n",
       "\n",
       "         Crime  Documentary  Drama  Fantasy  Film-Noir  Horror  IMAX  Musical  \\\n",
       "movieId                                                                         \n",
       "1            0            0      0        1          0       0     0        0   \n",
       "2            0            0      0        1          0       0     0        0   \n",
       "3            0            0      0        0          0       0     0        0   \n",
       "4            0            0      1        0          0       0     0        0   \n",
       "5            0            0      0        0          0       0     0        0   \n",
       "\n",
       "         Mystery  Romance  Sci-Fi  Thriller  War  Western  \n",
       "movieId                                                    \n",
       "1              0        0       0         0    0        0  \n",
       "2              0        0       0         0    0        0  \n",
       "3              0        1       0         0    0        0  \n",
       "4              0        1       0         0    0        0  \n",
       "5              0        0       0         0    0        0  "
      ]
     },
     "execution_count": 9,
     "metadata": {},
     "output_type": "execute_result"
    }
   ],
   "source": [
    "genres.shape\n",
    "genres.head()"
   ]
  },
  {
   "cell_type": "code",
   "execution_count": 10,
   "id": "6cffe4eb-4a2d-4c0e-9593-29d1c0a687d6",
   "metadata": {
    "tags": []
   },
   "outputs": [],
   "source": [
    "import torch"
   ]
  },
  {
   "cell_type": "code",
   "execution_count": 11,
   "id": "466379b1-0414-4399-b339-0e37720b0775",
   "metadata": {
    "tags": []
   },
   "outputs": [
    {
     "data": {
      "text/plain": [
       "torch.Size([9742, 20])"
      ]
     },
     "execution_count": 11,
     "metadata": {},
     "output_type": "execute_result"
    },
    {
     "data": {
      "text/plain": [
       "tensor([[0., 0., 1.,  ..., 0., 0., 0.],\n",
       "        [0., 0., 1.,  ..., 0., 0., 0.],\n",
       "        [0., 0., 0.,  ..., 0., 0., 0.],\n",
       "        ...,\n",
       "        [0., 0., 0.,  ..., 0., 0., 0.],\n",
       "        [0., 1., 0.,  ..., 0., 0., 0.],\n",
       "        [0., 0., 0.,  ..., 0., 0., 0.]])"
      ]
     },
     "execution_count": 11,
     "metadata": {},
     "output_type": "execute_result"
    }
   ],
   "source": [
    "movie_features = torch.from_numpy(genres.values).to(torch.float)\n",
    "\n",
    "movie_features.shape\n",
    "movie_features"
   ]
  },
  {
   "cell_type": "code",
   "execution_count": 12,
   "id": "27f17883-d850-49fc-b8f0-7385ab89c441",
   "metadata": {
    "tags": []
   },
   "outputs": [],
   "source": [
    "unique_user_id = ratings_df['userId'].unique()\n",
    "unique_user_id = pd.DataFrame(data= {'userId' : unique_user_id, \n",
    "                                     'mappedId' : pd.RangeIndex(0, len(unique_user_id))})\n",
    "\n",
    "unique_movie_id = pd.DataFrame(data= {'movieId' : movie_df.index, \n",
    "                                     'mappedId' : pd.RangeIndex(0, movie_df.shape[0])})"
   ]
  },
  {
   "cell_type": "code",
   "execution_count": 13,
   "id": "4007b833-a5fa-4ab6-a450-da8c19add09c",
   "metadata": {
    "tags": []
   },
   "outputs": [],
   "source": [
    "ratings_user_id = pd.merge(ratings_df, unique_user_id, left_on='userId', right_on='userId', how='left')\n",
    "ratings_movie_id = pd.merge(ratings_df, unique_movie_id, left_on='movieId', right_on='movieId', how = 'left')"
   ]
  },
  {
   "cell_type": "code",
   "execution_count": 14,
   "id": "a0a36276-5588-4b2a-9f81-6d0d153db532",
   "metadata": {
    "tags": []
   },
   "outputs": [],
   "source": [
    "ratings_user_id = torch.from_numpy(ratings_user_id['mappedId'].values)\n",
    "ratings_movie_id = torch.from_numpy(ratings_movie_id['mappedId'].values)"
   ]
  },
  {
   "cell_type": "code",
   "execution_count": 15,
   "id": "4c7eed48-5b00-4a26-b8c0-eec1c02cab48",
   "metadata": {
    "tags": []
   },
   "outputs": [
    {
     "data": {
      "text/plain": [
       "tensor([[   0,    0,    0,  ...,  609,  609,  609],\n",
       "        [   0,    2,    5,  ..., 9462, 9463, 9503]])"
      ]
     },
     "execution_count": 15,
     "metadata": {},
     "output_type": "execute_result"
    },
    {
     "data": {
      "text/plain": [
       "torch.Size([2, 100836])"
      ]
     },
     "execution_count": 15,
     "metadata": {},
     "output_type": "execute_result"
    }
   ],
   "source": [
    "edge_index_user2movie = torch.stack([ratings_user_id, ratings_movie_id], dim = 0)\n",
    "edge_index_user2movie\n",
    "edge_index_user2movie.shape"
   ]
  },
  {
   "cell_type": "code",
   "execution_count": 16,
   "id": "edd6e7c6-8bc0-4d05-9698-6a3e456b3a13",
   "metadata": {
    "tags": []
   },
   "outputs": [],
   "source": [
    "from torch_geometric.data import HeteroData\n",
    "import torch_geometric.transforms as T"
   ]
  },
  {
   "cell_type": "code",
   "execution_count": 28,
   "id": "ca128238-61b0-4dd7-a7d6-3c2404e59af6",
   "metadata": {
    "tags": []
   },
   "outputs": [],
   "source": [
    "data = HeteroData()\n",
    "\n",
    "data['user']['node_id'] = torch.arange(len(unique_user_id))\n",
    "\n",
    "data['movie']['node_id'] = torch.arange(len(movie_df))\n",
    "data['movie']['x'] = movie_features\n",
    "\n",
    "data['user', 'rates', 'movie']['edge_index'] = edge_index_user2movie\n",
    "data = T.ToUndirected()(data)"
   ]
  },
  {
   "cell_type": "code",
   "execution_count": 30,
   "id": "c1f59d8b-f95e-437c-a866-94d961557e7d",
   "metadata": {
    "tags": []
   },
   "outputs": [
    {
     "data": {
      "text/plain": [
       "HeteroData(\n",
       "  user={ node_id=[610] },\n",
       "  movie={\n",
       "    node_id=[9742],\n",
       "    x=[9742, 20],\n",
       "  },\n",
       "  (user, rates, movie)={ edge_index=[2, 100836] },\n",
       "  (movie, rev_rates, user)={ edge_index=[2, 100836] }\n",
       ")"
      ]
     },
     "execution_count": 30,
     "metadata": {},
     "output_type": "execute_result"
    }
   ],
   "source": [
    "data"
   ]
  },
  {
   "cell_type": "code",
   "execution_count": 40,
   "id": "bfee5a95-0efc-431b-97fe-19b4298f784c",
   "metadata": {
    "tags": []
   },
   "outputs": [
    {
     "data": {
      "text/plain": [
       "{'edge_index': tensor([[   0,    0,    0,  ...,  609,  609,  609],\n",
       "        [   0,    2,    5,  ..., 9462, 9463, 9503]])}"
      ]
     },
     "execution_count": 40,
     "metadata": {},
     "output_type": "execute_result"
    },
    {
     "data": {
      "text/plain": [
       "{'edge_index': tensor([[   0,    2,    5,  ..., 9462, 9463, 9503],\n",
       "        [   0,    0,    0,  ...,  609,  609,  609]])}"
      ]
     },
     "execution_count": 40,
     "metadata": {},
     "output_type": "execute_result"
    }
   ],
   "source": [
    "data['user', 'rates', 'movie']\n",
    "data['movie', 'rev_rates', 'user']"
   ]
  },
  {
   "cell_type": "code",
   "execution_count": 29,
   "id": "8e2d1c20-df9e-4c6e-a41d-7200c4397391",
   "metadata": {
    "tags": []
   },
   "outputs": [
    {
     "data": {
      "text/plain": [
       "610"
      ]
     },
     "execution_count": 29,
     "metadata": {},
     "output_type": "execute_result"
    },
    {
     "data": {
      "text/plain": [
       "0"
      ]
     },
     "execution_count": 29,
     "metadata": {},
     "output_type": "execute_result"
    },
    {
     "data": {
      "text/plain": [
       "9742"
      ]
     },
     "execution_count": 29,
     "metadata": {},
     "output_type": "execute_result"
    },
    {
     "data": {
      "text/plain": [
       "20"
      ]
     },
     "execution_count": 29,
     "metadata": {},
     "output_type": "execute_result"
    },
    {
     "data": {
      "text/plain": [
       "[('user', 'rates', 'movie'), ('movie', 'rev_rates', 'user')]"
      ]
     },
     "execution_count": 29,
     "metadata": {},
     "output_type": "execute_result"
    }
   ],
   "source": [
    "data['user'].num_nodes\n",
    "data['user'].num_features\n",
    "data['movie'].num_nodes\n",
    "data['movie'].num_features\n",
    "data.edge_types"
   ]
  },
  {
   "cell_type": "markdown",
   "id": "6f528f8a-9355-4676-bc38-e6c1fa02f179",
   "metadata": {},
   "source": [
    "### Edge level train-val-test split"
   ]
  },
  {
   "cell_type": "code",
   "execution_count": 43,
   "id": "49e42278-6e3f-452f-9b0a-06d0940816c7",
   "metadata": {
    "tags": []
   },
   "outputs": [],
   "source": [
    "# train :: 80% ; val :: 10% ; test :: 10%\n",
    "# from the train we use 70% for message_passing and 30% for supervision (disjoint_train_ratio)\n",
    "# generate negative edges for evaluation 2:1 ratio (generated on the fly)\n",
    "\n",
    "transform = T.RandomLinkSplit(num_val=0.1, \n",
    "                              num_test=0.1, \n",
    "                              disjoint_train_ratio=0.3, \n",
    "                              neg_sampling_ratio=2.0,\n",
    "                              add_negative_train_samples=False,\n",
    "                              edge_types= ('user', 'rates', 'movie'), \n",
    "                              rev_edge_types= ('movie', 'rev_rates', 'user'))"
   ]
  },
  {
   "cell_type": "code",
   "execution_count": 45,
   "id": "0bac31b3-a9f2-455e-84b0-65c62eed10d0",
   "metadata": {
    "tags": []
   },
   "outputs": [],
   "source": [
    "train_data, val_data, test_data = transform(data)"
   ]
  },
  {
   "cell_type": "code",
   "execution_count": 51,
   "id": "0d3b59a5-0275-47ce-b8fa-cfa77ffbcfb6",
   "metadata": {
    "scrolled": true,
    "tags": []
   },
   "outputs": [
    {
     "name": "stdout",
     "output_type": "stream",
     "text": [
      "== train ==\n"
     ]
    },
    {
     "data": {
      "text/plain": [
       "HeteroData(\n",
       "  user={ node_id=[610] },\n",
       "  movie={\n",
       "    node_id=[9742],\n",
       "    x=[9742, 20],\n",
       "  },\n",
       "  edge_index={},\n",
       "  (user, rates, movie)={},\n",
       "  (user, rates, movie)={\n",
       "    edge_index=[2, 56469],\n",
       "    edge_label=[24201],\n",
       "    edge_label_index=[2, 24201],\n",
       "  },\n",
       "  (movie, rev_rates, user)={ edge_index=[2, 56469] }\n",
       ")"
      ]
     },
     "execution_count": 51,
     "metadata": {},
     "output_type": "execute_result"
    },
    {
     "name": "stdout",
     "output_type": "stream",
     "text": [
      "== val ==\n"
     ]
    },
    {
     "data": {
      "text/plain": [
       "HeteroData(\n",
       "  user={ node_id=[610] },\n",
       "  movie={\n",
       "    node_id=[9742],\n",
       "    x=[9742, 20],\n",
       "  },\n",
       "  edge_index={},\n",
       "  (user, rates, movie)={},\n",
       "  (user, rates, movie)={\n",
       "    edge_index=[2, 80670],\n",
       "    edge_label=[30249],\n",
       "    edge_label_index=[2, 30249],\n",
       "  },\n",
       "  (movie, rev_rates, user)={ edge_index=[2, 80670] }\n",
       ")"
      ]
     },
     "execution_count": 51,
     "metadata": {},
     "output_type": "execute_result"
    },
    {
     "name": "stdout",
     "output_type": "stream",
     "text": [
      "== test ==\n"
     ]
    },
    {
     "data": {
      "text/plain": [
       "HeteroData(\n",
       "  user={ node_id=[610] },\n",
       "  movie={\n",
       "    node_id=[9742],\n",
       "    x=[9742, 20],\n",
       "  },\n",
       "  edge_index={},\n",
       "  (user, rates, movie)={},\n",
       "  (user, rates, movie)={\n",
       "    edge_index=[2, 80670],\n",
       "    edge_label=[30249],\n",
       "    edge_label_index=[2, 30249],\n",
       "  },\n",
       "  (movie, rev_rates, user)={ edge_index=[2, 80670] }\n",
       ")"
      ]
     },
     "execution_count": 51,
     "metadata": {},
     "output_type": "execute_result"
    }
   ],
   "source": [
    "print(\"== train ==\")\n",
    "train_data\n",
    "print(\"== val ==\")\n",
    "val_data\n",
    "print(\"== test ==\")\n",
    "val_data"
   ]
  },
  {
   "cell_type": "code",
   "execution_count": 61,
   "id": "bc06d22e-c0f0-43a1-b548-f4025873b76b",
   "metadata": {
    "tags": []
   },
   "outputs": [
    {
     "data": {
      "text/plain": [
       "tensor([1.])"
      ]
     },
     "execution_count": 61,
     "metadata": {},
     "output_type": "execute_result"
    },
    {
     "data": {
      "text/plain": [
       "tensor([0., 1.])"
      ]
     },
     "execution_count": 61,
     "metadata": {},
     "output_type": "execute_result"
    },
    {
     "data": {
      "text/plain": [
       "tensor([20166, 10083])"
      ]
     },
     "execution_count": 61,
     "metadata": {},
     "output_type": "execute_result"
    }
   ],
   "source": [
    "train_data[('user', 'rates', 'movie')]['edge_label'].unique() # no negative samples added\n",
    "val_data[('user', 'rates', 'movie')]['edge_label'].unique() # negative samples added\n",
    "val_data[('user', 'rates', 'movie')]['edge_label'].to(torch.long).bincount()"
   ]
  },
  {
   "cell_type": "code",
   "execution_count": 63,
   "id": "2975033c-c009-411e-bcb0-ac5da665ff38",
   "metadata": {
    "tags": []
   },
   "outputs": [
    {
     "data": {
      "text/plain": [
       "{'edge_index': tensor([[ 317,   21,   19,  ...,  291,  247,  279],\n",
       "        [ 546, 5372, 1273,  ..., 7429,  911, 7416]]), 'edge_label': tensor([1., 1., 1.,  ..., 1., 1., 1.]), 'edge_label_index': tensor([[ 417,  181,  602,  ...,   62,  273,  413],\n",
       "        [8245, 2354,  450,  ...,  909, 6039, 2099]])}"
      ]
     },
     "execution_count": 63,
     "metadata": {},
     "output_type": "execute_result"
    },
    {
     "data": {
      "text/plain": [
       "{'edge_index': tensor([[ 417,  181,  602,  ...,  291,  247,  279],\n",
       "        [8245, 2354,  450,  ..., 7429,  911, 7416]]), 'edge_label': tensor([1., 1., 1.,  ..., 0., 0., 0.]), 'edge_label_index': tensor([[ 199,  181,  593,  ...,  504,   79,   28],\n",
       "        [ 815, 4327,  138,  ..., 6257, 1239, 5869]])}"
      ]
     },
     "execution_count": 63,
     "metadata": {},
     "output_type": "execute_result"
    }
   ],
   "source": [
    "train_data[('user', 'rates', 'movie')] # edge_label_index are used for supervision\n",
    "val_data[('user', 'rates', 'movie')]"
   ]
  },
  {
   "cell_type": "code",
   "execution_count": 67,
   "id": "ec58aa81-6c91-444b-8a87-c68536455419",
   "metadata": {
    "tags": []
   },
   "outputs": [
    {
     "data": {
      "text/plain": [
       "56469"
      ]
     },
     "execution_count": 67,
     "metadata": {},
     "output_type": "execute_result"
    },
    {
     "data": {
      "text/plain": [
       "{'edge_index': tensor([[ 546, 5372, 1273,  ..., 7429,  911, 7416],\n",
       "        [ 317,   21,   19,  ...,  291,  247,  279]])}"
      ]
     },
     "execution_count": 67,
     "metadata": {},
     "output_type": "execute_result"
    },
    {
     "data": {
      "text/plain": [
       "80670"
      ]
     },
     "execution_count": 67,
     "metadata": {},
     "output_type": "execute_result"
    },
    {
     "data": {
      "text/plain": [
       "{'edge_index': tensor([[8245, 2354,  450,  ..., 7429,  911, 7416],\n",
       "        [ 417,  181,  602,  ...,  291,  247,  279]])}"
      ]
     },
     "execution_count": 67,
     "metadata": {},
     "output_type": "execute_result"
    }
   ],
   "source": [
    "train_data[('movie', 'rev_rates', 'user')].num_edges\n",
    "train_data[('movie', 'rev_rates', 'user')]\n",
    "val_data[('movie', 'rev_rates', 'user')].num_edges\n",
    "val_data[('movie', 'rev_rates', 'user')]"
   ]
  },
  {
   "cell_type": "markdown",
   "id": "9679620a-224e-493c-b687-e2249a67a17a",
   "metadata": {},
   "source": [
    "### Mini Batching"
   ]
  },
  {
   "cell_type": "code",
   "execution_count": 68,
   "id": "dba44324-8fb6-4905-993f-7a41d3f95c03",
   "metadata": {
    "tags": []
   },
   "outputs": [],
   "source": [
    "from torch_geometric.loader import LinkNeighborLoader"
   ]
  },
  {
   "cell_type": "code",
   "execution_count": 69,
   "id": "a385aa14-e1a2-477c-8b2a-d6c1761836ea",
   "metadata": {
    "tags": []
   },
   "outputs": [
    {
     "data": {
      "text/plain": [
       "tensor([[ 417,  181,  602,  ...,   62,  273,  413],\n",
       "        [8245, 2354,  450,  ...,  909, 6039, 2099]])"
      ]
     },
     "execution_count": 69,
     "metadata": {},
     "output_type": "execute_result"
    }
   ],
   "source": [
    "train_data[('user', 'rates', 'movie')]['edge_label_index']"
   ]
  },
  {
   "cell_type": "code",
   "execution_count": 70,
   "id": "219632b0-006a-4ca8-8412-9dd79f5d24a1",
   "metadata": {
    "tags": []
   },
   "outputs": [
    {
     "data": {
      "text/plain": [
       "tensor([1., 1., 1.,  ..., 1., 1., 1.])"
      ]
     },
     "execution_count": 70,
     "metadata": {},
     "output_type": "execute_result"
    }
   ],
   "source": [
    "train_data[('user', 'rates', 'movie')]['edge_label']"
   ]
  },
  {
   "cell_type": "code",
   "execution_count": 71,
   "id": "e4331710-d236-4735-aa2a-dae3bdf4fecc",
   "metadata": {
    "tags": []
   },
   "outputs": [],
   "source": [
    "edge_label_index = train_data[('user', 'rates', 'movie')]['edge_label_index']\n",
    "edge_label = train_data[('user', 'rates', 'movie')]['edge_label']"
   ]
  },
  {
   "cell_type": "code",
   "execution_count": 73,
   "id": "f498c902-9830-464f-b1c9-882717d20c45",
   "metadata": {
    "tags": []
   },
   "outputs": [
    {
     "data": {
      "text/plain": [
       "[('user', 'rates', 'movie'), ('movie', 'rev_rates', 'user')]"
      ]
     },
     "execution_count": 73,
     "metadata": {},
     "output_type": "execute_result"
    }
   ],
   "source": [
    "train_data.edge_types"
   ]
  },
  {
   "cell_type": "code",
   "execution_count": 74,
   "id": "2c7253a7-008e-4c1c-9453-7956cb997169",
   "metadata": {
    "tags": []
   },
   "outputs": [
    {
     "name": "stderr",
     "output_type": "stream",
     "text": [
      "C:\\Users\\Sridhar Kamoji\\Python\\GNN\\.env-gnn\\lib\\site-packages\\torch_geometric\\data\\storage.py:450: UserWarning: Unable to accurately infer 'num_nodes' from the attribute set 'set()'. Please explicitly set 'num_nodes' as an attribute of 'data[edge_index]' to suppress this warning\n",
      "  warnings.warn(\n",
      "C:\\Users\\Sridhar Kamoji\\Python\\GNN\\.env-gnn\\lib\\site-packages\\torch_geometric\\data\\storage.py:450: UserWarning: Unable to accurately infer 'num_nodes' from the attribute set 'set()'. Please explicitly set 'num_nodes' as an attribute of 'data[(user, rates, movie)]' to suppress this warning\n",
      "  warnings.warn(\n",
      "C:\\Users\\Sridhar Kamoji\\Python\\GNN\\.env-gnn\\lib\\site-packages\\torch_geometric\\data\\storage.py:450: UserWarning: Unable to accurately infer 'num_nodes' from the attribute set 'set()'. Please explicitly set 'num_nodes' as an attribute of 'data[edge_label]' to suppress this warning\n",
      "  warnings.warn(\n"
     ]
    }
   ],
   "source": [
    "train_loader = LinkNeighborLoader(data= train_data, num_neighbors= [20,10], \n",
    "                                  neg_sampling_ratio=2.0, \n",
    "                                  edge_label_index=(('user', 'rates', 'movie'), edge_label_index),\n",
    "                                  edge_label=edge_label,\n",
    "                                  batch_size = 128,\n",
    "                                  shuffle = True)"
   ]
  },
  {
   "cell_type": "code",
   "execution_count": 75,
   "id": "bfd6f02a-8878-431a-b936-ea9e0038a45e",
   "metadata": {
    "tags": []
   },
   "outputs": [],
   "source": [
    "sample_data = next(iter(train_loader))"
   ]
  },
  {
   "cell_type": "code",
   "execution_count": 76,
   "id": "6e825727-e7f5-4718-9215-b5568fa5a623",
   "metadata": {
    "tags": []
   },
   "outputs": [
    {
     "data": {
      "text/plain": [
       "HeteroData(\n",
       "  user={\n",
       "    node_id=[607],\n",
       "    n_id=[607],\n",
       "  },\n",
       "  movie={\n",
       "    node_id=[2863],\n",
       "    x=[2863, 20],\n",
       "    n_id=[2863],\n",
       "  },\n",
       "  edge_index={ n_id=[0] },\n",
       "  (user, rates, movie)={ n_id=[0] },\n",
       "  edge_label={ n_id=[0] },\n",
       "  (user, rates, movie)={\n",
       "    edge_index=[2, 17834],\n",
       "    edge_label=[384],\n",
       "    edge_label_index=[2, 384],\n",
       "    e_id=[17834],\n",
       "    input_id=[128],\n",
       "  },\n",
       "  (movie, rev_rates, user)={\n",
       "    edge_index=[2, 7980],\n",
       "    e_id=[7980],\n",
       "  }\n",
       ")"
      ]
     },
     "execution_count": 76,
     "metadata": {},
     "output_type": "execute_result"
    }
   ],
   "source": [
    "sample_data"
   ]
  },
  {
   "cell_type": "code",
   "execution_count": null,
   "id": "9ca5799b-b86b-4adf-b8e8-6ff10c88196b",
   "metadata": {},
   "outputs": [],
   "source": []
  },
  {
   "cell_type": "code",
   "execution_count": null,
   "id": "b5539b6c-bc00-459f-8520-bd3df79c2f4f",
   "metadata": {},
   "outputs": [],
   "source": []
  },
  {
   "cell_type": "code",
   "execution_count": null,
   "id": "f067753d-ab67-4adb-8f5e-acf4d13263df",
   "metadata": {},
   "outputs": [],
   "source": []
  },
  {
   "cell_type": "code",
   "execution_count": null,
   "id": "6ccc1da1-1f24-48b9-88c0-6909948e9739",
   "metadata": {},
   "outputs": [],
   "source": []
  }
 ],
 "metadata": {
  "kernelspec": {
   "display_name": ".env-gnn",
   "language": "python",
   "name": ".env-gnn"
  },
  "language_info": {
   "codemirror_mode": {
    "name": "ipython",
    "version": 3
   },
   "file_extension": ".py",
   "mimetype": "text/x-python",
   "name": "python",
   "nbconvert_exporter": "python",
   "pygments_lexer": "ipython3",
   "version": "3.9.13"
  },
  "widgets": {
   "application/vnd.jupyter.widget-state+json": {
    "state": {},
    "version_major": 2,
    "version_minor": 0
   }
  }
 },
 "nbformat": 4,
 "nbformat_minor": 5
}
