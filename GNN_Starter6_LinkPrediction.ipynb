{
 "cells": [
  {
   "cell_type": "code",
   "execution_count": 1,
   "id": "23395ed0-7c3f-4c03-bd89-0e83bfd6bff6",
   "metadata": {
    "tags": []
   },
   "outputs": [],
   "source": [
    "from IPython.core.interactiveshell import InteractiveShell\n",
    "InteractiveShell.ast_node_interactivity = \"all\""
   ]
  },
  {
   "cell_type": "code",
   "execution_count": 2,
   "id": "17ab6090-8806-4bb6-88e0-2f307f7ffa93",
   "metadata": {
    "tags": []
   },
   "outputs": [],
   "source": [
    "from torch_geometric.data import download_url, extract_zip\n",
    "import os\n",
    "import pandas as pd"
   ]
  },
  {
   "cell_type": "code",
   "execution_count": 3,
   "id": "13392aa4-7f5c-4830-94d4-2890ec5df2a4",
   "metadata": {
    "tags": []
   },
   "outputs": [
    {
     "name": "stderr",
     "output_type": "stream",
     "text": [
      "Using existing file ml-latest.zip\n",
      "Extracting .\\ml-latest.zip\n"
     ]
    }
   ],
   "source": [
    "# url = 'https://files.grouplens.org/datasets/movielens/ml-latest-small.zip'\n",
    "url = 'https://files.grouplens.org/datasets/movielens/ml-latest.zip'\n",
    "extract_zip(download_url(url, '.'), '.')"
   ]
  },
  {
   "cell_type": "code",
   "execution_count": 4,
   "id": "3f5cf3dc-a7da-4808-96b8-81d3f78d4c91",
   "metadata": {
    "tags": []
   },
   "outputs": [
    {
     "data": {
      "text/plain": [
       "['.ipynb_checkpoints',\n",
       " 'genome-scores.csv',\n",
       " 'genome-tags.csv',\n",
       " 'links.csv',\n",
       " 'movies.csv',\n",
       " 'ratings.csv',\n",
       " 'README.txt',\n",
       " 'tags.csv']"
      ]
     },
     "execution_count": 4,
     "metadata": {},
     "output_type": "execute_result"
    }
   ],
   "source": [
    "os.listdir('./ml-latest')"
   ]
  },
  {
   "cell_type": "code",
   "execution_count": 5,
   "id": "8346342a-f384-4654-b5d4-75c8b984bfc9",
   "metadata": {
    "tags": []
   },
   "outputs": [],
   "source": [
    "movies_df = pd.read_csv('./ml-latest/movies.csv')\n",
    "ratings_df = pd.read_csv('./ml-latest/ratings.csv')"
   ]
  },
  {
   "cell_type": "code",
   "execution_count": 6,
   "id": "88790c32-45c3-4c94-8369-6e3c7cd7994f",
   "metadata": {
    "tags": []
   },
   "outputs": [
    {
     "data": {
      "text/plain": [
       "(86537, 3)"
      ]
     },
     "execution_count": 6,
     "metadata": {},
     "output_type": "execute_result"
    },
    {
     "data": {
      "text/html": [
       "<div>\n",
       "<style scoped>\n",
       "    .dataframe tbody tr th:only-of-type {\n",
       "        vertical-align: middle;\n",
       "    }\n",
       "\n",
       "    .dataframe tbody tr th {\n",
       "        vertical-align: top;\n",
       "    }\n",
       "\n",
       "    .dataframe thead th {\n",
       "        text-align: right;\n",
       "    }\n",
       "</style>\n",
       "<table border=\"1\" class=\"dataframe\">\n",
       "  <thead>\n",
       "    <tr style=\"text-align: right;\">\n",
       "      <th></th>\n",
       "      <th>movieId</th>\n",
       "      <th>title</th>\n",
       "      <th>genres</th>\n",
       "    </tr>\n",
       "  </thead>\n",
       "  <tbody>\n",
       "    <tr>\n",
       "      <th>0</th>\n",
       "      <td>1</td>\n",
       "      <td>Toy Story (1995)</td>\n",
       "      <td>Adventure|Animation|Children|Comedy|Fantasy</td>\n",
       "    </tr>\n",
       "    <tr>\n",
       "      <th>1</th>\n",
       "      <td>2</td>\n",
       "      <td>Jumanji (1995)</td>\n",
       "      <td>Adventure|Children|Fantasy</td>\n",
       "    </tr>\n",
       "    <tr>\n",
       "      <th>2</th>\n",
       "      <td>3</td>\n",
       "      <td>Grumpier Old Men (1995)</td>\n",
       "      <td>Comedy|Romance</td>\n",
       "    </tr>\n",
       "    <tr>\n",
       "      <th>3</th>\n",
       "      <td>4</td>\n",
       "      <td>Waiting to Exhale (1995)</td>\n",
       "      <td>Comedy|Drama|Romance</td>\n",
       "    </tr>\n",
       "    <tr>\n",
       "      <th>4</th>\n",
       "      <td>5</td>\n",
       "      <td>Father of the Bride Part II (1995)</td>\n",
       "      <td>Comedy</td>\n",
       "    </tr>\n",
       "  </tbody>\n",
       "</table>\n",
       "</div>"
      ],
      "text/plain": [
       "   movieId                               title  \\\n",
       "0        1                    Toy Story (1995)   \n",
       "1        2                      Jumanji (1995)   \n",
       "2        3             Grumpier Old Men (1995)   \n",
       "3        4            Waiting to Exhale (1995)   \n",
       "4        5  Father of the Bride Part II (1995)   \n",
       "\n",
       "                                        genres  \n",
       "0  Adventure|Animation|Children|Comedy|Fantasy  \n",
       "1                   Adventure|Children|Fantasy  \n",
       "2                               Comedy|Romance  \n",
       "3                         Comedy|Drama|Romance  \n",
       "4                                       Comedy  "
      ]
     },
     "execution_count": 6,
     "metadata": {},
     "output_type": "execute_result"
    }
   ],
   "source": [
    "movies_df.shape\n",
    "movies_df.head()"
   ]
  },
  {
   "cell_type": "code",
   "execution_count": 8,
   "id": "84fac402-82ec-4926-9948-6350a7c97026",
   "metadata": {
    "tags": []
   },
   "outputs": [],
   "source": [
    "movies_df.set_index('movieId', inplace=True)"
   ]
  },
  {
   "cell_type": "code",
   "execution_count": 9,
   "id": "202302b0-2f81-446e-805e-3c81f868696a",
   "metadata": {
    "tags": []
   },
   "outputs": [],
   "source": [
    "genres = movies_df['genres'].str.get_dummies(\"|\")"
   ]
  },
  {
   "cell_type": "code",
   "execution_count": 10,
   "id": "2ab8b8b4-a43e-483f-99bb-f22f4415f5f9",
   "metadata": {
    "tags": []
   },
   "outputs": [],
   "source": [
    "import torch"
   ]
  },
  {
   "cell_type": "code",
   "execution_count": 11,
   "id": "12ca33d8-e919-4740-8855-a17f6c6d56ba",
   "metadata": {
    "tags": []
   },
   "outputs": [],
   "source": [
    "movie_features = torch.from_numpy(genres.values).to(torch.float)"
   ]
  },
  {
   "cell_type": "code",
   "execution_count": 12,
   "id": "3cafb97c-570d-4871-8e75-70425f541cb6",
   "metadata": {
    "scrolled": true,
    "tags": []
   },
   "outputs": [
    {
     "data": {
      "text/plain": [
       "(86537, 20)"
      ]
     },
     "execution_count": 12,
     "metadata": {},
     "output_type": "execute_result"
    },
    {
     "data": {
      "text/plain": [
       "torch.Size([86537, 20])"
      ]
     },
     "execution_count": 12,
     "metadata": {},
     "output_type": "execute_result"
    },
    {
     "data": {
      "text/plain": [
       "tensor([[0., 0., 1.,  ..., 0., 0., 0.],\n",
       "        [0., 0., 1.,  ..., 0., 0., 0.],\n",
       "        [0., 0., 0.,  ..., 0., 0., 0.],\n",
       "        ...,\n",
       "        [0., 0., 0.,  ..., 0., 0., 0.],\n",
       "        [0., 0., 0.,  ..., 1., 0., 0.],\n",
       "        [0., 0., 0.,  ..., 0., 0., 0.]])"
      ]
     },
     "execution_count": 12,
     "metadata": {},
     "output_type": "execute_result"
    },
    {
     "data": {
      "text/html": [
       "<div>\n",
       "<style scoped>\n",
       "    .dataframe tbody tr th:only-of-type {\n",
       "        vertical-align: middle;\n",
       "    }\n",
       "\n",
       "    .dataframe tbody tr th {\n",
       "        vertical-align: top;\n",
       "    }\n",
       "\n",
       "    .dataframe thead th {\n",
       "        text-align: right;\n",
       "    }\n",
       "</style>\n",
       "<table border=\"1\" class=\"dataframe\">\n",
       "  <thead>\n",
       "    <tr style=\"text-align: right;\">\n",
       "      <th></th>\n",
       "      <th>(no genres listed)</th>\n",
       "      <th>Action</th>\n",
       "      <th>Adventure</th>\n",
       "      <th>Animation</th>\n",
       "      <th>Children</th>\n",
       "      <th>Comedy</th>\n",
       "      <th>Crime</th>\n",
       "      <th>Documentary</th>\n",
       "      <th>Drama</th>\n",
       "      <th>Fantasy</th>\n",
       "      <th>Film-Noir</th>\n",
       "      <th>Horror</th>\n",
       "      <th>IMAX</th>\n",
       "      <th>Musical</th>\n",
       "      <th>Mystery</th>\n",
       "      <th>Romance</th>\n",
       "      <th>Sci-Fi</th>\n",
       "      <th>Thriller</th>\n",
       "      <th>War</th>\n",
       "      <th>Western</th>\n",
       "    </tr>\n",
       "    <tr>\n",
       "      <th>movieId</th>\n",
       "      <th></th>\n",
       "      <th></th>\n",
       "      <th></th>\n",
       "      <th></th>\n",
       "      <th></th>\n",
       "      <th></th>\n",
       "      <th></th>\n",
       "      <th></th>\n",
       "      <th></th>\n",
       "      <th></th>\n",
       "      <th></th>\n",
       "      <th></th>\n",
       "      <th></th>\n",
       "      <th></th>\n",
       "      <th></th>\n",
       "      <th></th>\n",
       "      <th></th>\n",
       "      <th></th>\n",
       "      <th></th>\n",
       "      <th></th>\n",
       "    </tr>\n",
       "  </thead>\n",
       "  <tbody>\n",
       "    <tr>\n",
       "      <th>1</th>\n",
       "      <td>0</td>\n",
       "      <td>0</td>\n",
       "      <td>1</td>\n",
       "      <td>1</td>\n",
       "      <td>1</td>\n",
       "      <td>1</td>\n",
       "      <td>0</td>\n",
       "      <td>0</td>\n",
       "      <td>0</td>\n",
       "      <td>1</td>\n",
       "      <td>0</td>\n",
       "      <td>0</td>\n",
       "      <td>0</td>\n",
       "      <td>0</td>\n",
       "      <td>0</td>\n",
       "      <td>0</td>\n",
       "      <td>0</td>\n",
       "      <td>0</td>\n",
       "      <td>0</td>\n",
       "      <td>0</td>\n",
       "    </tr>\n",
       "    <tr>\n",
       "      <th>2</th>\n",
       "      <td>0</td>\n",
       "      <td>0</td>\n",
       "      <td>1</td>\n",
       "      <td>0</td>\n",
       "      <td>1</td>\n",
       "      <td>0</td>\n",
       "      <td>0</td>\n",
       "      <td>0</td>\n",
       "      <td>0</td>\n",
       "      <td>1</td>\n",
       "      <td>0</td>\n",
       "      <td>0</td>\n",
       "      <td>0</td>\n",
       "      <td>0</td>\n",
       "      <td>0</td>\n",
       "      <td>0</td>\n",
       "      <td>0</td>\n",
       "      <td>0</td>\n",
       "      <td>0</td>\n",
       "      <td>0</td>\n",
       "    </tr>\n",
       "    <tr>\n",
       "      <th>3</th>\n",
       "      <td>0</td>\n",
       "      <td>0</td>\n",
       "      <td>0</td>\n",
       "      <td>0</td>\n",
       "      <td>0</td>\n",
       "      <td>1</td>\n",
       "      <td>0</td>\n",
       "      <td>0</td>\n",
       "      <td>0</td>\n",
       "      <td>0</td>\n",
       "      <td>0</td>\n",
       "      <td>0</td>\n",
       "      <td>0</td>\n",
       "      <td>0</td>\n",
       "      <td>0</td>\n",
       "      <td>1</td>\n",
       "      <td>0</td>\n",
       "      <td>0</td>\n",
       "      <td>0</td>\n",
       "      <td>0</td>\n",
       "    </tr>\n",
       "    <tr>\n",
       "      <th>4</th>\n",
       "      <td>0</td>\n",
       "      <td>0</td>\n",
       "      <td>0</td>\n",
       "      <td>0</td>\n",
       "      <td>0</td>\n",
       "      <td>1</td>\n",
       "      <td>0</td>\n",
       "      <td>0</td>\n",
       "      <td>1</td>\n",
       "      <td>0</td>\n",
       "      <td>0</td>\n",
       "      <td>0</td>\n",
       "      <td>0</td>\n",
       "      <td>0</td>\n",
       "      <td>0</td>\n",
       "      <td>1</td>\n",
       "      <td>0</td>\n",
       "      <td>0</td>\n",
       "      <td>0</td>\n",
       "      <td>0</td>\n",
       "    </tr>\n",
       "    <tr>\n",
       "      <th>5</th>\n",
       "      <td>0</td>\n",
       "      <td>0</td>\n",
       "      <td>0</td>\n",
       "      <td>0</td>\n",
       "      <td>0</td>\n",
       "      <td>1</td>\n",
       "      <td>0</td>\n",
       "      <td>0</td>\n",
       "      <td>0</td>\n",
       "      <td>0</td>\n",
       "      <td>0</td>\n",
       "      <td>0</td>\n",
       "      <td>0</td>\n",
       "      <td>0</td>\n",
       "      <td>0</td>\n",
       "      <td>0</td>\n",
       "      <td>0</td>\n",
       "      <td>0</td>\n",
       "      <td>0</td>\n",
       "      <td>0</td>\n",
       "    </tr>\n",
       "  </tbody>\n",
       "</table>\n",
       "</div>"
      ],
      "text/plain": [
       "         (no genres listed)  Action  Adventure  Animation  Children  Comedy  \\\n",
       "movieId                                                                       \n",
       "1                         0       0          1          1         1       1   \n",
       "2                         0       0          1          0         1       0   \n",
       "3                         0       0          0          0         0       1   \n",
       "4                         0       0          0          0         0       1   \n",
       "5                         0       0          0          0         0       1   \n",
       "\n",
       "         Crime  Documentary  Drama  Fantasy  Film-Noir  Horror  IMAX  Musical  \\\n",
       "movieId                                                                         \n",
       "1            0            0      0        1          0       0     0        0   \n",
       "2            0            0      0        1          0       0     0        0   \n",
       "3            0            0      0        0          0       0     0        0   \n",
       "4            0            0      1        0          0       0     0        0   \n",
       "5            0            0      0        0          0       0     0        0   \n",
       "\n",
       "         Mystery  Romance  Sci-Fi  Thriller  War  Western  \n",
       "movieId                                                    \n",
       "1              0        0       0         0    0        0  \n",
       "2              0        0       0         0    0        0  \n",
       "3              0        1       0         0    0        0  \n",
       "4              0        1       0         0    0        0  \n",
       "5              0        0       0         0    0        0  "
      ]
     },
     "execution_count": 12,
     "metadata": {},
     "output_type": "execute_result"
    }
   ],
   "source": [
    "genres.shape\n",
    "movie_features.shape\n",
    "movie_features\n",
    "genres.head()"
   ]
  },
  {
   "cell_type": "code",
   "execution_count": 13,
   "id": "800357be-73ea-4570-b9dd-a1e699e12495",
   "metadata": {
    "tags": []
   },
   "outputs": [
    {
     "data": {
      "text/plain": [
       "(33832162, 4)"
      ]
     },
     "execution_count": 13,
     "metadata": {},
     "output_type": "execute_result"
    },
    {
     "data": {
      "text/html": [
       "<div>\n",
       "<style scoped>\n",
       "    .dataframe tbody tr th:only-of-type {\n",
       "        vertical-align: middle;\n",
       "    }\n",
       "\n",
       "    .dataframe tbody tr th {\n",
       "        vertical-align: top;\n",
       "    }\n",
       "\n",
       "    .dataframe thead th {\n",
       "        text-align: right;\n",
       "    }\n",
       "</style>\n",
       "<table border=\"1\" class=\"dataframe\">\n",
       "  <thead>\n",
       "    <tr style=\"text-align: right;\">\n",
       "      <th></th>\n",
       "      <th>userId</th>\n",
       "      <th>movieId</th>\n",
       "      <th>rating</th>\n",
       "      <th>timestamp</th>\n",
       "    </tr>\n",
       "  </thead>\n",
       "  <tbody>\n",
       "    <tr>\n",
       "      <th>0</th>\n",
       "      <td>1</td>\n",
       "      <td>1</td>\n",
       "      <td>4.0</td>\n",
       "      <td>1225734739</td>\n",
       "    </tr>\n",
       "    <tr>\n",
       "      <th>1</th>\n",
       "      <td>1</td>\n",
       "      <td>110</td>\n",
       "      <td>4.0</td>\n",
       "      <td>1225865086</td>\n",
       "    </tr>\n",
       "    <tr>\n",
       "      <th>2</th>\n",
       "      <td>1</td>\n",
       "      <td>158</td>\n",
       "      <td>4.0</td>\n",
       "      <td>1225733503</td>\n",
       "    </tr>\n",
       "    <tr>\n",
       "      <th>3</th>\n",
       "      <td>1</td>\n",
       "      <td>260</td>\n",
       "      <td>4.5</td>\n",
       "      <td>1225735204</td>\n",
       "    </tr>\n",
       "    <tr>\n",
       "      <th>4</th>\n",
       "      <td>1</td>\n",
       "      <td>356</td>\n",
       "      <td>5.0</td>\n",
       "      <td>1225735119</td>\n",
       "    </tr>\n",
       "  </tbody>\n",
       "</table>\n",
       "</div>"
      ],
      "text/plain": [
       "   userId  movieId  rating   timestamp\n",
       "0       1        1     4.0  1225734739\n",
       "1       1      110     4.0  1225865086\n",
       "2       1      158     4.0  1225733503\n",
       "3       1      260     4.5  1225735204\n",
       "4       1      356     5.0  1225735119"
      ]
     },
     "execution_count": 13,
     "metadata": {},
     "output_type": "execute_result"
    }
   ],
   "source": [
    "ratings_df.shape\n",
    "ratings_df.head()\n",
    "# we will consider movie ratings above 3 for recommending"
   ]
  },
  {
   "cell_type": "code",
   "execution_count": 14,
   "id": "d9a63992-0908-4f8b-8acc-cc581e556dd9",
   "metadata": {
    "tags": []
   },
   "outputs": [
    {
     "data": {
      "text/plain": [
       "rating\n",
       "4.0    8835955\n",
       "3.0    6400664\n",
       "5.0    4957902\n",
       "3.5    4465001\n",
       "4.5    3123055\n",
       "2.0    2146492\n",
       "2.5    1760733\n",
       "1.0    1013645\n",
       "0.5     566306\n",
       "1.5     562409\n",
       "Name: count, dtype: int64"
      ]
     },
     "execution_count": 14,
     "metadata": {},
     "output_type": "execute_result"
    }
   ],
   "source": [
    "ratings_df['rating'].value_counts()"
   ]
  },
  {
   "cell_type": "code",
   "execution_count": 15,
   "id": "458d3297-864c-4933-8652-17742654c3d6",
   "metadata": {
    "tags": []
   },
   "outputs": [
    {
     "data": {
      "text/plain": [
       "330975"
      ]
     },
     "execution_count": 15,
     "metadata": {},
     "output_type": "execute_result"
    },
    {
     "data": {
      "text/plain": [
       "329127"
      ]
     },
     "execution_count": 15,
     "metadata": {},
     "output_type": "execute_result"
    },
    {
     "data": {
      "text/plain": [
       "4295"
      ]
     },
     "execution_count": 15,
     "metadata": {},
     "output_type": "execute_result"
    }
   ],
   "source": [
    "len(ratings_df['userId'].unique())\n",
    "len(ratings_df[ratings_df['rating']>=3]['userId'].unique())\n",
    "\n",
    "len(ratings_df['userId'].unique()) - len(ratings_df[ratings_df['rating']>=3.5]['userId'].unique())"
   ]
  },
  {
   "cell_type": "code",
   "execution_count": 16,
   "id": "11ddbc3c-5ce0-41d0-84fc-1e3f634613ce",
   "metadata": {
    "tags": []
   },
   "outputs": [],
   "source": [
    "ratings_df = ratings_df[ratings_df['rating'] >= 3.0]"
   ]
  },
  {
   "cell_type": "code",
   "execution_count": 17,
   "id": "2dd6d959-7d1a-446e-8931-d5577011ae33",
   "metadata": {
    "tags": []
   },
   "outputs": [
    {
     "data": {
      "text/plain": [
       "(27782577, 4)"
      ]
     },
     "execution_count": 17,
     "metadata": {},
     "output_type": "execute_result"
    },
    {
     "data": {
      "text/plain": [
       "rating\n",
       "4.0    8835955\n",
       "3.0    6400664\n",
       "5.0    4957902\n",
       "3.5    4465001\n",
       "4.5    3123055\n",
       "Name: count, dtype: int64"
      ]
     },
     "execution_count": 17,
     "metadata": {},
     "output_type": "execute_result"
    }
   ],
   "source": [
    "ratings_df.shape\n",
    "ratings_df['rating'].value_counts()"
   ]
  },
  {
   "cell_type": "markdown",
   "id": "44726ba4-b30f-4d53-8cf0-84cca578da85",
   "metadata": {},
   "source": [
    "## Create Edge Index"
   ]
  },
  {
   "cell_type": "markdown",
   "id": "e92a9ead-e5c5-4911-82e8-f00521d337e4",
   "metadata": {},
   "source": [
    "#### Create user id edge index"
   ]
  },
  {
   "cell_type": "code",
   "execution_count": 21,
   "id": "9372071d-8483-4e82-841a-c81f39b46e80",
   "metadata": {
    "tags": []
   },
   "outputs": [],
   "source": [
    "unique_user_id = ratings_df['userId'].unique()\n",
    "unique_user_id = pd.DataFrame(data = {'userId':unique_user_id, 'mappedID':pd.RangeIndex(start=0, stop=len(unique_user_id))})"
   ]
  },
  {
   "cell_type": "code",
   "execution_count": 26,
   "id": "16bc2ee9-0399-4706-a5c8-7d4f2a20a04e",
   "metadata": {
    "scrolled": true,
    "tags": []
   },
   "outputs": [
    {
     "data": {
      "text/html": [
       "<div>\n",
       "<style scoped>\n",
       "    .dataframe tbody tr th:only-of-type {\n",
       "        vertical-align: middle;\n",
       "    }\n",
       "\n",
       "    .dataframe tbody tr th {\n",
       "        vertical-align: top;\n",
       "    }\n",
       "\n",
       "    .dataframe thead th {\n",
       "        text-align: right;\n",
       "    }\n",
       "</style>\n",
       "<table border=\"1\" class=\"dataframe\">\n",
       "  <thead>\n",
       "    <tr style=\"text-align: right;\">\n",
       "      <th></th>\n",
       "      <th>userId</th>\n",
       "      <th>mappedID</th>\n",
       "    </tr>\n",
       "  </thead>\n",
       "  <tbody>\n",
       "    <tr>\n",
       "      <th>0</th>\n",
       "      <td>1</td>\n",
       "      <td>0</td>\n",
       "    </tr>\n",
       "    <tr>\n",
       "      <th>1</th>\n",
       "      <td>2</td>\n",
       "      <td>1</td>\n",
       "    </tr>\n",
       "  </tbody>\n",
       "</table>\n",
       "</div>"
      ],
      "text/plain": [
       "   userId  mappedID\n",
       "0       1         0\n",
       "1       2         1"
      ]
     },
     "execution_count": 26,
     "metadata": {},
     "output_type": "execute_result"
    },
    {
     "data": {
      "text/html": [
       "<div>\n",
       "<style scoped>\n",
       "    .dataframe tbody tr th:only-of-type {\n",
       "        vertical-align: middle;\n",
       "    }\n",
       "\n",
       "    .dataframe tbody tr th {\n",
       "        vertical-align: top;\n",
       "    }\n",
       "\n",
       "    .dataframe thead th {\n",
       "        text-align: right;\n",
       "    }\n",
       "</style>\n",
       "<table border=\"1\" class=\"dataframe\">\n",
       "  <thead>\n",
       "    <tr style=\"text-align: right;\">\n",
       "      <th></th>\n",
       "      <th>userId</th>\n",
       "      <th>movieId</th>\n",
       "      <th>rating</th>\n",
       "      <th>timestamp</th>\n",
       "    </tr>\n",
       "  </thead>\n",
       "  <tbody>\n",
       "    <tr>\n",
       "      <th>0</th>\n",
       "      <td>1</td>\n",
       "      <td>1</td>\n",
       "      <td>4.0</td>\n",
       "      <td>1225734739</td>\n",
       "    </tr>\n",
       "    <tr>\n",
       "      <th>1</th>\n",
       "      <td>1</td>\n",
       "      <td>110</td>\n",
       "      <td>4.0</td>\n",
       "      <td>1225865086</td>\n",
       "    </tr>\n",
       "  </tbody>\n",
       "</table>\n",
       "</div>"
      ],
      "text/plain": [
       "   userId  movieId  rating   timestamp\n",
       "0       1        1     4.0  1225734739\n",
       "1       1      110     4.0  1225865086"
      ]
     },
     "execution_count": 26,
     "metadata": {},
     "output_type": "execute_result"
    }
   ],
   "source": [
    "unique_user_id.head(2)\n",
    "ratings_df.head(2)"
   ]
  },
  {
   "cell_type": "code",
   "execution_count": 27,
   "id": "1bbfcfec-a9f4-4608-9fa2-28bf61b6c7db",
   "metadata": {
    "tags": []
   },
   "outputs": [],
   "source": [
    "user_id_edge_index = pd.merge(ratings_df, unique_user_id, left_on= 'userId', right_on='userId', how='left')['mappedID'].values"
   ]
  },
  {
   "cell_type": "code",
   "execution_count": 28,
   "id": "396622b4-2f7b-4867-8dca-2d483776b600",
   "metadata": {
    "tags": []
   },
   "outputs": [],
   "source": [
    "user_id_edge_index = torch.from_numpy(user_id_edge_index)"
   ]
  },
  {
   "cell_type": "code",
   "execution_count": 29,
   "id": "9d456bc3-3fc4-4119-8368-7de5e0af3d32",
   "metadata": {},
   "outputs": [
    {
     "data": {
      "text/plain": [
       "tensor([     0,      0,      0,  ..., 329126, 329126, 329126])"
      ]
     },
     "execution_count": 29,
     "metadata": {},
     "output_type": "execute_result"
    }
   ],
   "source": [
    "user_id_edge_index"
   ]
  },
  {
   "cell_type": "markdown",
   "id": "fc6d635a-005b-471f-8261-4679834333ac",
   "metadata": {},
   "source": [
    "#### Create movie id edge index"
   ]
  },
  {
   "cell_type": "code",
   "execution_count": 30,
   "id": "be622f35-2a82-4cec-a008-9c4d13a19aa9",
   "metadata": {},
   "outputs": [],
   "source": [
    "unique_movie_id = pd.DataFrame(data = {'movieId': movies_df.index, 'mappedID': pd.RangeIndex(start=0, stop=movies_df.shape[0])})"
   ]
  },
  {
   "cell_type": "code",
   "execution_count": 31,
   "id": "c93b64bd-f310-4938-a07f-d7a1d2683eb9",
   "metadata": {
    "tags": []
   },
   "outputs": [
    {
     "data": {
      "text/html": [
       "<div>\n",
       "<style scoped>\n",
       "    .dataframe tbody tr th:only-of-type {\n",
       "        vertical-align: middle;\n",
       "    }\n",
       "\n",
       "    .dataframe tbody tr th {\n",
       "        vertical-align: top;\n",
       "    }\n",
       "\n",
       "    .dataframe thead th {\n",
       "        text-align: right;\n",
       "    }\n",
       "</style>\n",
       "<table border=\"1\" class=\"dataframe\">\n",
       "  <thead>\n",
       "    <tr style=\"text-align: right;\">\n",
       "      <th></th>\n",
       "      <th>movieId</th>\n",
       "      <th>mappedID</th>\n",
       "    </tr>\n",
       "  </thead>\n",
       "  <tbody>\n",
       "    <tr>\n",
       "      <th>0</th>\n",
       "      <td>1</td>\n",
       "      <td>0</td>\n",
       "    </tr>\n",
       "    <tr>\n",
       "      <th>1</th>\n",
       "      <td>2</td>\n",
       "      <td>1</td>\n",
       "    </tr>\n",
       "  </tbody>\n",
       "</table>\n",
       "</div>"
      ],
      "text/plain": [
       "   movieId  mappedID\n",
       "0        1         0\n",
       "1        2         1"
      ]
     },
     "execution_count": 31,
     "metadata": {},
     "output_type": "execute_result"
    },
    {
     "data": {
      "text/html": [
       "<div>\n",
       "<style scoped>\n",
       "    .dataframe tbody tr th:only-of-type {\n",
       "        vertical-align: middle;\n",
       "    }\n",
       "\n",
       "    .dataframe tbody tr th {\n",
       "        vertical-align: top;\n",
       "    }\n",
       "\n",
       "    .dataframe thead th {\n",
       "        text-align: right;\n",
       "    }\n",
       "</style>\n",
       "<table border=\"1\" class=\"dataframe\">\n",
       "  <thead>\n",
       "    <tr style=\"text-align: right;\">\n",
       "      <th></th>\n",
       "      <th>userId</th>\n",
       "      <th>movieId</th>\n",
       "      <th>rating</th>\n",
       "      <th>timestamp</th>\n",
       "    </tr>\n",
       "  </thead>\n",
       "  <tbody>\n",
       "    <tr>\n",
       "      <th>0</th>\n",
       "      <td>1</td>\n",
       "      <td>1</td>\n",
       "      <td>4.0</td>\n",
       "      <td>1225734739</td>\n",
       "    </tr>\n",
       "    <tr>\n",
       "      <th>1</th>\n",
       "      <td>1</td>\n",
       "      <td>110</td>\n",
       "      <td>4.0</td>\n",
       "      <td>1225865086</td>\n",
       "    </tr>\n",
       "  </tbody>\n",
       "</table>\n",
       "</div>"
      ],
      "text/plain": [
       "   userId  movieId  rating   timestamp\n",
       "0       1        1     4.0  1225734739\n",
       "1       1      110     4.0  1225865086"
      ]
     },
     "execution_count": 31,
     "metadata": {},
     "output_type": "execute_result"
    }
   ],
   "source": [
    "unique_movie_id.head(2)\n",
    "ratings_df.head(2)"
   ]
  },
  {
   "cell_type": "code",
   "execution_count": 32,
   "id": "bc233ac8-fe1f-4e06-b713-599a01b6c81a",
   "metadata": {
    "tags": []
   },
   "outputs": [],
   "source": [
    "movie_id_edge_index = pd.merge(ratings_df, unique_movie_id, left_on='movieId', right_on='movieId', how='left')['mappedID'].values"
   ]
  },
  {
   "cell_type": "code",
   "execution_count": 33,
   "id": "5d0ccb89-06d4-4250-b0f5-0674bb405f7f",
   "metadata": {},
   "outputs": [
    {
     "data": {
      "text/plain": [
       "array([   0,  108,  156, ..., 7029, 7911, 7954], dtype=int64)"
      ]
     },
     "execution_count": 33,
     "metadata": {},
     "output_type": "execute_result"
    }
   ],
   "source": [
    "movie_id_edge_index"
   ]
  },
  {
   "cell_type": "code",
   "execution_count": 21,
   "id": "f5c9696a-e481-4c0d-b295-866cf70633c3",
   "metadata": {
    "tags": []
   },
   "outputs": [],
   "source": [
    "movie_id_edge_index = torch.from_numpy(movie_id_edge_index)"
   ]
  },
  {
   "cell_type": "markdown",
   "id": "c46b0143-266d-4862-af75-0a132f9575f1",
   "metadata": {},
   "source": [
    "#### Concatenate to create user-movie edge index"
   ]
  },
  {
   "cell_type": "code",
   "execution_count": 22,
   "id": "07bc04ea-5cd5-4571-8930-8b541989e6a1",
   "metadata": {
    "tags": []
   },
   "outputs": [
    {
     "data": {
      "text/plain": [
       "tensor([     0,      0,      0,  ..., 198445, 198445, 198445])"
      ]
     },
     "execution_count": 22,
     "metadata": {},
     "output_type": "execute_result"
    },
    {
     "data": {
      "text/plain": [
       "tensor([    0,   108,   156,  ..., 11985, 12029, 12113])"
      ]
     },
     "execution_count": 22,
     "metadata": {},
     "output_type": "execute_result"
    },
    {
     "data": {
      "text/plain": [
       "torch.Size([16798323])"
      ]
     },
     "execution_count": 22,
     "metadata": {},
     "output_type": "execute_result"
    },
    {
     "data": {
      "text/plain": [
       "torch.Size([16798323])"
      ]
     },
     "execution_count": 22,
     "metadata": {},
     "output_type": "execute_result"
    },
    {
     "data": {
      "text/plain": [
       "torch.Size([2, 16798323])"
      ]
     },
     "execution_count": 22,
     "metadata": {},
     "output_type": "execute_result"
    },
    {
     "data": {
      "text/plain": [
       "tensor([[     0,      0,      0,  ..., 198445, 198445, 198445],\n",
       "        [     0,    108,    156,  ...,  11985,  12029,  12113]])"
      ]
     },
     "execution_count": 22,
     "metadata": {},
     "output_type": "execute_result"
    }
   ],
   "source": [
    "user_id_edge_index\n",
    "movie_id_edge_index\n",
    "\n",
    "user_id_edge_index.shape\n",
    "movie_id_edge_index.shape\n",
    "\n",
    "torch.stack([user_id_edge_index, movie_id_edge_index], dim=0).shape\n",
    "torch.stack([user_id_edge_index, movie_id_edge_index], dim=0)"
   ]
  },
  {
   "cell_type": "code",
   "execution_count": 23,
   "id": "87781f03-9a27-4c7c-aa97-5b76d8676558",
   "metadata": {
    "tags": []
   },
   "outputs": [
    {
     "data": {
      "text/plain": [
       "torch.Size([2, 16798323])"
      ]
     },
     "execution_count": 23,
     "metadata": {},
     "output_type": "execute_result"
    },
    {
     "data": {
      "text/plain": [
       "tensor([[     0,      0,      0,  ..., 198445, 198445, 198445],\n",
       "        [     0,    108,    156,  ...,  11985,  12029,  12113]])"
      ]
     },
     "execution_count": 23,
     "metadata": {},
     "output_type": "execute_result"
    }
   ],
   "source": [
    "edge_index_user2movie = torch.stack([user_id_edge_index, movie_id_edge_index], dim=0)\n",
    "edge_index_user2movie.shape\n",
    "edge_index_user2movie"
   ]
  },
  {
   "cell_type": "markdown",
   "id": "b5d90832-f81f-4d4b-94bd-df9573260314",
   "metadata": {},
   "source": [
    "### Creation of heterogenous graph data"
   ]
  },
  {
   "cell_type": "code",
   "execution_count": 24,
   "id": "865558b7-6aab-4454-9dbd-3a9892c2804c",
   "metadata": {
    "tags": []
   },
   "outputs": [],
   "source": [
    "from torch_geometric.data import HeteroData\n",
    "import torch_geometric.transforms as T"
   ]
  },
  {
   "cell_type": "code",
   "execution_count": 34,
   "id": "91b537b1-1f2e-42bf-b013-065030302eb3",
   "metadata": {},
   "outputs": [
    {
     "data": {
      "text/plain": [
       "tensor([[0., 0., 1.,  ..., 0., 0., 0.],\n",
       "        [0., 0., 1.,  ..., 0., 0., 0.],\n",
       "        [0., 0., 0.,  ..., 0., 0., 0.],\n",
       "        ...,\n",
       "        [0., 0., 0.,  ..., 0., 0., 0.],\n",
       "        [0., 0., 0.,  ..., 1., 0., 0.],\n",
       "        [0., 0., 0.,  ..., 0., 0., 0.]])"
      ]
     },
     "execution_count": 34,
     "metadata": {},
     "output_type": "execute_result"
    }
   ],
   "source": [
    "movie_features"
   ]
  },
  {
   "cell_type": "code",
   "execution_count": 25,
   "id": "316daad7-7967-4e2a-97b9-17f16b3b2960",
   "metadata": {
    "tags": []
   },
   "outputs": [],
   "source": [
    "data = HeteroData()\n",
    "\n",
    "data['user']['node_id'] = torch.arange(len(unique_user_id))\n",
    "data['movie']['node_id'] = torch.arange(len(movies_df))\n",
    "\n",
    "data['movie']['x'] = movie_features\n",
    "data['user', 'rates', 'movie']['edge_index'] = edge_index_user2movie\n",
    "\n",
    "data = T.ToUndirected()(data)"
   ]
  },
  {
   "cell_type": "code",
   "execution_count": 26,
   "id": "51b8874c-fb8f-4e13-80d6-cd956c234aa0",
   "metadata": {
    "tags": []
   },
   "outputs": [
    {
     "data": {
      "text/plain": [
       "HeteroData(\n",
       "  user={ node_id=[198446] },\n",
       "  movie={\n",
       "    node_id=[86537],\n",
       "    x=[86537, 20],\n",
       "  },\n",
       "  (user, rates, movie)={ edge_index=[2, 16798323] },\n",
       "  (movie, rev_rates, user)={ edge_index=[2, 16798323] }\n",
       ")"
      ]
     },
     "execution_count": 26,
     "metadata": {},
     "output_type": "execute_result"
    }
   ],
   "source": [
    "data"
   ]
  },
  {
   "cell_type": "code",
   "execution_count": 28,
   "id": "627ff048-1e67-410d-ae7e-75a16c7c02e8",
   "metadata": {
    "tags": []
   },
   "outputs": [
    {
     "data": {
      "text/plain": [
       "['user', 'movie']"
      ]
     },
     "execution_count": 28,
     "metadata": {},
     "output_type": "execute_result"
    },
    {
     "data": {
      "text/plain": [
       "[('user', 'rates', 'movie'), ('movie', 'rev_rates', 'user')]"
      ]
     },
     "execution_count": 28,
     "metadata": {},
     "output_type": "execute_result"
    },
    {
     "data": {
      "text/plain": [
       "198446"
      ]
     },
     "execution_count": 28,
     "metadata": {},
     "output_type": "execute_result"
    },
    {
     "data": {
      "text/plain": [
       "86537"
      ]
     },
     "execution_count": 28,
     "metadata": {},
     "output_type": "execute_result"
    },
    {
     "data": {
      "text/plain": [
       "torch.Size([86537, 20])"
      ]
     },
     "execution_count": 28,
     "metadata": {},
     "output_type": "execute_result"
    },
    {
     "data": {
      "text/plain": [
       "torch.Size([2, 16798323])"
      ]
     },
     "execution_count": 28,
     "metadata": {},
     "output_type": "execute_result"
    }
   ],
   "source": [
    "data.node_types\n",
    "data.edge_types\n",
    "data['user'].num_nodes\n",
    "data['movie'].num_nodes\n",
    "data['movie'].x.shape # node features\n",
    "data['user', 'rates', 'movie']['edge_index'].shape"
   ]
  },
  {
   "cell_type": "markdown",
   "id": "9bdfbf83-2774-40a7-90ff-0c14d1caa458",
   "metadata": {},
   "source": [
    "### Define Edge level training Splits"
   ]
  },
  {
   "cell_type": "code",
   "execution_count": 29,
   "id": "4101fe80-dfbf-4ecd-b325-7271d467003b",
   "metadata": {
    "tags": []
   },
   "outputs": [],
   "source": [
    "# train :: 80% ; val :: 10% ; test :: 10%\n",
    "# from the train we use 70% for message_passing and 30% for supervision (disjoint_train_ratio)\n",
    "# generate negative edges for evaluation 2:1 ratio (generated on the fly)\n",
    "\n",
    "transform = T.RandomLinkSplit(num_val= 0.1, num_test=0.1, disjoint_train_ratio=0.3, \n",
    "                              neg_sampling_ratio=2.0, add_negative_train_samples=False, \n",
    "                              edge_types=('user', 'rates', 'movie'), rev_edge_types=('movie', 'rev_rates', 'user'))"
   ]
  },
  {
   "cell_type": "code",
   "execution_count": 30,
   "id": "c1086c0a-170d-4457-ba48-183752bdd532",
   "metadata": {
    "tags": []
   },
   "outputs": [],
   "source": [
    "device = 'cuda' if torch.cuda.is_available() else 'cpu'"
   ]
  },
  {
   "cell_type": "code",
   "execution_count": 31,
   "id": "69af8db1-77fe-4259-9751-2e441136f6e1",
   "metadata": {
    "tags": []
   },
   "outputs": [
    {
     "data": {
      "text/plain": [
       "'cuda'"
      ]
     },
     "execution_count": 31,
     "metadata": {},
     "output_type": "execute_result"
    }
   ],
   "source": [
    "device"
   ]
  },
  {
   "cell_type": "code",
   "execution_count": 32,
   "id": "9b35cbc8-fa26-4b23-9f33-b5bc7182042b",
   "metadata": {
    "tags": []
   },
   "outputs": [
    {
     "data": {
      "text/plain": [
       "HeteroData(\n",
       "  user={ node_id=[198446] },\n",
       "  movie={\n",
       "    node_id=[86537],\n",
       "    x=[86537, 20],\n",
       "  },\n",
       "  (user, rates, movie)={ edge_index=[2, 16798323] },\n",
       "  (movie, rev_rates, user)={ edge_index=[2, 16798323] }\n",
       ")"
      ]
     },
     "execution_count": 32,
     "metadata": {},
     "output_type": "execute_result"
    }
   ],
   "source": [
    "data.to(device)"
   ]
  },
  {
   "cell_type": "code",
   "execution_count": 33,
   "id": "3c2ff785-801d-4355-a676-d5b068ef675f",
   "metadata": {
    "tags": []
   },
   "outputs": [],
   "source": [
    "train_data, val_data, test_data = transform(data)"
   ]
  },
  {
   "cell_type": "code",
   "execution_count": 34,
   "id": "4973066b-22c3-4b2f-8be2-952838383a1a",
   "metadata": {
    "scrolled": true,
    "tags": []
   },
   "outputs": [
    {
     "data": {
      "text/plain": [
       "HeteroData(\n",
       "  user={ node_id=[198446] },\n",
       "  movie={\n",
       "    node_id=[86537],\n",
       "    x=[86537, 20],\n",
       "  },\n",
       "  (user, rates, movie)={\n",
       "    edge_index=[2, 9407062],\n",
       "    edge_label=[4031597],\n",
       "    edge_label_index=[2, 4031597],\n",
       "  },\n",
       "  (movie, rev_rates, user)={ edge_index=[2, 9407062] }\n",
       ")"
      ]
     },
     "execution_count": 34,
     "metadata": {},
     "output_type": "execute_result"
    },
    {
     "data": {
      "text/plain": [
       "HeteroData(\n",
       "  user={ node_id=[198446] },\n",
       "  movie={\n",
       "    node_id=[86537],\n",
       "    x=[86537, 20],\n",
       "  },\n",
       "  (user, rates, movie)={\n",
       "    edge_index=[2, 13438659],\n",
       "    edge_label=[5039496],\n",
       "    edge_label_index=[2, 5039496],\n",
       "  },\n",
       "  (movie, rev_rates, user)={ edge_index=[2, 13438659] }\n",
       ")"
      ]
     },
     "execution_count": 34,
     "metadata": {},
     "output_type": "execute_result"
    },
    {
     "data": {
      "text/plain": [
       "HeteroData(\n",
       "  user={ node_id=[198446] },\n",
       "  movie={\n",
       "    node_id=[86537],\n",
       "    x=[86537, 20],\n",
       "  },\n",
       "  (user, rates, movie)={\n",
       "    edge_index=[2, 15118491],\n",
       "    edge_label=[5039496],\n",
       "    edge_label_index=[2, 5039496],\n",
       "  },\n",
       "  (movie, rev_rates, user)={ edge_index=[2, 15118491] }\n",
       ")"
      ]
     },
     "execution_count": 34,
     "metadata": {},
     "output_type": "execute_result"
    }
   ],
   "source": [
    "train_data\n",
    "val_data\n",
    "test_data"
   ]
  },
  {
   "cell_type": "code",
   "execution_count": 35,
   "id": "c61a260c-48e1-45fa-8d1e-dcb60a75ba6c",
   "metadata": {
    "tags": []
   },
   "outputs": [
    {
     "data": {
      "text/plain": [
       "9407062"
      ]
     },
     "execution_count": 35,
     "metadata": {},
     "output_type": "execute_result"
    },
    {
     "data": {
      "text/plain": [
       "13438659"
      ]
     },
     "execution_count": 35,
     "metadata": {},
     "output_type": "execute_result"
    },
    {
     "data": {
      "text/plain": [
       "9407062"
      ]
     },
     "execution_count": 35,
     "metadata": {},
     "output_type": "execute_result"
    },
    {
     "data": {
      "text/plain": [
       "13438659"
      ]
     },
     "execution_count": 35,
     "metadata": {},
     "output_type": "execute_result"
    }
   ],
   "source": [
    "train_data['user', 'rates', 'movie'].num_edges\n",
    "val_data['user', 'rates', 'movie'].num_edges\n",
    "\n",
    "train_data['movie', 'rev_rates', 'user'].num_edges\n",
    "val_data['movie', 'rev_rates', 'user'].num_edges"
   ]
  },
  {
   "cell_type": "code",
   "execution_count": 36,
   "id": "cb6c9a2e-86b8-4d9b-8ddf-471f53f51f61",
   "metadata": {
    "tags": []
   },
   "outputs": [
    {
     "data": {
      "text/plain": [
       "tensor(1., device='cuda:0')"
      ]
     },
     "execution_count": 36,
     "metadata": {},
     "output_type": "execute_result"
    },
    {
     "data": {
      "text/plain": [
       "tensor(1., device='cuda:0')"
      ]
     },
     "execution_count": 36,
     "metadata": {},
     "output_type": "execute_result"
    },
    {
     "data": {
      "text/plain": [
       "tensor(0., device='cuda:0')"
      ]
     },
     "execution_count": 36,
     "metadata": {},
     "output_type": "execute_result"
    },
    {
     "data": {
      "text/plain": [
       "tensor(1., device='cuda:0')"
      ]
     },
     "execution_count": 36,
     "metadata": {},
     "output_type": "execute_result"
    },
    {
     "data": {
      "text/plain": [
       "[3359664, 1679832]"
      ]
     },
     "execution_count": 36,
     "metadata": {},
     "output_type": "execute_result"
    }
   ],
   "source": [
    "train_data['user', 'rates', 'movie']['edge_label'].min()\n",
    "train_data['user', 'rates', 'movie']['edge_label'].max()\n",
    "\n",
    "#negative samples created in val data with the ratio 2:1\n",
    "val_data['user', 'rates', 'movie']['edge_label'].min()\n",
    "val_data['user', 'rates', 'movie']['edge_label'].max()\n",
    "val_data['user', 'rates', 'movie']['edge_label'].long().bincount().tolist()"
   ]
  },
  {
   "cell_type": "markdown",
   "id": "5ad98d29-a652-4741-a982-0c3645339295",
   "metadata": {},
   "source": [
    "### Get Mini Batch loaders"
   ]
  },
  {
   "cell_type": "code",
   "execution_count": 37,
   "id": "e8c18a28-542d-4937-a3d6-3904dac9dc6d",
   "metadata": {
    "tags": []
   },
   "outputs": [],
   "source": [
    "from torch_geometric.loader import LinkNeighborLoader"
   ]
  },
  {
   "cell_type": "code",
   "execution_count": 38,
   "id": "3354e5e2-521b-4232-834d-7a9fe7b21183",
   "metadata": {
    "tags": []
   },
   "outputs": [
    {
     "data": {
      "text/plain": [
       "HeteroData(\n",
       "  user={ node_id=[198446] },\n",
       "  movie={\n",
       "    node_id=[86537],\n",
       "    x=[86537, 20],\n",
       "  },\n",
       "  (user, rates, movie)={\n",
       "    edge_index=[2, 9407062],\n",
       "    edge_label=[4031597],\n",
       "    edge_label_index=[2, 4031597],\n",
       "  },\n",
       "  (movie, rev_rates, user)={ edge_index=[2, 9407062] }\n",
       ")"
      ]
     },
     "execution_count": 38,
     "metadata": {},
     "output_type": "execute_result"
    }
   ],
   "source": [
    "train_data"
   ]
  },
  {
   "cell_type": "code",
   "execution_count": 40,
   "id": "f5aa7cac-248e-4055-a3c7-25d301492705",
   "metadata": {
    "tags": []
   },
   "outputs": [],
   "source": [
    "edge_label_index = train_data['user', 'rates', 'movie']['edge_label_index']\n",
    "edge_label = train_data['user', 'rates', 'movie']['edge_label']\n",
    "train_loader = LinkNeighborLoader(data = train_data, \n",
    "                                  num_neighbors= [20,10], \n",
    "                                  neg_sampling_ratio= 2.0, \n",
    "                                  batch_size = 128, \n",
    "                                  shuffle = True,\n",
    "                                  edge_label= edge_label,\n",
    "                                  edge_label_index= (('user', 'rates', 'movie'), edge_label_index))"
   ]
  },
  {
   "cell_type": "code",
   "execution_count": 41,
   "id": "370cb9da-cce7-4ce9-88e4-71e3785c38ee",
   "metadata": {
    "tags": []
   },
   "outputs": [
    {
     "data": {
      "text/plain": [
       "tensor([[130286, 161332,  50389,  ..., 161714,  63378,  32759],\n",
       "        [ 12333,   2480,   3480,  ...,   3326,   1107,   2077]],\n",
       "       device='cuda:0')"
      ]
     },
     "execution_count": 41,
     "metadata": {},
     "output_type": "execute_result"
    },
    {
     "data": {
      "text/plain": [
       "tensor([1., 1., 1.,  ..., 1., 1., 1.], device='cuda:0')"
      ]
     },
     "execution_count": 41,
     "metadata": {},
     "output_type": "execute_result"
    }
   ],
   "source": [
    "edge_label_index\n",
    "edge_label"
   ]
  },
  {
   "cell_type": "code",
   "execution_count": 42,
   "id": "09a5d057-1c84-48d9-ac8d-b47ec5e46e21",
   "metadata": {
    "tags": []
   },
   "outputs": [],
   "source": [
    "sample_batch_data = next(iter(train_loader))"
   ]
  },
  {
   "cell_type": "code",
   "execution_count": 43,
   "id": "e26c3ba4-8867-43b3-baeb-85eacf04481f",
   "metadata": {
    "tags": []
   },
   "outputs": [
    {
     "data": {
      "text/plain": [
       "torch.Size([2, 384])"
      ]
     },
     "execution_count": 43,
     "metadata": {},
     "output_type": "execute_result"
    },
    {
     "data": {
      "text/plain": [
       "tensor([256, 128])"
      ]
     },
     "execution_count": 43,
     "metadata": {},
     "output_type": "execute_result"
    }
   ],
   "source": [
    "sample_batch_data['user', 'rates', 'movie']['edge_label_index'].size()\n",
    "sample_batch_data['user', 'rates', 'movie']['edge_label'].long().bincount() #['0s count', '1s count'] because negative_sampling is 2:1"
   ]
  },
  {
   "cell_type": "code",
   "execution_count": 44,
   "id": "80de1f17-cd29-4186-8760-534d9dc078bd",
   "metadata": {
    "tags": []
   },
   "outputs": [
    {
     "data": {
      "text/plain": [
       "HeteroData(\n",
       "  user={\n",
       "    node_id=[19184],\n",
       "    n_id=[19184],\n",
       "  },\n",
       "  movie={\n",
       "    node_id=[7463],\n",
       "    x=[7463, 20],\n",
       "    n_id=[7463],\n",
       "  },\n",
       "  (user, rates, movie)={\n",
       "    edge_index=[2, 26037],\n",
       "    edge_label=[384],\n",
       "    edge_label_index=[2, 384],\n",
       "    e_id=[26037],\n",
       "    input_id=[128],\n",
       "  },\n",
       "  (movie, rev_rates, user)={\n",
       "    edge_index=[2, 37312],\n",
       "    e_id=[37312],\n",
       "  }\n",
       ")"
      ]
     },
     "execution_count": 44,
     "metadata": {},
     "output_type": "execute_result"
    }
   ],
   "source": [
    "sample_batch_data"
   ]
  },
  {
   "cell_type": "markdown",
   "id": "2ee4c1ea-fb6c-44d5-8a00-2e2badba5142",
   "metadata": {},
   "source": [
    "### Creating a heterogeneous link-level GNN"
   ]
  },
  {
   "cell_type": "code",
   "execution_count": 46,
   "id": "0ef13703-db5f-46d8-aff8-adb5319b7b2b",
   "metadata": {
    "tags": []
   },
   "outputs": [],
   "source": [
    "from torch_geometric.nn import SAGEConv, to_hetero\n",
    "import torch\n",
    "import torch.nn.functional as F"
   ]
  },
  {
   "cell_type": "code",
   "execution_count": 48,
   "id": "128f21f7-d97b-49ac-9433-590e707867a6",
   "metadata": {
    "tags": []
   },
   "outputs": [],
   "source": [
    "class GNN(torch.nn.Module):\n",
    "    def __init__(self, hidden_channels):\n",
    "        super().__init__()\n",
    "        self.conv1 = SAGEConv(in_channels= hidden_channels, out_channels=hidden_channels)\n",
    "        self.conv2 = SAGEConv(in_channels= hidden_channels, out_channels=hidden_channels)\n",
    "        \n",
    "    def forward(self, x, edge_index):\n",
    "        x = self.conv1(x, edge_index)\n",
    "        x = F.relu(x)\n",
    "        x = self.conv2(x, edge_index)\n",
    "        return x"
   ]
  },
  {
   "cell_type": "code",
   "execution_count": null,
   "id": "4b0c96b3-f74a-4ce2-9ca0-4d73b0c9714b",
   "metadata": {},
   "outputs": [],
   "source": [
    "class Classifier(torch.nn.Module):\n",
    "    def forward(self, x_user: Tensor, x_movie: Tensor, edge_label_index: Tensor) -> Tensor:\n",
    "        # Convert node embeddings to edge-level representations:\n",
    "        edge_feat_user = x_user[edge_label_index[0]]\n",
    "        edge_feat_movie = x_movie[edge_label_index[1]]\n",
    "        # Apply dot-product to get a prediction per supervision edge:\n",
    "        return (edge_feat_user * edge_feat_movie).sum(dim=-1)"
   ]
  },
  {
   "cell_type": "code",
   "execution_count": 49,
   "id": "02d1b07a-88a5-4c40-a03c-d0b819c0b462",
   "metadata": {
    "tags": []
   },
   "outputs": [],
   "source": [
    "class Classifier(torch.nn.Module):\n",
    "    def forward(self, x_user, x_movie, edge_label_index):\n",
    "        user_edge_feature = x_user[edge_label_index[0]]\n",
    "        movie_edge_feature = x_movie[edge_label_index[1]]\n",
    "        \n",
    "        return (user_edge_feature * movie_edge_feature).sum(dim=-1)"
   ]
  },
  {
   "cell_type": "code",
   "execution_count": 153,
   "id": "c7aa9147-4434-4c57-be0e-aed5d9645d5e",
   "metadata": {
    "tags": []
   },
   "outputs": [
    {
     "data": {
      "text/plain": [
       "HeteroData(\n",
       "  user={ node_id=[198446] },\n",
       "  movie={\n",
       "    node_id=[86537],\n",
       "    x=[86537, 20],\n",
       "  },\n",
       "  edge_index_dict={},\n",
       "  (user, rates, movie)={ edge_index=[2, 16798323] },\n",
       "  (movie, rev_rates, user)={ edge_index=[2, 16798323] }\n",
       ")"
      ]
     },
     "execution_count": 153,
     "metadata": {},
     "output_type": "execute_result"
    },
    {
     "data": {
      "text/plain": [
       "198446"
      ]
     },
     "execution_count": 153,
     "metadata": {},
     "output_type": "execute_result"
    },
    {
     "data": {
      "text/plain": [
       "86537"
      ]
     },
     "execution_count": 153,
     "metadata": {},
     "output_type": "execute_result"
    }
   ],
   "source": [
    "data\n",
    "data['user'].num_nodes\n",
    "data['movie'].num_nodes"
   ]
  },
  {
   "cell_type": "code",
   "execution_count": 154,
   "id": "08debd58-3328-4239-bd31-661f3eb69ec9",
   "metadata": {
    "tags": []
   },
   "outputs": [
    {
     "data": {
      "text/plain": [
       "['user', 'movie', 'edge_index_dict']"
      ]
     },
     "execution_count": 154,
     "metadata": {},
     "output_type": "execute_result"
    },
    {
     "data": {
      "text/plain": [
       "[('user', 'rates', 'movie'), ('movie', 'rev_rates', 'user')]"
      ]
     },
     "execution_count": 154,
     "metadata": {},
     "output_type": "execute_result"
    },
    {
     "data": {
      "text/plain": [
       "(['user', 'movie', 'edge_index_dict'],\n",
       " [('user', 'rates', 'movie'), ('movie', 'rev_rates', 'user')])"
      ]
     },
     "execution_count": 154,
     "metadata": {},
     "output_type": "execute_result"
    }
   ],
   "source": [
    "data.node_types\n",
    "data.edge_types\n",
    "data.metadata()"
   ]
  },
  {
   "cell_type": "code",
   "execution_count": 155,
   "id": "0a403cd3-f637-4d90-ab9d-9a47c650e867",
   "metadata": {
    "tags": []
   },
   "outputs": [
    {
     "data": {
      "text/plain": [
       "tensor([     0,      1,      2,  ..., 198443, 198444, 198445], device='cuda:0')"
      ]
     },
     "execution_count": 155,
     "metadata": {},
     "output_type": "execute_result"
    },
    {
     "data": {
      "text/plain": [
       "tensor([[0., 0., 1.,  ..., 0., 0., 0.],\n",
       "        [0., 0., 1.,  ..., 0., 0., 0.],\n",
       "        [0., 0., 0.,  ..., 0., 0., 0.],\n",
       "        ...,\n",
       "        [0., 0., 0.,  ..., 0., 0., 0.],\n",
       "        [0., 0., 0.,  ..., 1., 0., 0.],\n",
       "        [0., 0., 0.,  ..., 0., 0., 0.]], device='cuda:0')"
      ]
     },
     "execution_count": 155,
     "metadata": {},
     "output_type": "execute_result"
    }
   ],
   "source": [
    "data['user']['node_id']\n",
    "data['movie']['x']"
   ]
  },
  {
   "cell_type": "code",
   "execution_count": 156,
   "id": "e3300a7f-ea0a-4d11-a698-53db869d41b8",
   "metadata": {
    "tags": []
   },
   "outputs": [
    {
     "data": {
      "text/plain": [
       "{('user',\n",
       "  'rates',\n",
       "  'movie'): tensor([[     0,      0,      0,  ..., 198445, 198445, 198445],\n",
       "         [     0,    108,    156,  ...,  11985,  12029,  12113]],\n",
       "        device='cuda:0'),\n",
       " ('movie',\n",
       "  'rev_rates',\n",
       "  'user'): tensor([[     0,    108,    156,  ...,  11985,  12029,  12113],\n",
       "         [     0,      0,      0,  ..., 198445, 198445, 198445]],\n",
       "        device='cuda:0')}"
      ]
     },
     "execution_count": 156,
     "metadata": {},
     "output_type": "execute_result"
    }
   ],
   "source": [
    "data.edge_index_dict"
   ]
  },
  {
   "cell_type": "code",
   "execution_count": 50,
   "id": "cc7f9ece-74da-411d-b5fd-ea9510377073",
   "metadata": {
    "tags": []
   },
   "outputs": [],
   "source": [
    "class Model(torch.nn.Module):\n",
    "    def __init__(self, hidden_channels):\n",
    "        super().__init__()\n",
    "        \n",
    "        # user and movie embedding matrices\n",
    "        self.movie_lin = torch.nn.Linear(20, hidden_channels)\n",
    "        self.user_emb = torch.nn.Embedding(num_embeddings=data['user'].num_nodes, embedding_dim=hidden_channels)\n",
    "        self.movie_emb = torch.nn.Embedding(num_embeddings=data['movie'].num_nodes, embedding_dim=hidden_channels)\n",
    "        \n",
    "        self.gnn = GNN(hidden_channels=hidden_channels)\n",
    "        self.gnn = to_hetero(module=self.gnn, metadata=data.metadata())\n",
    "        \n",
    "        self.classifier = Classifier()\n",
    "    \n",
    "    def forward(self, data: HeteroData):\n",
    "        x_dict = {\"user\" : self.user_emb(data['user'].node_id), \n",
    "                  \"movie\": self.movie_lin(data['movie'].x) + self.movie_emb(data['movie'].node_id)\n",
    "                 }\n",
    "        x_dict = self.gnn(x_dict, data.edge_index_dict)\n",
    "        \n",
    "        pred = self.classifier(x_dict['user'], \n",
    "                               x_dict['movie'], \n",
    "                               data['user', 'rates', 'movie'].edge_label_index)\n",
    "        \n",
    "        return pred\n",
    "    "
   ]
  },
  {
   "cell_type": "code",
   "execution_count": 51,
   "id": "c80f5865-3da5-4f09-88b4-549b3064bb22",
   "metadata": {
    "tags": []
   },
   "outputs": [
    {
     "name": "stderr",
     "output_type": "stream",
     "text": [
      "C:\\Users\\Sridhar Kamoji\\Python\\GNN\\.env-gnn\\lib\\site-packages\\torch\\overrides.py:110: UserWarning: 'has_cuda' is deprecated, please use 'torch.backends.cuda.is_built()'\n",
      "  torch.has_cuda,\n",
      "C:\\Users\\Sridhar Kamoji\\Python\\GNN\\.env-gnn\\lib\\site-packages\\torch\\overrides.py:111: UserWarning: 'has_cudnn' is deprecated, please use 'torch.backends.cudnn.is_available()'\n",
      "  torch.has_cudnn,\n",
      "C:\\Users\\Sridhar Kamoji\\Python\\GNN\\.env-gnn\\lib\\site-packages\\torch\\overrides.py:117: UserWarning: 'has_mps' is deprecated, please use 'torch.backends.mps.is_built()'\n",
      "  torch.has_mps,\n",
      "C:\\Users\\Sridhar Kamoji\\Python\\GNN\\.env-gnn\\lib\\site-packages\\torch\\overrides.py:118: UserWarning: 'has_mkldnn' is deprecated, please use 'torch.backends.mkldnn.is_available()'\n",
      "  torch.has_mkldnn,\n"
     ]
    }
   ],
   "source": [
    "model = Model(hidden_channels=64)"
   ]
  },
  {
   "cell_type": "markdown",
   "id": "c8c7fc09-4800-4e16-ab14-ec97da4b312b",
   "metadata": {},
   "source": [
    "### training"
   ]
  },
  {
   "cell_type": "code",
   "execution_count": 53,
   "id": "3e7dce5e-bbcb-478c-baa6-dcd07d0e734b",
   "metadata": {
    "tags": []
   },
   "outputs": [],
   "source": [
    "device = torch.device(\"cuda\" if torch.cuda.is_available() else \"cpu\")"
   ]
  },
  {
   "cell_type": "code",
   "execution_count": 54,
   "id": "29e80a73-684c-4a4a-b5e5-c1f05ecb88d2",
   "metadata": {
    "tags": []
   },
   "outputs": [
    {
     "data": {
      "text/plain": [
       "device(type='cuda')"
      ]
     },
     "execution_count": 54,
     "metadata": {},
     "output_type": "execute_result"
    }
   ],
   "source": [
    "device"
   ]
  },
  {
   "cell_type": "code",
   "execution_count": 55,
   "id": "7e66242f-b366-4e74-b1e4-cb41907a61b9",
   "metadata": {
    "tags": []
   },
   "outputs": [],
   "source": [
    "model = model.to(device)"
   ]
  },
  {
   "cell_type": "code",
   "execution_count": 56,
   "id": "c978be1f-5aec-434d-8f10-a68eff62725b",
   "metadata": {
    "tags": []
   },
   "outputs": [
    {
     "data": {
      "text/plain": [
       "Model(\n",
       "  (movie_lin): Linear(in_features=20, out_features=64, bias=True)\n",
       "  (user_emb): Embedding(198446, 64)\n",
       "  (movie_emb): Embedding(86537, 64)\n",
       "  (gnn): GraphModule(\n",
       "    (conv1): ModuleDict(\n",
       "      (user__rates__movie): SAGEConv(64, 64, aggr=mean)\n",
       "      (movie__rev_rates__user): SAGEConv(64, 64, aggr=mean)\n",
       "    )\n",
       "    (conv2): ModuleDict(\n",
       "      (user__rates__movie): SAGEConv(64, 64, aggr=mean)\n",
       "      (movie__rev_rates__user): SAGEConv(64, 64, aggr=mean)\n",
       "    )\n",
       "  )\n",
       "  (classifier): Classifier()\n",
       ")"
      ]
     },
     "execution_count": 56,
     "metadata": {},
     "output_type": "execute_result"
    }
   ],
   "source": [
    "model"
   ]
  },
  {
   "cell_type": "code",
   "execution_count": 57,
   "id": "0e412781-0661-427d-8a33-bb95e361c7ee",
   "metadata": {
    "tags": []
   },
   "outputs": [],
   "source": [
    "optimizer = torch.optim.Adam(model.parameters(), lr = 0.01)"
   ]
  },
  {
   "cell_type": "code",
   "execution_count": 58,
   "id": "adbda6a9-918e-4fe0-b5c5-60998fd4b248",
   "metadata": {
    "tags": []
   },
   "outputs": [],
   "source": [
    "import tqdm"
   ]
  },
  {
   "cell_type": "code",
   "execution_count": 59,
   "id": "980ba52c-6e83-4383-aeb8-8267c4041e92",
   "metadata": {
    "tags": []
   },
   "outputs": [
    {
     "data": {
      "text/plain": [
       "HeteroData(\n",
       "  user={\n",
       "    node_id=[19184],\n",
       "    n_id=[19184],\n",
       "  },\n",
       "  movie={\n",
       "    node_id=[7463],\n",
       "    x=[7463, 20],\n",
       "    n_id=[7463],\n",
       "  },\n",
       "  (user, rates, movie)={\n",
       "    edge_index=[2, 26037],\n",
       "    edge_label=[384],\n",
       "    edge_label_index=[2, 384],\n",
       "    e_id=[26037],\n",
       "    input_id=[128],\n",
       "  },\n",
       "  (movie, rev_rates, user)={\n",
       "    edge_index=[2, 37312],\n",
       "    e_id=[37312],\n",
       "  }\n",
       ")"
      ]
     },
     "execution_count": 59,
     "metadata": {},
     "output_type": "execute_result"
    }
   ],
   "source": [
    "sample_batch_data"
   ]
  },
  {
   "cell_type": "code",
   "execution_count": null,
   "id": "bf026684-dacc-45f2-b041-2363975c4881",
   "metadata": {
    "scrolled": true,
    "tags": []
   },
   "outputs": [
    {
     "name": "stderr",
     "output_type": "stream",
     "text": [
      "  0%|                                                                                        | 0/31497 [00:00<?, ?it/s]"
     ]
    },
    {
     "data": {
      "text/plain": [
       "HeteroData(\n",
       "  user={\n",
       "    node_id=[19261],\n",
       "    n_id=[19261],\n",
       "  },\n",
       "  movie={\n",
       "    node_id=[7579],\n",
       "    x=[7579, 20],\n",
       "    n_id=[7579],\n",
       "  },\n",
       "  (user, rates, movie)={\n",
       "    edge_index=[2, 26473],\n",
       "    edge_label=[384],\n",
       "    edge_label_index=[2, 384],\n",
       "    e_id=[26473],\n",
       "    input_id=[128],\n",
       "  },\n",
       "  (movie, rev_rates, user)={\n",
       "    edge_index=[2, 36823],\n",
       "    e_id=[36823],\n",
       "  }\n",
       ")"
      ]
     },
     "execution_count": 60,
     "metadata": {},
     "output_type": "execute_result"
    },
    {
     "name": "stderr",
     "output_type": "stream",
     "text": [
      "  0%|                                                                              | 1/31497 [00:00<7:37:19,  1.15it/s]"
     ]
    },
    {
     "data": {
      "text/plain": [
       "HeteroData(\n",
       "  user={\n",
       "    node_id=[19535],\n",
       "    n_id=[19535],\n",
       "  },\n",
       "  movie={\n",
       "    node_id=[7665],\n",
       "    x=[7665, 20],\n",
       "    n_id=[7665],\n",
       "  },\n",
       "  (user, rates, movie)={\n",
       "    edge_index=[2, 26919],\n",
       "    edge_label=[384],\n",
       "    edge_label_index=[2, 384],\n",
       "    e_id=[26919],\n",
       "    input_id=[128],\n",
       "  },\n",
       "  (movie, rev_rates, user)={\n",
       "    edge_index=[2, 38488],\n",
       "    e_id=[38488],\n",
       "  }\n",
       ")"
      ]
     },
     "execution_count": 60,
     "metadata": {},
     "output_type": "execute_result"
    },
    {
     "name": "stderr",
     "output_type": "stream",
     "text": [
      "  0%|                                                                              | 2/31497 [00:01<4:38:01,  1.89it/s]"
     ]
    },
    {
     "data": {
      "text/plain": [
       "HeteroData(\n",
       "  user={\n",
       "    node_id=[19283],\n",
       "    n_id=[19283],\n",
       "  },\n",
       "  movie={\n",
       "    node_id=[8035],\n",
       "    x=[8035, 20],\n",
       "    n_id=[8035],\n",
       "  },\n",
       "  (user, rates, movie)={\n",
       "    edge_index=[2, 26481],\n",
       "    edge_label=[384],\n",
       "    edge_label_index=[2, 384],\n",
       "    e_id=[26481],\n",
       "    input_id=[128],\n",
       "  },\n",
       "  (movie, rev_rates, user)={\n",
       "    edge_index=[2, 39605],\n",
       "    e_id=[39605],\n",
       "  }\n",
       ")"
      ]
     },
     "execution_count": 60,
     "metadata": {},
     "output_type": "execute_result"
    },
    {
     "name": "stderr",
     "output_type": "stream",
     "text": [
      "  0%|                                                                              | 3/31497 [00:01<3:44:34,  2.34it/s]"
     ]
    },
    {
     "data": {
      "text/plain": [
       "HeteroData(\n",
       "  user={\n",
       "    node_id=[19193],\n",
       "    n_id=[19193],\n",
       "  },\n",
       "  movie={\n",
       "    node_id=[7978],\n",
       "    x=[7978, 20],\n",
       "    n_id=[7978],\n",
       "  },\n",
       "  (user, rates, movie)={\n",
       "    edge_index=[2, 26316],\n",
       "    edge_label=[384],\n",
       "    edge_label_index=[2, 384],\n",
       "    e_id=[26316],\n",
       "    input_id=[128],\n",
       "  },\n",
       "  (movie, rev_rates, user)={\n",
       "    edge_index=[2, 38613],\n",
       "    e_id=[38613],\n",
       "  }\n",
       ")"
      ]
     },
     "execution_count": 60,
     "metadata": {},
     "output_type": "execute_result"
    },
    {
     "name": "stderr",
     "output_type": "stream",
     "text": [
      "  0%|                                                                              | 4/31497 [00:01<2:58:57,  2.93it/s]"
     ]
    },
    {
     "data": {
      "text/plain": [
       "HeteroData(\n",
       "  user={\n",
       "    node_id=[19346],\n",
       "    n_id=[19346],\n",
       "  },\n",
       "  movie={\n",
       "    node_id=[7817],\n",
       "    x=[7817, 20],\n",
       "    n_id=[7817],\n",
       "  },\n",
       "  (user, rates, movie)={\n",
       "    edge_index=[2, 26408],\n",
       "    edge_label=[384],\n",
       "    edge_label_index=[2, 384],\n",
       "    e_id=[26408],\n",
       "    input_id=[128],\n",
       "  },\n",
       "  (movie, rev_rates, user)={\n",
       "    edge_index=[2, 39607],\n",
       "    e_id=[39607],\n",
       "  }\n",
       ")"
      ]
     },
     "execution_count": 60,
     "metadata": {},
     "output_type": "execute_result"
    },
    {
     "name": "stderr",
     "output_type": "stream",
     "text": [
      "  0%|                                                                              | 5/31497 [00:01<2:36:30,  3.35it/s]"
     ]
    },
    {
     "data": {
      "text/plain": [
       "HeteroData(\n",
       "  user={\n",
       "    node_id=[18872],\n",
       "    n_id=[18872],\n",
       "  },\n",
       "  movie={\n",
       "    node_id=[7906],\n",
       "    x=[7906, 20],\n",
       "    n_id=[7906],\n",
       "  },\n",
       "  (user, rates, movie)={\n",
       "    edge_index=[2, 25787],\n",
       "    edge_label=[384],\n",
       "    edge_label_index=[2, 384],\n",
       "    e_id=[25787],\n",
       "    input_id=[128],\n",
       "  },\n",
       "  (movie, rev_rates, user)={\n",
       "    edge_index=[2, 39561],\n",
       "    e_id=[39561],\n",
       "  }\n",
       ")"
      ]
     },
     "execution_count": 60,
     "metadata": {},
     "output_type": "execute_result"
    },
    {
     "name": "stderr",
     "output_type": "stream",
     "text": [
      "  0%|                                                                              | 6/31497 [00:02<2:20:17,  3.74it/s]"
     ]
    },
    {
     "data": {
      "text/plain": [
       "HeteroData(\n",
       "  user={\n",
       "    node_id=[18851],\n",
       "    n_id=[18851],\n",
       "  },\n",
       "  movie={\n",
       "    node_id=[7849],\n",
       "    x=[7849, 20],\n",
       "    n_id=[7849],\n",
       "  },\n",
       "  (user, rates, movie)={\n",
       "    edge_index=[2, 25384],\n",
       "    edge_label=[384],\n",
       "    edge_label_index=[2, 384],\n",
       "    e_id=[25384],\n",
       "    input_id=[128],\n",
       "  },\n",
       "  (movie, rev_rates, user)={\n",
       "    edge_index=[2, 39592],\n",
       "    e_id=[39592],\n",
       "  }\n",
       ")"
      ]
     },
     "execution_count": 60,
     "metadata": {},
     "output_type": "execute_result"
    },
    {
     "name": "stderr",
     "output_type": "stream",
     "text": [
      "  0%|                                                                              | 7/31497 [00:02<2:11:59,  3.98it/s]"
     ]
    },
    {
     "data": {
      "text/plain": [
       "HeteroData(\n",
       "  user={\n",
       "    node_id=[19371],\n",
       "    n_id=[19371],\n",
       "  },\n",
       "  movie={\n",
       "    node_id=[7841],\n",
       "    x=[7841, 20],\n",
       "    n_id=[7841],\n",
       "  },\n",
       "  (user, rates, movie)={\n",
       "    edge_index=[2, 26956],\n",
       "    edge_label=[384],\n",
       "    edge_label_index=[2, 384],\n",
       "    e_id=[26956],\n",
       "    input_id=[128],\n",
       "  },\n",
       "  (movie, rev_rates, user)={\n",
       "    edge_index=[2, 39508],\n",
       "    e_id=[39508],\n",
       "  }\n",
       ")"
      ]
     },
     "execution_count": 60,
     "metadata": {},
     "output_type": "execute_result"
    },
    {
     "name": "stderr",
     "output_type": "stream",
     "text": [
      "  0%|                                                                              | 8/31497 [00:02<2:09:18,  4.06it/s]"
     ]
    },
    {
     "data": {
      "text/plain": [
       "HeteroData(\n",
       "  user={\n",
       "    node_id=[18861],\n",
       "    n_id=[18861],\n",
       "  },\n",
       "  movie={\n",
       "    node_id=[7748],\n",
       "    x=[7748, 20],\n",
       "    n_id=[7748],\n",
       "  },\n",
       "  (user, rates, movie)={\n",
       "    edge_index=[2, 25460],\n",
       "    edge_label=[384],\n",
       "    edge_label_index=[2, 384],\n",
       "    e_id=[25460],\n",
       "    input_id=[128],\n",
       "  },\n",
       "  (movie, rev_rates, user)={\n",
       "    edge_index=[2, 37033],\n",
       "    e_id=[37033],\n",
       "  }\n",
       ")"
      ]
     },
     "execution_count": 60,
     "metadata": {},
     "output_type": "execute_result"
    },
    {
     "name": "stderr",
     "output_type": "stream",
     "text": [
      "  0%|                                                                              | 9/31497 [00:02<2:03:46,  4.24it/s]"
     ]
    },
    {
     "data": {
      "text/plain": [
       "HeteroData(\n",
       "  user={\n",
       "    node_id=[19370],\n",
       "    n_id=[19370],\n",
       "  },\n",
       "  movie={\n",
       "    node_id=[7872],\n",
       "    x=[7872, 20],\n",
       "    n_id=[7872],\n",
       "  },\n",
       "  (user, rates, movie)={\n",
       "    edge_index=[2, 26762],\n",
       "    edge_label=[384],\n",
       "    edge_label_index=[2, 384],\n",
       "    e_id=[26762],\n",
       "    input_id=[128],\n",
       "  },\n",
       "  (movie, rev_rates, user)={\n",
       "    edge_index=[2, 39220],\n",
       "    e_id=[39220],\n",
       "  }\n",
       ")"
      ]
     },
     "execution_count": 60,
     "metadata": {},
     "output_type": "execute_result"
    },
    {
     "name": "stderr",
     "output_type": "stream",
     "text": [
      "  0%|                                                                             | 10/31497 [00:02<2:02:13,  4.29it/s]"
     ]
    },
    {
     "data": {
      "text/plain": [
       "HeteroData(\n",
       "  user={\n",
       "    node_id=[19218],\n",
       "    n_id=[19218],\n",
       "  },\n",
       "  movie={\n",
       "    node_id=[7763],\n",
       "    x=[7763, 20],\n",
       "    n_id=[7763],\n",
       "  },\n",
       "  (user, rates, movie)={\n",
       "    edge_index=[2, 26127],\n",
       "    edge_label=[384],\n",
       "    edge_label_index=[2, 384],\n",
       "    e_id=[26127],\n",
       "    input_id=[128],\n",
       "  },\n",
       "  (movie, rev_rates, user)={\n",
       "    edge_index=[2, 38525],\n",
       "    e_id=[38525],\n",
       "  }\n",
       ")"
      ]
     },
     "execution_count": 60,
     "metadata": {},
     "output_type": "execute_result"
    },
    {
     "name": "stderr",
     "output_type": "stream",
     "text": [
      "  0%|                                                                             | 11/31497 [00:03<2:00:31,  4.35it/s]"
     ]
    },
    {
     "data": {
      "text/plain": [
       "HeteroData(\n",
       "  user={\n",
       "    node_id=[19139],\n",
       "    n_id=[19139],\n",
       "  },\n",
       "  movie={\n",
       "    node_id=[7641],\n",
       "    x=[7641, 20],\n",
       "    n_id=[7641],\n",
       "  },\n",
       "  (user, rates, movie)={\n",
       "    edge_index=[2, 26153],\n",
       "    edge_label=[384],\n",
       "    edge_label_index=[2, 384],\n",
       "    e_id=[26153],\n",
       "    input_id=[128],\n",
       "  },\n",
       "  (movie, rev_rates, user)={\n",
       "    edge_index=[2, 37618],\n",
       "    e_id=[37618],\n",
       "  }\n",
       ")"
      ]
     },
     "execution_count": 60,
     "metadata": {},
     "output_type": "execute_result"
    },
    {
     "name": "stderr",
     "output_type": "stream",
     "text": [
      "  0%|                                                                             | 12/31497 [00:03<2:12:31,  3.96it/s]"
     ]
    },
    {
     "data": {
      "text/plain": [
       "HeteroData(\n",
       "  user={\n",
       "    node_id=[18977],\n",
       "    n_id=[18977],\n",
       "  },\n",
       "  movie={\n",
       "    node_id=[7665],\n",
       "    x=[7665, 20],\n",
       "    n_id=[7665],\n",
       "  },\n",
       "  (user, rates, movie)={\n",
       "    edge_index=[2, 25807],\n",
       "    edge_label=[384],\n",
       "    edge_label_index=[2, 384],\n",
       "    e_id=[25807],\n",
       "    input_id=[128],\n",
       "  },\n",
       "  (movie, rev_rates, user)={\n",
       "    edge_index=[2, 37610],\n",
       "    e_id=[37610],\n",
       "  }\n",
       ")"
      ]
     },
     "execution_count": 60,
     "metadata": {},
     "output_type": "execute_result"
    },
    {
     "name": "stderr",
     "output_type": "stream",
     "text": [
      "  0%|                                                                             | 13/31497 [00:03<2:04:49,  4.20it/s]"
     ]
    },
    {
     "data": {
      "text/plain": [
       "HeteroData(\n",
       "  user={\n",
       "    node_id=[19420],\n",
       "    n_id=[19420],\n",
       "  },\n",
       "  movie={\n",
       "    node_id=[7858],\n",
       "    x=[7858, 20],\n",
       "    n_id=[7858],\n",
       "  },\n",
       "  (user, rates, movie)={\n",
       "    edge_index=[2, 26879],\n",
       "    edge_label=[384],\n",
       "    edge_label_index=[2, 384],\n",
       "    e_id=[26879],\n",
       "    input_id=[128],\n",
       "  },\n",
       "  (movie, rev_rates, user)={\n",
       "    edge_index=[2, 39353],\n",
       "    e_id=[39353],\n",
       "  }\n",
       ")"
      ]
     },
     "execution_count": 60,
     "metadata": {},
     "output_type": "execute_result"
    },
    {
     "name": "stderr",
     "output_type": "stream",
     "text": [
      "  0%|                                                                             | 14/31497 [00:03<2:04:01,  4.23it/s]"
     ]
    },
    {
     "data": {
      "text/plain": [
       "HeteroData(\n",
       "  user={\n",
       "    node_id=[18723],\n",
       "    n_id=[18723],\n",
       "  },\n",
       "  movie={\n",
       "    node_id=[7352],\n",
       "    x=[7352, 20],\n",
       "    n_id=[7352],\n",
       "  },\n",
       "  (user, rates, movie)={\n",
       "    edge_index=[2, 25352],\n",
       "    edge_label=[384],\n",
       "    edge_label_index=[2, 384],\n",
       "    e_id=[25352],\n",
       "    input_id=[128],\n",
       "  },\n",
       "  (movie, rev_rates, user)={\n",
       "    edge_index=[2, 36345],\n",
       "    e_id=[36345],\n",
       "  }\n",
       ")"
      ]
     },
     "execution_count": 60,
     "metadata": {},
     "output_type": "execute_result"
    },
    {
     "name": "stderr",
     "output_type": "stream",
     "text": [
      "  0%|                                                                             | 15/31497 [00:04<2:00:59,  4.34it/s]"
     ]
    },
    {
     "data": {
      "text/plain": [
       "HeteroData(\n",
       "  user={\n",
       "    node_id=[19448],\n",
       "    n_id=[19448],\n",
       "  },\n",
       "  movie={\n",
       "    node_id=[7599],\n",
       "    x=[7599, 20],\n",
       "    n_id=[7599],\n",
       "  },\n",
       "  (user, rates, movie)={\n",
       "    edge_index=[2, 26750],\n",
       "    edge_label=[384],\n",
       "    edge_label_index=[2, 384],\n",
       "    e_id=[26750],\n",
       "    input_id=[128],\n",
       "  },\n",
       "  (movie, rev_rates, user)={\n",
       "    edge_index=[2, 36392],\n",
       "    e_id=[36392],\n",
       "  }\n",
       ")"
      ]
     },
     "execution_count": 60,
     "metadata": {},
     "output_type": "execute_result"
    },
    {
     "name": "stderr",
     "output_type": "stream",
     "text": [
      "  0%|                                                                             | 16/31497 [00:04<1:58:03,  4.44it/s]"
     ]
    },
    {
     "data": {
      "text/plain": [
       "HeteroData(\n",
       "  user={\n",
       "    node_id=[19004],\n",
       "    n_id=[19004],\n",
       "  },\n",
       "  movie={\n",
       "    node_id=[7695],\n",
       "    x=[7695, 20],\n",
       "    n_id=[7695],\n",
       "  },\n",
       "  (user, rates, movie)={\n",
       "    edge_index=[2, 25639],\n",
       "    edge_label=[384],\n",
       "    edge_label_index=[2, 384],\n",
       "    e_id=[25639],\n",
       "    input_id=[128],\n",
       "  },\n",
       "  (movie, rev_rates, user)={\n",
       "    edge_index=[2, 38380],\n",
       "    e_id=[38380],\n",
       "  }\n",
       ")"
      ]
     },
     "execution_count": 60,
     "metadata": {},
     "output_type": "execute_result"
    },
    {
     "name": "stderr",
     "output_type": "stream",
     "text": [
      "  0%|                                                                             | 17/31497 [00:04<1:55:53,  4.53it/s]"
     ]
    },
    {
     "data": {
      "text/plain": [
       "HeteroData(\n",
       "  user={\n",
       "    node_id=[19615],\n",
       "    n_id=[19615],\n",
       "  },\n",
       "  movie={\n",
       "    node_id=[7730],\n",
       "    x=[7730, 20],\n",
       "    n_id=[7730],\n",
       "  },\n",
       "  (user, rates, movie)={\n",
       "    edge_index=[2, 27154],\n",
       "    edge_label=[384],\n",
       "    edge_label_index=[2, 384],\n",
       "    e_id=[27154],\n",
       "    input_id=[128],\n",
       "  },\n",
       "  (movie, rev_rates, user)={\n",
       "    edge_index=[2, 38133],\n",
       "    e_id=[38133],\n",
       "  }\n",
       ")"
      ]
     },
     "execution_count": 60,
     "metadata": {},
     "output_type": "execute_result"
    },
    {
     "name": "stderr",
     "output_type": "stream",
     "text": [
      "  0%|                                                                             | 18/31497 [00:04<1:56:02,  4.52it/s]"
     ]
    },
    {
     "data": {
      "text/plain": [
       "HeteroData(\n",
       "  user={\n",
       "    node_id=[18658],\n",
       "    n_id=[18658],\n",
       "  },\n",
       "  movie={\n",
       "    node_id=[7812],\n",
       "    x=[7812, 20],\n",
       "    n_id=[7812],\n",
       "  },\n",
       "  (user, rates, movie)={\n",
       "    edge_index=[2, 25263],\n",
       "    edge_label=[384],\n",
       "    edge_label_index=[2, 384],\n",
       "    e_id=[25263],\n",
       "    input_id=[128],\n",
       "  },\n",
       "  (movie, rev_rates, user)={\n",
       "    edge_index=[2, 38555],\n",
       "    e_id=[38555],\n",
       "  }\n",
       ")"
      ]
     },
     "execution_count": 60,
     "metadata": {},
     "output_type": "execute_result"
    },
    {
     "name": "stderr",
     "output_type": "stream",
     "text": [
      "  0%|                                                                             | 19/31497 [00:05<1:57:21,  4.47it/s]"
     ]
    },
    {
     "data": {
      "text/plain": [
       "HeteroData(\n",
       "  user={\n",
       "    node_id=[19082],\n",
       "    n_id=[19082],\n",
       "  },\n",
       "  movie={\n",
       "    node_id=[7739],\n",
       "    x=[7739, 20],\n",
       "    n_id=[7739],\n",
       "  },\n",
       "  (user, rates, movie)={\n",
       "    edge_index=[2, 25705],\n",
       "    edge_label=[384],\n",
       "    edge_label_index=[2, 384],\n",
       "    e_id=[25705],\n",
       "    input_id=[128],\n",
       "  },\n",
       "  (movie, rev_rates, user)={\n",
       "    edge_index=[2, 37142],\n",
       "    e_id=[37142],\n",
       "  }\n",
       ")"
      ]
     },
     "execution_count": 60,
     "metadata": {},
     "output_type": "execute_result"
    },
    {
     "name": "stderr",
     "output_type": "stream",
     "text": [
      "  0%|                                                                             | 20/31497 [00:05<1:58:12,  4.44it/s]"
     ]
    },
    {
     "data": {
      "text/plain": [
       "HeteroData(\n",
       "  user={\n",
       "    node_id=[19329],\n",
       "    n_id=[19329],\n",
       "  },\n",
       "  movie={\n",
       "    node_id=[7837],\n",
       "    x=[7837, 20],\n",
       "    n_id=[7837],\n",
       "  },\n",
       "  (user, rates, movie)={\n",
       "    edge_index=[2, 26325],\n",
       "    edge_label=[384],\n",
       "    edge_label_index=[2, 384],\n",
       "    e_id=[26325],\n",
       "    input_id=[128],\n",
       "  },\n",
       "  (movie, rev_rates, user)={\n",
       "    edge_index=[2, 38279],\n",
       "    e_id=[38279],\n",
       "  }\n",
       ")"
      ]
     },
     "execution_count": 60,
     "metadata": {},
     "output_type": "execute_result"
    },
    {
     "name": "stderr",
     "output_type": "stream",
     "text": [
      "  0%|                                                                             | 21/31497 [00:05<2:13:30,  3.93it/s]"
     ]
    },
    {
     "data": {
      "text/plain": [
       "HeteroData(\n",
       "  user={\n",
       "    node_id=[18799],\n",
       "    n_id=[18799],\n",
       "  },\n",
       "  movie={\n",
       "    node_id=[7796],\n",
       "    x=[7796, 20],\n",
       "    n_id=[7796],\n",
       "  },\n",
       "  (user, rates, movie)={\n",
       "    edge_index=[2, 25872],\n",
       "    edge_label=[384],\n",
       "    edge_label_index=[2, 384],\n",
       "    e_id=[25872],\n",
       "    input_id=[128],\n",
       "  },\n",
       "  (movie, rev_rates, user)={\n",
       "    edge_index=[2, 37870],\n",
       "    e_id=[37870],\n",
       "  }\n",
       ")"
      ]
     },
     "execution_count": 60,
     "metadata": {},
     "output_type": "execute_result"
    },
    {
     "name": "stderr",
     "output_type": "stream",
     "text": [
      "  0%|                                                                             | 22/31497 [00:05<2:07:10,  4.12it/s]"
     ]
    },
    {
     "data": {
      "text/plain": [
       "HeteroData(\n",
       "  user={\n",
       "    node_id=[19299],\n",
       "    n_id=[19299],\n",
       "  },\n",
       "  movie={\n",
       "    node_id=[7815],\n",
       "    x=[7815, 20],\n",
       "    n_id=[7815],\n",
       "  },\n",
       "  (user, rates, movie)={\n",
       "    edge_index=[2, 26166],\n",
       "    edge_label=[384],\n",
       "    edge_label_index=[2, 384],\n",
       "    e_id=[26166],\n",
       "    input_id=[128],\n",
       "  },\n",
       "  (movie, rev_rates, user)={\n",
       "    edge_index=[2, 39783],\n",
       "    e_id=[39783],\n",
       "  }\n",
       ")"
      ]
     },
     "execution_count": 60,
     "metadata": {},
     "output_type": "execute_result"
    },
    {
     "name": "stderr",
     "output_type": "stream",
     "text": [
      "  0%|                                                                             | 23/31497 [00:06<2:06:12,  4.16it/s]"
     ]
    },
    {
     "data": {
      "text/plain": [
       "HeteroData(\n",
       "  user={\n",
       "    node_id=[19208],\n",
       "    n_id=[19208],\n",
       "  },\n",
       "  movie={\n",
       "    node_id=[7673],\n",
       "    x=[7673, 20],\n",
       "    n_id=[7673],\n",
       "  },\n",
       "  (user, rates, movie)={\n",
       "    edge_index=[2, 26464],\n",
       "    edge_label=[384],\n",
       "    edge_label_index=[2, 384],\n",
       "    e_id=[26464],\n",
       "    input_id=[128],\n",
       "  },\n",
       "  (movie, rev_rates, user)={\n",
       "    edge_index=[2, 37123],\n",
       "    e_id=[37123],\n",
       "  }\n",
       ")"
      ]
     },
     "execution_count": 60,
     "metadata": {},
     "output_type": "execute_result"
    },
    {
     "name": "stderr",
     "output_type": "stream",
     "text": [
      "  0%|                                                                             | 24/31497 [00:06<2:04:38,  4.21it/s]"
     ]
    },
    {
     "data": {
      "text/plain": [
       "HeteroData(\n",
       "  user={\n",
       "    node_id=[19031],\n",
       "    n_id=[19031],\n",
       "  },\n",
       "  movie={\n",
       "    node_id=[7649],\n",
       "    x=[7649, 20],\n",
       "    n_id=[7649],\n",
       "  },\n",
       "  (user, rates, movie)={\n",
       "    edge_index=[2, 25830],\n",
       "    edge_label=[384],\n",
       "    edge_label_index=[2, 384],\n",
       "    e_id=[25830],\n",
       "    input_id=[128],\n",
       "  },\n",
       "  (movie, rev_rates, user)={\n",
       "    edge_index=[2, 37548],\n",
       "    e_id=[37548],\n",
       "  }\n",
       ")"
      ]
     },
     "execution_count": 60,
     "metadata": {},
     "output_type": "execute_result"
    },
    {
     "name": "stderr",
     "output_type": "stream",
     "text": [
      "  0%|                                                                             | 25/31497 [00:06<2:01:34,  4.31it/s]"
     ]
    },
    {
     "data": {
      "text/plain": [
       "HeteroData(\n",
       "  user={\n",
       "    node_id=[18848],\n",
       "    n_id=[18848],\n",
       "  },\n",
       "  movie={\n",
       "    node_id=[7633],\n",
       "    x=[7633, 20],\n",
       "    n_id=[7633],\n",
       "  },\n",
       "  (user, rates, movie)={\n",
       "    edge_index=[2, 25222],\n",
       "    edge_label=[384],\n",
       "    edge_label_index=[2, 384],\n",
       "    e_id=[25222],\n",
       "    input_id=[128],\n",
       "  },\n",
       "  (movie, rev_rates, user)={\n",
       "    edge_index=[2, 37972],\n",
       "    e_id=[37972],\n",
       "  }\n",
       ")"
      ]
     },
     "execution_count": 60,
     "metadata": {},
     "output_type": "execute_result"
    },
    {
     "name": "stderr",
     "output_type": "stream",
     "text": [
      "  0%|                                                                             | 26/31497 [00:06<1:59:38,  4.38it/s]"
     ]
    },
    {
     "data": {
      "text/plain": [
       "HeteroData(\n",
       "  user={\n",
       "    node_id=[18827],\n",
       "    n_id=[18827],\n",
       "  },\n",
       "  movie={\n",
       "    node_id=[7616],\n",
       "    x=[7616, 20],\n",
       "    n_id=[7616],\n",
       "  },\n",
       "  (user, rates, movie)={\n",
       "    edge_index=[2, 25294],\n",
       "    edge_label=[384],\n",
       "    edge_label_index=[2, 384],\n",
       "    e_id=[25294],\n",
       "    input_id=[128],\n",
       "  },\n",
       "  (movie, rev_rates, user)={\n",
       "    edge_index=[2, 37414],\n",
       "    e_id=[37414],\n",
       "  }\n",
       ")"
      ]
     },
     "execution_count": 60,
     "metadata": {},
     "output_type": "execute_result"
    },
    {
     "name": "stderr",
     "output_type": "stream",
     "text": [
      "  0%|                                                                             | 27/31497 [00:06<1:59:40,  4.38it/s]"
     ]
    },
    {
     "data": {
      "text/plain": [
       "HeteroData(\n",
       "  user={\n",
       "    node_id=[18953],\n",
       "    n_id=[18953],\n",
       "  },\n",
       "  movie={\n",
       "    node_id=[7706],\n",
       "    x=[7706, 20],\n",
       "    n_id=[7706],\n",
       "  },\n",
       "  (user, rates, movie)={\n",
       "    edge_index=[2, 25649],\n",
       "    edge_label=[384],\n",
       "    edge_label_index=[2, 384],\n",
       "    e_id=[25649],\n",
       "    input_id=[128],\n",
       "  },\n",
       "  (movie, rev_rates, user)={\n",
       "    edge_index=[2, 37471],\n",
       "    e_id=[37471],\n",
       "  }\n",
       ")"
      ]
     },
     "execution_count": 60,
     "metadata": {},
     "output_type": "execute_result"
    },
    {
     "name": "stderr",
     "output_type": "stream",
     "text": [
      "  0%|                                                                             | 28/31497 [00:07<1:59:05,  4.40it/s]"
     ]
    },
    {
     "data": {
      "text/plain": [
       "HeteroData(\n",
       "  user={\n",
       "    node_id=[19087],\n",
       "    n_id=[19087],\n",
       "  },\n",
       "  movie={\n",
       "    node_id=[7945],\n",
       "    x=[7945, 20],\n",
       "    n_id=[7945],\n",
       "  },\n",
       "  (user, rates, movie)={\n",
       "    edge_index=[2, 26101],\n",
       "    edge_label=[384],\n",
       "    edge_label_index=[2, 384],\n",
       "    e_id=[26101],\n",
       "    input_id=[128],\n",
       "  },\n",
       "  (movie, rev_rates, user)={\n",
       "    edge_index=[2, 38578],\n",
       "    e_id=[38578],\n",
       "  }\n",
       ")"
      ]
     },
     "execution_count": 60,
     "metadata": {},
     "output_type": "execute_result"
    },
    {
     "name": "stderr",
     "output_type": "stream",
     "text": [
      "  0%|                                                                             | 29/31497 [00:07<1:59:46,  4.38it/s]"
     ]
    },
    {
     "data": {
      "text/plain": [
       "HeteroData(\n",
       "  user={\n",
       "    node_id=[18987],\n",
       "    n_id=[18987],\n",
       "  },\n",
       "  movie={\n",
       "    node_id=[7905],\n",
       "    x=[7905, 20],\n",
       "    n_id=[7905],\n",
       "  },\n",
       "  (user, rates, movie)={\n",
       "    edge_index=[2, 25956],\n",
       "    edge_label=[384],\n",
       "    edge_label_index=[2, 384],\n",
       "    e_id=[25956],\n",
       "    input_id=[128],\n",
       "  },\n",
       "  (movie, rev_rates, user)={\n",
       "    edge_index=[2, 38148],\n",
       "    e_id=[38148],\n",
       "  }\n",
       ")"
      ]
     },
     "execution_count": 60,
     "metadata": {},
     "output_type": "execute_result"
    },
    {
     "name": "stderr",
     "output_type": "stream",
     "text": [
      "  0%|                                                                             | 30/31497 [00:07<2:11:36,  3.98it/s]"
     ]
    },
    {
     "data": {
      "text/plain": [
       "HeteroData(\n",
       "  user={\n",
       "    node_id=[18924],\n",
       "    n_id=[18924],\n",
       "  },\n",
       "  movie={\n",
       "    node_id=[7734],\n",
       "    x=[7734, 20],\n",
       "    n_id=[7734],\n",
       "  },\n",
       "  (user, rates, movie)={\n",
       "    edge_index=[2, 26034],\n",
       "    edge_label=[384],\n",
       "    edge_label_index=[2, 384],\n",
       "    e_id=[26034],\n",
       "    input_id=[128],\n",
       "  },\n",
       "  (movie, rev_rates, user)={\n",
       "    edge_index=[2, 37329],\n",
       "    e_id=[37329],\n",
       "  }\n",
       ")"
      ]
     },
     "execution_count": 60,
     "metadata": {},
     "output_type": "execute_result"
    },
    {
     "name": "stderr",
     "output_type": "stream",
     "text": [
      "  0%|                                                                             | 31/31497 [00:07<2:03:50,  4.23it/s]"
     ]
    },
    {
     "data": {
      "text/plain": [
       "HeteroData(\n",
       "  user={\n",
       "    node_id=[18628],\n",
       "    n_id=[18628],\n",
       "  },\n",
       "  movie={\n",
       "    node_id=[7410],\n",
       "    x=[7410, 20],\n",
       "    n_id=[7410],\n",
       "  },\n",
       "  (user, rates, movie)={\n",
       "    edge_index=[2, 25098],\n",
       "    edge_label=[384],\n",
       "    edge_label_index=[2, 384],\n",
       "    e_id=[25098],\n",
       "    input_id=[128],\n",
       "  },\n",
       "  (movie, rev_rates, user)={\n",
       "    edge_index=[2, 37033],\n",
       "    e_id=[37033],\n",
       "  }\n",
       ")"
      ]
     },
     "execution_count": 60,
     "metadata": {},
     "output_type": "execute_result"
    },
    {
     "name": "stderr",
     "output_type": "stream",
     "text": [
      "  0%|                                                                             | 32/31497 [00:08<2:00:42,  4.34it/s]"
     ]
    },
    {
     "data": {
      "text/plain": [
       "HeteroData(\n",
       "  user={\n",
       "    node_id=[19676],\n",
       "    n_id=[19676],\n",
       "  },\n",
       "  movie={\n",
       "    node_id=[7794],\n",
       "    x=[7794, 20],\n",
       "    n_id=[7794],\n",
       "  },\n",
       "  (user, rates, movie)={\n",
       "    edge_index=[2, 27491],\n",
       "    edge_label=[384],\n",
       "    edge_label_index=[2, 384],\n",
       "    e_id=[27491],\n",
       "    input_id=[128],\n",
       "  },\n",
       "  (movie, rev_rates, user)={\n",
       "    edge_index=[2, 39437],\n",
       "    e_id=[39437],\n",
       "  }\n",
       ")"
      ]
     },
     "execution_count": 60,
     "metadata": {},
     "output_type": "execute_result"
    },
    {
     "name": "stderr",
     "output_type": "stream",
     "text": [
      "  0%|                                                                             | 33/31497 [00:08<2:01:28,  4.32it/s]"
     ]
    },
    {
     "data": {
      "text/plain": [
       "HeteroData(\n",
       "  user={\n",
       "    node_id=[19065],\n",
       "    n_id=[19065],\n",
       "  },\n",
       "  movie={\n",
       "    node_id=[7508],\n",
       "    x=[7508, 20],\n",
       "    n_id=[7508],\n",
       "  },\n",
       "  (user, rates, movie)={\n",
       "    edge_index=[2, 25825],\n",
       "    edge_label=[384],\n",
       "    edge_label_index=[2, 384],\n",
       "    e_id=[25825],\n",
       "    input_id=[128],\n",
       "  },\n",
       "  (movie, rev_rates, user)={\n",
       "    edge_index=[2, 38148],\n",
       "    e_id=[38148],\n",
       "  }\n",
       ")"
      ]
     },
     "execution_count": 60,
     "metadata": {},
     "output_type": "execute_result"
    },
    {
     "name": "stderr",
     "output_type": "stream",
     "text": [
      "  0%|                                                                             | 34/31497 [00:08<1:59:06,  4.40it/s]"
     ]
    },
    {
     "data": {
      "text/plain": [
       "HeteroData(\n",
       "  user={\n",
       "    node_id=[19538],\n",
       "    n_id=[19538],\n",
       "  },\n",
       "  movie={\n",
       "    node_id=[7870],\n",
       "    x=[7870, 20],\n",
       "    n_id=[7870],\n",
       "  },\n",
       "  (user, rates, movie)={\n",
       "    edge_index=[2, 26779],\n",
       "    edge_label=[384],\n",
       "    edge_label_index=[2, 384],\n",
       "    e_id=[26779],\n",
       "    input_id=[128],\n",
       "  },\n",
       "  (movie, rev_rates, user)={\n",
       "    edge_index=[2, 39893],\n",
       "    e_id=[39893],\n",
       "  }\n",
       ")"
      ]
     },
     "execution_count": 60,
     "metadata": {},
     "output_type": "execute_result"
    },
    {
     "name": "stderr",
     "output_type": "stream",
     "text": [
      "  0%|                                                                             | 35/31497 [00:08<1:57:46,  4.45it/s]"
     ]
    },
    {
     "data": {
      "text/plain": [
       "HeteroData(\n",
       "  user={\n",
       "    node_id=[19674],\n",
       "    n_id=[19674],\n",
       "  },\n",
       "  movie={\n",
       "    node_id=[7776],\n",
       "    x=[7776, 20],\n",
       "    n_id=[7776],\n",
       "  },\n",
       "  (user, rates, movie)={\n",
       "    edge_index=[2, 26978],\n",
       "    edge_label=[384],\n",
       "    edge_label_index=[2, 384],\n",
       "    e_id=[26978],\n",
       "    input_id=[128],\n",
       "  },\n",
       "  (movie, rev_rates, user)={\n",
       "    edge_index=[2, 39240],\n",
       "    e_id=[39240],\n",
       "  }\n",
       ")"
      ]
     },
     "execution_count": 60,
     "metadata": {},
     "output_type": "execute_result"
    },
    {
     "name": "stderr",
     "output_type": "stream",
     "text": [
      "  0%|                                                                             | 36/31497 [00:09<1:55:09,  4.55it/s]"
     ]
    },
    {
     "data": {
      "text/plain": [
       "HeteroData(\n",
       "  user={\n",
       "    node_id=[18974],\n",
       "    n_id=[18974],\n",
       "  },\n",
       "  movie={\n",
       "    node_id=[7713],\n",
       "    x=[7713, 20],\n",
       "    n_id=[7713],\n",
       "  },\n",
       "  (user, rates, movie)={\n",
       "    edge_index=[2, 25975],\n",
       "    edge_label=[384],\n",
       "    edge_label_index=[2, 384],\n",
       "    e_id=[25975],\n",
       "    input_id=[128],\n",
       "  },\n",
       "  (movie, rev_rates, user)={\n",
       "    edge_index=[2, 37483],\n",
       "    e_id=[37483],\n",
       "  }\n",
       ")"
      ]
     },
     "execution_count": 60,
     "metadata": {},
     "output_type": "execute_result"
    },
    {
     "name": "stderr",
     "output_type": "stream",
     "text": [
      "  0%|                                                                             | 37/31497 [00:09<1:54:38,  4.57it/s]"
     ]
    },
    {
     "data": {
      "text/plain": [
       "HeteroData(\n",
       "  user={\n",
       "    node_id=[19048],\n",
       "    n_id=[19048],\n",
       "  },\n",
       "  movie={\n",
       "    node_id=[7949],\n",
       "    x=[7949, 20],\n",
       "    n_id=[7949],\n",
       "  },\n",
       "  (user, rates, movie)={\n",
       "    edge_index=[2, 26316],\n",
       "    edge_label=[384],\n",
       "    edge_label_index=[2, 384],\n",
       "    e_id=[26316],\n",
       "    input_id=[128],\n",
       "  },\n",
       "  (movie, rev_rates, user)={\n",
       "    edge_index=[2, 38197],\n",
       "    e_id=[38197],\n",
       "  }\n",
       ")"
      ]
     },
     "execution_count": 60,
     "metadata": {},
     "output_type": "execute_result"
    },
    {
     "name": "stderr",
     "output_type": "stream",
     "text": [
      "  0%|                                                                             | 38/31497 [00:09<1:55:22,  4.54it/s]"
     ]
    },
    {
     "data": {
      "text/plain": [
       "HeteroData(\n",
       "  user={\n",
       "    node_id=[18860],\n",
       "    n_id=[18860],\n",
       "  },\n",
       "  movie={\n",
       "    node_id=[7678],\n",
       "    x=[7678, 20],\n",
       "    n_id=[7678],\n",
       "  },\n",
       "  (user, rates, movie)={\n",
       "    edge_index=[2, 25359],\n",
       "    edge_label=[384],\n",
       "    edge_label_index=[2, 384],\n",
       "    e_id=[25359],\n",
       "    input_id=[128],\n",
       "  },\n",
       "  (movie, rev_rates, user)={\n",
       "    edge_index=[2, 37887],\n",
       "    e_id=[37887],\n",
       "  }\n",
       ")"
      ]
     },
     "execution_count": 60,
     "metadata": {},
     "output_type": "execute_result"
    },
    {
     "name": "stderr",
     "output_type": "stream",
     "text": [
      "  0%|                                                                             | 39/31497 [00:09<2:08:12,  4.09it/s]"
     ]
    },
    {
     "data": {
      "text/plain": [
       "HeteroData(\n",
       "  user={\n",
       "    node_id=[19115],\n",
       "    n_id=[19115],\n",
       "  },\n",
       "  movie={\n",
       "    node_id=[7817],\n",
       "    x=[7817, 20],\n",
       "    n_id=[7817],\n",
       "  },\n",
       "  (user, rates, movie)={\n",
       "    edge_index=[2, 26180],\n",
       "    edge_label=[384],\n",
       "    edge_label_index=[2, 384],\n",
       "    e_id=[26180],\n",
       "    input_id=[128],\n",
       "  },\n",
       "  (movie, rev_rates, user)={\n",
       "    edge_index=[2, 39237],\n",
       "    e_id=[39237],\n",
       "  }\n",
       ")"
      ]
     },
     "execution_count": 60,
     "metadata": {},
     "output_type": "execute_result"
    },
    {
     "name": "stderr",
     "output_type": "stream",
     "text": [
      "  0%|                                                                             | 40/31497 [00:09<2:01:20,  4.32it/s]"
     ]
    },
    {
     "data": {
      "text/plain": [
       "HeteroData(\n",
       "  user={\n",
       "    node_id=[19368],\n",
       "    n_id=[19368],\n",
       "  },\n",
       "  movie={\n",
       "    node_id=[7903],\n",
       "    x=[7903, 20],\n",
       "    n_id=[7903],\n",
       "  },\n",
       "  (user, rates, movie)={\n",
       "    edge_index=[2, 26696],\n",
       "    edge_label=[384],\n",
       "    edge_label_index=[2, 384],\n",
       "    e_id=[26696],\n",
       "    input_id=[128],\n",
       "  },\n",
       "  (movie, rev_rates, user)={\n",
       "    edge_index=[2, 38549],\n",
       "    e_id=[38549],\n",
       "  }\n",
       ")"
      ]
     },
     "execution_count": 60,
     "metadata": {},
     "output_type": "execute_result"
    },
    {
     "name": "stderr",
     "output_type": "stream",
     "text": [
      "  0%|                                                                             | 41/31497 [00:10<2:00:41,  4.34it/s]"
     ]
    },
    {
     "data": {
      "text/plain": [
       "HeteroData(\n",
       "  user={\n",
       "    node_id=[18477],\n",
       "    n_id=[18477],\n",
       "  },\n",
       "  movie={\n",
       "    node_id=[7658],\n",
       "    x=[7658, 20],\n",
       "    n_id=[7658],\n",
       "  },\n",
       "  (user, rates, movie)={\n",
       "    edge_index=[2, 24781],\n",
       "    edge_label=[384],\n",
       "    edge_label_index=[2, 384],\n",
       "    e_id=[24781],\n",
       "    input_id=[128],\n",
       "  },\n",
       "  (movie, rev_rates, user)={\n",
       "    edge_index=[2, 37675],\n",
       "    e_id=[37675],\n",
       "  }\n",
       ")"
      ]
     },
     "execution_count": 60,
     "metadata": {},
     "output_type": "execute_result"
    },
    {
     "name": "stderr",
     "output_type": "stream",
     "text": [
      "  0%|                                                                             | 42/31497 [00:10<1:59:06,  4.40it/s]"
     ]
    },
    {
     "data": {
      "text/plain": [
       "HeteroData(\n",
       "  user={\n",
       "    node_id=[19592],\n",
       "    n_id=[19592],\n",
       "  },\n",
       "  movie={\n",
       "    node_id=[7666],\n",
       "    x=[7666, 20],\n",
       "    n_id=[7666],\n",
       "  },\n",
       "  (user, rates, movie)={\n",
       "    edge_index=[2, 27101],\n",
       "    edge_label=[384],\n",
       "    edge_label_index=[2, 384],\n",
       "    e_id=[27101],\n",
       "    input_id=[128],\n",
       "  },\n",
       "  (movie, rev_rates, user)={\n",
       "    edge_index=[2, 37431],\n",
       "    e_id=[37431],\n",
       "  }\n",
       ")"
      ]
     },
     "execution_count": 60,
     "metadata": {},
     "output_type": "execute_result"
    },
    {
     "name": "stderr",
     "output_type": "stream",
     "text": [
      "  0%|                                                                             | 43/31497 [00:10<1:57:53,  4.45it/s]"
     ]
    },
    {
     "data": {
      "text/plain": [
       "HeteroData(\n",
       "  user={\n",
       "    node_id=[19101],\n",
       "    n_id=[19101],\n",
       "  },\n",
       "  movie={\n",
       "    node_id=[7787],\n",
       "    x=[7787, 20],\n",
       "    n_id=[7787],\n",
       "  },\n",
       "  (user, rates, movie)={\n",
       "    edge_index=[2, 26160],\n",
       "    edge_label=[384],\n",
       "    edge_label_index=[2, 384],\n",
       "    e_id=[26160],\n",
       "    input_id=[128],\n",
       "  },\n",
       "  (movie, rev_rates, user)={\n",
       "    edge_index=[2, 38967],\n",
       "    e_id=[38967],\n",
       "  }\n",
       ")"
      ]
     },
     "execution_count": 60,
     "metadata": {},
     "output_type": "execute_result"
    },
    {
     "name": "stderr",
     "output_type": "stream",
     "text": [
      "  0%|                                                                             | 44/31497 [00:10<1:59:49,  4.38it/s]"
     ]
    },
    {
     "data": {
      "text/plain": [
       "HeteroData(\n",
       "  user={\n",
       "    node_id=[18963],\n",
       "    n_id=[18963],\n",
       "  },\n",
       "  movie={\n",
       "    node_id=[7907],\n",
       "    x=[7907, 20],\n",
       "    n_id=[7907],\n",
       "  },\n",
       "  (user, rates, movie)={\n",
       "    edge_index=[2, 26125],\n",
       "    edge_label=[384],\n",
       "    edge_label_index=[2, 384],\n",
       "    e_id=[26125],\n",
       "    input_id=[128],\n",
       "  },\n",
       "  (movie, rev_rates, user)={\n",
       "    edge_index=[2, 37954],\n",
       "    e_id=[37954],\n",
       "  }\n",
       ")"
      ]
     },
     "execution_count": 60,
     "metadata": {},
     "output_type": "execute_result"
    },
    {
     "name": "stderr",
     "output_type": "stream",
     "text": [
      "  0%|                                                                             | 45/31497 [00:11<1:59:14,  4.40it/s]"
     ]
    },
    {
     "data": {
      "text/plain": [
       "HeteroData(\n",
       "  user={\n",
       "    node_id=[18890],\n",
       "    n_id=[18890],\n",
       "  },\n",
       "  movie={\n",
       "    node_id=[7926],\n",
       "    x=[7926, 20],\n",
       "    n_id=[7926],\n",
       "  },\n",
       "  (user, rates, movie)={\n",
       "    edge_index=[2, 25974],\n",
       "    edge_label=[384],\n",
       "    edge_label_index=[2, 384],\n",
       "    e_id=[25974],\n",
       "    input_id=[128],\n",
       "  },\n",
       "  (movie, rev_rates, user)={\n",
       "    edge_index=[2, 38797],\n",
       "    e_id=[38797],\n",
       "  }\n",
       ")"
      ]
     },
     "execution_count": 60,
     "metadata": {},
     "output_type": "execute_result"
    },
    {
     "name": "stderr",
     "output_type": "stream",
     "text": [
      "  0%|                                                                             | 46/31497 [00:11<1:57:32,  4.46it/s]"
     ]
    },
    {
     "data": {
      "text/plain": [
       "HeteroData(\n",
       "  user={\n",
       "    node_id=[18829],\n",
       "    n_id=[18829],\n",
       "  },\n",
       "  movie={\n",
       "    node_id=[7719],\n",
       "    x=[7719, 20],\n",
       "    n_id=[7719],\n",
       "  },\n",
       "  (user, rates, movie)={\n",
       "    edge_index=[2, 25737],\n",
       "    edge_label=[384],\n",
       "    edge_label_index=[2, 384],\n",
       "    e_id=[25737],\n",
       "    input_id=[128],\n",
       "  },\n",
       "  (movie, rev_rates, user)={\n",
       "    edge_index=[2, 35844],\n",
       "    e_id=[35844],\n",
       "  }\n",
       ")"
      ]
     },
     "execution_count": 60,
     "metadata": {},
     "output_type": "execute_result"
    },
    {
     "name": "stderr",
     "output_type": "stream",
     "text": [
      "  0%|                                                                             | 47/31497 [00:11<1:55:45,  4.53it/s]"
     ]
    },
    {
     "data": {
      "text/plain": [
       "HeteroData(\n",
       "  user={\n",
       "    node_id=[19207],\n",
       "    n_id=[19207],\n",
       "  },\n",
       "  movie={\n",
       "    node_id=[7719],\n",
       "    x=[7719, 20],\n",
       "    n_id=[7719],\n",
       "  },\n",
       "  (user, rates, movie)={\n",
       "    edge_index=[2, 25972],\n",
       "    edge_label=[384],\n",
       "    edge_label_index=[2, 384],\n",
       "    e_id=[25972],\n",
       "    input_id=[128],\n",
       "  },\n",
       "  (movie, rev_rates, user)={\n",
       "    edge_index=[2, 38070],\n",
       "    e_id=[38070],\n",
       "  }\n",
       ")"
      ]
     },
     "execution_count": 60,
     "metadata": {},
     "output_type": "execute_result"
    },
    {
     "name": "stderr",
     "output_type": "stream",
     "text": [
      "  0%|                                                                             | 48/31497 [00:11<2:09:12,  4.06it/s]"
     ]
    },
    {
     "data": {
      "text/plain": [
       "HeteroData(\n",
       "  user={\n",
       "    node_id=[18988],\n",
       "    n_id=[18988],\n",
       "  },\n",
       "  movie={\n",
       "    node_id=[7699],\n",
       "    x=[7699, 20],\n",
       "    n_id=[7699],\n",
       "  },\n",
       "  (user, rates, movie)={\n",
       "    edge_index=[2, 25981],\n",
       "    edge_label=[384],\n",
       "    edge_label_index=[2, 384],\n",
       "    e_id=[25981],\n",
       "    input_id=[128],\n",
       "  },\n",
       "  (movie, rev_rates, user)={\n",
       "    edge_index=[2, 37131],\n",
       "    e_id=[37131],\n",
       "  }\n",
       ")"
      ]
     },
     "execution_count": 60,
     "metadata": {},
     "output_type": "execute_result"
    },
    {
     "name": "stderr",
     "output_type": "stream",
     "text": [
      "  0%|                                                                             | 49/31497 [00:12<2:02:48,  4.27it/s]"
     ]
    },
    {
     "data": {
      "text/plain": [
       "HeteroData(\n",
       "  user={\n",
       "    node_id=[19605],\n",
       "    n_id=[19605],\n",
       "  },\n",
       "  movie={\n",
       "    node_id=[7980],\n",
       "    x=[7980, 20],\n",
       "    n_id=[7980],\n",
       "  },\n",
       "  (user, rates, movie)={\n",
       "    edge_index=[2, 27293],\n",
       "    edge_label=[384],\n",
       "    edge_label_index=[2, 384],\n",
       "    e_id=[27293],\n",
       "    input_id=[128],\n",
       "  },\n",
       "  (movie, rev_rates, user)={\n",
       "    edge_index=[2, 39176],\n",
       "    e_id=[39176],\n",
       "  }\n",
       ")"
      ]
     },
     "execution_count": 60,
     "metadata": {},
     "output_type": "execute_result"
    },
    {
     "name": "stderr",
     "output_type": "stream",
     "text": [
      "  0%|                                                                             | 50/31497 [00:12<2:03:58,  4.23it/s]"
     ]
    },
    {
     "data": {
      "text/plain": [
       "HeteroData(\n",
       "  user={\n",
       "    node_id=[18848],\n",
       "    n_id=[18848],\n",
       "  },\n",
       "  movie={\n",
       "    node_id=[7563],\n",
       "    x=[7563, 20],\n",
       "    n_id=[7563],\n",
       "  },\n",
       "  (user, rates, movie)={\n",
       "    edge_index=[2, 25233],\n",
       "    edge_label=[384],\n",
       "    edge_label_index=[2, 384],\n",
       "    e_id=[25233],\n",
       "    input_id=[128],\n",
       "  },\n",
       "  (movie, rev_rates, user)={\n",
       "    edge_index=[2, 39325],\n",
       "    e_id=[39325],\n",
       "  }\n",
       ")"
      ]
     },
     "execution_count": 60,
     "metadata": {},
     "output_type": "execute_result"
    },
    {
     "name": "stderr",
     "output_type": "stream",
     "text": [
      "  0%|                                                                             | 51/31497 [00:12<2:02:41,  4.27it/s]"
     ]
    },
    {
     "data": {
      "text/plain": [
       "HeteroData(\n",
       "  user={\n",
       "    node_id=[19216],\n",
       "    n_id=[19216],\n",
       "  },\n",
       "  movie={\n",
       "    node_id=[7974],\n",
       "    x=[7974, 20],\n",
       "    n_id=[7974],\n",
       "  },\n",
       "  (user, rates, movie)={\n",
       "    edge_index=[2, 26765],\n",
       "    edge_label=[384],\n",
       "    edge_label_index=[2, 384],\n",
       "    e_id=[26765],\n",
       "    input_id=[128],\n",
       "  },\n",
       "  (movie, rev_rates, user)={\n",
       "    edge_index=[2, 37574],\n",
       "    e_id=[37574],\n",
       "  }\n",
       ")"
      ]
     },
     "execution_count": 60,
     "metadata": {},
     "output_type": "execute_result"
    },
    {
     "name": "stderr",
     "output_type": "stream",
     "text": [
      "  0%|▏                                                                            | 52/31497 [00:12<1:59:49,  4.37it/s]"
     ]
    },
    {
     "data": {
      "text/plain": [
       "HeteroData(\n",
       "  user={\n",
       "    node_id=[18844],\n",
       "    n_id=[18844],\n",
       "  },\n",
       "  movie={\n",
       "    node_id=[7580],\n",
       "    x=[7580, 20],\n",
       "    n_id=[7580],\n",
       "  },\n",
       "  (user, rates, movie)={\n",
       "    edge_index=[2, 25322],\n",
       "    edge_label=[384],\n",
       "    edge_label_index=[2, 384],\n",
       "    e_id=[25322],\n",
       "    input_id=[128],\n",
       "  },\n",
       "  (movie, rev_rates, user)={\n",
       "    edge_index=[2, 36899],\n",
       "    e_id=[36899],\n",
       "  }\n",
       ")"
      ]
     },
     "execution_count": 60,
     "metadata": {},
     "output_type": "execute_result"
    },
    {
     "name": "stderr",
     "output_type": "stream",
     "text": [
      "  0%|▏                                                                            | 53/31497 [00:12<1:57:19,  4.47it/s]"
     ]
    },
    {
     "data": {
      "text/plain": [
       "HeteroData(\n",
       "  user={\n",
       "    node_id=[19361],\n",
       "    n_id=[19361],\n",
       "  },\n",
       "  movie={\n",
       "    node_id=[7858],\n",
       "    x=[7858, 20],\n",
       "    n_id=[7858],\n",
       "  },\n",
       "  (user, rates, movie)={\n",
       "    edge_index=[2, 26460],\n",
       "    edge_label=[384],\n",
       "    edge_label_index=[2, 384],\n",
       "    e_id=[26460],\n",
       "    input_id=[128],\n",
       "  },\n",
       "  (movie, rev_rates, user)={\n",
       "    edge_index=[2, 38304],\n",
       "    e_id=[38304],\n",
       "  }\n",
       ")"
      ]
     },
     "execution_count": 60,
     "metadata": {},
     "output_type": "execute_result"
    },
    {
     "name": "stderr",
     "output_type": "stream",
     "text": [
      "  0%|▏                                                                            | 54/31497 [00:13<1:57:37,  4.46it/s]"
     ]
    },
    {
     "data": {
      "text/plain": [
       "HeteroData(\n",
       "  user={\n",
       "    node_id=[19017],\n",
       "    n_id=[19017],\n",
       "  },\n",
       "  movie={\n",
       "    node_id=[8132],\n",
       "    x=[8132, 20],\n",
       "    n_id=[8132],\n",
       "  },\n",
       "  (user, rates, movie)={\n",
       "    edge_index=[2, 25917],\n",
       "    edge_label=[384],\n",
       "    edge_label_index=[2, 384],\n",
       "    e_id=[25917],\n",
       "    input_id=[128],\n",
       "  },\n",
       "  (movie, rev_rates, user)={\n",
       "    edge_index=[2, 39138],\n",
       "    e_id=[39138],\n",
       "  }\n",
       ")"
      ]
     },
     "execution_count": 60,
     "metadata": {},
     "output_type": "execute_result"
    },
    {
     "name": "stderr",
     "output_type": "stream",
     "text": [
      "  0%|▏                                                                            | 55/31497 [00:13<1:56:11,  4.51it/s]"
     ]
    },
    {
     "data": {
      "text/plain": [
       "HeteroData(\n",
       "  user={\n",
       "    node_id=[19066],\n",
       "    n_id=[19066],\n",
       "  },\n",
       "  movie={\n",
       "    node_id=[8038],\n",
       "    x=[8038, 20],\n",
       "    n_id=[8038],\n",
       "  },\n",
       "  (user, rates, movie)={\n",
       "    edge_index=[2, 26035],\n",
       "    edge_label=[384],\n",
       "    edge_label_index=[2, 384],\n",
       "    e_id=[26035],\n",
       "    input_id=[128],\n",
       "  },\n",
       "  (movie, rev_rates, user)={\n",
       "    edge_index=[2, 40441],\n",
       "    e_id=[40441],\n",
       "  }\n",
       ")"
      ]
     },
     "execution_count": 60,
     "metadata": {},
     "output_type": "execute_result"
    },
    {
     "name": "stderr",
     "output_type": "stream",
     "text": [
      "  0%|▏                                                                            | 56/31497 [00:13<1:55:33,  4.53it/s]"
     ]
    },
    {
     "data": {
      "text/plain": [
       "HeteroData(\n",
       "  user={\n",
       "    node_id=[19117],\n",
       "    n_id=[19117],\n",
       "  },\n",
       "  movie={\n",
       "    node_id=[7899],\n",
       "    x=[7899, 20],\n",
       "    n_id=[7899],\n",
       "  },\n",
       "  (user, rates, movie)={\n",
       "    edge_index=[2, 26311],\n",
       "    edge_label=[384],\n",
       "    edge_label_index=[2, 384],\n",
       "    e_id=[26311],\n",
       "    input_id=[128],\n",
       "  },\n",
       "  (movie, rev_rates, user)={\n",
       "    edge_index=[2, 38312],\n",
       "    e_id=[38312],\n",
       "  }\n",
       ")"
      ]
     },
     "execution_count": 60,
     "metadata": {},
     "output_type": "execute_result"
    },
    {
     "name": "stderr",
     "output_type": "stream",
     "text": [
      "  0%|▏                                                                            | 57/31497 [00:13<2:06:00,  4.16it/s]"
     ]
    },
    {
     "data": {
      "text/plain": [
       "HeteroData(\n",
       "  user={\n",
       "    node_id=[19360],\n",
       "    n_id=[19360],\n",
       "  },\n",
       "  movie={\n",
       "    node_id=[7855],\n",
       "    x=[7855, 20],\n",
       "    n_id=[7855],\n",
       "  },\n",
       "  (user, rates, movie)={\n",
       "    edge_index=[2, 26685],\n",
       "    edge_label=[384],\n",
       "    edge_label_index=[2, 384],\n",
       "    e_id=[26685],\n",
       "    input_id=[128],\n",
       "  },\n",
       "  (movie, rev_rates, user)={\n",
       "    edge_index=[2, 37668],\n",
       "    e_id=[37668],\n",
       "  }\n",
       ")"
      ]
     },
     "execution_count": 60,
     "metadata": {},
     "output_type": "execute_result"
    },
    {
     "name": "stderr",
     "output_type": "stream",
     "text": [
      "  0%|▏                                                                            | 58/31497 [00:14<1:59:55,  4.37it/s]"
     ]
    },
    {
     "data": {
      "text/plain": [
       "HeteroData(\n",
       "  user={\n",
       "    node_id=[18904],\n",
       "    n_id=[18904],\n",
       "  },\n",
       "  movie={\n",
       "    node_id=[7684],\n",
       "    x=[7684, 20],\n",
       "    n_id=[7684],\n",
       "  },\n",
       "  (user, rates, movie)={\n",
       "    edge_index=[2, 25673],\n",
       "    edge_label=[384],\n",
       "    edge_label_index=[2, 384],\n",
       "    e_id=[25673],\n",
       "    input_id=[128],\n",
       "  },\n",
       "  (movie, rev_rates, user)={\n",
       "    edge_index=[2, 38068],\n",
       "    e_id=[38068],\n",
       "  }\n",
       ")"
      ]
     },
     "execution_count": 60,
     "metadata": {},
     "output_type": "execute_result"
    },
    {
     "name": "stderr",
     "output_type": "stream",
     "text": [
      "  0%|▏                                                                            | 59/31497 [00:14<1:59:03,  4.40it/s]"
     ]
    },
    {
     "data": {
      "text/plain": [
       "HeteroData(\n",
       "  user={\n",
       "    node_id=[18901],\n",
       "    n_id=[18901],\n",
       "  },\n",
       "  movie={\n",
       "    node_id=[7815],\n",
       "    x=[7815, 20],\n",
       "    n_id=[7815],\n",
       "  },\n",
       "  (user, rates, movie)={\n",
       "    edge_index=[2, 25602],\n",
       "    edge_label=[384],\n",
       "    edge_label_index=[2, 384],\n",
       "    e_id=[25602],\n",
       "    input_id=[128],\n",
       "  },\n",
       "  (movie, rev_rates, user)={\n",
       "    edge_index=[2, 39613],\n",
       "    e_id=[39613],\n",
       "  }\n",
       ")"
      ]
     },
     "execution_count": 60,
     "metadata": {},
     "output_type": "execute_result"
    },
    {
     "name": "stderr",
     "output_type": "stream",
     "text": [
      "  0%|▏                                                                            | 60/31497 [00:14<1:59:57,  4.37it/s]"
     ]
    },
    {
     "data": {
      "text/plain": [
       "HeteroData(\n",
       "  user={\n",
       "    node_id=[19352],\n",
       "    n_id=[19352],\n",
       "  },\n",
       "  movie={\n",
       "    node_id=[7779],\n",
       "    x=[7779, 20],\n",
       "    n_id=[7779],\n",
       "  },\n",
       "  (user, rates, movie)={\n",
       "    edge_index=[2, 26544],\n",
       "    edge_label=[384],\n",
       "    edge_label_index=[2, 384],\n",
       "    e_id=[26544],\n",
       "    input_id=[128],\n",
       "  },\n",
       "  (movie, rev_rates, user)={\n",
       "    edge_index=[2, 38167],\n",
       "    e_id=[38167],\n",
       "  }\n",
       ")"
      ]
     },
     "execution_count": 60,
     "metadata": {},
     "output_type": "execute_result"
    },
    {
     "name": "stderr",
     "output_type": "stream",
     "text": [
      "  0%|▏                                                                            | 61/31497 [00:14<1:59:48,  4.37it/s]"
     ]
    },
    {
     "data": {
      "text/plain": [
       "HeteroData(\n",
       "  user={\n",
       "    node_id=[19058],\n",
       "    n_id=[19058],\n",
       "  },\n",
       "  movie={\n",
       "    node_id=[7965],\n",
       "    x=[7965, 20],\n",
       "    n_id=[7965],\n",
       "  },\n",
       "  (user, rates, movie)={\n",
       "    edge_index=[2, 25901],\n",
       "    edge_label=[384],\n",
       "    edge_label_index=[2, 384],\n",
       "    e_id=[25901],\n",
       "    input_id=[128],\n",
       "  },\n",
       "  (movie, rev_rates, user)={\n",
       "    edge_index=[2, 38914],\n",
       "    e_id=[38914],\n",
       "  }\n",
       ")"
      ]
     },
     "execution_count": 60,
     "metadata": {},
     "output_type": "execute_result"
    },
    {
     "name": "stderr",
     "output_type": "stream",
     "text": [
      "  0%|▏                                                                            | 62/31497 [00:14<1:59:03,  4.40it/s]"
     ]
    },
    {
     "data": {
      "text/plain": [
       "HeteroData(\n",
       "  user={\n",
       "    node_id=[18942],\n",
       "    n_id=[18942],\n",
       "  },\n",
       "  movie={\n",
       "    node_id=[7584],\n",
       "    x=[7584, 20],\n",
       "    n_id=[7584],\n",
       "  },\n",
       "  (user, rates, movie)={\n",
       "    edge_index=[2, 25406],\n",
       "    edge_label=[384],\n",
       "    edge_label_index=[2, 384],\n",
       "    e_id=[25406],\n",
       "    input_id=[128],\n",
       "  },\n",
       "  (movie, rev_rates, user)={\n",
       "    edge_index=[2, 37288],\n",
       "    e_id=[37288],\n",
       "  }\n",
       ")"
      ]
     },
     "execution_count": 60,
     "metadata": {},
     "output_type": "execute_result"
    },
    {
     "name": "stderr",
     "output_type": "stream",
     "text": [
      "  0%|▏                                                                            | 63/31497 [00:15<1:57:23,  4.46it/s]"
     ]
    },
    {
     "data": {
      "text/plain": [
       "HeteroData(\n",
       "  user={\n",
       "    node_id=[18884],\n",
       "    n_id=[18884],\n",
       "  },\n",
       "  movie={\n",
       "    node_id=[7705],\n",
       "    x=[7705, 20],\n",
       "    n_id=[7705],\n",
       "  },\n",
       "  (user, rates, movie)={\n",
       "    edge_index=[2, 25358],\n",
       "    edge_label=[384],\n",
       "    edge_label_index=[2, 384],\n",
       "    e_id=[25358],\n",
       "    input_id=[128],\n",
       "  },\n",
       "  (movie, rev_rates, user)={\n",
       "    edge_index=[2, 37573],\n",
       "    e_id=[37573],\n",
       "  }\n",
       ")"
      ]
     },
     "execution_count": 60,
     "metadata": {},
     "output_type": "execute_result"
    },
    {
     "name": "stderr",
     "output_type": "stream",
     "text": [
      "  0%|▏                                                                            | 64/31497 [00:15<1:56:08,  4.51it/s]"
     ]
    },
    {
     "data": {
      "text/plain": [
       "HeteroData(\n",
       "  user={\n",
       "    node_id=[19291],\n",
       "    n_id=[19291],\n",
       "  },\n",
       "  movie={\n",
       "    node_id=[7526],\n",
       "    x=[7526, 20],\n",
       "    n_id=[7526],\n",
       "  },\n",
       "  (user, rates, movie)={\n",
       "    edge_index=[2, 26039],\n",
       "    edge_label=[384],\n",
       "    edge_label_index=[2, 384],\n",
       "    e_id=[26039],\n",
       "    input_id=[128],\n",
       "  },\n",
       "  (movie, rev_rates, user)={\n",
       "    edge_index=[2, 38158],\n",
       "    e_id=[38158],\n",
       "  }\n",
       ")"
      ]
     },
     "execution_count": 60,
     "metadata": {},
     "output_type": "execute_result"
    },
    {
     "name": "stderr",
     "output_type": "stream",
     "text": [
      "  0%|▏                                                                            | 65/31497 [00:15<1:56:05,  4.51it/s]"
     ]
    },
    {
     "data": {
      "text/plain": [
       "HeteroData(\n",
       "  user={\n",
       "    node_id=[19158],\n",
       "    n_id=[19158],\n",
       "  },\n",
       "  movie={\n",
       "    node_id=[7560],\n",
       "    x=[7560, 20],\n",
       "    n_id=[7560],\n",
       "  },\n",
       "  (user, rates, movie)={\n",
       "    edge_index=[2, 26231],\n",
       "    edge_label=[384],\n",
       "    edge_label_index=[2, 384],\n",
       "    e_id=[26231],\n",
       "    input_id=[128],\n",
       "  },\n",
       "  (movie, rev_rates, user)={\n",
       "    edge_index=[2, 36908],\n",
       "    e_id=[36908],\n",
       "  }\n",
       ")"
      ]
     },
     "execution_count": 60,
     "metadata": {},
     "output_type": "execute_result"
    },
    {
     "name": "stderr",
     "output_type": "stream",
     "text": [
      "  0%|▏                                                                            | 66/31497 [00:15<2:10:00,  4.03it/s]"
     ]
    },
    {
     "data": {
      "text/plain": [
       "HeteroData(\n",
       "  user={\n",
       "    node_id=[19556],\n",
       "    n_id=[19556],\n",
       "  },\n",
       "  movie={\n",
       "    node_id=[8000],\n",
       "    x=[8000, 20],\n",
       "    n_id=[8000],\n",
       "  },\n",
       "  (user, rates, movie)={\n",
       "    edge_index=[2, 26943],\n",
       "    edge_label=[384],\n",
       "    edge_label_index=[2, 384],\n",
       "    e_id=[26943],\n",
       "    input_id=[128],\n",
       "  },\n",
       "  (movie, rev_rates, user)={\n",
       "    edge_index=[2, 40512],\n",
       "    e_id=[40512],\n",
       "  }\n",
       ")"
      ]
     },
     "execution_count": 60,
     "metadata": {},
     "output_type": "execute_result"
    },
    {
     "name": "stderr",
     "output_type": "stream",
     "text": [
      "  0%|▏                                                                            | 67/31497 [00:16<1:56:58,  4.48it/s]"
     ]
    },
    {
     "data": {
      "text/plain": [
       "HeteroData(\n",
       "  user={\n",
       "    node_id=[18772],\n",
       "    n_id=[18772],\n",
       "  },\n",
       "  movie={\n",
       "    node_id=[7655],\n",
       "    x=[7655, 20],\n",
       "    n_id=[7655],\n",
       "  },\n",
       "  (user, rates, movie)={\n",
       "    edge_index=[2, 25006],\n",
       "    edge_label=[384],\n",
       "    edge_label_index=[2, 384],\n",
       "    e_id=[25006],\n",
       "    input_id=[128],\n",
       "  },\n",
       "  (movie, rev_rates, user)={\n",
       "    edge_index=[2, 37623],\n",
       "    e_id=[37623],\n",
       "  }\n",
       ")"
      ]
     },
     "execution_count": 60,
     "metadata": {},
     "output_type": "execute_result"
    },
    {
     "name": "stderr",
     "output_type": "stream",
     "text": [
      "  0%|▏                                                                            | 68/31497 [00:16<1:50:43,  4.73it/s]"
     ]
    },
    {
     "data": {
      "text/plain": [
       "HeteroData(\n",
       "  user={\n",
       "    node_id=[19265],\n",
       "    n_id=[19265],\n",
       "  },\n",
       "  movie={\n",
       "    node_id=[7901],\n",
       "    x=[7901, 20],\n",
       "    n_id=[7901],\n",
       "  },\n",
       "  (user, rates, movie)={\n",
       "    edge_index=[2, 26797],\n",
       "    edge_label=[384],\n",
       "    edge_label_index=[2, 384],\n",
       "    e_id=[26797],\n",
       "    input_id=[128],\n",
       "  },\n",
       "  (movie, rev_rates, user)={\n",
       "    edge_index=[2, 39147],\n",
       "    e_id=[39147],\n",
       "  }\n",
       ")"
      ]
     },
     "execution_count": 60,
     "metadata": {},
     "output_type": "execute_result"
    },
    {
     "name": "stderr",
     "output_type": "stream",
     "text": [
      "  0%|▏                                                                            | 69/31497 [00:16<1:48:54,  4.81it/s]"
     ]
    },
    {
     "data": {
      "text/plain": [
       "HeteroData(\n",
       "  user={\n",
       "    node_id=[18701],\n",
       "    n_id=[18701],\n",
       "  },\n",
       "  movie={\n",
       "    node_id=[7910],\n",
       "    x=[7910, 20],\n",
       "    n_id=[7910],\n",
       "  },\n",
       "  (user, rates, movie)={\n",
       "    edge_index=[2, 25415],\n",
       "    edge_label=[384],\n",
       "    edge_label_index=[2, 384],\n",
       "    e_id=[25415],\n",
       "    input_id=[128],\n",
       "  },\n",
       "  (movie, rev_rates, user)={\n",
       "    edge_index=[2, 39796],\n",
       "    e_id=[39796],\n",
       "  }\n",
       ")"
      ]
     },
     "execution_count": 60,
     "metadata": {},
     "output_type": "execute_result"
    },
    {
     "name": "stderr",
     "output_type": "stream",
     "text": [
      "  0%|▏                                                                            | 70/31497 [00:16<1:47:57,  4.85it/s]"
     ]
    },
    {
     "data": {
      "text/plain": [
       "HeteroData(\n",
       "  user={\n",
       "    node_id=[18983],\n",
       "    n_id=[18983],\n",
       "  },\n",
       "  movie={\n",
       "    node_id=[7881],\n",
       "    x=[7881, 20],\n",
       "    n_id=[7881],\n",
       "  },\n",
       "  (user, rates, movie)={\n",
       "    edge_index=[2, 25847],\n",
       "    edge_label=[384],\n",
       "    edge_label_index=[2, 384],\n",
       "    e_id=[25847],\n",
       "    input_id=[128],\n",
       "  },\n",
       "  (movie, rev_rates, user)={\n",
       "    edge_index=[2, 40520],\n",
       "    e_id=[40520],\n",
       "  }\n",
       ")"
      ]
     },
     "execution_count": 60,
     "metadata": {},
     "output_type": "execute_result"
    },
    {
     "name": "stderr",
     "output_type": "stream",
     "text": [
      "  0%|▏                                                                            | 71/31497 [00:16<1:45:05,  4.98it/s]"
     ]
    },
    {
     "data": {
      "text/plain": [
       "HeteroData(\n",
       "  user={\n",
       "    node_id=[18664],\n",
       "    n_id=[18664],\n",
       "  },\n",
       "  movie={\n",
       "    node_id=[7709],\n",
       "    x=[7709, 20],\n",
       "    n_id=[7709],\n",
       "  },\n",
       "  (user, rates, movie)={\n",
       "    edge_index=[2, 25549],\n",
       "    edge_label=[384],\n",
       "    edge_label_index=[2, 384],\n",
       "    e_id=[25549],\n",
       "    input_id=[128],\n",
       "  },\n",
       "  (movie, rev_rates, user)={\n",
       "    edge_index=[2, 36716],\n",
       "    e_id=[36716],\n",
       "  }\n",
       ")"
      ]
     },
     "execution_count": 60,
     "metadata": {},
     "output_type": "execute_result"
    },
    {
     "name": "stderr",
     "output_type": "stream",
     "text": [
      "  0%|▏                                                                            | 72/31497 [00:17<1:42:58,  5.09it/s]"
     ]
    },
    {
     "data": {
      "text/plain": [
       "HeteroData(\n",
       "  user={\n",
       "    node_id=[19005],\n",
       "    n_id=[19005],\n",
       "  },\n",
       "  movie={\n",
       "    node_id=[7877],\n",
       "    x=[7877, 20],\n",
       "    n_id=[7877],\n",
       "  },\n",
       "  (user, rates, movie)={\n",
       "    edge_index=[2, 26063],\n",
       "    edge_label=[384],\n",
       "    edge_label_index=[2, 384],\n",
       "    e_id=[26063],\n",
       "    input_id=[128],\n",
       "  },\n",
       "  (movie, rev_rates, user)={\n",
       "    edge_index=[2, 38308],\n",
       "    e_id=[38308],\n",
       "  }\n",
       ")"
      ]
     },
     "execution_count": 60,
     "metadata": {},
     "output_type": "execute_result"
    },
    {
     "name": "stderr",
     "output_type": "stream",
     "text": [
      "  0%|▏                                                                            | 73/31497 [00:17<1:39:34,  5.26it/s]"
     ]
    },
    {
     "data": {
      "text/plain": [
       "HeteroData(\n",
       "  user={\n",
       "    node_id=[19054],\n",
       "    n_id=[19054],\n",
       "  },\n",
       "  movie={\n",
       "    node_id=[7782],\n",
       "    x=[7782, 20],\n",
       "    n_id=[7782],\n",
       "  },\n",
       "  (user, rates, movie)={\n",
       "    edge_index=[2, 26100],\n",
       "    edge_label=[384],\n",
       "    edge_label_index=[2, 384],\n",
       "    e_id=[26100],\n",
       "    input_id=[128],\n",
       "  },\n",
       "  (movie, rev_rates, user)={\n",
       "    edge_index=[2, 37291],\n",
       "    e_id=[37291],\n",
       "  }\n",
       ")"
      ]
     },
     "execution_count": 60,
     "metadata": {},
     "output_type": "execute_result"
    },
    {
     "name": "stderr",
     "output_type": "stream",
     "text": [
      "  0%|▏                                                                            | 74/31497 [00:17<1:39:47,  5.25it/s]"
     ]
    },
    {
     "data": {
      "text/plain": [
       "HeteroData(\n",
       "  user={\n",
       "    node_id=[18365],\n",
       "    n_id=[18365],\n",
       "  },\n",
       "  movie={\n",
       "    node_id=[7931],\n",
       "    x=[7931, 20],\n",
       "    n_id=[7931],\n",
       "  },\n",
       "  (user, rates, movie)={\n",
       "    edge_index=[2, 24835],\n",
       "    edge_label=[384],\n",
       "    edge_label_index=[2, 384],\n",
       "    e_id=[24835],\n",
       "    input_id=[128],\n",
       "  },\n",
       "  (movie, rev_rates, user)={\n",
       "    edge_index=[2, 39240],\n",
       "    e_id=[39240],\n",
       "  }\n",
       ")"
      ]
     },
     "execution_count": 60,
     "metadata": {},
     "output_type": "execute_result"
    },
    {
     "name": "stderr",
     "output_type": "stream",
     "text": [
      "  0%|▏                                                                            | 75/31497 [00:17<1:39:39,  5.26it/s]"
     ]
    },
    {
     "data": {
      "text/plain": [
       "HeteroData(\n",
       "  user={\n",
       "    node_id=[19551],\n",
       "    n_id=[19551],\n",
       "  },\n",
       "  movie={\n",
       "    node_id=[7785],\n",
       "    x=[7785, 20],\n",
       "    n_id=[7785],\n",
       "  },\n",
       "  (user, rates, movie)={\n",
       "    edge_index=[2, 26942],\n",
       "    edge_label=[384],\n",
       "    edge_label_index=[2, 384],\n",
       "    e_id=[26942],\n",
       "    input_id=[128],\n",
       "  },\n",
       "  (movie, rev_rates, user)={\n",
       "    edge_index=[2, 39034],\n",
       "    e_id=[39034],\n",
       "  }\n",
       ")"
      ]
     },
     "execution_count": 60,
     "metadata": {},
     "output_type": "execute_result"
    },
    {
     "name": "stderr",
     "output_type": "stream",
     "text": [
      "  0%|▏                                                                            | 76/31497 [00:17<1:46:31,  4.92it/s]"
     ]
    },
    {
     "data": {
      "text/plain": [
       "HeteroData(\n",
       "  user={\n",
       "    node_id=[19604],\n",
       "    n_id=[19604],\n",
       "  },\n",
       "  movie={\n",
       "    node_id=[7943],\n",
       "    x=[7943, 20],\n",
       "    n_id=[7943],\n",
       "  },\n",
       "  (user, rates, movie)={\n",
       "    edge_index=[2, 27370],\n",
       "    edge_label=[384],\n",
       "    edge_label_index=[2, 384],\n",
       "    e_id=[27370],\n",
       "    input_id=[128],\n",
       "  },\n",
       "  (movie, rev_rates, user)={\n",
       "    edge_index=[2, 38318],\n",
       "    e_id=[38318],\n",
       "  }\n",
       ")"
      ]
     },
     "execution_count": 60,
     "metadata": {},
     "output_type": "execute_result"
    },
    {
     "name": "stderr",
     "output_type": "stream",
     "text": [
      "  0%|▏                                                                            | 77/31497 [00:18<1:50:11,  4.75it/s]"
     ]
    },
    {
     "data": {
      "text/plain": [
       "HeteroData(\n",
       "  user={\n",
       "    node_id=[18750],\n",
       "    n_id=[18750],\n",
       "  },\n",
       "  movie={\n",
       "    node_id=[7821],\n",
       "    x=[7821, 20],\n",
       "    n_id=[7821],\n",
       "  },\n",
       "  (user, rates, movie)={\n",
       "    edge_index=[2, 25214],\n",
       "    edge_label=[384],\n",
       "    edge_label_index=[2, 384],\n",
       "    e_id=[25214],\n",
       "    input_id=[128],\n",
       "  },\n",
       "  (movie, rev_rates, user)={\n",
       "    edge_index=[2, 39868],\n",
       "    e_id=[39868],\n",
       "  }\n",
       ")"
      ]
     },
     "execution_count": 60,
     "metadata": {},
     "output_type": "execute_result"
    },
    {
     "name": "stderr",
     "output_type": "stream",
     "text": [
      "  0%|▏                                                                            | 78/31497 [00:18<1:53:32,  4.61it/s]"
     ]
    },
    {
     "data": {
      "text/plain": [
       "HeteroData(\n",
       "  user={\n",
       "    node_id=[18912],\n",
       "    n_id=[18912],\n",
       "  },\n",
       "  movie={\n",
       "    node_id=[7770],\n",
       "    x=[7770, 20],\n",
       "    n_id=[7770],\n",
       "  },\n",
       "  (user, rates, movie)={\n",
       "    edge_index=[2, 25515],\n",
       "    edge_label=[384],\n",
       "    edge_label_index=[2, 384],\n",
       "    e_id=[25515],\n",
       "    input_id=[128],\n",
       "  },\n",
       "  (movie, rev_rates, user)={\n",
       "    edge_index=[2, 38580],\n",
       "    e_id=[38580],\n",
       "  }\n",
       ")"
      ]
     },
     "execution_count": 60,
     "metadata": {},
     "output_type": "execute_result"
    },
    {
     "name": "stderr",
     "output_type": "stream",
     "text": [
      "  0%|▏                                                                            | 79/31497 [00:18<1:54:31,  4.57it/s]"
     ]
    },
    {
     "data": {
      "text/plain": [
       "HeteroData(\n",
       "  user={\n",
       "    node_id=[19098],\n",
       "    n_id=[19098],\n",
       "  },\n",
       "  movie={\n",
       "    node_id=[7526],\n",
       "    x=[7526, 20],\n",
       "    n_id=[7526],\n",
       "  },\n",
       "  (user, rates, movie)={\n",
       "    edge_index=[2, 25907],\n",
       "    edge_label=[384],\n",
       "    edge_label_index=[2, 384],\n",
       "    e_id=[25907],\n",
       "    input_id=[128],\n",
       "  },\n",
       "  (movie, rev_rates, user)={\n",
       "    edge_index=[2, 37934],\n",
       "    e_id=[37934],\n",
       "  }\n",
       ")"
      ]
     },
     "execution_count": 60,
     "metadata": {},
     "output_type": "execute_result"
    },
    {
     "name": "stderr",
     "output_type": "stream",
     "text": [
      "  0%|▏                                                                            | 80/31497 [00:18<1:55:33,  4.53it/s]"
     ]
    },
    {
     "data": {
      "text/plain": [
       "HeteroData(\n",
       "  user={\n",
       "    node_id=[18575],\n",
       "    n_id=[18575],\n",
       "  },\n",
       "  movie={\n",
       "    node_id=[7655],\n",
       "    x=[7655, 20],\n",
       "    n_id=[7655],\n",
       "  },\n",
       "  (user, rates, movie)={\n",
       "    edge_index=[2, 24758],\n",
       "    edge_label=[384],\n",
       "    edge_label_index=[2, 384],\n",
       "    e_id=[24758],\n",
       "    input_id=[128],\n",
       "  },\n",
       "  (movie, rev_rates, user)={\n",
       "    edge_index=[2, 38826],\n",
       "    e_id=[38826],\n",
       "  }\n",
       ")"
      ]
     },
     "execution_count": 60,
     "metadata": {},
     "output_type": "execute_result"
    },
    {
     "name": "stderr",
     "output_type": "stream",
     "text": [
      "  0%|▏                                                                            | 81/31497 [00:18<1:56:06,  4.51it/s]"
     ]
    },
    {
     "data": {
      "text/plain": [
       "HeteroData(\n",
       "  user={\n",
       "    node_id=[19103],\n",
       "    n_id=[19103],\n",
       "  },\n",
       "  movie={\n",
       "    node_id=[7597],\n",
       "    x=[7597, 20],\n",
       "    n_id=[7597],\n",
       "  },\n",
       "  (user, rates, movie)={\n",
       "    edge_index=[2, 25978],\n",
       "    edge_label=[384],\n",
       "    edge_label_index=[2, 384],\n",
       "    e_id=[25978],\n",
       "    input_id=[128],\n",
       "  },\n",
       "  (movie, rev_rates, user)={\n",
       "    edge_index=[2, 37803],\n",
       "    e_id=[37803],\n",
       "  }\n",
       ")"
      ]
     },
     "execution_count": 60,
     "metadata": {},
     "output_type": "execute_result"
    },
    {
     "name": "stderr",
     "output_type": "stream",
     "text": [
      "  0%|▏                                                                            | 82/31497 [00:19<1:54:51,  4.56it/s]"
     ]
    },
    {
     "data": {
      "text/plain": [
       "HeteroData(\n",
       "  user={\n",
       "    node_id=[18732],\n",
       "    n_id=[18732],\n",
       "  },\n",
       "  movie={\n",
       "    node_id=[7804],\n",
       "    x=[7804, 20],\n",
       "    n_id=[7804],\n",
       "  },\n",
       "  (user, rates, movie)={\n",
       "    edge_index=[2, 25121],\n",
       "    edge_label=[384],\n",
       "    edge_label_index=[2, 384],\n",
       "    e_id=[25121],\n",
       "    input_id=[128],\n",
       "  },\n",
       "  (movie, rev_rates, user)={\n",
       "    edge_index=[2, 38328],\n",
       "    e_id=[38328],\n",
       "  }\n",
       ")"
      ]
     },
     "execution_count": 60,
     "metadata": {},
     "output_type": "execute_result"
    },
    {
     "name": "stderr",
     "output_type": "stream",
     "text": [
      "  0%|▏                                                                            | 83/31497 [00:19<1:53:30,  4.61it/s]"
     ]
    },
    {
     "data": {
      "text/plain": [
       "HeteroData(\n",
       "  user={\n",
       "    node_id=[19082],\n",
       "    n_id=[19082],\n",
       "  },\n",
       "  movie={\n",
       "    node_id=[7599],\n",
       "    x=[7599, 20],\n",
       "    n_id=[7599],\n",
       "  },\n",
       "  (user, rates, movie)={\n",
       "    edge_index=[2, 25652],\n",
       "    edge_label=[384],\n",
       "    edge_label_index=[2, 384],\n",
       "    e_id=[25652],\n",
       "    input_id=[128],\n",
       "  },\n",
       "  (movie, rev_rates, user)={\n",
       "    edge_index=[2, 38535],\n",
       "    e_id=[38535],\n",
       "  }\n",
       ")"
      ]
     },
     "execution_count": 60,
     "metadata": {},
     "output_type": "execute_result"
    },
    {
     "name": "stderr",
     "output_type": "stream",
     "text": [
      "  0%|▏                                                                            | 84/31497 [00:19<1:54:57,  4.55it/s]"
     ]
    },
    {
     "data": {
      "text/plain": [
       "HeteroData(\n",
       "  user={\n",
       "    node_id=[18894],\n",
       "    n_id=[18894],\n",
       "  },\n",
       "  movie={\n",
       "    node_id=[7685],\n",
       "    x=[7685, 20],\n",
       "    n_id=[7685],\n",
       "  },\n",
       "  (user, rates, movie)={\n",
       "    edge_index=[2, 25811],\n",
       "    edge_label=[384],\n",
       "    edge_label_index=[2, 384],\n",
       "    e_id=[25811],\n",
       "    input_id=[128],\n",
       "  },\n",
       "  (movie, rev_rates, user)={\n",
       "    edge_index=[2, 38348],\n",
       "    e_id=[38348],\n",
       "  }\n",
       ")"
      ]
     },
     "execution_count": 60,
     "metadata": {},
     "output_type": "execute_result"
    },
    {
     "name": "stderr",
     "output_type": "stream",
     "text": [
      "  0%|▏                                                                            | 85/31497 [00:19<1:54:08,  4.59it/s]"
     ]
    },
    {
     "data": {
      "text/plain": [
       "HeteroData(\n",
       "  user={\n",
       "    node_id=[19169],\n",
       "    n_id=[19169],\n",
       "  },\n",
       "  movie={\n",
       "    node_id=[8051],\n",
       "    x=[8051, 20],\n",
       "    n_id=[8051],\n",
       "  },\n",
       "  (user, rates, movie)={\n",
       "    edge_index=[2, 26303],\n",
       "    edge_label=[384],\n",
       "    edge_label_index=[2, 384],\n",
       "    e_id=[26303],\n",
       "    input_id=[128],\n",
       "  },\n",
       "  (movie, rev_rates, user)={\n",
       "    edge_index=[2, 37951],\n",
       "    e_id=[37951],\n",
       "  }\n",
       ")"
      ]
     },
     "execution_count": 60,
     "metadata": {},
     "output_type": "execute_result"
    },
    {
     "name": "stderr",
     "output_type": "stream",
     "text": [
      "  0%|▏                                                                            | 86/31497 [00:20<1:52:57,  4.63it/s]"
     ]
    },
    {
     "data": {
      "text/plain": [
       "HeteroData(\n",
       "  user={\n",
       "    node_id=[19326],\n",
       "    n_id=[19326],\n",
       "  },\n",
       "  movie={\n",
       "    node_id=[7713],\n",
       "    x=[7713, 20],\n",
       "    n_id=[7713],\n",
       "  },\n",
       "  (user, rates, movie)={\n",
       "    edge_index=[2, 26310],\n",
       "    edge_label=[384],\n",
       "    edge_label_index=[2, 384],\n",
       "    e_id=[26310],\n",
       "    input_id=[128],\n",
       "  },\n",
       "  (movie, rev_rates, user)={\n",
       "    edge_index=[2, 37596],\n",
       "    e_id=[37596],\n",
       "  }\n",
       ")"
      ]
     },
     "execution_count": 60,
     "metadata": {},
     "output_type": "execute_result"
    },
    {
     "name": "stderr",
     "output_type": "stream",
     "text": [
      "  0%|▏                                                                            | 87/31497 [00:20<1:58:18,  4.42it/s]"
     ]
    },
    {
     "data": {
      "text/plain": [
       "HeteroData(\n",
       "  user={\n",
       "    node_id=[19246],\n",
       "    n_id=[19246],\n",
       "  },\n",
       "  movie={\n",
       "    node_id=[7513],\n",
       "    x=[7513, 20],\n",
       "    n_id=[7513],\n",
       "  },\n",
       "  (user, rates, movie)={\n",
       "    edge_index=[2, 26329],\n",
       "    edge_label=[384],\n",
       "    edge_label_index=[2, 384],\n",
       "    e_id=[26329],\n",
       "    input_id=[128],\n",
       "  },\n",
       "  (movie, rev_rates, user)={\n",
       "    edge_index=[2, 36653],\n",
       "    e_id=[36653],\n",
       "  }\n",
       ")"
      ]
     },
     "execution_count": 60,
     "metadata": {},
     "output_type": "execute_result"
    },
    {
     "name": "stderr",
     "output_type": "stream",
     "text": [
      "  0%|▏                                                                            | 88/31497 [00:20<1:57:09,  4.47it/s]"
     ]
    },
    {
     "data": {
      "text/plain": [
       "HeteroData(\n",
       "  user={\n",
       "    node_id=[19187],\n",
       "    n_id=[19187],\n",
       "  },\n",
       "  movie={\n",
       "    node_id=[7807],\n",
       "    x=[7807, 20],\n",
       "    n_id=[7807],\n",
       "  },\n",
       "  (user, rates, movie)={\n",
       "    edge_index=[2, 26238],\n",
       "    edge_label=[384],\n",
       "    edge_label_index=[2, 384],\n",
       "    e_id=[26238],\n",
       "    input_id=[128],\n",
       "  },\n",
       "  (movie, rev_rates, user)={\n",
       "    edge_index=[2, 38577],\n",
       "    e_id=[38577],\n",
       "  }\n",
       ")"
      ]
     },
     "execution_count": 60,
     "metadata": {},
     "output_type": "execute_result"
    },
    {
     "name": "stderr",
     "output_type": "stream",
     "text": [
      "  0%|▏                                                                            | 89/31497 [00:20<1:57:52,  4.44it/s]"
     ]
    },
    {
     "data": {
      "text/plain": [
       "HeteroData(\n",
       "  user={\n",
       "    node_id=[18730],\n",
       "    n_id=[18730],\n",
       "  },\n",
       "  movie={\n",
       "    node_id=[7804],\n",
       "    x=[7804, 20],\n",
       "    n_id=[7804],\n",
       "  },\n",
       "  (user, rates, movie)={\n",
       "    edge_index=[2, 25487],\n",
       "    edge_label=[384],\n",
       "    edge_label_index=[2, 384],\n",
       "    e_id=[25487],\n",
       "    input_id=[128],\n",
       "  },\n",
       "  (movie, rev_rates, user)={\n",
       "    edge_index=[2, 38459],\n",
       "    e_id=[38459],\n",
       "  }\n",
       ")"
      ]
     },
     "execution_count": 60,
     "metadata": {},
     "output_type": "execute_result"
    },
    {
     "name": "stderr",
     "output_type": "stream",
     "text": [
      "  0%|▏                                                                            | 90/31497 [00:20<1:57:17,  4.46it/s]"
     ]
    },
    {
     "data": {
      "text/plain": [
       "HeteroData(\n",
       "  user={\n",
       "    node_id=[19023],\n",
       "    n_id=[19023],\n",
       "  },\n",
       "  movie={\n",
       "    node_id=[7885],\n",
       "    x=[7885, 20],\n",
       "    n_id=[7885],\n",
       "  },\n",
       "  (user, rates, movie)={\n",
       "    edge_index=[2, 25778],\n",
       "    edge_label=[384],\n",
       "    edge_label_index=[2, 384],\n",
       "    e_id=[25778],\n",
       "    input_id=[128],\n",
       "  },\n",
       "  (movie, rev_rates, user)={\n",
       "    edge_index=[2, 38461],\n",
       "    e_id=[38461],\n",
       "  }\n",
       ")"
      ]
     },
     "execution_count": 60,
     "metadata": {},
     "output_type": "execute_result"
    },
    {
     "name": "stderr",
     "output_type": "stream",
     "text": [
      "  0%|▏                                                                            | 91/31497 [00:21<2:03:14,  4.25it/s]"
     ]
    },
    {
     "data": {
      "text/plain": [
       "HeteroData(\n",
       "  user={\n",
       "    node_id=[18849],\n",
       "    n_id=[18849],\n",
       "  },\n",
       "  movie={\n",
       "    node_id=[7644],\n",
       "    x=[7644, 20],\n",
       "    n_id=[7644],\n",
       "  },\n",
       "  (user, rates, movie)={\n",
       "    edge_index=[2, 25646],\n",
       "    edge_label=[384],\n",
       "    edge_label_index=[2, 384],\n",
       "    e_id=[25646],\n",
       "    input_id=[128],\n",
       "  },\n",
       "  (movie, rev_rates, user)={\n",
       "    edge_index=[2, 37239],\n",
       "    e_id=[37239],\n",
       "  }\n",
       ")"
      ]
     },
     "execution_count": 60,
     "metadata": {},
     "output_type": "execute_result"
    },
    {
     "name": "stderr",
     "output_type": "stream",
     "text": [
      "  0%|▏                                                                            | 92/31497 [00:21<2:13:13,  3.93it/s]"
     ]
    },
    {
     "data": {
      "text/plain": [
       "HeteroData(\n",
       "  user={\n",
       "    node_id=[18993],\n",
       "    n_id=[18993],\n",
       "  },\n",
       "  movie={\n",
       "    node_id=[7834],\n",
       "    x=[7834, 20],\n",
       "    n_id=[7834],\n",
       "  },\n",
       "  (user, rates, movie)={\n",
       "    edge_index=[2, 25706],\n",
       "    edge_label=[384],\n",
       "    edge_label_index=[2, 384],\n",
       "    e_id=[25706],\n",
       "    input_id=[128],\n",
       "  },\n",
       "  (movie, rev_rates, user)={\n",
       "    edge_index=[2, 39429],\n",
       "    e_id=[39429],\n",
       "  }\n",
       ")"
      ]
     },
     "execution_count": 60,
     "metadata": {},
     "output_type": "execute_result"
    },
    {
     "name": "stderr",
     "output_type": "stream",
     "text": [
      "  0%|▏                                                                            | 93/31497 [00:21<2:19:09,  3.76it/s]"
     ]
    },
    {
     "data": {
      "text/plain": [
       "HeteroData(\n",
       "  user={\n",
       "    node_id=[18715],\n",
       "    n_id=[18715],\n",
       "  },\n",
       "  movie={\n",
       "    node_id=[7713],\n",
       "    x=[7713, 20],\n",
       "    n_id=[7713],\n",
       "  },\n",
       "  (user, rates, movie)={\n",
       "    edge_index=[2, 25185],\n",
       "    edge_label=[384],\n",
       "    edge_label_index=[2, 384],\n",
       "    e_id=[25185],\n",
       "    input_id=[128],\n",
       "  },\n",
       "  (movie, rev_rates, user)={\n",
       "    edge_index=[2, 38562],\n",
       "    e_id=[38562],\n",
       "  }\n",
       ")"
      ]
     },
     "execution_count": 60,
     "metadata": {},
     "output_type": "execute_result"
    },
    {
     "name": "stderr",
     "output_type": "stream",
     "text": [
      "  0%|▏                                                                            | 94/31497 [00:22<2:08:42,  4.07it/s]"
     ]
    },
    {
     "data": {
      "text/plain": [
       "HeteroData(\n",
       "  user={\n",
       "    node_id=[19218],\n",
       "    n_id=[19218],\n",
       "  },\n",
       "  movie={\n",
       "    node_id=[7920],\n",
       "    x=[7920, 20],\n",
       "    n_id=[7920],\n",
       "  },\n",
       "  (user, rates, movie)={\n",
       "    edge_index=[2, 26577],\n",
       "    edge_label=[384],\n",
       "    edge_label_index=[2, 384],\n",
       "    e_id=[26577],\n",
       "    input_id=[128],\n",
       "  },\n",
       "  (movie, rev_rates, user)={\n",
       "    edge_index=[2, 38527],\n",
       "    e_id=[38527],\n",
       "  }\n",
       ")"
      ]
     },
     "execution_count": 60,
     "metadata": {},
     "output_type": "execute_result"
    },
    {
     "name": "stderr",
     "output_type": "stream",
     "text": [
      "  0%|▏                                                                            | 95/31497 [00:22<2:04:33,  4.20it/s]"
     ]
    },
    {
     "data": {
      "text/plain": [
       "HeteroData(\n",
       "  user={\n",
       "    node_id=[19216],\n",
       "    n_id=[19216],\n",
       "  },\n",
       "  movie={\n",
       "    node_id=[7763],\n",
       "    x=[7763, 20],\n",
       "    n_id=[7763],\n",
       "  },\n",
       "  (user, rates, movie)={\n",
       "    edge_index=[2, 26242],\n",
       "    edge_label=[384],\n",
       "    edge_label_index=[2, 384],\n",
       "    e_id=[26242],\n",
       "    input_id=[128],\n",
       "  },\n",
       "  (movie, rev_rates, user)={\n",
       "    edge_index=[2, 40254],\n",
       "    e_id=[40254],\n",
       "  }\n",
       ")"
      ]
     },
     "execution_count": 60,
     "metadata": {},
     "output_type": "execute_result"
    },
    {
     "name": "stderr",
     "output_type": "stream",
     "text": [
      "  0%|▏                                                                            | 96/31497 [00:22<2:03:45,  4.23it/s]"
     ]
    },
    {
     "data": {
      "text/plain": [
       "HeteroData(\n",
       "  user={\n",
       "    node_id=[19117],\n",
       "    n_id=[19117],\n",
       "  },\n",
       "  movie={\n",
       "    node_id=[7709],\n",
       "    x=[7709, 20],\n",
       "    n_id=[7709],\n",
       "  },\n",
       "  (user, rates, movie)={\n",
       "    edge_index=[2, 26240],\n",
       "    edge_label=[384],\n",
       "    edge_label_index=[2, 384],\n",
       "    e_id=[26240],\n",
       "    input_id=[128],\n",
       "  },\n",
       "  (movie, rev_rates, user)={\n",
       "    edge_index=[2, 38591],\n",
       "    e_id=[38591],\n",
       "  }\n",
       ")"
      ]
     },
     "execution_count": 60,
     "metadata": {},
     "output_type": "execute_result"
    },
    {
     "name": "stderr",
     "output_type": "stream",
     "text": [
      "  0%|▏                                                                            | 97/31497 [00:22<2:05:40,  4.16it/s]"
     ]
    },
    {
     "data": {
      "text/plain": [
       "HeteroData(\n",
       "  user={\n",
       "    node_id=[18930],\n",
       "    n_id=[18930],\n",
       "  },\n",
       "  movie={\n",
       "    node_id=[8190],\n",
       "    x=[8190, 20],\n",
       "    n_id=[8190],\n",
       "  },\n",
       "  (user, rates, movie)={\n",
       "    edge_index=[2, 25749],\n",
       "    edge_label=[384],\n",
       "    edge_label_index=[2, 384],\n",
       "    e_id=[25749],\n",
       "    input_id=[128],\n",
       "  },\n",
       "  (movie, rev_rates, user)={\n",
       "    edge_index=[2, 41414],\n",
       "    e_id=[41414],\n",
       "  }\n",
       ")"
      ]
     },
     "execution_count": 60,
     "metadata": {},
     "output_type": "execute_result"
    },
    {
     "name": "stderr",
     "output_type": "stream",
     "text": [
      "  0%|▏                                                                            | 98/31497 [00:22<2:05:15,  4.18it/s]"
     ]
    },
    {
     "data": {
      "text/plain": [
       "HeteroData(\n",
       "  user={\n",
       "    node_id=[18582],\n",
       "    n_id=[18582],\n",
       "  },\n",
       "  movie={\n",
       "    node_id=[7703],\n",
       "    x=[7703, 20],\n",
       "    n_id=[7703],\n",
       "  },\n",
       "  (user, rates, movie)={\n",
       "    edge_index=[2, 24749],\n",
       "    edge_label=[384],\n",
       "    edge_label_index=[2, 384],\n",
       "    e_id=[24749],\n",
       "    input_id=[128],\n",
       "  },\n",
       "  (movie, rev_rates, user)={\n",
       "    edge_index=[2, 39828],\n",
       "    e_id=[39828],\n",
       "  }\n",
       ")"
      ]
     },
     "execution_count": 60,
     "metadata": {},
     "output_type": "execute_result"
    },
    {
     "name": "stderr",
     "output_type": "stream",
     "text": [
      "  0%|▏                                                                            | 99/31497 [00:23<2:03:12,  4.25it/s]"
     ]
    },
    {
     "data": {
      "text/plain": [
       "HeteroData(\n",
       "  user={\n",
       "    node_id=[19006],\n",
       "    n_id=[19006],\n",
       "  },\n",
       "  movie={\n",
       "    node_id=[7531],\n",
       "    x=[7531, 20],\n",
       "    n_id=[7531],\n",
       "  },\n",
       "  (user, rates, movie)={\n",
       "    edge_index=[2, 25973],\n",
       "    edge_label=[384],\n",
       "    edge_label_index=[2, 384],\n",
       "    e_id=[25973],\n",
       "    input_id=[128],\n",
       "  },\n",
       "  (movie, rev_rates, user)={\n",
       "    edge_index=[2, 36229],\n",
       "    e_id=[36229],\n",
       "  }\n",
       ")"
      ]
     },
     "execution_count": 60,
     "metadata": {},
     "output_type": "execute_result"
    },
    {
     "name": "stderr",
     "output_type": "stream",
     "text": [
      "  0%|▏                                                                           | 100/31497 [00:23<2:00:58,  4.33it/s]"
     ]
    },
    {
     "data": {
      "text/plain": [
       "HeteroData(\n",
       "  user={\n",
       "    node_id=[19062],\n",
       "    n_id=[19062],\n",
       "  },\n",
       "  movie={\n",
       "    node_id=[7749],\n",
       "    x=[7749, 20],\n",
       "    n_id=[7749],\n",
       "  },\n",
       "  (user, rates, movie)={\n",
       "    edge_index=[2, 25769],\n",
       "    edge_label=[384],\n",
       "    edge_label_index=[2, 384],\n",
       "    e_id=[25769],\n",
       "    input_id=[128],\n",
       "  },\n",
       "  (movie, rev_rates, user)={\n",
       "    edge_index=[2, 39108],\n",
       "    e_id=[39108],\n",
       "  }\n",
       ")"
      ]
     },
     "execution_count": 60,
     "metadata": {},
     "output_type": "execute_result"
    },
    {
     "name": "stderr",
     "output_type": "stream",
     "text": [
      "  0%|▏                                                                           | 101/31497 [00:23<2:09:19,  4.05it/s]"
     ]
    },
    {
     "data": {
      "text/plain": [
       "HeteroData(\n",
       "  user={\n",
       "    node_id=[19011],\n",
       "    n_id=[19011],\n",
       "  },\n",
       "  movie={\n",
       "    node_id=[7372],\n",
       "    x=[7372, 20],\n",
       "    n_id=[7372],\n",
       "  },\n",
       "  (user, rates, movie)={\n",
       "    edge_index=[2, 25705],\n",
       "    edge_label=[384],\n",
       "    edge_label_index=[2, 384],\n",
       "    e_id=[25705],\n",
       "    input_id=[128],\n",
       "  },\n",
       "  (movie, rev_rates, user)={\n",
       "    edge_index=[2, 35916],\n",
       "    e_id=[35916],\n",
       "  }\n",
       ")"
      ]
     },
     "execution_count": 60,
     "metadata": {},
     "output_type": "execute_result"
    },
    {
     "name": "stderr",
     "output_type": "stream",
     "text": [
      "  0%|▏                                                                           | 102/31497 [00:23<2:01:59,  4.29it/s]"
     ]
    },
    {
     "data": {
      "text/plain": [
       "HeteroData(\n",
       "  user={\n",
       "    node_id=[19015],\n",
       "    n_id=[19015],\n",
       "  },\n",
       "  movie={\n",
       "    node_id=[7771],\n",
       "    x=[7771, 20],\n",
       "    n_id=[7771],\n",
       "  },\n",
       "  (user, rates, movie)={\n",
       "    edge_index=[2, 25899],\n",
       "    edge_label=[384],\n",
       "    edge_label_index=[2, 384],\n",
       "    e_id=[25899],\n",
       "    input_id=[128],\n",
       "  },\n",
       "  (movie, rev_rates, user)={\n",
       "    edge_index=[2, 39175],\n",
       "    e_id=[39175],\n",
       "  }\n",
       ")"
      ]
     },
     "execution_count": 60,
     "metadata": {},
     "output_type": "execute_result"
    },
    {
     "name": "stderr",
     "output_type": "stream",
     "text": [
      "  0%|▏                                                                           | 103/31497 [00:24<1:58:53,  4.40it/s]"
     ]
    },
    {
     "data": {
      "text/plain": [
       "HeteroData(\n",
       "  user={\n",
       "    node_id=[19160],\n",
       "    n_id=[19160],\n",
       "  },\n",
       "  movie={\n",
       "    node_id=[7747],\n",
       "    x=[7747, 20],\n",
       "    n_id=[7747],\n",
       "  },\n",
       "  (user, rates, movie)={\n",
       "    edge_index=[2, 26222],\n",
       "    edge_label=[384],\n",
       "    edge_label_index=[2, 384],\n",
       "    e_id=[26222],\n",
       "    input_id=[128],\n",
       "  },\n",
       "  (movie, rev_rates, user)={\n",
       "    edge_index=[2, 38881],\n",
       "    e_id=[38881],\n",
       "  }\n",
       ")"
      ]
     },
     "execution_count": 60,
     "metadata": {},
     "output_type": "execute_result"
    },
    {
     "name": "stderr",
     "output_type": "stream",
     "text": [
      "  0%|▎                                                                           | 104/31497 [00:24<1:58:13,  4.43it/s]"
     ]
    },
    {
     "data": {
      "text/plain": [
       "HeteroData(\n",
       "  user={\n",
       "    node_id=[19455],\n",
       "    n_id=[19455],\n",
       "  },\n",
       "  movie={\n",
       "    node_id=[7706],\n",
       "    x=[7706, 20],\n",
       "    n_id=[7706],\n",
       "  },\n",
       "  (user, rates, movie)={\n",
       "    edge_index=[2, 26783],\n",
       "    edge_label=[384],\n",
       "    edge_label_index=[2, 384],\n",
       "    e_id=[26783],\n",
       "    input_id=[128],\n",
       "  },\n",
       "  (movie, rev_rates, user)={\n",
       "    edge_index=[2, 37244],\n",
       "    e_id=[37244],\n",
       "  }\n",
       ")"
      ]
     },
     "execution_count": 60,
     "metadata": {},
     "output_type": "execute_result"
    },
    {
     "name": "stderr",
     "output_type": "stream",
     "text": [
      "  0%|▎                                                                           | 105/31497 [00:24<1:57:31,  4.45it/s]"
     ]
    },
    {
     "data": {
      "text/plain": [
       "HeteroData(\n",
       "  user={\n",
       "    node_id=[19323],\n",
       "    n_id=[19323],\n",
       "  },\n",
       "  movie={\n",
       "    node_id=[7854],\n",
       "    x=[7854, 20],\n",
       "    n_id=[7854],\n",
       "  },\n",
       "  (user, rates, movie)={\n",
       "    edge_index=[2, 26644],\n",
       "    edge_label=[384],\n",
       "    edge_label_index=[2, 384],\n",
       "    e_id=[26644],\n",
       "    input_id=[128],\n",
       "  },\n",
       "  (movie, rev_rates, user)={\n",
       "    edge_index=[2, 38393],\n",
       "    e_id=[38393],\n",
       "  }\n",
       ")"
      ]
     },
     "execution_count": 60,
     "metadata": {},
     "output_type": "execute_result"
    },
    {
     "name": "stderr",
     "output_type": "stream",
     "text": [
      "  0%|▎                                                                           | 106/31497 [00:24<1:57:41,  4.45it/s]"
     ]
    },
    {
     "data": {
      "text/plain": [
       "HeteroData(\n",
       "  user={\n",
       "    node_id=[19060],\n",
       "    n_id=[19060],\n",
       "  },\n",
       "  movie={\n",
       "    node_id=[7698],\n",
       "    x=[7698, 20],\n",
       "    n_id=[7698],\n",
       "  },\n",
       "  (user, rates, movie)={\n",
       "    edge_index=[2, 25833],\n",
       "    edge_label=[384],\n",
       "    edge_label_index=[2, 384],\n",
       "    e_id=[25833],\n",
       "    input_id=[128],\n",
       "  },\n",
       "  (movie, rev_rates, user)={\n",
       "    edge_index=[2, 39397],\n",
       "    e_id=[39397],\n",
       "  }\n",
       ")"
      ]
     },
     "execution_count": 60,
     "metadata": {},
     "output_type": "execute_result"
    },
    {
     "name": "stderr",
     "output_type": "stream",
     "text": [
      "  0%|▎                                                                           | 107/31497 [00:25<1:56:49,  4.48it/s]"
     ]
    },
    {
     "data": {
      "text/plain": [
       "HeteroData(\n",
       "  user={\n",
       "    node_id=[19422],\n",
       "    n_id=[19422],\n",
       "  },\n",
       "  movie={\n",
       "    node_id=[7742],\n",
       "    x=[7742, 20],\n",
       "    n_id=[7742],\n",
       "  },\n",
       "  (user, rates, movie)={\n",
       "    edge_index=[2, 26748],\n",
       "    edge_label=[384],\n",
       "    edge_label_index=[2, 384],\n",
       "    e_id=[26748],\n",
       "    input_id=[128],\n",
       "  },\n",
       "  (movie, rev_rates, user)={\n",
       "    edge_index=[2, 37749],\n",
       "    e_id=[37749],\n",
       "  }\n",
       ")"
      ]
     },
     "execution_count": 60,
     "metadata": {},
     "output_type": "execute_result"
    },
    {
     "name": "stderr",
     "output_type": "stream",
     "text": [
      "  0%|▎                                                                           | 108/31497 [00:25<1:56:08,  4.50it/s]"
     ]
    },
    {
     "data": {
      "text/plain": [
       "HeteroData(\n",
       "  user={\n",
       "    node_id=[18982],\n",
       "    n_id=[18982],\n",
       "  },\n",
       "  movie={\n",
       "    node_id=[7826],\n",
       "    x=[7826, 20],\n",
       "    n_id=[7826],\n",
       "  },\n",
       "  (user, rates, movie)={\n",
       "    edge_index=[2, 25763],\n",
       "    edge_label=[384],\n",
       "    edge_label_index=[2, 384],\n",
       "    e_id=[25763],\n",
       "    input_id=[128],\n",
       "  },\n",
       "  (movie, rev_rates, user)={\n",
       "    edge_index=[2, 38608],\n",
       "    e_id=[38608],\n",
       "  }\n",
       ")"
      ]
     },
     "execution_count": 60,
     "metadata": {},
     "output_type": "execute_result"
    },
    {
     "name": "stderr",
     "output_type": "stream",
     "text": [
      "  0%|▎                                                                           | 109/31497 [00:25<1:56:55,  4.47it/s]"
     ]
    },
    {
     "data": {
      "text/plain": [
       "HeteroData(\n",
       "  user={\n",
       "    node_id=[19076],\n",
       "    n_id=[19076],\n",
       "  },\n",
       "  movie={\n",
       "    node_id=[7744],\n",
       "    x=[7744, 20],\n",
       "    n_id=[7744],\n",
       "  },\n",
       "  (user, rates, movie)={\n",
       "    edge_index=[2, 25858],\n",
       "    edge_label=[384],\n",
       "    edge_label_index=[2, 384],\n",
       "    e_id=[25858],\n",
       "    input_id=[128],\n",
       "  },\n",
       "  (movie, rev_rates, user)={\n",
       "    edge_index=[2, 37817],\n",
       "    e_id=[37817],\n",
       "  }\n",
       ")"
      ]
     },
     "execution_count": 60,
     "metadata": {},
     "output_type": "execute_result"
    },
    {
     "name": "stderr",
     "output_type": "stream",
     "text": [
      "  0%|▎                                                                           | 110/31497 [00:25<2:09:10,  4.05it/s]"
     ]
    },
    {
     "data": {
      "text/plain": [
       "HeteroData(\n",
       "  user={\n",
       "    node_id=[19420],\n",
       "    n_id=[19420],\n",
       "  },\n",
       "  movie={\n",
       "    node_id=[7865],\n",
       "    x=[7865, 20],\n",
       "    n_id=[7865],\n",
       "  },\n",
       "  (user, rates, movie)={\n",
       "    edge_index=[2, 26728],\n",
       "    edge_label=[384],\n",
       "    edge_label_index=[2, 384],\n",
       "    e_id=[26728],\n",
       "    input_id=[128],\n",
       "  },\n",
       "  (movie, rev_rates, user)={\n",
       "    edge_index=[2, 39246],\n",
       "    e_id=[39246],\n",
       "  }\n",
       ")"
      ]
     },
     "execution_count": 60,
     "metadata": {},
     "output_type": "execute_result"
    },
    {
     "name": "stderr",
     "output_type": "stream",
     "text": [
      "  0%|▎                                                                           | 111/31497 [00:25<2:02:26,  4.27it/s]"
     ]
    },
    {
     "data": {
      "text/plain": [
       "HeteroData(\n",
       "  user={\n",
       "    node_id=[19023],\n",
       "    n_id=[19023],\n",
       "  },\n",
       "  movie={\n",
       "    node_id=[7825],\n",
       "    x=[7825, 20],\n",
       "    n_id=[7825],\n",
       "  },\n",
       "  (user, rates, movie)={\n",
       "    edge_index=[2, 25931],\n",
       "    edge_label=[384],\n",
       "    edge_label_index=[2, 384],\n",
       "    e_id=[25931],\n",
       "    input_id=[128],\n",
       "  },\n",
       "  (movie, rev_rates, user)={\n",
       "    edge_index=[2, 39041],\n",
       "    e_id=[39041],\n",
       "  }\n",
       ")"
      ]
     },
     "execution_count": 60,
     "metadata": {},
     "output_type": "execute_result"
    },
    {
     "name": "stderr",
     "output_type": "stream",
     "text": [
      "  0%|▎                                                                           | 112/31497 [00:26<1:58:56,  4.40it/s]"
     ]
    },
    {
     "data": {
      "text/plain": [
       "HeteroData(\n",
       "  user={\n",
       "    node_id=[18658],\n",
       "    n_id=[18658],\n",
       "  },\n",
       "  movie={\n",
       "    node_id=[7471],\n",
       "    x=[7471, 20],\n",
       "    n_id=[7471],\n",
       "  },\n",
       "  (user, rates, movie)={\n",
       "    edge_index=[2, 24936],\n",
       "    edge_label=[384],\n",
       "    edge_label_index=[2, 384],\n",
       "    e_id=[24936],\n",
       "    input_id=[128],\n",
       "  },\n",
       "  (movie, rev_rates, user)={\n",
       "    edge_index=[2, 38641],\n",
       "    e_id=[38641],\n",
       "  }\n",
       ")"
      ]
     },
     "execution_count": 60,
     "metadata": {},
     "output_type": "execute_result"
    },
    {
     "name": "stderr",
     "output_type": "stream",
     "text": [
      "  0%|▎                                                                           | 113/31497 [00:26<1:55:36,  4.52it/s]"
     ]
    },
    {
     "data": {
      "text/plain": [
       "HeteroData(\n",
       "  user={\n",
       "    node_id=[18814],\n",
       "    n_id=[18814],\n",
       "  },\n",
       "  movie={\n",
       "    node_id=[7756],\n",
       "    x=[7756, 20],\n",
       "    n_id=[7756],\n",
       "  },\n",
       "  (user, rates, movie)={\n",
       "    edge_index=[2, 25255],\n",
       "    edge_label=[384],\n",
       "    edge_label_index=[2, 384],\n",
       "    e_id=[25255],\n",
       "    input_id=[128],\n",
       "  },\n",
       "  (movie, rev_rates, user)={\n",
       "    edge_index=[2, 39042],\n",
       "    e_id=[39042],\n",
       "  }\n",
       ")"
      ]
     },
     "execution_count": 60,
     "metadata": {},
     "output_type": "execute_result"
    },
    {
     "name": "stderr",
     "output_type": "stream",
     "text": [
      "  0%|▎                                                                           | 114/31497 [00:26<1:54:55,  4.55it/s]"
     ]
    },
    {
     "data": {
      "text/plain": [
       "HeteroData(\n",
       "  user={\n",
       "    node_id=[19541],\n",
       "    n_id=[19541],\n",
       "  },\n",
       "  movie={\n",
       "    node_id=[7958],\n",
       "    x=[7958, 20],\n",
       "    n_id=[7958],\n",
       "  },\n",
       "  (user, rates, movie)={\n",
       "    edge_index=[2, 27083],\n",
       "    edge_label=[384],\n",
       "    edge_label_index=[2, 384],\n",
       "    e_id=[27083],\n",
       "    input_id=[128],\n",
       "  },\n",
       "  (movie, rev_rates, user)={\n",
       "    edge_index=[2, 39377],\n",
       "    e_id=[39377],\n",
       "  }\n",
       ")"
      ]
     },
     "execution_count": 60,
     "metadata": {},
     "output_type": "execute_result"
    },
    {
     "name": "stderr",
     "output_type": "stream",
     "text": [
      "  0%|▎                                                                           | 115/31497 [00:26<1:56:11,  4.50it/s]"
     ]
    },
    {
     "data": {
      "text/plain": [
       "HeteroData(\n",
       "  user={\n",
       "    node_id=[19575],\n",
       "    n_id=[19575],\n",
       "  },\n",
       "  movie={\n",
       "    node_id=[8057],\n",
       "    x=[8057, 20],\n",
       "    n_id=[8057],\n",
       "  },\n",
       "  (user, rates, movie)={\n",
       "    edge_index=[2, 27274],\n",
       "    edge_label=[384],\n",
       "    edge_label_index=[2, 384],\n",
       "    e_id=[27274],\n",
       "    input_id=[128],\n",
       "  },\n",
       "  (movie, rev_rates, user)={\n",
       "    edge_index=[2, 38351],\n",
       "    e_id=[38351],\n",
       "  }\n",
       ")"
      ]
     },
     "execution_count": 60,
     "metadata": {},
     "output_type": "execute_result"
    },
    {
     "name": "stderr",
     "output_type": "stream",
     "text": [
      "  0%|▎                                                                           | 116/31497 [00:27<1:55:57,  4.51it/s]"
     ]
    },
    {
     "data": {
      "text/plain": [
       "HeteroData(\n",
       "  user={\n",
       "    node_id=[18845],\n",
       "    n_id=[18845],\n",
       "  },\n",
       "  movie={\n",
       "    node_id=[7843],\n",
       "    x=[7843, 20],\n",
       "    n_id=[7843],\n",
       "  },\n",
       "  (user, rates, movie)={\n",
       "    edge_index=[2, 25786],\n",
       "    edge_label=[384],\n",
       "    edge_label_index=[2, 384],\n",
       "    e_id=[25786],\n",
       "    input_id=[128],\n",
       "  },\n",
       "  (movie, rev_rates, user)={\n",
       "    edge_index=[2, 38898],\n",
       "    e_id=[38898],\n",
       "  }\n",
       ")"
      ]
     },
     "execution_count": 60,
     "metadata": {},
     "output_type": "execute_result"
    },
    {
     "name": "stderr",
     "output_type": "stream",
     "text": [
      "  0%|▎                                                                           | 117/31497 [00:27<1:55:28,  4.53it/s]"
     ]
    },
    {
     "data": {
      "text/plain": [
       "HeteroData(\n",
       "  user={\n",
       "    node_id=[19250],\n",
       "    n_id=[19250],\n",
       "  },\n",
       "  movie={\n",
       "    node_id=[7749],\n",
       "    x=[7749, 20],\n",
       "    n_id=[7749],\n",
       "  },\n",
       "  (user, rates, movie)={\n",
       "    edge_index=[2, 26653],\n",
       "    edge_label=[384],\n",
       "    edge_label_index=[2, 384],\n",
       "    e_id=[26653],\n",
       "    input_id=[128],\n",
       "  },\n",
       "  (movie, rev_rates, user)={\n",
       "    edge_index=[2, 37510],\n",
       "    e_id=[37510],\n",
       "  }\n",
       ")"
      ]
     },
     "execution_count": 60,
     "metadata": {},
     "output_type": "execute_result"
    },
    {
     "name": "stderr",
     "output_type": "stream",
     "text": [
      "  0%|▎                                                                           | 118/31497 [00:27<1:55:09,  4.54it/s]"
     ]
    },
    {
     "data": {
      "text/plain": [
       "HeteroData(\n",
       "  user={\n",
       "    node_id=[19365],\n",
       "    n_id=[19365],\n",
       "  },\n",
       "  movie={\n",
       "    node_id=[7784],\n",
       "    x=[7784, 20],\n",
       "    n_id=[7784],\n",
       "  },\n",
       "  (user, rates, movie)={\n",
       "    edge_index=[2, 26509],\n",
       "    edge_label=[384],\n",
       "    edge_label_index=[2, 384],\n",
       "    e_id=[26509],\n",
       "    input_id=[128],\n",
       "  },\n",
       "  (movie, rev_rates, user)={\n",
       "    edge_index=[2, 38734],\n",
       "    e_id=[38734],\n",
       "  }\n",
       ")"
      ]
     },
     "execution_count": 60,
     "metadata": {},
     "output_type": "execute_result"
    },
    {
     "name": "stderr",
     "output_type": "stream",
     "text": [
      "  0%|▎                                                                           | 119/31497 [00:27<2:08:58,  4.05it/s]"
     ]
    },
    {
     "data": {
      "text/plain": [
       "HeteroData(\n",
       "  user={\n",
       "    node_id=[19405],\n",
       "    n_id=[19405],\n",
       "  },\n",
       "  movie={\n",
       "    node_id=[7914],\n",
       "    x=[7914, 20],\n",
       "    n_id=[7914],\n",
       "  },\n",
       "  (user, rates, movie)={\n",
       "    edge_index=[2, 27127],\n",
       "    edge_label=[384],\n",
       "    edge_label_index=[2, 384],\n",
       "    e_id=[27127],\n",
       "    input_id=[128],\n",
       "  },\n",
       "  (movie, rev_rates, user)={\n",
       "    edge_index=[2, 38933],\n",
       "    e_id=[38933],\n",
       "  }\n",
       ")"
      ]
     },
     "execution_count": 60,
     "metadata": {},
     "output_type": "execute_result"
    },
    {
     "name": "stderr",
     "output_type": "stream",
     "text": [
      "  0%|▎                                                                           | 120/31497 [00:27<1:56:47,  4.48it/s]"
     ]
    },
    {
     "data": {
      "text/plain": [
       "HeteroData(\n",
       "  user={\n",
       "    node_id=[19865],\n",
       "    n_id=[19865],\n",
       "  },\n",
       "  movie={\n",
       "    node_id=[7506],\n",
       "    x=[7506, 20],\n",
       "    n_id=[7506],\n",
       "  },\n",
       "  (user, rates, movie)={\n",
       "    edge_index=[2, 27556],\n",
       "    edge_label=[384],\n",
       "    edge_label_index=[2, 384],\n",
       "    e_id=[27556],\n",
       "    input_id=[128],\n",
       "  },\n",
       "  (movie, rev_rates, user)={\n",
       "    edge_index=[2, 37750],\n",
       "    e_id=[37750],\n",
       "  }\n",
       ")"
      ]
     },
     "execution_count": 60,
     "metadata": {},
     "output_type": "execute_result"
    },
    {
     "name": "stderr",
     "output_type": "stream",
     "text": [
      "  0%|▎                                                                           | 121/31497 [00:28<1:50:35,  4.73it/s]"
     ]
    },
    {
     "data": {
      "text/plain": [
       "HeteroData(\n",
       "  user={\n",
       "    node_id=[19411],\n",
       "    n_id=[19411],\n",
       "  },\n",
       "  movie={\n",
       "    node_id=[7664],\n",
       "    x=[7664, 20],\n",
       "    n_id=[7664],\n",
       "  },\n",
       "  (user, rates, movie)={\n",
       "    edge_index=[2, 26961],\n",
       "    edge_label=[384],\n",
       "    edge_label_index=[2, 384],\n",
       "    e_id=[26961],\n",
       "    input_id=[128],\n",
       "  },\n",
       "  (movie, rev_rates, user)={\n",
       "    edge_index=[2, 36967],\n",
       "    e_id=[36967],\n",
       "  }\n",
       ")"
      ]
     },
     "execution_count": 60,
     "metadata": {},
     "output_type": "execute_result"
    },
    {
     "name": "stderr",
     "output_type": "stream",
     "text": [
      "  0%|▎                                                                           | 122/31497 [00:28<1:47:03,  4.88it/s]"
     ]
    },
    {
     "data": {
      "text/plain": [
       "HeteroData(\n",
       "  user={\n",
       "    node_id=[19190],\n",
       "    n_id=[19190],\n",
       "  },\n",
       "  movie={\n",
       "    node_id=[7764],\n",
       "    x=[7764, 20],\n",
       "    n_id=[7764],\n",
       "  },\n",
       "  (user, rates, movie)={\n",
       "    edge_index=[2, 26505],\n",
       "    edge_label=[384],\n",
       "    edge_label_index=[2, 384],\n",
       "    e_id=[26505],\n",
       "    input_id=[128],\n",
       "  },\n",
       "  (movie, rev_rates, user)={\n",
       "    edge_index=[2, 38050],\n",
       "    e_id=[38050],\n",
       "  }\n",
       ")"
      ]
     },
     "execution_count": 60,
     "metadata": {},
     "output_type": "execute_result"
    },
    {
     "name": "stderr",
     "output_type": "stream",
     "text": [
      "  0%|▎                                                                           | 123/31497 [00:28<1:44:16,  5.01it/s]"
     ]
    },
    {
     "data": {
      "text/plain": [
       "HeteroData(\n",
       "  user={\n",
       "    node_id=[19541],\n",
       "    n_id=[19541],\n",
       "  },\n",
       "  movie={\n",
       "    node_id=[7767],\n",
       "    x=[7767, 20],\n",
       "    n_id=[7767],\n",
       "  },\n",
       "  (user, rates, movie)={\n",
       "    edge_index=[2, 26841],\n",
       "    edge_label=[384],\n",
       "    edge_label_index=[2, 384],\n",
       "    e_id=[26841],\n",
       "    input_id=[128],\n",
       "  },\n",
       "  (movie, rev_rates, user)={\n",
       "    edge_index=[2, 39085],\n",
       "    e_id=[39085],\n",
       "  }\n",
       ")"
      ]
     },
     "execution_count": 60,
     "metadata": {},
     "output_type": "execute_result"
    },
    {
     "name": "stderr",
     "output_type": "stream",
     "text": [
      "  0%|▎                                                                           | 124/31497 [00:28<1:41:49,  5.13it/s]"
     ]
    },
    {
     "data": {
      "text/plain": [
       "HeteroData(\n",
       "  user={\n",
       "    node_id=[19089],\n",
       "    n_id=[19089],\n",
       "  },\n",
       "  movie={\n",
       "    node_id=[7708],\n",
       "    x=[7708, 20],\n",
       "    n_id=[7708],\n",
       "  },\n",
       "  (user, rates, movie)={\n",
       "    edge_index=[2, 26258],\n",
       "    edge_label=[384],\n",
       "    edge_label_index=[2, 384],\n",
       "    e_id=[26258],\n",
       "    input_id=[128],\n",
       "  },\n",
       "  (movie, rev_rates, user)={\n",
       "    edge_index=[2, 37538],\n",
       "    e_id=[37538],\n",
       "  }\n",
       ")"
      ]
     },
     "execution_count": 60,
     "metadata": {},
     "output_type": "execute_result"
    },
    {
     "name": "stderr",
     "output_type": "stream",
     "text": [
      "  0%|▎                                                                           | 125/31497 [00:28<1:38:45,  5.29it/s]"
     ]
    },
    {
     "data": {
      "text/plain": [
       "HeteroData(\n",
       "  user={\n",
       "    node_id=[18490],\n",
       "    n_id=[18490],\n",
       "  },\n",
       "  movie={\n",
       "    node_id=[7552],\n",
       "    x=[7552, 20],\n",
       "    n_id=[7552],\n",
       "  },\n",
       "  (user, rates, movie)={\n",
       "    edge_index=[2, 24726],\n",
       "    edge_label=[384],\n",
       "    edge_label_index=[2, 384],\n",
       "    e_id=[24726],\n",
       "    input_id=[128],\n",
       "  },\n",
       "  (movie, rev_rates, user)={\n",
       "    edge_index=[2, 37328],\n",
       "    e_id=[37328],\n",
       "  }\n",
       ")"
      ]
     },
     "execution_count": 60,
     "metadata": {},
     "output_type": "execute_result"
    },
    {
     "name": "stderr",
     "output_type": "stream",
     "text": [
      "  0%|▎                                                                           | 126/31497 [00:29<1:36:19,  5.43it/s]"
     ]
    },
    {
     "data": {
      "text/plain": [
       "HeteroData(\n",
       "  user={\n",
       "    node_id=[18624],\n",
       "    n_id=[18624],\n",
       "  },\n",
       "  movie={\n",
       "    node_id=[7886],\n",
       "    x=[7886, 20],\n",
       "    n_id=[7886],\n",
       "  },\n",
       "  (user, rates, movie)={\n",
       "    edge_index=[2, 25483],\n",
       "    edge_label=[384],\n",
       "    edge_label_index=[2, 384],\n",
       "    e_id=[25483],\n",
       "    input_id=[128],\n",
       "  },\n",
       "  (movie, rev_rates, user)={\n",
       "    edge_index=[2, 38945],\n",
       "    e_id=[38945],\n",
       "  }\n",
       ")"
      ]
     },
     "execution_count": 60,
     "metadata": {},
     "output_type": "execute_result"
    },
    {
     "name": "stderr",
     "output_type": "stream",
     "text": [
      "  0%|▎                                                                           | 127/31497 [00:29<1:39:06,  5.28it/s]"
     ]
    },
    {
     "data": {
      "text/plain": [
       "HeteroData(\n",
       "  user={\n",
       "    node_id=[18820],\n",
       "    n_id=[18820],\n",
       "  },\n",
       "  movie={\n",
       "    node_id=[7869],\n",
       "    x=[7869, 20],\n",
       "    n_id=[7869],\n",
       "  },\n",
       "  (user, rates, movie)={\n",
       "    edge_index=[2, 25274],\n",
       "    edge_label=[384],\n",
       "    edge_label_index=[2, 384],\n",
       "    e_id=[25274],\n",
       "    input_id=[128],\n",
       "  },\n",
       "  (movie, rev_rates, user)={\n",
       "    edge_index=[2, 38803],\n",
       "    e_id=[38803],\n",
       "  }\n",
       ")"
      ]
     },
     "execution_count": 60,
     "metadata": {},
     "output_type": "execute_result"
    },
    {
     "name": "stderr",
     "output_type": "stream",
     "text": [
      "  0%|▎                                                                           | 128/31497 [00:29<1:38:31,  5.31it/s]"
     ]
    },
    {
     "data": {
      "text/plain": [
       "HeteroData(\n",
       "  user={\n",
       "    node_id=[18597],\n",
       "    n_id=[18597],\n",
       "  },\n",
       "  movie={\n",
       "    node_id=[7535],\n",
       "    x=[7535, 20],\n",
       "    n_id=[7535],\n",
       "  },\n",
       "  (user, rates, movie)={\n",
       "    edge_index=[2, 25193],\n",
       "    edge_label=[384],\n",
       "    edge_label_index=[2, 384],\n",
       "    e_id=[25193],\n",
       "    input_id=[128],\n",
       "  },\n",
       "  (movie, rev_rates, user)={\n",
       "    edge_index=[2, 37611],\n",
       "    e_id=[37611],\n",
       "  }\n",
       ")"
      ]
     },
     "execution_count": 60,
     "metadata": {},
     "output_type": "execute_result"
    },
    {
     "name": "stderr",
     "output_type": "stream",
     "text": [
      "  0%|▎                                                                           | 129/31497 [00:29<1:46:28,  4.91it/s]"
     ]
    },
    {
     "data": {
      "text/plain": [
       "HeteroData(\n",
       "  user={\n",
       "    node_id=[19166],\n",
       "    n_id=[19166],\n",
       "  },\n",
       "  movie={\n",
       "    node_id=[7706],\n",
       "    x=[7706, 20],\n",
       "    n_id=[7706],\n",
       "  },\n",
       "  (user, rates, movie)={\n",
       "    edge_index=[2, 26163],\n",
       "    edge_label=[384],\n",
       "    edge_label_index=[2, 384],\n",
       "    e_id=[26163],\n",
       "    input_id=[128],\n",
       "  },\n",
       "  (movie, rev_rates, user)={\n",
       "    edge_index=[2, 37107],\n",
       "    e_id=[37107],\n",
       "  }\n",
       ")"
      ]
     },
     "execution_count": 60,
     "metadata": {},
     "output_type": "execute_result"
    },
    {
     "name": "stderr",
     "output_type": "stream",
     "text": [
      "  0%|▎                                                                           | 130/31497 [00:29<1:49:00,  4.80it/s]"
     ]
    },
    {
     "data": {
      "text/plain": [
       "HeteroData(\n",
       "  user={\n",
       "    node_id=[18854],\n",
       "    n_id=[18854],\n",
       "  },\n",
       "  movie={\n",
       "    node_id=[8041],\n",
       "    x=[8041, 20],\n",
       "    n_id=[8041],\n",
       "  },\n",
       "  (user, rates, movie)={\n",
       "    edge_index=[2, 25717],\n",
       "    edge_label=[384],\n",
       "    edge_label_index=[2, 384],\n",
       "    e_id=[25717],\n",
       "    input_id=[128],\n",
       "  },\n",
       "  (movie, rev_rates, user)={\n",
       "    edge_index=[2, 39623],\n",
       "    e_id=[39623],\n",
       "  }\n",
       ")"
      ]
     },
     "execution_count": 60,
     "metadata": {},
     "output_type": "execute_result"
    },
    {
     "name": "stderr",
     "output_type": "stream",
     "text": [
      "  0%|▎                                                                           | 131/31497 [00:30<1:51:47,  4.68it/s]"
     ]
    },
    {
     "data": {
      "text/plain": [
       "HeteroData(\n",
       "  user={\n",
       "    node_id=[19350],\n",
       "    n_id=[19350],\n",
       "  },\n",
       "  movie={\n",
       "    node_id=[7634],\n",
       "    x=[7634, 20],\n",
       "    n_id=[7634],\n",
       "  },\n",
       "  (user, rates, movie)={\n",
       "    edge_index=[2, 26636],\n",
       "    edge_label=[384],\n",
       "    edge_label_index=[2, 384],\n",
       "    e_id=[26636],\n",
       "    input_id=[128],\n",
       "  },\n",
       "  (movie, rev_rates, user)={\n",
       "    edge_index=[2, 37444],\n",
       "    e_id=[37444],\n",
       "  }\n",
       ")"
      ]
     },
     "execution_count": 60,
     "metadata": {},
     "output_type": "execute_result"
    },
    {
     "name": "stderr",
     "output_type": "stream",
     "text": [
      "  0%|▎                                                                           | 132/31497 [00:30<1:52:05,  4.66it/s]"
     ]
    },
    {
     "data": {
      "text/plain": [
       "HeteroData(\n",
       "  user={\n",
       "    node_id=[18946],\n",
       "    n_id=[18946],\n",
       "  },\n",
       "  movie={\n",
       "    node_id=[7751],\n",
       "    x=[7751, 20],\n",
       "    n_id=[7751],\n",
       "  },\n",
       "  (user, rates, movie)={\n",
       "    edge_index=[2, 25529],\n",
       "    edge_label=[384],\n",
       "    edge_label_index=[2, 384],\n",
       "    e_id=[25529],\n",
       "    input_id=[128],\n",
       "  },\n",
       "  (movie, rev_rates, user)={\n",
       "    edge_index=[2, 38767],\n",
       "    e_id=[38767],\n",
       "  }\n",
       ")"
      ]
     },
     "execution_count": 60,
     "metadata": {},
     "output_type": "execute_result"
    },
    {
     "name": "stderr",
     "output_type": "stream",
     "text": [
      "  0%|▎                                                                           | 133/31497 [00:30<1:53:52,  4.59it/s]"
     ]
    },
    {
     "data": {
      "text/plain": [
       "HeteroData(\n",
       "  user={\n",
       "    node_id=[18724],\n",
       "    n_id=[18724],\n",
       "  },\n",
       "  movie={\n",
       "    node_id=[7533],\n",
       "    x=[7533, 20],\n",
       "    n_id=[7533],\n",
       "  },\n",
       "  (user, rates, movie)={\n",
       "    edge_index=[2, 25150],\n",
       "    edge_label=[384],\n",
       "    edge_label_index=[2, 384],\n",
       "    e_id=[25150],\n",
       "    input_id=[128],\n",
       "  },\n",
       "  (movie, rev_rates, user)={\n",
       "    edge_index=[2, 37633],\n",
       "    e_id=[37633],\n",
       "  }\n",
       ")"
      ]
     },
     "execution_count": 60,
     "metadata": {},
     "output_type": "execute_result"
    },
    {
     "name": "stderr",
     "output_type": "stream",
     "text": [
      "  0%|▎                                                                           | 134/31497 [00:30<1:57:36,  4.44it/s]"
     ]
    },
    {
     "data": {
      "text/plain": [
       "HeteroData(\n",
       "  user={\n",
       "    node_id=[19121],\n",
       "    n_id=[19121],\n",
       "  },\n",
       "  movie={\n",
       "    node_id=[7872],\n",
       "    x=[7872, 20],\n",
       "    n_id=[7872],\n",
       "  },\n",
       "  (user, rates, movie)={\n",
       "    edge_index=[2, 26201],\n",
       "    edge_label=[384],\n",
       "    edge_label_index=[2, 384],\n",
       "    e_id=[26201],\n",
       "    input_id=[128],\n",
       "  },\n",
       "  (movie, rev_rates, user)={\n",
       "    edge_index=[2, 38742],\n",
       "    e_id=[38742],\n",
       "  }\n",
       ")"
      ]
     },
     "execution_count": 60,
     "metadata": {},
     "output_type": "execute_result"
    },
    {
     "name": "stderr",
     "output_type": "stream",
     "text": [
      "  0%|▎                                                                           | 135/31497 [00:31<1:57:25,  4.45it/s]"
     ]
    },
    {
     "data": {
      "text/plain": [
       "HeteroData(\n",
       "  user={\n",
       "    node_id=[19519],\n",
       "    n_id=[19519],\n",
       "  },\n",
       "  movie={\n",
       "    node_id=[7785],\n",
       "    x=[7785, 20],\n",
       "    n_id=[7785],\n",
       "  },\n",
       "  (user, rates, movie)={\n",
       "    edge_index=[2, 26905],\n",
       "    edge_label=[384],\n",
       "    edge_label_index=[2, 384],\n",
       "    e_id=[26905],\n",
       "    input_id=[128],\n",
       "  },\n",
       "  (movie, rev_rates, user)={\n",
       "    edge_index=[2, 38915],\n",
       "    e_id=[38915],\n",
       "  }\n",
       ")"
      ]
     },
     "execution_count": 60,
     "metadata": {},
     "output_type": "execute_result"
    },
    {
     "name": "stderr",
     "output_type": "stream",
     "text": [
      "  0%|▎                                                                           | 136/31497 [00:31<1:57:59,  4.43it/s]"
     ]
    },
    {
     "data": {
      "text/plain": [
       "HeteroData(\n",
       "  user={\n",
       "    node_id=[19213],\n",
       "    n_id=[19213],\n",
       "  },\n",
       "  movie={\n",
       "    node_id=[7678],\n",
       "    x=[7678, 20],\n",
       "    n_id=[7678],\n",
       "  },\n",
       "  (user, rates, movie)={\n",
       "    edge_index=[2, 26335],\n",
       "    edge_label=[384],\n",
       "    edge_label_index=[2, 384],\n",
       "    e_id=[26335],\n",
       "    input_id=[128],\n",
       "  },\n",
       "  (movie, rev_rates, user)={\n",
       "    edge_index=[2, 39067],\n",
       "    e_id=[39067],\n",
       "  }\n",
       ")"
      ]
     },
     "execution_count": 60,
     "metadata": {},
     "output_type": "execute_result"
    },
    {
     "name": "stderr",
     "output_type": "stream",
     "text": [
      "  0%|▎                                                                           | 137/31497 [00:31<1:56:50,  4.47it/s]"
     ]
    },
    {
     "data": {
      "text/plain": [
       "HeteroData(\n",
       "  user={\n",
       "    node_id=[19306],\n",
       "    n_id=[19306],\n",
       "  },\n",
       "  movie={\n",
       "    node_id=[8004],\n",
       "    x=[8004, 20],\n",
       "    n_id=[8004],\n",
       "  },\n",
       "  (user, rates, movie)={\n",
       "    edge_index=[2, 26497],\n",
       "    edge_label=[384],\n",
       "    edge_label_index=[2, 384],\n",
       "    e_id=[26497],\n",
       "    input_id=[128],\n",
       "  },\n",
       "  (movie, rev_rates, user)={\n",
       "    edge_index=[2, 39612],\n",
       "    e_id=[39612],\n",
       "  }\n",
       ")"
      ]
     },
     "execution_count": 60,
     "metadata": {},
     "output_type": "execute_result"
    },
    {
     "name": "stderr",
     "output_type": "stream",
     "text": [
      "  0%|▎                                                                           | 138/31497 [00:31<1:56:55,  4.47it/s]"
     ]
    },
    {
     "data": {
      "text/plain": [
       "HeteroData(\n",
       "  user={\n",
       "    node_id=[18900],\n",
       "    n_id=[18900],\n",
       "  },\n",
       "  movie={\n",
       "    node_id=[7888],\n",
       "    x=[7888, 20],\n",
       "    n_id=[7888],\n",
       "  },\n",
       "  (user, rates, movie)={\n",
       "    edge_index=[2, 25373],\n",
       "    edge_label=[384],\n",
       "    edge_label_index=[2, 384],\n",
       "    e_id=[25373],\n",
       "    input_id=[128],\n",
       "  },\n",
       "  (movie, rev_rates, user)={\n",
       "    edge_index=[2, 39870],\n",
       "    e_id=[39870],\n",
       "  }\n",
       ")"
      ]
     },
     "execution_count": 60,
     "metadata": {},
     "output_type": "execute_result"
    },
    {
     "name": "stderr",
     "output_type": "stream",
     "text": [
      "  0%|▎                                                                           | 139/31497 [00:31<1:57:45,  4.44it/s]"
     ]
    },
    {
     "data": {
      "text/plain": [
       "HeteroData(\n",
       "  user={\n",
       "    node_id=[18859],\n",
       "    n_id=[18859],\n",
       "  },\n",
       "  movie={\n",
       "    node_id=[7653],\n",
       "    x=[7653, 20],\n",
       "    n_id=[7653],\n",
       "  },\n",
       "  (user, rates, movie)={\n",
       "    edge_index=[2, 25684],\n",
       "    edge_label=[384],\n",
       "    edge_label_index=[2, 384],\n",
       "    e_id=[25684],\n",
       "    input_id=[128],\n",
       "  },\n",
       "  (movie, rev_rates, user)={\n",
       "    edge_index=[2, 38012],\n",
       "    e_id=[38012],\n",
       "  }\n",
       ")"
      ]
     },
     "execution_count": 60,
     "metadata": {},
     "output_type": "execute_result"
    },
    {
     "name": "stderr",
     "output_type": "stream",
     "text": [
      "  0%|▎                                                                           | 140/31497 [00:32<2:10:02,  4.02it/s]"
     ]
    },
    {
     "data": {
      "text/plain": [
       "HeteroData(\n",
       "  user={\n",
       "    node_id=[19116],\n",
       "    n_id=[19116],\n",
       "  },\n",
       "  movie={\n",
       "    node_id=[7775],\n",
       "    x=[7775, 20],\n",
       "    n_id=[7775],\n",
       "  },\n",
       "  (user, rates, movie)={\n",
       "    edge_index=[2, 26143],\n",
       "    edge_label=[384],\n",
       "    edge_label_index=[2, 384],\n",
       "    e_id=[26143],\n",
       "    input_id=[128],\n",
       "  },\n",
       "  (movie, rev_rates, user)={\n",
       "    edge_index=[2, 37683],\n",
       "    e_id=[37683],\n",
       "  }\n",
       ")"
      ]
     },
     "execution_count": 60,
     "metadata": {},
     "output_type": "execute_result"
    },
    {
     "name": "stderr",
     "output_type": "stream",
     "text": [
      "  0%|▎                                                                           | 141/31497 [00:32<2:16:41,  3.82it/s]"
     ]
    },
    {
     "data": {
      "text/plain": [
       "HeteroData(\n",
       "  user={\n",
       "    node_id=[18625],\n",
       "    n_id=[18625],\n",
       "  },\n",
       "  movie={\n",
       "    node_id=[7516],\n",
       "    x=[7516, 20],\n",
       "    n_id=[7516],\n",
       "  },\n",
       "  (user, rates, movie)={\n",
       "    edge_index=[2, 25205],\n",
       "    edge_label=[384],\n",
       "    edge_label_index=[2, 384],\n",
       "    e_id=[25205],\n",
       "    input_id=[128],\n",
       "  },\n",
       "  (movie, rev_rates, user)={\n",
       "    edge_index=[2, 36668],\n",
       "    e_id=[36668],\n",
       "  }\n",
       ")"
      ]
     },
     "execution_count": 60,
     "metadata": {},
     "output_type": "execute_result"
    },
    {
     "name": "stderr",
     "output_type": "stream",
     "text": [
      "  0%|▎                                                                           | 142/31497 [00:32<2:20:58,  3.71it/s]"
     ]
    },
    {
     "data": {
      "text/plain": [
       "HeteroData(\n",
       "  user={\n",
       "    node_id=[20056],\n",
       "    n_id=[20056],\n",
       "  },\n",
       "  movie={\n",
       "    node_id=[7959],\n",
       "    x=[7959, 20],\n",
       "    n_id=[7959],\n",
       "  },\n",
       "  (user, rates, movie)={\n",
       "    edge_index=[2, 28115],\n",
       "    edge_label=[384],\n",
       "    edge_label_index=[2, 384],\n",
       "    e_id=[28115],\n",
       "    input_id=[128],\n",
       "  },\n",
       "  (movie, rev_rates, user)={\n",
       "    edge_index=[2, 39115],\n",
       "    e_id=[39115],\n",
       "  }\n",
       ")"
      ]
     },
     "execution_count": 60,
     "metadata": {},
     "output_type": "execute_result"
    },
    {
     "name": "stderr",
     "output_type": "stream",
     "text": [
      "  0%|▎                                                                           | 143/31497 [00:32<2:05:06,  4.18it/s]"
     ]
    },
    {
     "data": {
      "text/plain": [
       "HeteroData(\n",
       "  user={\n",
       "    node_id=[19088],\n",
       "    n_id=[19088],\n",
       "  },\n",
       "  movie={\n",
       "    node_id=[7719],\n",
       "    x=[7719, 20],\n",
       "    n_id=[7719],\n",
       "  },\n",
       "  (user, rates, movie)={\n",
       "    edge_index=[2, 26206],\n",
       "    edge_label=[384],\n",
       "    edge_label_index=[2, 384],\n",
       "    e_id=[26206],\n",
       "    input_id=[128],\n",
       "  },\n",
       "  (movie, rev_rates, user)={\n",
       "    edge_index=[2, 39270],\n",
       "    e_id=[39270],\n",
       "  }\n",
       ")"
      ]
     },
     "execution_count": 60,
     "metadata": {},
     "output_type": "execute_result"
    }
   ],
   "source": [
    "for epoch in range(1,20):\n",
    "    total_loss = total_examples = 0\n",
    "    for sampled_data in tqdm.tqdm(train_loader):\n",
    "        optimizer.zero_grad()\n",
    "        sampled_data.to(device)\n",
    "        pred = model(sampled_data)\n",
    "        \n",
    "        ground_truth = sampled_data['user', 'rates', 'movie']['edge_label']\n",
    "        loss = F.binary_cross_entropy_with_logits(pred, ground_truth)\n",
    "        loss.backward()\n",
    "        \n",
    "        optimizer.step()\n",
    "        \n",
    "        total_loss += float(loss) * pred.numel()\n",
    "        total_examples += pred.numel()\n",
    "    print(f\"Epoch: {epoch:03d}, Loss: {total_loss / total_examples:.4f}\")"
   ]
  }
 ],
 "metadata": {
  "kernelspec": {
   "display_name": ".env-gnn",
   "language": "python",
   "name": ".env-gnn"
  },
  "language_info": {
   "codemirror_mode": {
    "name": "ipython",
    "version": 3
   },
   "file_extension": ".py",
   "mimetype": "text/x-python",
   "name": "python",
   "nbconvert_exporter": "python",
   "pygments_lexer": "ipython3",
   "version": "3.9.13"
  },
  "widgets": {
   "application/vnd.jupyter.widget-state+json": {
    "state": {},
    "version_major": 2,
    "version_minor": 0
   }
  }
 },
 "nbformat": 4,
 "nbformat_minor": 5
}
