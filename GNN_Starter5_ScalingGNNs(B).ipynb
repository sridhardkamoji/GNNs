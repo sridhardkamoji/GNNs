{
 "cells": [
  {
   "cell_type": "code",
   "execution_count": 1,
   "metadata": {
    "id": "n7Thowghe6Oi"
   },
   "outputs": [],
   "source": [
    "from IPython.core.interactiveshell import InteractiveShell\n",
    "InteractiveShell.ast_node_interactivity = \"all\""
   ]
  },
  {
   "cell_type": "code",
   "execution_count": 1,
   "metadata": {
    "colab": {
     "base_uri": "https://localhost:8080/"
    },
    "collapsed": true,
    "id": "eYL_AwHhbu4v",
    "jupyter": {
     "outputs_hidden": true
    },
    "outputId": "af9d4aa9-39e5-4b4b-8f32-edf9c0fec23c",
    "tags": []
   },
   "outputs": [
    {
     "name": "stdout",
     "output_type": "stream",
     "text": [
      "2.2.1+cu121\n",
      "Looking in links: https://data.pyg.org/whl/torch-2.2.1+cu121.html\n",
      "Collecting pyg-lib\n",
      "  Downloading https://data.pyg.org/whl/torch-2.2.0%2Bcu121/pyg_lib-0.4.0%2Bpt22cu121-cp310-cp310-linux_x86_64.whl (2.5 MB)\n",
      "\u001b[2K     \u001b[90m━━━━━━━━━━━━━━━━━━━━━━━━━━━━━━━━━━━━━━━━\u001b[0m \u001b[32m2.5/2.5 MB\u001b[0m \u001b[31m37.8 MB/s\u001b[0m eta \u001b[36m0:00:00\u001b[0m\n",
      "\u001b[?25hInstalling collected packages: pyg-lib\n",
      "Successfully installed pyg-lib-0.4.0+pt22cu121\n",
      "Collecting git+https://github.com/pyg-team/pytorch_geometric.git\n",
      "  Cloning https://github.com/pyg-team/pytorch_geometric.git to /tmp/pip-req-build-nffq0voj\n",
      "  Running command git clone --filter=blob:none --quiet https://github.com/pyg-team/pytorch_geometric.git /tmp/pip-req-build-nffq0voj\n",
      "  Resolved https://github.com/pyg-team/pytorch_geometric.git to commit e213c297bb2aeb9ac50db258f5ab01ea11aea349\n",
      "  Installing build dependencies ... \u001b[?25l\u001b[?25hdone\n",
      "  Getting requirements to build wheel ... \u001b[?25l\u001b[?25hdone\n",
      "  Preparing metadata (pyproject.toml) ... \u001b[?25l\u001b[?25hdone\n",
      "Requirement already satisfied: aiohttp in /usr/local/lib/python3.10/dist-packages (from torch_geometric==2.6.0) (3.9.3)\n",
      "Requirement already satisfied: fsspec in /usr/local/lib/python3.10/dist-packages (from torch_geometric==2.6.0) (2023.6.0)\n",
      "Requirement already satisfied: jinja2 in /usr/local/lib/python3.10/dist-packages (from torch_geometric==2.6.0) (3.1.3)\n",
      "Requirement already satisfied: numpy in /usr/local/lib/python3.10/dist-packages (from torch_geometric==2.6.0) (1.25.2)\n",
      "Requirement already satisfied: psutil>=5.8.0 in /usr/local/lib/python3.10/dist-packages (from torch_geometric==2.6.0) (5.9.5)\n",
      "Requirement already satisfied: pyparsing in /usr/local/lib/python3.10/dist-packages (from torch_geometric==2.6.0) (3.1.2)\n",
      "Requirement already satisfied: requests in /usr/local/lib/python3.10/dist-packages (from torch_geometric==2.6.0) (2.31.0)\n",
      "Requirement already satisfied: scikit-learn in /usr/local/lib/python3.10/dist-packages (from torch_geometric==2.6.0) (1.2.2)\n",
      "Requirement already satisfied: scipy in /usr/local/lib/python3.10/dist-packages (from torch_geometric==2.6.0) (1.11.4)\n",
      "Requirement already satisfied: tqdm in /usr/local/lib/python3.10/dist-packages (from torch_geometric==2.6.0) (4.66.2)\n",
      "Requirement already satisfied: aiosignal>=1.1.2 in /usr/local/lib/python3.10/dist-packages (from aiohttp->torch_geometric==2.6.0) (1.3.1)\n",
      "Requirement already satisfied: attrs>=17.3.0 in /usr/local/lib/python3.10/dist-packages (from aiohttp->torch_geometric==2.6.0) (23.2.0)\n",
      "Requirement already satisfied: frozenlist>=1.1.1 in /usr/local/lib/python3.10/dist-packages (from aiohttp->torch_geometric==2.6.0) (1.4.1)\n",
      "Requirement already satisfied: multidict<7.0,>=4.5 in /usr/local/lib/python3.10/dist-packages (from aiohttp->torch_geometric==2.6.0) (6.0.5)\n",
      "Requirement already satisfied: yarl<2.0,>=1.0 in /usr/local/lib/python3.10/dist-packages (from aiohttp->torch_geometric==2.6.0) (1.9.4)\n",
      "Requirement already satisfied: async-timeout<5.0,>=4.0 in /usr/local/lib/python3.10/dist-packages (from aiohttp->torch_geometric==2.6.0) (4.0.3)\n",
      "Requirement already satisfied: MarkupSafe>=2.0 in /usr/local/lib/python3.10/dist-packages (from jinja2->torch_geometric==2.6.0) (2.1.5)\n",
      "Requirement already satisfied: charset-normalizer<4,>=2 in /usr/local/lib/python3.10/dist-packages (from requests->torch_geometric==2.6.0) (3.3.2)\n",
      "Requirement already satisfied: idna<4,>=2.5 in /usr/local/lib/python3.10/dist-packages (from requests->torch_geometric==2.6.0) (3.6)\n",
      "Requirement already satisfied: urllib3<3,>=1.21.1 in /usr/local/lib/python3.10/dist-packages (from requests->torch_geometric==2.6.0) (2.0.7)\n",
      "Requirement already satisfied: certifi>=2017.4.17 in /usr/local/lib/python3.10/dist-packages (from requests->torch_geometric==2.6.0) (2024.2.2)\n",
      "Requirement already satisfied: joblib>=1.1.1 in /usr/local/lib/python3.10/dist-packages (from scikit-learn->torch_geometric==2.6.0) (1.3.2)\n",
      "Requirement already satisfied: threadpoolctl>=2.0.0 in /usr/local/lib/python3.10/dist-packages (from scikit-learn->torch_geometric==2.6.0) (3.4.0)\n",
      "Building wheels for collected packages: torch_geometric\n",
      "  Building wheel for torch_geometric (pyproject.toml) ... \u001b[?25l\u001b[?25hdone\n",
      "  Created wheel for torch_geometric: filename=torch_geometric-2.6.0-py3-none-any.whl size=1104721 sha256=378c6de9d0c979d123852fee1982397f0d5f9855cb821e6d07eee799b7d26bab\n",
      "  Stored in directory: /tmp/pip-ephem-wheel-cache-drvehm23/wheels/d3/78/eb/9e26525b948d19533f1688fb6c209cec8a0ba793d39b49ae8f\n",
      "Successfully built torch_geometric\n",
      "Installing collected packages: torch_geometric\n",
      "Successfully installed torch_geometric-2.6.0\n"
     ]
    }
   ],
   "source": [
    "# Install required packages.\n",
    "import os\n",
    "import torch\n",
    "os.environ['TORCH'] = torch.__version__\n",
    "print(torch.__version__)\n",
    "\n",
    "!pip install pyg-lib -f https://data.pyg.org/whl/torch-${TORCH}.html\n",
    "!pip install git+https://github.com/pyg-team/pytorch_geometric.git"
   ]
  },
  {
   "cell_type": "code",
   "execution_count": 2,
   "metadata": {
    "id": "4cp3hmU_dPsM"
   },
   "outputs": [],
   "source": [
    "import torch\n",
    "from torch_geometric.datasets import Planetoid\n",
    "from torch_geometric.transforms import NormalizeFeatures"
   ]
  },
  {
   "cell_type": "code",
   "execution_count": 3,
   "metadata": {
    "id": "Mw8CLJ9EekFQ"
   },
   "outputs": [],
   "source": [
    "dataset = Planetoid(root='./datasets/Planetoid', name = 'PubMed', transform=NormalizeFeatures())"
   ]
  },
  {
   "cell_type": "code",
   "execution_count": 6,
   "metadata": {
    "colab": {
     "base_uri": "https://localhost:8080/"
    },
    "id": "FvMX5L_FfEOa",
    "outputId": "18e754d9-071c-47bc-8954-4e754cff2f71"
   },
   "outputs": [
    {
     "data": {
      "text/plain": [
       "PubMed()"
      ]
     },
     "execution_count": 6,
     "metadata": {},
     "output_type": "execute_result"
    },
    {
     "data": {
      "text/plain": [
       "Data(x=[19717, 500], edge_index=[2, 88648], y=[19717], train_mask=[19717], val_mask=[19717], test_mask=[19717])"
      ]
     },
     "execution_count": 6,
     "metadata": {},
     "output_type": "execute_result"
    },
    {
     "data": {
      "text/plain": [
       "3"
      ]
     },
     "execution_count": 6,
     "metadata": {},
     "output_type": "execute_result"
    },
    {
     "data": {
      "text/plain": [
       "0"
      ]
     },
     "execution_count": 6,
     "metadata": {},
     "output_type": "execute_result"
    },
    {
     "data": {
      "text/plain": [
       "500"
      ]
     },
     "execution_count": 6,
     "metadata": {},
     "output_type": "execute_result"
    }
   ],
   "source": [
    "dataset\n",
    "dataset[0]\n",
    "dataset.num_classes\n",
    "dataset.num_edge_features\n",
    "dataset.num_node_features"
   ]
  },
  {
   "cell_type": "code",
   "execution_count": 9,
   "metadata": {
    "colab": {
     "base_uri": "https://localhost:8080/"
    },
    "id": "71AUe_3MfR0p",
    "outputId": "e6c40423-3356-4694-c0fe-68fad136021b"
   },
   "outputs": [
    {
     "data": {
      "text/plain": [
       "Data(x=[19717, 500], edge_index=[2, 88648], y=[19717], train_mask=[19717], val_mask=[19717], test_mask=[19717])"
      ]
     },
     "execution_count": 9,
     "metadata": {},
     "output_type": "execute_result"
    },
    {
     "data": {
      "text/plain": [
       "19717"
      ]
     },
     "execution_count": 9,
     "metadata": {},
     "output_type": "execute_result"
    },
    {
     "data": {
      "text/plain": [
       "4.496018664096972"
      ]
     },
     "execution_count": 9,
     "metadata": {},
     "output_type": "execute_result"
    },
    {
     "data": {
      "text/plain": [
       "0.0030430592889384793"
      ]
     },
     "execution_count": 9,
     "metadata": {},
     "output_type": "execute_result"
    }
   ],
   "source": [
    "data = dataset[0]\n",
    "data\n",
    "data.num_nodes\n",
    "data.num_edges /  data.num_nodes\n",
    "data['train_mask'].sum().item() / data.num_nodes"
   ]
  },
  {
   "cell_type": "code",
   "execution_count": 10,
   "metadata": {
    "id": "oH78Km8Sfnf7"
   },
   "outputs": [],
   "source": [
    "from torch_geometric.loader import ClusterData, ClusterLoader"
   ]
  },
  {
   "cell_type": "code",
   "execution_count": 11,
   "metadata": {
    "colab": {
     "base_uri": "https://localhost:8080/"
    },
    "id": "QPpXEvBUfn1H",
    "outputId": "529b60e0-47b6-4df6-b481-dcb3074ea26f"
   },
   "outputs": [
    {
     "name": "stderr",
     "output_type": "stream",
     "text": [
      "Computing METIS partitioning...\n",
      "Done!\n"
     ]
    }
   ],
   "source": [
    "cluster_data = ClusterData(data, num_parts=128)\n",
    "train_loader = ClusterLoader(cluster_data, batch_size = 32, shuffle = True)"
   ]
  },
  {
   "cell_type": "code",
   "execution_count": 15,
   "metadata": {
    "colab": {
     "base_uri": "https://localhost:8080/",
     "height": 365
    },
    "id": "7ytwpfsRgCsy",
    "outputId": "e0115457-c6b8-4df1-a850-15e53276274d"
   },
   "outputs": [
    {
     "data": {
      "text/plain": [
       "ClusterData(128)"
      ]
     },
     "execution_count": 15,
     "metadata": {},
     "output_type": "execute_result"
    },
    {
     "data": {
      "text/plain": [
       "Data(x=[19717, 500], y=[19717], train_mask=[19717], val_mask=[19717], test_mask=[19717])"
      ]
     },
     "execution_count": 15,
     "metadata": {},
     "output_type": "execute_result"
    },
    {
     "data": {
      "text/plain": [
       "False"
      ]
     },
     "execution_count": 15,
     "metadata": {},
     "output_type": "execute_result"
    },
    {
     "data": {
      "text/plain": [
       "128"
      ]
     },
     "execution_count": 15,
     "metadata": {},
     "output_type": "execute_result"
    },
    {
     "data": {
      "text/plain": [
       "Partition(indptr=tensor([    0,     2,     3,  ..., 88645, 88647, 88648]), index=tensor([    1,   151,     0,  ..., 18371, 19681, 19613]), partptr=tensor([    0,   154,   308,   462,   616,   769,   923,  1077,  1231,  1385,\n",
       "         1539,  1693,  1847,  2001,  2156,  2310,  2465,  2620,  2769,  2927,\n",
       "         3080,  3236,  3389,  3545,  3701,  3854,  4007,  4160,  4315,  4469,\n",
       "         4622,  4777,  4930,  5084,  5238,  5392,  5546,  5700,  5854,  6008,\n",
       "         6162,  6315,  6469,  6623,  6777,  6931,  7084,  7238,  7392,  7546,\n",
       "         7700,  7853,  8007,  8160,  8314,  8467,  8625,  8779,  8933,  9086,\n",
       "         9240,  9395,  9549,  9703,  9857, 10011, 10165, 10320, 10474, 10628,\n",
       "        10782, 10936, 11089, 11243, 11397, 11551, 11705, 11859, 12013, 12166,\n",
       "        12320, 12474, 12626, 12780, 12934, 13088, 13242, 13396, 13550, 13704,\n",
       "        13858, 14012, 14166, 14321, 14476, 14630, 14785, 14939, 15093, 15247,\n",
       "        15401, 15555, 15709, 15862, 16016, 16171, 16326, 16481, 16635, 16789,\n",
       "        16943, 17097, 17251, 17406, 17560, 17714, 17868, 18022, 18176, 18330,\n",
       "        18485, 18639, 18793, 18947, 19101, 19255, 19409, 19563, 19717]), node_perm=tensor([ 1050,  6194, 14013,  ..., 19444, 17319,  7558]), edge_perm=tensor([28249, 80219,  4787,  ...,  9389, 21852,  6642]), sparse_format='csr')"
      ]
     },
     "execution_count": 15,
     "metadata": {},
     "output_type": "execute_result"
    },
    {
     "data": {
      "application/vnd.google.colaboratory.intrinsic+json": {
       "type": "string"
      },
      "text/plain": [
       "'csr'"
      ]
     },
     "execution_count": 15,
     "metadata": {},
     "output_type": "execute_result"
    }
   ],
   "source": [
    "cluster_data\n",
    "cluster_data.data\n",
    "cluster_data.keep_inter_cluster_edges\n",
    "cluster_data.num_parts\n",
    "cluster_data.partition\n",
    "cluster_data.sparse_format"
   ]
  },
  {
   "cell_type": "code",
   "execution_count": 17,
   "metadata": {
    "colab": {
     "base_uri": "https://localhost:8080/"
    },
    "id": "lAfembZbgjdR",
    "outputId": "707385f4-6d0d-4313-f779-961cfe85b1c2"
   },
   "outputs": [
    {
     "name": "stdout",
     "output_type": "stream",
     "text": [
      "step :: 1\n",
      "num of nodes :: 4933\n",
      "Data(x=[4933, 500], y=[4933], train_mask=[4933], val_mask=[4933], test_mask=[4933], edge_index=[2, 16720])\n",
      "step :: 2\n",
      "num of nodes :: 4929\n",
      "Data(x=[4929, 500], y=[4929], train_mask=[4929], val_mask=[4929], test_mask=[4929], edge_index=[2, 16538])\n",
      "step :: 3\n",
      "num of nodes :: 4923\n",
      "Data(x=[4923, 500], y=[4923], train_mask=[4923], val_mask=[4923], test_mask=[4923], edge_index=[2, 16942])\n",
      "step :: 4\n",
      "num of nodes :: 4932\n",
      "Data(x=[4932, 500], y=[4932], train_mask=[4932], val_mask=[4932], test_mask=[4932], edge_index=[2, 16160])\n"
     ]
    }
   ],
   "source": [
    "total_num_nodes = 0\n",
    "for step, sub_data in enumerate(train_loader):\n",
    "    print(f\"step :: {step + 1}\")\n",
    "    print(f\"num of nodes :: {sub_data.num_nodes}\")\n",
    "    print(sub_data)\n",
    "    total_num_nodes = total_num_nodes + sub_data.num_nodes"
   ]
  },
  {
   "cell_type": "code",
   "execution_count": 23,
   "metadata": {
    "colab": {
     "base_uri": "https://localhost:8080/"
    },
    "id": "eRtbQlUJhsM6",
    "outputId": "915bd250-3ed0-405b-b0b0-84d8cae36e91"
   },
   "outputs": [
    {
     "data": {
      "text/plain": [
       "19717"
      ]
     },
     "execution_count": 23,
     "metadata": {},
     "output_type": "execute_result"
    },
    {
     "data": {
      "text/plain": [
       "4929.25"
      ]
     },
     "execution_count": 23,
     "metadata": {},
     "output_type": "execute_result"
    }
   ],
   "source": [
    "total_num_nodes\n",
    "(total_num_nodes / 128) * 32 # num nodes per batch for batch_size 32"
   ]
  },
  {
   "cell_type": "code",
   "execution_count": 20,
   "metadata": {
    "colab": {
     "base_uri": "https://localhost:8080/"
    },
    "id": "43PV4_OBhXh8",
    "outputId": "aec78680-d136-401b-87fc-95e91001308e"
   },
   "outputs": [
    {
     "data": {
      "text/plain": [
       "Data(x=[4932, 500], y=[4932], train_mask=[4932], val_mask=[4932], test_mask=[4932], edge_index=[2, 16160])"
      ]
     },
     "execution_count": 20,
     "metadata": {},
     "output_type": "execute_result"
    },
    {
     "data": {
      "text/plain": [
       "tensor([[0.0000, 0.0000, 0.0000,  ..., 0.0000, 0.0000, 0.0000],\n",
       "        [0.0394, 0.0000, 0.0000,  ..., 0.0000, 0.0000, 0.0000],\n",
       "        [0.0343, 0.0000, 0.0000,  ..., 0.0000, 0.0000, 0.0000],\n",
       "        ...,\n",
       "        [0.0103, 0.0157, 0.0000,  ..., 0.0000, 0.0000, 0.0000],\n",
       "        [0.0577, 0.0000, 0.0000,  ..., 0.0000, 0.0000, 0.0000],\n",
       "        [0.0095, 0.0000, 0.0000,  ..., 0.0000, 0.0000, 0.0000]])"
      ]
     },
     "execution_count": 20,
     "metadata": {},
     "output_type": "execute_result"
    }
   ],
   "source": [
    "sub_data\n",
    "sub_data['x']"
   ]
  },
  {
   "cell_type": "code",
   "execution_count": 24,
   "metadata": {
    "id": "WqZ5C1iFgjwk"
   },
   "outputs": [],
   "source": [
    "from torch_geometric.nn import GCNConv\n",
    "import torch.nn.functional as F"
   ]
  },
  {
   "cell_type": "code",
   "execution_count": 27,
   "metadata": {
    "id": "BdvXZhaiiTc4"
   },
   "outputs": [],
   "source": [
    "class GCN(torch.nn.Module):\n",
    "    def __init__(self, hidden_channels):\n",
    "        super().__init__()\n",
    "        self.conv1 = GCNConv(in_channels=dataset.num_node_features, out_channels=hidden_channels)\n",
    "        self.conv2 = GCNConv(in_channels=hidden_channels, out_channels=dataset.num_classes)\n",
    "\n",
    "    def forward(self, x, edge_index):\n",
    "        x = self.conv1(x, edge_index)\n",
    "        x = x.relu()\n",
    "        x = F.dropout(x, p=0.5, training=self.training)\n",
    "        x = self.conv2(x, edge_index)\n",
    "        return x"
   ]
  },
  {
   "cell_type": "code",
   "execution_count": 28,
   "metadata": {
    "colab": {
     "base_uri": "https://localhost:8080/"
    },
    "id": "Te43BLwrgj5d",
    "outputId": "7f25f58f-84a3-4da8-ce65-f98229e58b2a"
   },
   "outputs": [
    {
     "data": {
      "text/plain": [
       "GCN(\n",
       "  (conv1): GCNConv(500, 16)\n",
       "  (conv2): GCNConv(16, 3)\n",
       ")"
      ]
     },
     "execution_count": 28,
     "metadata": {},
     "output_type": "execute_result"
    }
   ],
   "source": [
    "model= GCN(hidden_channels=16)\n",
    "model"
   ]
  },
  {
   "cell_type": "code",
   "execution_count": 29,
   "metadata": {
    "id": "j7_X9B5jjMa3"
   },
   "outputs": [],
   "source": [
    "optimizer = torch.optim.Adam(params = model.parameters(), lr = 0.01, weight_decay=5e-4)\n",
    "criterion = torch.nn.CrossEntropyLoss()"
   ]
  },
  {
   "cell_type": "code",
   "execution_count": 30,
   "metadata": {
    "id": "xadAzr-2kMXP"
   },
   "outputs": [],
   "source": [
    "def train():\n",
    "    model.train()\n",
    "    for sub_data in train_loader:\n",
    "        optimizer.zero_grad()\n",
    "        out = model(sub_data['x'], sub_data['edge_index'])\n",
    "        loss = criterion(out[sub_data['train_mask']], sub_data['y'][sub_data['train_mask']])\n",
    "        loss.backward()\n",
    "        optimizer.step()\n",
    "\n",
    "def test():\n",
    "    model.eval()\n",
    "    out = model(data['x'], data['edge_index'])\n",
    "    pred = out.argmax(dim=1)\n",
    "\n",
    "    acc = []\n",
    "    for mask in [data['train_mask'], data['val_mask'], data['test_mask']]:\n",
    "        correct = pred[mask] == data['y'][mask]\n",
    "        acc.append(int(correct.sum()) / int(mask.sum()))\n",
    "    return acc"
   ]
  },
  {
   "cell_type": "code",
   "execution_count": 31,
   "metadata": {
    "colab": {
     "base_uri": "https://localhost:8080/"
    },
    "id": "UVIV5WZKlpT0",
    "outputId": "4c09aa88-fae3-4bf2-be1a-525450446487"
   },
   "outputs": [
    {
     "name": "stdout",
     "output_type": "stream",
     "text": [
      "epoch = 10 :: train_acc = 0.9333333333333333 :: val_acc = 0.764, test_acc = 0.733\n",
      "epoch = 20 :: train_acc = 0.9666666666666667 :: val_acc = 0.788, test_acc = 0.757\n",
      "epoch = 30 :: train_acc = 0.9833333333333333 :: val_acc = 0.796, test_acc = 0.766\n",
      "epoch = 40 :: train_acc = 0.9833333333333333 :: val_acc = 0.8, test_acc = 0.785\n",
      "epoch = 50 :: train_acc = 0.9833333333333333 :: val_acc = 0.812, test_acc = 0.782\n",
      "epoch = 60 :: train_acc = 0.9833333333333333 :: val_acc = 0.798, test_acc = 0.781\n",
      "epoch = 70 :: train_acc = 0.9833333333333333 :: val_acc = 0.8, test_acc = 0.773\n",
      "epoch = 80 :: train_acc = 0.9833333333333333 :: val_acc = 0.808, test_acc = 0.781\n",
      "epoch = 90 :: train_acc = 1.0 :: val_acc = 0.8, test_acc = 0.776\n",
      "epoch = 100 :: train_acc = 1.0 :: val_acc = 0.798, test_acc = 0.778\n"
     ]
    }
   ],
   "source": [
    "for epoch in range(1,101):\n",
    "    loss = train()\n",
    "    if epoch % 10 == 0:\n",
    "        train_acc, val_acc, test_acc = test()\n",
    "        print(f\"epoch = {epoch} :: train_acc = {train_acc} :: val_acc = {val_acc}, test_acc = {test_acc}\")"
   ]
  }
 ],
 "metadata": {
  "accelerator": "GPU",
  "colab": {
   "gpuType": "T4",
   "provenance": []
  },
  "kernelspec": {
   "display_name": "Python 3 (ipykernel)",
   "language": "python",
   "name": "python3"
  },
  "language_info": {
   "codemirror_mode": {
    "name": "ipython",
    "version": 3
   },
   "file_extension": ".py",
   "mimetype": "text/x-python",
   "name": "python",
   "nbconvert_exporter": "python",
   "pygments_lexer": "ipython3",
   "version": "3.9.13"
  },
  "widgets": {
   "application/vnd.jupyter.widget-state+json": {
    "state": {},
    "version_major": 2,
    "version_minor": 0
   }
  }
 },
 "nbformat": 4,
 "nbformat_minor": 4
}
