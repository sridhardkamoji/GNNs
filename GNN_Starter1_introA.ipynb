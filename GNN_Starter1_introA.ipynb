{
 "cells": [
  {
   "cell_type": "code",
   "execution_count": 14,
   "metadata": {
    "tags": []
   },
   "outputs": [],
   "source": [
    "from IPython.core.interactiveshell import InteractiveShell\n",
    "InteractiveShell.ast_node_interactivity = \"all\""
   ]
  },
  {
   "cell_type": "markdown",
   "metadata": {},
   "source": [
    "### 1. Data Handling of Graphs"
   ]
  },
  {
   "cell_type": "code",
   "execution_count": 43,
   "metadata": {
    "tags": []
   },
   "outputs": [],
   "source": [
    "import networkx"
   ]
  },
  {
   "cell_type": "code",
   "execution_count": 2,
   "metadata": {
    "tags": []
   },
   "outputs": [],
   "source": [
    "import torch\n",
    "from torch_geometric.data import Data"
   ]
  },
  {
   "cell_type": "code",
   "execution_count": 4,
   "metadata": {
    "tags": []
   },
   "outputs": [],
   "source": [
    "# 3 nodes 0,1,2\n",
    "# 0 <-> 1 <-> 2\n",
    "# feature = -1 0 1\n",
    "edge_index = torch.tensor([[0,1,1,2],\n",
    "                           [1,0,2,1]], dtype = torch.long)\n",
    "x = torch.tensor([[-1], [0], [1]], dtype = torch.float)"
   ]
  },
  {
   "cell_type": "code",
   "execution_count": 5,
   "metadata": {
    "tags": []
   },
   "outputs": [],
   "source": [
    "data = Data(x=x, edge_index=edge_index)"
   ]
  },
  {
   "cell_type": "code",
   "execution_count": 6,
   "metadata": {
    "tags": []
   },
   "outputs": [
    {
     "data": {
      "text/plain": [
       "Data(x=[3, 1], edge_index=[2, 4])"
      ]
     },
     "execution_count": 6,
     "metadata": {},
     "output_type": "execute_result"
    }
   ],
   "source": [
    "data"
   ]
  },
  {
   "cell_type": "code",
   "execution_count": 7,
   "metadata": {
    "tags": []
   },
   "outputs": [],
   "source": [
    "edge_index = torch.tensor([[0,1], [1,0], [1,2], [2,1]], dtype= torch.long)\n",
    "x = torch.tensor([[-1], [0], [1]], dtype = torch.float)"
   ]
  },
  {
   "cell_type": "code",
   "execution_count": 15,
   "metadata": {
    "tags": []
   },
   "outputs": [
    {
     "data": {
      "text/plain": [
       "tensor([[0, 1],\n",
       "        [1, 0],\n",
       "        [1, 2],\n",
       "        [2, 1]])"
      ]
     },
     "execution_count": 15,
     "metadata": {},
     "output_type": "execute_result"
    },
    {
     "data": {
      "text/plain": [
       "tensor([[0, 1, 1, 2],\n",
       "        [1, 0, 2, 1]])"
      ]
     },
     "execution_count": 15,
     "metadata": {},
     "output_type": "execute_result"
    }
   ],
   "source": [
    "edge_index\n",
    "edge_index.t().contiguous()"
   ]
  },
  {
   "cell_type": "code",
   "execution_count": 17,
   "metadata": {
    "tags": []
   },
   "outputs": [
    {
     "data": {
      "text/plain": [
       "tensor([[-1.],\n",
       "        [ 0.],\n",
       "        [ 1.]])"
      ]
     },
     "execution_count": 17,
     "metadata": {},
     "output_type": "execute_result"
    },
    {
     "data": {
      "text/plain": [
       "tensor([[0, 1, 1, 2],\n",
       "        [1, 0, 2, 1]])"
      ]
     },
     "execution_count": 17,
     "metadata": {},
     "output_type": "execute_result"
    }
   ],
   "source": [
    "data.x\n",
    "data.edge_index"
   ]
  },
  {
   "cell_type": "code",
   "execution_count": 21,
   "metadata": {
    "tags": []
   },
   "outputs": [
    {
     "data": {
      "text/plain": [
       "['x', 'edge_index']"
      ]
     },
     "execution_count": 21,
     "metadata": {},
     "output_type": "execute_result"
    },
    {
     "data": {
      "text/plain": [
       "tensor([[-1.],\n",
       "        [ 0.],\n",
       "        [ 1.]])"
      ]
     },
     "execution_count": 21,
     "metadata": {},
     "output_type": "execute_result"
    },
    {
     "data": {
      "text/plain": [
       "tensor([[0, 1, 1, 2],\n",
       "        [1, 0, 2, 1]])"
      ]
     },
     "execution_count": 21,
     "metadata": {},
     "output_type": "execute_result"
    }
   ],
   "source": [
    "data.keys()\n",
    "data['x']\n",
    "data['edge_index']"
   ]
  },
  {
   "cell_type": "code",
   "execution_count": 24,
   "metadata": {
    "tags": []
   },
   "outputs": [
    {
     "data": {
      "text/plain": [
       "3"
      ]
     },
     "execution_count": 24,
     "metadata": {},
     "output_type": "execute_result"
    },
    {
     "data": {
      "text/plain": [
       "4"
      ]
     },
     "execution_count": 24,
     "metadata": {},
     "output_type": "execute_result"
    },
    {
     "data": {
      "text/plain": [
       "1"
      ]
     },
     "execution_count": 24,
     "metadata": {},
     "output_type": "execute_result"
    }
   ],
   "source": [
    "data.num_nodes\n",
    "data.num_edges\n",
    "data.num_node_features"
   ]
  },
  {
   "cell_type": "code",
   "execution_count": 26,
   "metadata": {
    "tags": []
   },
   "outputs": [],
   "source": [
    "device = torch.device(\"cuda\")\n",
    "data = data.to(device)"
   ]
  },
  {
   "cell_type": "markdown",
   "metadata": {},
   "source": [
    "### 2. Loading inbuilt Graph Datasets"
   ]
  },
  {
   "cell_type": "code",
   "execution_count": 27,
   "metadata": {
    "tags": []
   },
   "outputs": [],
   "source": [
    "from torch_geometric.datasets import TUDataset"
   ]
  },
  {
   "cell_type": "code",
   "execution_count": 28,
   "metadata": {
    "tags": []
   },
   "outputs": [
    {
     "name": "stderr",
     "output_type": "stream",
     "text": [
      "Downloading https://www.chrsmrrs.com/graphkerneldatasets/ENZYMES.zip\n",
      "Processing...\n",
      "Done!\n"
     ]
    }
   ],
   "source": [
    "dataset = TUDataset(root='./dataset/ENZYMES', name =\"ENZYMES\")"
   ]
  },
  {
   "cell_type": "code",
   "execution_count": 34,
   "metadata": {
    "tags": []
   },
   "outputs": [
    {
     "data": {
      "text/plain": [
       "ENZYMES(600)"
      ]
     },
     "execution_count": 34,
     "metadata": {},
     "output_type": "execute_result"
    },
    {
     "data": {
      "text/plain": [
       "600"
      ]
     },
     "execution_count": 34,
     "metadata": {},
     "output_type": "execute_result"
    },
    {
     "data": {
      "text/plain": [
       "6"
      ]
     },
     "execution_count": 34,
     "metadata": {},
     "output_type": "execute_result"
    },
    {
     "data": {
      "text/plain": [
       "3"
      ]
     },
     "execution_count": 34,
     "metadata": {},
     "output_type": "execute_result"
    },
    {
     "data": {
      "text/plain": [
       "3"
      ]
     },
     "execution_count": 34,
     "metadata": {},
     "output_type": "execute_result"
    }
   ],
   "source": [
    "dataset\n",
    "len(dataset)\n",
    "dataset.num_classes\n",
    "dataset.num_features\n",
    "dataset.num_node_labels"
   ]
  },
  {
   "cell_type": "code",
   "execution_count": 37,
   "metadata": {
    "tags": []
   },
   "outputs": [
    {
     "data": {
      "text/plain": [
       "Data(edge_index=[2, 168], x=[37, 3], y=[1])"
      ]
     },
     "execution_count": 37,
     "metadata": {},
     "output_type": "execute_result"
    },
    {
     "data": {
      "text/plain": [
       "Data(edge_index=[2, 190], x=[47, 3], y=[1])"
      ]
     },
     "execution_count": 37,
     "metadata": {},
     "output_type": "execute_result"
    }
   ],
   "source": [
    "dataset[0]\n",
    "dataset[40]"
   ]
  },
  {
   "cell_type": "code",
   "execution_count": 38,
   "metadata": {
    "tags": []
   },
   "outputs": [],
   "source": [
    "sample_data = dataset[0]"
   ]
  },
  {
   "cell_type": "code",
   "execution_count": 48,
   "metadata": {
    "scrolled": true,
    "tags": []
   },
   "outputs": [
    {
     "data": {
      "text/plain": [
       "Data(edge_index=[2, 168], x=[37, 3], y=[1])"
      ]
     },
     "execution_count": 48,
     "metadata": {},
     "output_type": "execute_result"
    },
    {
     "data": {
      "text/plain": [
       "['y', 'x', 'edge_index']"
      ]
     },
     "execution_count": 48,
     "metadata": {},
     "output_type": "execute_result"
    },
    {
     "data": {
      "text/plain": [
       "False"
      ]
     },
     "execution_count": 48,
     "metadata": {},
     "output_type": "execute_result"
    },
    {
     "data": {
      "text/plain": [
       "tensor([[ 0,  0,  0,  1,  1,  1,  1,  1,  2,  2,  2,  2,  2,  3,  3,  3,  3,  3,\n",
       "          3,  4,  4,  4,  4,  5,  5,  5,  5,  5,  6,  6,  6,  6,  7,  7,  7,  7,\n",
       "          7,  8,  8,  8,  9,  9,  9,  9,  9, 10, 10, 10, 10, 11, 11, 11, 11, 12,\n",
       "         12, 12, 12, 12, 13, 13, 13, 13, 14, 14, 14, 14, 15, 15, 15, 15, 16, 16,\n",
       "         16, 16, 17, 17, 17, 17, 18, 18, 18, 19, 19, 19, 20, 20, 20, 20, 20, 20,\n",
       "         21, 21, 21, 21, 21, 22, 22, 22, 22, 23, 23, 23, 23, 24, 24, 24, 24, 25,\n",
       "         25, 25, 25, 25, 26, 26, 26, 26, 26, 27, 27, 27, 27, 27, 28, 28, 28, 28,\n",
       "         28, 28, 29, 29, 29, 29, 29, 29, 29, 30, 30, 30, 30, 30, 31, 31, 31, 32,\n",
       "         32, 32, 32, 33, 33, 33, 33, 33, 33, 34, 34, 34, 34, 34, 34, 35, 35, 35,\n",
       "         35, 35, 36, 36, 36, 36],\n",
       "        [ 1,  2,  3,  0,  2,  3, 24, 27,  0,  1,  3, 27, 28,  0,  1,  2,  4,  5,\n",
       "         28,  3,  5,  6, 29,  3,  4,  6,  7, 29,  4,  5,  7,  8,  5,  6,  8,  9,\n",
       "         10,  6,  7,  9,  7,  8, 10, 11, 12,  7,  9, 11, 12,  9, 10, 12, 26,  9,\n",
       "         10, 11, 25, 26, 14, 15, 16, 25, 13, 15, 16, 25, 13, 14, 16, 17, 13, 14,\n",
       "         15, 17, 15, 16, 18, 19, 17, 19, 20, 17, 18, 20, 18, 19, 21, 22, 23, 30,\n",
       "         20, 22, 23, 30, 35, 20, 21, 23, 35, 20, 21, 22, 33,  1, 27, 28, 29, 12,\n",
       "         13, 14, 26, 29, 11, 12, 25, 28, 29,  1,  2, 24, 28, 29,  2,  3, 24, 26,\n",
       "         27, 29,  4,  5, 24, 25, 26, 27, 28, 20, 21, 33, 34, 35, 32, 34, 36, 31,\n",
       "         33, 34, 36, 23, 30, 32, 34, 35, 36, 30, 31, 32, 33, 35, 36, 21, 22, 30,\n",
       "         33, 34, 31, 32, 33, 34]])"
      ]
     },
     "execution_count": 48,
     "metadata": {},
     "output_type": "execute_result"
    },
    {
     "data": {
      "text/plain": [
       "tensor([[1., 0., 0.],\n",
       "        [1., 0., 0.],\n",
       "        [1., 0., 0.],\n",
       "        [1., 0., 0.],\n",
       "        [1., 0., 0.],\n",
       "        [1., 0., 0.],\n",
       "        [1., 0., 0.],\n",
       "        [1., 0., 0.],\n",
       "        [1., 0., 0.],\n",
       "        [1., 0., 0.],\n",
       "        [1., 0., 0.],\n",
       "        [1., 0., 0.],\n",
       "        [1., 0., 0.],\n",
       "        [1., 0., 0.],\n",
       "        [1., 0., 0.],\n",
       "        [1., 0., 0.],\n",
       "        [1., 0., 0.],\n",
       "        [1., 0., 0.],\n",
       "        [1., 0., 0.],\n",
       "        [1., 0., 0.],\n",
       "        [1., 0., 0.],\n",
       "        [1., 0., 0.],\n",
       "        [1., 0., 0.],\n",
       "        [1., 0., 0.],\n",
       "        [0., 1., 0.],\n",
       "        [0., 1., 0.],\n",
       "        [0., 1., 0.],\n",
       "        [0., 1., 0.],\n",
       "        [0., 1., 0.],\n",
       "        [0., 1., 0.],\n",
       "        [0., 1., 0.],\n",
       "        [0., 1., 0.],\n",
       "        [0., 1., 0.],\n",
       "        [0., 1., 0.],\n",
       "        [0., 1., 0.],\n",
       "        [0., 1., 0.],\n",
       "        [0., 1., 0.]])"
      ]
     },
     "execution_count": 48,
     "metadata": {},
     "output_type": "execute_result"
    },
    {
     "data": {
      "text/plain": [
       "tensor([5])"
      ]
     },
     "execution_count": 48,
     "metadata": {},
     "output_type": "execute_result"
    }
   ],
   "source": [
    "sample_data\n",
    "sample_data.keys()\n",
    "sample_data.is_directed()\n",
    "sample_data['edge_index']\n",
    "sample_data['x']\n",
    "sample_data['y']"
   ]
  },
  {
   "cell_type": "code",
   "execution_count": 44,
   "metadata": {
    "tags": []
   },
   "outputs": [],
   "source": [
    "from torch_geometric.utils import to_networkx\n",
    "import networkx"
   ]
  },
  {
   "cell_type": "code",
   "execution_count": 46,
   "metadata": {
    "scrolled": true,
    "tags": []
   },
   "outputs": [
    {
     "data": {
      "image/png": "[encoded data removed]",
      "text/plain": [
       "<Figure size 640x480 with 1 Axes>"
      ]
     },
     "metadata": {},
     "output_type": "display_data"
    }
   ],
   "source": [
    "g = to_networkx(sample_data, to_undirected=True)\n",
    "networkx.draw(g)"
   ]
  },
  {
   "cell_type": "code",
   "execution_count": 52,
   "metadata": {
    "tags": []
   },
   "outputs": [],
   "source": [
    "dataset = dataset.shuffle()"
   ]
  },
  {
   "cell_type": "code",
   "execution_count": 53,
   "metadata": {
    "tags": []
   },
   "outputs": [],
   "source": [
    "train_dataset = dataset[:int(0.9 * len(dataset))]\n",
    "test_dataset = dataset[int(0.9 * len(dataset)):]"
   ]
  },
  {
   "cell_type": "code",
   "execution_count": 54,
   "metadata": {
    "tags": []
   },
   "outputs": [],
   "source": [
    "from torch_geometric.datasets import Planetoid"
   ]
  },
  {
   "cell_type": "code",
   "execution_count": 55,
   "metadata": {
    "tags": []
   },
   "outputs": [
    {
     "name": "stderr",
     "output_type": "stream",
     "text": [
      "Downloading https://github.com/kimiyoung/planetoid/raw/master/data/ind.cora.x\n",
      "Downloading https://github.com/kimiyoung/planetoid/raw/master/data/ind.cora.tx\n",
      "Downloading https://github.com/kimiyoung/planetoid/raw/master/data/ind.cora.allx\n",
      "Downloading https://github.com/kimiyoung/planetoid/raw/master/data/ind.cora.y\n",
      "Downloading https://github.com/kimiyoung/planetoid/raw/master/data/ind.cora.ty\n",
      "Downloading https://github.com/kimiyoung/planetoid/raw/master/data/ind.cora.ally\n",
      "Downloading https://github.com/kimiyoung/planetoid/raw/master/data/ind.cora.graph\n",
      "Downloading https://github.com/kimiyoung/planetoid/raw/master/data/ind.cora.test.index\n",
      "Processing...\n",
      "Done!\n"
     ]
    }
   ],
   "source": [
    "dataset = Planetoid(root='./dataset/Cora', name='Cora')"
   ]
  },
  {
   "cell_type": "code",
   "execution_count": 60,
   "metadata": {
    "tags": []
   },
   "outputs": [
    {
     "data": {
      "text/plain": [
       "Data(edge_index=[2, 168], x=[37, 3], y=[1])"
      ]
     },
     "execution_count": 60,
     "metadata": {},
     "output_type": "execute_result"
    }
   ],
   "source": [
    "sample_data"
   ]
  },
  {
   "cell_type": "code",
   "execution_count": 64,
   "metadata": {
    "scrolled": true,
    "tags": []
   },
   "outputs": [
    {
     "data": {
      "text/plain": [
       "Cora()"
      ]
     },
     "execution_count": 64,
     "metadata": {},
     "output_type": "execute_result"
    },
    {
     "data": {
      "text/plain": [
       "1"
      ]
     },
     "execution_count": 64,
     "metadata": {},
     "output_type": "execute_result"
    },
    {
     "data": {
      "text/plain": [
       "7"
      ]
     },
     "execution_count": 64,
     "metadata": {},
     "output_type": "execute_result"
    },
    {
     "data": {
      "text/plain": [
       "0"
      ]
     },
     "execution_count": 64,
     "metadata": {},
     "output_type": "execute_result"
    },
    {
     "data": {
      "text/plain": [
       "1433"
      ]
     },
     "execution_count": 64,
     "metadata": {},
     "output_type": "execute_result"
    },
    {
     "data": {
      "text/plain": [
       "1433"
      ]
     },
     "execution_count": 64,
     "metadata": {},
     "output_type": "execute_result"
    },
    {
     "data": {
      "text/plain": [
       "Data(x=[2708, 1433], edge_index=[2, 10556], y=[2708], train_mask=[2708], val_mask=[2708], test_mask=[2708])"
      ]
     },
     "execution_count": 64,
     "metadata": {},
     "output_type": "execute_result"
    }
   ],
   "source": [
    "dataset\n",
    "len(dataset)\n",
    "dataset.num_classes\n",
    "dataset.num_edge_features\n",
    "dataset.num_features\n",
    "dataset.num_node_features\n",
    "dataset[0]"
   ]
  },
  {
   "cell_type": "code",
   "execution_count": 65,
   "metadata": {
    "tags": []
   },
   "outputs": [],
   "source": [
    "sample_data = dataset[0]"
   ]
  },
  {
   "cell_type": "code",
   "execution_count": 76,
   "metadata": {
    "tags": []
   },
   "outputs": [
    {
     "data": {
      "text/plain": [
       "Data(x=[2708, 1433], edge_index=[2, 10556], y=[2708], train_mask=[2708], val_mask=[2708], test_mask=[2708])"
      ]
     },
     "execution_count": 76,
     "metadata": {},
     "output_type": "execute_result"
    },
    {
     "data": {
      "text/plain": [
       "['x', 'y', 'edge_index', 'val_mask', 'train_mask', 'test_mask']"
      ]
     },
     "execution_count": 76,
     "metadata": {},
     "output_type": "execute_result"
    },
    {
     "data": {
      "text/plain": [
       "tensor([[0., 0., 0.,  ..., 0., 0., 0.],\n",
       "        [0., 0., 0.,  ..., 0., 0., 0.],\n",
       "        [0., 0., 0.,  ..., 0., 0., 0.],\n",
       "        ...,\n",
       "        [0., 0., 0.,  ..., 0., 0., 0.],\n",
       "        [0., 0., 0.,  ..., 0., 0., 0.],\n",
       "        [0., 0., 0.,  ..., 0., 0., 0.]])"
      ]
     },
     "execution_count": 76,
     "metadata": {},
     "output_type": "execute_result"
    },
    {
     "data": {
      "text/plain": [
       "tensor([3, 4, 4,  ..., 3, 3, 3])"
      ]
     },
     "execution_count": 76,
     "metadata": {},
     "output_type": "execute_result"
    },
    {
     "data": {
      "text/plain": [
       "tensor([[ 633, 1862, 2582,  ...,  598, 1473, 2706],\n",
       "        [   0,    0,    0,  ..., 2707, 2707, 2707]])"
      ]
     },
     "execution_count": 76,
     "metadata": {},
     "output_type": "execute_result"
    },
    {
     "data": {
      "text/plain": [
       "tensor([ True,  True,  True,  ..., False, False, False])"
      ]
     },
     "execution_count": 76,
     "metadata": {},
     "output_type": "execute_result"
    },
    {
     "data": {
      "text/plain": [
       "tensor([False, False, False,  ..., False, False, False])"
      ]
     },
     "execution_count": 76,
     "metadata": {},
     "output_type": "execute_result"
    },
    {
     "data": {
      "text/plain": [
       "tensor([False, False, False,  ...,  True,  True,  True])"
      ]
     },
     "execution_count": 76,
     "metadata": {},
     "output_type": "execute_result"
    }
   ],
   "source": [
    "sample_data\n",
    "sample_data.keys()\n",
    "sample_data['x']\n",
    "sample_data['y']\n",
    "sample_data['edge_index']\n",
    "sample_data['train_mask']\n",
    "sample_data['val_mask']\n",
    "sample_data['test_mask']"
   ]
  },
  {
   "cell_type": "markdown",
   "metadata": {},
   "source": [
    "### Mini Batches"
   ]
  },
  {
   "cell_type": "code",
   "execution_count": 104,
   "metadata": {
    "tags": []
   },
   "outputs": [],
   "source": [
    "from torch_geometric.datasets import TUDataset\n",
    "from torch_geometric.loader import DataLoader\n",
    "from torch_geometric.utils import scatter"
   ]
  },
  {
   "cell_type": "code",
   "execution_count": 78,
   "metadata": {
    "tags": []
   },
   "outputs": [],
   "source": [
    "dataset = TUDataset(root='./dataset/ENZYMES', name='ENZYMES', use_node_attr=True)"
   ]
  },
  {
   "cell_type": "code",
   "execution_count": 79,
   "metadata": {
    "tags": []
   },
   "outputs": [],
   "source": [
    "loader = DataLoader(dataset, batch_size=32, shuffle=True)"
   ]
  },
  {
   "cell_type": "code",
   "execution_count": 80,
   "metadata": {
    "tags": []
   },
   "outputs": [
    {
     "name": "stdout",
     "output_type": "stream",
     "text": [
      "DataBatch(edge_index=[2, 3780], x=[984, 21], y=[32], batch=[984], ptr=[33])\n"
     ]
    }
   ],
   "source": [
    "for batch in loader:\n",
    "    print(batch)\n",
    "    break"
   ]
  },
  {
   "cell_type": "code",
   "execution_count": 97,
   "metadata": {
    "tags": []
   },
   "outputs": [
    {
     "data": {
      "text/plain": [
       "Data(edge_index=[2, 168], x=[37, 21], y=[1])"
      ]
     },
     "execution_count": 97,
     "metadata": {},
     "output_type": "execute_result"
    }
   ],
   "source": [
    "dataset[0]"
   ]
  },
  {
   "cell_type": "code",
   "execution_count": 94,
   "metadata": {
    "tags": []
   },
   "outputs": [
    {
     "data": {
      "text/plain": [
       "DataBatch(edge_index=[2, 3780], x=[984, 21], y=[32], batch=[984], ptr=[33])"
      ]
     },
     "execution_count": 94,
     "metadata": {},
     "output_type": "execute_result"
    },
    {
     "data": {
      "text/plain": [
       "['x', 'y', 'batch', 'edge_index', 'ptr']"
      ]
     },
     "execution_count": 94,
     "metadata": {},
     "output_type": "execute_result"
    },
    {
     "data": {
      "text/plain": [
       "tensor([[  0,   0,   0,  ..., 983, 983, 983],\n",
       "        [  1,   2,  18,  ..., 966, 974, 975]])"
      ]
     },
     "execution_count": 94,
     "metadata": {},
     "output_type": "execute_result"
    },
    {
     "data": {
      "text/plain": [
       "Data(edge_index=[2, 164], x=[38, 21], y=[1])"
      ]
     },
     "execution_count": 94,
     "metadata": {},
     "output_type": "execute_result"
    },
    {
     "data": {
      "text/plain": [
       "Data(edge_index=[2, 28], x=[7, 21], y=[1])"
      ]
     },
     "execution_count": 94,
     "metadata": {},
     "output_type": "execute_result"
    },
    {
     "data": {
      "text/plain": [
       "Data(edge_index=[2, 190], x=[44, 21], y=[1])"
      ]
     },
     "execution_count": 94,
     "metadata": {},
     "output_type": "execute_result"
    }
   ],
   "source": [
    "batch\n",
    "batch.keys()\n",
    "batch['edge_index']\n",
    "batch[0]\n",
    "batch[1]\n",
    "batch[31]"
   ]
  },
  {
   "cell_type": "code",
   "execution_count": 112,
   "metadata": {
    "tags": []
   },
   "outputs": [
    {
     "data": {
      "text/plain": [
       "torch.Size([984, 21])"
      ]
     },
     "execution_count": 112,
     "metadata": {},
     "output_type": "execute_result"
    },
    {
     "data": {
      "text/plain": [
       "tensor([[ 5.0000,  6.0274, 21.7500,  ...,  1.0000,  0.0000,  0.0000],\n",
       "        [ 3.0000,  5.3299,  6.7200,  ...,  1.0000,  0.0000,  0.0000],\n",
       "        [ 5.0000,  8.4834, 19.8800,  ...,  1.0000,  0.0000,  0.0000],\n",
       "        ...,\n",
       "        [ 3.0000,  6.8157, 14.4700,  ...,  0.0000,  1.0000,  0.0000],\n",
       "        [ 4.0000,  9.4724, 12.8900,  ...,  0.0000,  1.0000,  0.0000],\n",
       "        [ 5.0000, 12.2965,  9.9500,  ...,  0.0000,  1.0000,  0.0000]])"
      ]
     },
     "execution_count": 112,
     "metadata": {},
     "output_type": "execute_result"
    },
    {
     "data": {
      "text/plain": [
       "torch.Size([38, 21])"
      ]
     },
     "execution_count": 112,
     "metadata": {},
     "output_type": "execute_result"
    }
   ],
   "source": [
    "batch['x'].shape\n",
    "batch['x']\n",
    "batch[0]['x'].shape"
   ]
  },
  {
   "cell_type": "code",
   "execution_count": 116,
   "metadata": {
    "tags": []
   },
   "outputs": [],
   "source": [
    "import pandas as pd"
   ]
  },
  {
   "cell_type": "code",
   "execution_count": 121,
   "metadata": {
    "scrolled": true,
    "tags": []
   },
   "outputs": [
    {
     "data": {
      "text/plain": [
       "12.877506456877056"
      ]
     },
     "execution_count": 121,
     "metadata": {},
     "output_type": "execute_result"
    }
   ],
   "source": [
    "pd.DataFrame(batch[0]['x'])[1].sum() / 38"
   ]
  },
  {
   "cell_type": "code",
   "execution_count": 124,
   "metadata": {
    "scrolled": true,
    "tags": []
   },
   "outputs": [
    {
     "data": {
      "text/plain": [
       "torch.Size([32, 21])"
      ]
     },
     "execution_count": 124,
     "metadata": {},
     "output_type": "execute_result"
    },
    {
     "data": {
      "text/plain": [
       "tensor([[ 5.6053e+00,  1.2878e+01,  2.0047e+01,  8.2474e-01,  9.2353e-01,\n",
       "          4.6261e+01,  1.7632e+00,  2.1579e+00,  1.6842e+00,  1.6842e+00,\n",
       "          1.8684e+00,  2.0526e+00,  2.3158e+00,  1.5000e+00,  1.7895e+00,\n",
       "          1.5526e+00,  2.3684e+00,  1.6842e+00,  3.1579e-01,  6.8421e-01,\n",
       "          0.0000e+00],\n",
       "        [ 1.7000e+01,  2.5363e+01,  0.0000e+00,  0.0000e+00,  0.0000e+00,\n",
       "          0.0000e+00,  0.0000e+00,  0.0000e+00,  0.0000e+00,  0.0000e+00,\n",
       "          0.0000e+00,  0.0000e+00,  0.0000e+00,  0.0000e+00,  0.0000e+00,\n",
       "          0.0000e+00,  0.0000e+00,  0.0000e+00,  1.0000e+00,  0.0000e+00,\n",
       "          0.0000e+00],\n",
       "        [ 7.1600e+00,  1.4210e+01,  2.5541e+01,  1.1996e+00,  1.1717e+00,\n",
       "          5.8882e+01,  2.2600e+00,  3.1000e+00,  1.8000e+00,  2.1200e+00,\n",
       "          2.5200e+00,  2.5200e+00,  2.9000e+00,  1.8600e+00,  2.4000e+00,\n",
       "          2.1000e+00,  3.2600e+00,  1.8000e+00,  2.8000e-01,  7.2000e-01,\n",
       "          0.0000e+00],\n",
       "        [ 6.0000e+00,  1.4301e+01,  2.0456e+01, -5.1875e-01,  9.3781e-01,\n",
       "          5.2844e+01,  2.0625e+00,  2.2500e+00,  1.6875e+00,  2.2500e+00,\n",
       "          2.0625e+00,  1.6875e+00,  1.8125e+00,  1.7500e+00,  2.4375e+00,\n",
       "          1.7500e+00,  2.5625e+00,  1.6875e+00,  1.8750e-01,  8.1250e-01,\n",
       "          0.0000e+00],\n",
       "        [ 6.7568e+00,  1.2963e+01,  2.3735e+01,  1.3459e+00,  1.0959e+00,\n",
       "          5.4424e+01,  2.1892e+00,  2.6757e+00,  1.8919e+00,  1.8378e+00,\n",
       "          2.3784e+00,  2.5405e+00,  2.8919e+00,  1.8919e+00,  1.9730e+00,\n",
       "          1.9189e+00,  2.9459e+00,  1.8919e+00,  3.7838e-01,  6.2162e-01,\n",
       "          0.0000e+00],\n",
       "        [ 9.2292e+00,  1.5612e+01,  3.1143e+01,  1.0213e+00,  1.4221e+00,\n",
       "          7.6204e+01,  2.9792e+00,  4.4375e+00,  1.8125e+00,  2.9375e+00,\n",
       "          2.8958e+00,  3.3958e+00,  3.6042e+00,  2.6042e+00,  3.0208e+00,\n",
       "          2.6875e+00,  4.7292e+00,  1.8125e+00,  5.8333e-01,  4.1667e-01,\n",
       "          0.0000e+00],\n",
       "        [ 7.7333e+00,  0.0000e+00,  2.6077e+01,  1.7040e+00,  1.1983e+00,\n",
       "          6.1883e+01,  2.7000e+00,  3.4333e+00,  1.6000e+00,  2.0333e+00,\n",
       "          2.9667e+00,  2.7333e+00,  3.0667e+00,  2.5000e+00,  2.1667e+00,\n",
       "          2.5000e+00,  3.6333e+00,  1.6000e+00,  5.0000e-01,  5.0000e-01,\n",
       "          0.0000e+00],\n",
       "        [ 9.3333e+00,  1.6651e+01,  3.4984e+01,  1.2550e+00,  1.5937e+00,\n",
       "          7.8744e+01,  2.4444e+00,  4.4444e+00,  2.4444e+00,  3.5556e+00,\n",
       "          2.5000e+00,  3.2778e+00,  3.6111e+00,  2.1111e+00,  3.6111e+00,\n",
       "          2.2222e+00,  4.6667e+00,  2.4444e+00,  5.5556e-01,  4.4444e-01,\n",
       "          0.0000e+00],\n",
       "        [ 8.0000e+00,  2.1139e+01,  2.7090e+01,  6.2762e-01,  1.2426e+00,\n",
       "          6.7095e+01,  2.8571e+00,  2.9048e+00,  2.0000e+00,  2.2857e+00,\n",
       "          3.4286e+00,  2.0476e+00,  2.3333e+00,  2.4762e+00,  2.9524e+00,\n",
       "          1.8571e+00,  3.9048e+00,  2.0000e+00,  2.8571e-01,  7.1429e-01,\n",
       "          0.0000e+00],\n",
       "        [ 7.3023e+00,  1.4556e+01,  2.6348e+01,  1.0660e+00,  1.2343e+00,\n",
       "          5.8816e+01,  2.6279e+00,  2.6047e+00,  2.0698e+00,  1.9070e+00,\n",
       "          2.6744e+00,  2.7209e+00,  2.8837e+00,  2.2326e+00,  2.1860e+00,\n",
       "          2.1163e+00,  3.1163e+00,  2.0698e+00,  4.4186e-01,  5.5814e-01,\n",
       "          0.0000e+00],\n",
       "        [ 7.5294e+00,  1.7494e+01,  2.4728e+01,  1.9353e-01,  1.1423e+00,\n",
       "          6.3988e+01,  3.0588e+00,  2.3529e+00,  2.1176e+00,  2.2941e+00,\n",
       "          2.8824e+00,  2.3529e+00,  2.6471e+00,  2.2353e+00,  2.6471e+00,\n",
       "          2.1765e+00,  3.2353e+00,  2.1176e+00,  1.7647e-01,  8.2353e-01,\n",
       "          0.0000e+00],\n",
       "        [ 6.1429e+00,  1.2344e+01,  2.0450e+01, -4.7714e-01,  9.2571e-01,\n",
       "          5.3457e+01,  2.7143e+00,  2.4286e+00,  1.0000e+00,  2.2857e+00,\n",
       "          1.7143e+00,  2.1429e+00,  2.1429e+00,  1.7143e+00,  2.2857e+00,\n",
       "          2.2857e+00,  2.8571e+00,  1.0000e+00,  2.8571e-01,  7.1429e-01,\n",
       "          0.0000e+00],\n",
       "        [ 7.4615e+00,  1.3570e+01,  2.5804e+01,  7.8590e-01,  1.1796e+00,\n",
       "          6.2564e+01,  2.3077e+00,  3.3077e+00,  1.8462e+00,  2.4359e+00,\n",
       "          2.3077e+00,  2.7179e+00,  3.0000e+00,  1.8205e+00,  2.6410e+00,\n",
       "          2.0000e+00,  3.6154e+00,  1.8462e+00,  4.8718e-01,  5.1282e-01,\n",
       "          0.0000e+00],\n",
       "        [ 9.3636e+00,  1.5233e+01,  2.5142e+01,  4.7591e-01,  1.1635e+00,\n",
       "          6.4920e+01,  3.6364e+00,  2.4545e+00,  1.7500e+00,  1.9773e+00,\n",
       "          3.6136e+00,  2.2500e+00,  2.5227e+00,  3.0682e+00,  2.2500e+00,\n",
       "          2.7500e+00,  3.3409e+00,  1.7500e+00,  7.2727e-01,  2.7273e-01,\n",
       "          0.0000e+00],\n",
       "        [ 6.4783e+00,  1.4618e+01,  2.4992e+01,  2.1309e+00,  1.1536e+00,\n",
       "          5.1087e+01,  1.3043e+00,  3.1739e+00,  2.0000e+00,  2.0435e+00,\n",
       "          1.3478e+00,  3.0870e+00,  3.3913e+00,  1.0435e+00,  2.0435e+00,\n",
       "          1.1739e+00,  3.3043e+00,  2.0000e+00,  2.1739e-01,  7.8261e-01,\n",
       "          0.0000e+00],\n",
       "        [ 7.6250e+00,  1.2926e+01,  1.7918e+01,  4.7125e-01,  8.2171e-01,\n",
       "          4.2258e+01,  2.0000e+00,  1.5833e+00,  1.4583e+00,  1.5833e+00,\n",
       "          1.6250e+00,  1.8333e+00,  2.0833e+00,  1.3333e+00,  1.6250e+00,\n",
       "          1.5833e+00,  2.0000e+00,  1.4583e+00,  5.8333e-01,  4.1667e-01,\n",
       "          0.0000e+00],\n",
       "        [ 6.8947e+00,  0.0000e+00,  2.2664e+01,  1.0716e+00,  1.0445e+00,\n",
       "          5.5100e+01,  2.6316e+00,  2.6842e+00,  1.5789e+00,  1.5263e+00,\n",
       "          2.9474e+00,  2.4211e+00,  2.7368e+00,  2.4211e+00,  1.7368e+00,\n",
       "          2.4211e+00,  2.8947e+00,  1.5789e+00,  4.7368e-01,  5.2632e-01,\n",
       "          0.0000e+00],\n",
       "        [ 6.3158e+00,  1.3224e+01,  2.0507e+01,  4.9316e-01,  9.3911e-01,\n",
       "          5.2205e+01,  2.5263e+00,  2.3684e+00,  1.4211e+00,  1.7368e+00,\n",
       "          2.2632e+00,  2.3158e+00,  2.5263e+00,  2.0000e+00,  1.7895e+00,\n",
       "          2.0526e+00,  2.8421e+00,  1.4211e+00,  2.6316e-01,  4.7368e-01,\n",
       "          2.6316e-01],\n",
       "        [ 6.2778e+00,  1.5476e+01,  1.1725e+01, -1.7500e-02,  5.3531e-01,\n",
       "          2.9453e+01,  1.1389e+00,  1.3333e+00,  8.6111e-01,  1.3611e+00,\n",
       "          9.1667e-01,  1.0556e+00,  1.1667e+00,  6.9444e-01,  1.4722e+00,\n",
       "          6.3889e-01,  1.8333e+00,  8.6111e-01,  1.6667e-01,  8.3333e-01,\n",
       "          0.0000e+00],\n",
       "        [ 8.4091e+00,  1.7706e+01,  3.0468e+01,  2.4341e+00,  1.4072e+00,\n",
       "          6.7850e+01,  2.4545e+00,  3.1364e+00,  2.8182e+00,  2.3182e+00,\n",
       "          2.5909e+00,  3.5000e+00,  3.9545e+00,  1.9545e+00,  2.5000e+00,\n",
       "          2.2273e+00,  3.3636e+00,  2.8182e+00,  3.6364e-01,  6.3636e-01,\n",
       "          0.0000e+00],\n",
       "        [ 6.5000e+00,  0.0000e+00,  1.5399e+01, -3.2750e-01,  7.0312e-01,\n",
       "          3.8775e+01,  1.6250e+00,  1.3750e+00,  1.3750e+00,  1.8750e+00,\n",
       "          1.1250e+00,  1.3750e+00,  1.3750e+00,  1.1250e+00,  1.8750e+00,\n",
       "          1.5000e+00,  1.5000e+00,  1.3750e+00,  3.7500e-01,  6.2500e-01,\n",
       "          0.0000e+00],\n",
       "        [ 5.6800e+00,  1.2863e+01,  2.0394e+01,  1.7572e+00,  9.5024e-01,\n",
       "          4.4900e+01,  1.6000e+00,  2.3200e+00,  1.7600e+00,  1.3200e+00,\n",
       "          1.9200e+00,  2.4400e+00,  2.6400e+00,  1.4000e+00,  1.6400e+00,\n",
       "          1.4000e+00,  2.5200e+00,  1.7600e+00,  2.8000e-01,  7.2000e-01,\n",
       "          0.0000e+00],\n",
       "        [ 7.1154e+00,  1.6382e+01,  2.5812e+01,  1.5392e+00,  1.1817e+00,\n",
       "          5.7204e+01,  2.0769e+00,  3.1154e+00,  1.9231e+00,  2.0385e+00,\n",
       "          1.9231e+00,  3.1538e+00,  3.3846e+00,  1.5385e+00,  2.1923e+00,\n",
       "          1.8462e+00,  3.3462e+00,  1.9231e+00,  2.3077e-01,  7.6923e-01,\n",
       "          0.0000e+00],\n",
       "        [ 6.7097e+00,  1.3870e+01,  2.1889e+01, -1.7968e-01,  9.9174e-01,\n",
       "          5.6879e+01,  2.9677e+00,  2.2258e+00,  1.4516e+00,  1.9355e+00,\n",
       "          2.7097e+00,  2.0000e+00,  2.2258e+00,  2.3226e+00,  2.0968e+00,\n",
       "          2.4516e+00,  2.7419e+00,  1.4516e+00,  2.2581e-01,  7.7419e-01,\n",
       "          0.0000e+00],\n",
       "        [ 6.5122e+00,  1.1683e+01,  2.5529e+01,  1.8712e+00,  1.1813e+00,\n",
       "          5.2810e+01,  2.0000e+00,  2.3171e+00,  2.1951e+00,  1.8293e+00,\n",
       "          2.3415e+00,  2.3415e+00,  3.0244e+00,  1.5122e+00,  1.9756e+00,\n",
       "          1.7805e+00,  2.5366e+00,  2.1951e+00,  4.3902e-01,  5.6098e-01,\n",
       "          0.0000e+00],\n",
       "        [ 9.8947e+00,  1.5607e+01,  3.7174e+01,  7.4316e-01,  1.7042e+00,\n",
       "          8.4500e+01,  2.8421e+00,  4.1053e+00,  2.9474e+00,  3.6842e+00,\n",
       "          2.8947e+00,  3.3158e+00,  3.8421e+00,  2.1579e+00,  3.8947e+00,\n",
       "          2.2632e+00,  4.6842e+00,  2.9474e+00,  7.3684e-01,  2.6316e-01,\n",
       "          0.0000e+00],\n",
       "        [ 7.6667e+00,  1.3133e+01,  2.6144e+01,  9.3294e-01,  1.1920e+00,\n",
       "          6.4063e+01,  2.7255e+00,  3.0980e+00,  1.8431e+00,  2.4314e+00,\n",
       "          2.6275e+00,  2.6078e+00,  2.8824e+00,  2.2353e+00,  2.5490e+00,\n",
       "          2.5098e+00,  3.3137e+00,  1.8431e+00,  6.0784e-01,  3.9216e-01,\n",
       "          0.0000e+00],\n",
       "        [ 1.0895e+01,  1.5207e+01,  3.1052e+01,  1.0011e+00,  1.4396e+00,\n",
       "          7.2026e+01,  2.9474e+00,  3.6842e+00,  2.1053e+00,  2.8421e+00,\n",
       "          2.6316e+00,  3.2632e+00,  3.4211e+00,  2.3684e+00,  2.9474e+00,\n",
       "          2.1579e+00,  4.4737e+00,  2.1053e+00,  1.0000e+00,  0.0000e+00,\n",
       "          0.0000e+00],\n",
       "        [ 8.6562e+00,  1.5951e+01,  3.2772e+01,  6.9094e-01,  1.5151e+00,\n",
       "          7.4053e+01,  2.7500e+00,  2.6562e+00,  3.2500e+00,  3.0000e+00,\n",
       "          2.7500e+00,  2.9062e+00,  3.2188e+00,  2.0312e+00,  3.4062e+00,\n",
       "          2.4688e+00,  2.9375e+00,  3.2500e+00,  6.5625e-01,  3.4375e-01,\n",
       "          0.0000e+00],\n",
       "        [ 5.6667e+00,  0.0000e+00,  1.9097e+01,  2.3000e-01,  8.5883e-01,\n",
       "          4.8267e+01,  2.0000e+00,  2.5000e+00,  1.1667e+00,  2.0000e+00,\n",
       "          1.8333e+00,  1.8333e+00,  2.1667e+00,  1.5000e+00,  2.0000e+00,\n",
       "          1.8333e+00,  2.6667e+00,  1.1667e+00,  3.3333e-01,  6.6667e-01,\n",
       "          0.0000e+00],\n",
       "        [ 7.4211e+00,  1.3618e+01,  2.5587e+01,  9.5184e-01,  1.1702e+00,\n",
       "          6.1805e+01,  2.3158e+00,  3.2632e+00,  1.8421e+00,  2.3421e+00,\n",
       "          2.3158e+00,  2.7632e+00,  3.0526e+00,  1.8421e+00,  2.5263e+00,\n",
       "          2.0000e+00,  3.5789e+00,  1.8421e+00,  4.7368e-01,  5.2632e-01,\n",
       "          0.0000e+00],\n",
       "        [ 6.9545e+00,  1.2093e+01,  2.2476e+01,  1.6143e+00,  1.0317e+00,\n",
       "          5.5900e+01,  2.5682e+00,  3.0909e+00,  1.2955e+00,  1.8864e+00,\n",
       "          2.4318e+00,  2.6364e+00,  2.8182e+00,  2.2045e+00,  1.9318e+00,\n",
       "          2.3864e+00,  3.2727e+00,  1.2955e+00,  5.9091e-01,  4.0909e-01,\n",
       "          0.0000e+00]])"
      ]
     },
     "execution_count": 124,
     "metadata": {},
     "output_type": "execute_result"
    }
   ],
   "source": [
    "x = scatter(batch['x'], batch['batch'], dim = 0, reduce='mean')\n",
    "x.shape\n",
    "x"
   ]
  },
  {
   "cell_type": "markdown",
   "metadata": {},
   "source": [
    "### 3. Data Transforms"
   ]
  },
  {
   "cell_type": "code",
   "execution_count": 125,
   "metadata": {
    "tags": []
   },
   "outputs": [
    {
     "name": "stderr",
     "output_type": "stream",
     "text": [
      "Downloading https://shapenet.cs.stanford.edu/media/shapenetcore_partanno_segmentation_benchmark_v0_normal.zip\n",
      "Extracting dataset\\ShapeNet\\shapenetcore_partanno_segmentation_benchmark_v0_normal.zip\n",
      "Processing...\n",
      "Done!\n"
     ]
    }
   ],
   "source": [
    "from torch_geometric.datasets import ShapeNet\n",
    "\n",
    "dataset = ShapeNet(root='./dataset/ShapeNet', categories=['Airplane'])"
   ]
  },
  {
   "cell_type": "code",
   "execution_count": 130,
   "metadata": {
    "tags": []
   },
   "outputs": [
    {
     "data": {
      "text/plain": [
       "ShapeNet(2349, categories=['Airplane'])"
      ]
     },
     "execution_count": 130,
     "metadata": {},
     "output_type": "execute_result"
    },
    {
     "data": {
      "text/plain": [
       "Data(x=[2518, 3], y=[2518], pos=[2518, 3], category=[1])"
      ]
     },
     "execution_count": 130,
     "metadata": {},
     "output_type": "execute_result"
    },
    {
     "data": {
      "text/plain": [
       "tensor([[-0.0392,  0.3344,  0.9416],\n",
       "        [ 0.0011,  0.3488, -0.9372],\n",
       "        [-0.2507,  0.9366,  0.2447],\n",
       "        ...,\n",
       "        [ 0.6270, -0.5863,  0.5130],\n",
       "        [-0.2090,  0.9760, -0.0607],\n",
       "        [-0.2459,  0.9653, -0.0878]])"
      ]
     },
     "execution_count": 130,
     "metadata": {},
     "output_type": "execute_result"
    },
    {
     "data": {
      "text/plain": [
       "tensor([0])"
      ]
     },
     "execution_count": 130,
     "metadata": {},
     "output_type": "execute_result"
    }
   ],
   "source": [
    "dataset\n",
    "dataset[0]\n",
    "dataset[0]['x']\n",
    "dataset[0]['category']"
   ]
  },
  {
   "cell_type": "code",
   "execution_count": 131,
   "metadata": {
    "tags": []
   },
   "outputs": [],
   "source": [
    "import torch_geometric.transforms as T"
   ]
  },
  {
   "cell_type": "code",
   "execution_count": 132,
   "metadata": {
    "tags": []
   },
   "outputs": [
    {
     "name": "stderr",
     "output_type": "stream",
     "text": [
      "C:\\Users\\Sridhar Kamoji\\Python\\GNN\\.env-gnn\\lib\\site-packages\\torch_geometric\\data\\dataset.py:239: UserWarning: The `pre_transform` argument differs from the one used in the pre-processed version of this dataset. If you want to make use of another pre-processing technique, pass `force_reload=True` explicitly to reload the dataset.\n",
      "  warnings.warn(\n"
     ]
    }
   ],
   "source": [
    "dataset = ShapeNet(root='./dataset/ShapeNet', categories=['Airplane'],\n",
    "                    pre_transform=T.KNNGraph(k=6))"
   ]
  },
  {
   "cell_type": "code",
   "execution_count": 133,
   "metadata": {
    "tags": []
   },
   "outputs": [
    {
     "data": {
      "text/plain": [
       "Data(x=[2518, 3], y=[2518], pos=[2518, 3], category=[1])"
      ]
     },
     "execution_count": 133,
     "metadata": {},
     "output_type": "execute_result"
    }
   ],
   "source": [
    "dataset[0]"
   ]
  },
  {
   "cell_type": "markdown",
   "metadata": {},
   "source": [
    "### 4. Learning Methods in Graphs"
   ]
  },
  {
   "cell_type": "code",
   "execution_count": 135,
   "metadata": {
    "tags": []
   },
   "outputs": [],
   "source": [
    "from torch_geometric.datasets import Planetoid"
   ]
  },
  {
   "cell_type": "code",
   "execution_count": 136,
   "metadata": {
    "tags": []
   },
   "outputs": [],
   "source": [
    "dataset = Planetoid(root='./dataset/Cora', name='Cora')"
   ]
  },
  {
   "cell_type": "code",
   "execution_count": 137,
   "metadata": {
    "tags": []
   },
   "outputs": [],
   "source": [
    "import torch\n",
    "import torch.nn.functional as F\n",
    "from torch_geometric.nn import GCNConv"
   ]
  },
  {
   "cell_type": "code",
   "execution_count": 138,
   "metadata": {
    "tags": []
   },
   "outputs": [
    {
     "data": {
      "text/plain": [
       "1433"
      ]
     },
     "execution_count": 138,
     "metadata": {},
     "output_type": "execute_result"
    }
   ],
   "source": [
    "dataset.num_node_features"
   ]
  },
  {
   "cell_type": "code",
   "execution_count": 139,
   "metadata": {
    "tags": []
   },
   "outputs": [],
   "source": [
    "class GCN(torch.nn.Module):\n",
    "    def __init__(self):\n",
    "        super().__init__()\n",
    "        self.conv1 = GCNConv(dataset.num_node_features, 16)\n",
    "        self.conv2 = GCNConv(16, dataset.num_classes)\n",
    "        \n",
    "    def forward(self, data):\n",
    "        x, edge_index = data['x'], data['edge_index']\n",
    "        \n",
    "        x = self.conv1(x, edge_index)\n",
    "        x = F.relu(x)\n",
    "        x = F.dropout(x, training=self.training)\n",
    "        x = self.conv2(x, edge_index)\n",
    "        \n",
    "        return F.log_softmax(x, dim=1)"
   ]
  },
  {
   "cell_type": "code",
   "execution_count": 140,
   "metadata": {
    "tags": []
   },
   "outputs": [],
   "source": [
    "device = torch.device('cuda' if torch.cuda.is_available() else 'cpu')\n",
    "\n",
    "model = GCN().to(device)\n",
    "\n",
    "data = dataset[0].to(device)"
   ]
  },
  {
   "cell_type": "code",
   "execution_count": 146,
   "metadata": {
    "tags": []
   },
   "outputs": [],
   "source": [
    "optimizer = torch.optim.Adam(model.parameters(), lr = 0.01, weight_decay=5e-4)"
   ]
  },
  {
   "cell_type": "code",
   "execution_count": 147,
   "metadata": {
    "tags": []
   },
   "outputs": [
    {
     "data": {
      "text/plain": [
       "Data(x=[2708, 1433], edge_index=[2, 10556], y=[2708], train_mask=[2708], val_mask=[2708], test_mask=[2708])"
      ]
     },
     "execution_count": 147,
     "metadata": {},
     "output_type": "execute_result"
    }
   ],
   "source": [
    "data"
   ]
  },
  {
   "cell_type": "code",
   "execution_count": 149,
   "metadata": {
    "tags": []
   },
   "outputs": [
    {
     "data": {
      "text/plain": [
       "tensor([3, 4, 4, 0, 3, 2, 0, 3, 3, 2, 0, 0, 4, 3, 3, 3, 2, 3, 1, 3, 5, 3, 4, 6,\n",
       "        3, 3, 6, 3, 2, 4, 3, 6, 0, 4, 2, 0, 1, 5, 4, 4, 3, 6, 6, 4, 3, 3, 2, 5,\n",
       "        3, 4, 5, 3, 0, 2, 1, 4, 6, 3, 2, 2, 0, 0, 0, 4, 2, 0, 4, 5, 2, 6, 5, 2,\n",
       "        2, 2, 0, 4, 5, 6, 4, 0, 0, 0, 4, 2, 4, 1, 4, 6, 0, 4, 2, 4, 6, 6, 0, 0,\n",
       "        6, 5, 0, 6, 0, 2, 1, 1, 1, 2, 6, 5, 6, 1, 2, 2, 1, 5, 5, 5, 6, 5, 6, 5,\n",
       "        5, 1, 6, 6, 1, 5, 1, 6, 5, 5, 5, 1, 5, 1, 1, 1, 1, 1, 1, 1],\n",
       "       device='cuda:0')"
      ]
     },
     "execution_count": 149,
     "metadata": {},
     "output_type": "execute_result"
    }
   ],
   "source": [
    "data['y'][data['train_mask']]"
   ]
  },
  {
   "cell_type": "code",
   "execution_count": 150,
   "metadata": {
    "tags": []
   },
   "outputs": [
    {
     "data": {
      "text/plain": [
       "GCN(\n",
       "  (conv1): GCNConv(1433, 16)\n",
       "  (conv2): GCNConv(16, 7)\n",
       ")"
      ]
     },
     "execution_count": 150,
     "metadata": {},
     "output_type": "execute_result"
    }
   ],
   "source": [
    "model.train()\n",
    "for epoch in range(100):\n",
    "    optimizer.zero_grad()\n",
    "    out = model(data)\n",
    "    loss = F.nll_loss(out[data['train_mask']], data['y'][data['train_mask']])\n",
    "    loss.backward()\n",
    "    optimizer.step()"
   ]
  },
  {
   "cell_type": "code",
   "execution_count": 151,
   "metadata": {
    "tags": []
   },
   "outputs": [
    {
     "data": {
      "text/plain": [
       "GCN(\n",
       "  (conv1): GCNConv(1433, 16)\n",
       "  (conv2): GCNConv(16, 7)\n",
       ")"
      ]
     },
     "execution_count": 151,
     "metadata": {},
     "output_type": "execute_result"
    }
   ],
   "source": [
    "model.eval()"
   ]
  },
  {
   "cell_type": "code",
   "execution_count": 154,
   "metadata": {
    "tags": []
   },
   "outputs": [
    {
     "data": {
      "text/plain": [
       "0.81"
      ]
     },
     "execution_count": 154,
     "metadata": {},
     "output_type": "execute_result"
    }
   ],
   "source": [
    "pred = model(data).argmax(dim=1)\n",
    "correct = (pred[data['test_mask']] == data['y'][data['test_mask']]).sum()\n",
    "acc = int(correct) / int(data['test_mask'].sum())\n",
    "acc"
   ]
  },
  {
   "cell_type": "code",
   "execution_count": 143,
   "metadata": {
    "tags": []
   },
   "outputs": [
    {
     "data": {
      "text/plain": [
       "GCN(\n",
       "  (conv1): GCNConv(1433, 16)\n",
       "  (conv2): GCNConv(16, 7)\n",
       ")"
      ]
     },
     "execution_count": 143,
     "metadata": {},
     "output_type": "execute_result"
    }
   ],
   "source": [
    "model"
   ]
  },
  {
   "cell_type": "markdown",
   "metadata": {},
   "source": [
    "### Exercises"
   ]
  },
  {
   "cell_type": "code",
   "execution_count": 159,
   "metadata": {
    "tags": []
   },
   "outputs": [],
   "source": [
    "d = [[0,1],\n",
    "     [1,0],\n",
    "     [1,2],\n",
    "     [2,1]]\n",
    "x = torch.tensor([[-1], [0], [1]])"
   ]
  },
  {
   "cell_type": "code",
   "execution_count": 158,
   "metadata": {
    "tags": []
   },
   "outputs": [],
   "source": [
    "from torch_geometric.data import Data"
   ]
  },
  {
   "cell_type": "code",
   "execution_count": 164,
   "metadata": {
    "tags": []
   },
   "outputs": [
    {
     "data": {
      "text/plain": [
       "Data(x=[3, 1], edge_index=[2, 4])"
      ]
     },
     "execution_count": 164,
     "metadata": {},
     "output_type": "execute_result"
    }
   ],
   "source": [
    "Data(x, edge_index=torch.tensor(d).t().contiguous())"
   ]
  },
  {
   "cell_type": "code",
   "execution_count": 165,
   "metadata": {
    "tags": []
   },
   "outputs": [],
   "source": [
    "from torch_geometric.datasets import TUDataset"
   ]
  },
  {
   "cell_type": "code",
   "execution_count": 166,
   "metadata": {
    "tags": []
   },
   "outputs": [
    {
     "name": "stderr",
     "output_type": "stream",
     "text": [
      "Downloading https://www.chrsmrrs.com/graphkerneldatasets/IMDB-BINARY.zip\n",
      "Processing...\n",
      "Done!\n"
     ]
    }
   ],
   "source": [
    "dataset = TUDataset(root='./dataset/IMDB-BINARY', name='IMDB-BINARY')"
   ]
  },
  {
   "cell_type": "code",
   "execution_count": 169,
   "metadata": {
    "tags": []
   },
   "outputs": [
    {
     "data": {
      "text/plain": [
       "IMDB-BINARY(1000)"
      ]
     },
     "execution_count": 169,
     "metadata": {},
     "output_type": "execute_result"
    },
    {
     "data": {
      "text/plain": [
       "1000"
      ]
     },
     "execution_count": 169,
     "metadata": {},
     "output_type": "execute_result"
    },
    {
     "data": {
      "text/plain": [
       "Data(edge_index=[2, 146], y=[1], num_nodes=20)"
      ]
     },
     "execution_count": 169,
     "metadata": {},
     "output_type": "execute_result"
    }
   ],
   "source": [
    "dataset\n",
    "len(dataset)\n",
    "dataset[0]"
   ]
  },
  {
   "cell_type": "code",
   "execution_count": 170,
   "metadata": {
    "tags": []
   },
   "outputs": [],
   "source": [
    "dataset = dataset.shuffle()"
   ]
  },
  {
   "cell_type": "code",
   "execution_count": 171,
   "metadata": {
    "tags": []
   },
   "outputs": [],
   "source": [
    "train_data = dataset[:int(0.8 * len(dataset))]\n",
    "test_data = dataset[int(0.8 * len(dataset)): ]"
   ]
  },
  {
   "cell_type": "code",
   "execution_count": 172,
   "metadata": {
    "tags": []
   },
   "outputs": [],
   "source": [
    "val_data = test_data[:int(0.5 * len(test_data))]\n",
    "test_data = test_data[:int(0.5 * len(test_data)):]"
   ]
  },
  {
   "cell_type": "code",
   "execution_count": 173,
   "metadata": {
    "tags": []
   },
   "outputs": [
    {
     "data": {
      "text/plain": [
       "IMDB-BINARY(800)"
      ]
     },
     "execution_count": 173,
     "metadata": {},
     "output_type": "execute_result"
    },
    {
     "data": {
      "text/plain": [
       "IMDB-BINARY(100)"
      ]
     },
     "execution_count": 173,
     "metadata": {},
     "output_type": "execute_result"
    },
    {
     "data": {
      "text/plain": [
       "IMDB-BINARY(100)"
      ]
     },
     "execution_count": 173,
     "metadata": {},
     "output_type": "execute_result"
    }
   ],
   "source": [
    "train_data\n",
    "val_data\n",
    "test_data"
   ]
  }
 ],
 "metadata": {
  "kernelspec": {
   "display_name": ".env-gnn",
   "language": "python",
   "name": ".env-gnn"
  },
  "language_info": {
   "codemirror_mode": {
    "name": "ipython",
    "version": 3
   },
   "file_extension": ".py",
   "mimetype": "text/x-python",
   "name": "python",
   "nbconvert_exporter": "python",
   "pygments_lexer": "ipython3",
   "version": "3.9.13"
  },
  "widgets": {
   "application/vnd.jupyter.widget-state+json": {
    "state": {},
    "version_major": 2,
    "version_minor": 0
   }
  }
 },
 "nbformat": 4,
 "nbformat_minor": 4
}
