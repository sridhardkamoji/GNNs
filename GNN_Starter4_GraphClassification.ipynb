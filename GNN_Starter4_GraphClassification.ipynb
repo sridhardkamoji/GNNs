{
 "cells": [
  {
   "cell_type": "markdown",
   "id": "e69cfa10-e377-44d1-bec5-9c766a2b2f26",
   "metadata": {},
   "source": [
    "# Graph Classification with GNN"
   ]
  },
  {
   "cell_type": "code",
   "execution_count": 5,
   "id": "7a95af46-cb0e-4586-9db9-903cb9c419fd",
   "metadata": {
    "tags": []
   },
   "outputs": [],
   "source": [
    "from IPython.core.interactiveshell import InteractiveShell\n",
    "InteractiveShell.ast_node_interactivity = \"all\""
   ]
  },
  {
   "cell_type": "code",
   "execution_count": 4,
   "id": "69da0d4a-df71-4af5-b42b-bbc9f44526ac",
   "metadata": {
    "tags": []
   },
   "outputs": [],
   "source": [
    "import os\n",
    "import torch\n",
    "\n",
    "torch.cuda.is_available()\n",
    "\n",
    "from torch_geometric.datasets import TUDataset"
   ]
  },
  {
   "cell_type": "code",
   "execution_count": 6,
   "id": "25629b9e-65a0-4657-8114-7aba1a512b4f",
   "metadata": {
    "tags": []
   },
   "outputs": [
    {
     "name": "stderr",
     "output_type": "stream",
     "text": [
      "Downloading https://www.chrsmrrs.com/graphkerneldatasets/MUTAG.zip\n",
      "Processing...\n",
      "Done!\n"
     ]
    }
   ],
   "source": [
    "dataset = TUDataset(root=\"./dataset/TUDataset\", name = 'MUTAG')"
   ]
  },
  {
   "cell_type": "code",
   "execution_count": 13,
   "id": "57ace194-1bc6-46c9-b885-fb95d129e413",
   "metadata": {},
   "outputs": [
    {
     "data": {
      "text/plain": [
       "MUTAG(188)"
      ]
     },
     "execution_count": 13,
     "metadata": {},
     "output_type": "execute_result"
    },
    {
     "data": {
      "text/plain": [
       "188"
      ]
     },
     "execution_count": 13,
     "metadata": {},
     "output_type": "execute_result"
    },
    {
     "data": {
      "text/plain": [
       "7"
      ]
     },
     "execution_count": 13,
     "metadata": {},
     "output_type": "execute_result"
    },
    {
     "data": {
      "text/plain": [
       "4"
      ]
     },
     "execution_count": 13,
     "metadata": {},
     "output_type": "execute_result"
    },
    {
     "data": {
      "text/plain": [
       "2"
      ]
     },
     "execution_count": 13,
     "metadata": {},
     "output_type": "execute_result"
    }
   ],
   "source": [
    "dataset\n",
    "len(dataset)\n",
    "dataset.num_node_features\n",
    "dataset.num_edge_features\n",
    "dataset.num_classes"
   ]
  },
  {
   "cell_type": "code",
   "execution_count": 15,
   "id": "5a1aaa3f-3a72-45d4-b329-978fd2678f7f",
   "metadata": {
    "tags": []
   },
   "outputs": [],
   "source": [
    "sample_data1 = dataset[0]"
   ]
  },
  {
   "cell_type": "code",
   "execution_count": 22,
   "id": "f313090d-a06e-49b4-bf0e-c78d06d5e5d5",
   "metadata": {
    "tags": []
   },
   "outputs": [
    {
     "data": {
      "text/plain": [
       "Data(edge_index=[2, 38], x=[17, 7], edge_attr=[38, 4], y=[1])"
      ]
     },
     "execution_count": 22,
     "metadata": {},
     "output_type": "execute_result"
    },
    {
     "data": {
      "text/plain": [
       "17"
      ]
     },
     "execution_count": 22,
     "metadata": {},
     "output_type": "execute_result"
    },
    {
     "data": {
      "text/plain": [
       "4"
      ]
     },
     "execution_count": 22,
     "metadata": {},
     "output_type": "execute_result"
    },
    {
     "data": {
      "text/plain": [
       "1"
      ]
     },
     "execution_count": 22,
     "metadata": {},
     "output_type": "execute_result"
    },
    {
     "data": {
      "text/plain": [
       "tensor([[ 0,  0,  1,  1,  2,  2,  3,  3,  3,  4,  4,  4,  5,  5,  6,  6,  7,  7,\n",
       "          8,  8,  8,  9,  9,  9, 10, 10, 11, 11, 12, 12, 12, 13, 13, 14, 14, 14,\n",
       "         15, 16],\n",
       "        [ 1,  5,  0,  2,  1,  3,  2,  4,  9,  3,  5,  6,  0,  4,  4,  7,  6,  8,\n",
       "          7,  9, 13,  3,  8, 10,  9, 11, 10, 12, 11, 13, 14,  8, 12, 12, 15, 16,\n",
       "         14, 14]])"
      ]
     },
     "execution_count": 22,
     "metadata": {},
     "output_type": "execute_result"
    }
   ],
   "source": [
    "sample_data1\n",
    "sample_data1.num_nodes\n",
    "sample_data1.num_edge_features\n",
    "sample_data1.num_edge_types\n",
    "sample_data1.edge_index"
   ]
  },
  {
   "cell_type": "code",
   "execution_count": 25,
   "id": "ee9e110a-77b6-4339-9343-bdad54093808",
   "metadata": {
    "tags": []
   },
   "outputs": [
    {
     "data": {
      "text/plain": [
       "Data(edge_index=[2, 44], x=[19, 7], edge_attr=[44, 4], y=[1])"
      ]
     },
     "execution_count": 25,
     "metadata": {},
     "output_type": "execute_result"
    },
    {
     "data": {
      "text/plain": [
       "19"
      ]
     },
     "execution_count": 25,
     "metadata": {},
     "output_type": "execute_result"
    },
    {
     "data": {
      "text/plain": [
       "4"
      ]
     },
     "execution_count": 25,
     "metadata": {},
     "output_type": "execute_result"
    },
    {
     "data": {
      "text/plain": [
       "1"
      ]
     },
     "execution_count": 25,
     "metadata": {},
     "output_type": "execute_result"
    },
    {
     "data": {
      "text/plain": [
       "tensor([[ 0,  0,  1,  1,  2,  2,  3,  3,  3,  4,  4,  4,  5,  5,  6,  6,  6,  7,\n",
       "          7,  8,  8,  9,  9, 10, 10, 10, 11, 11, 11, 12, 12, 12, 13, 13, 13, 14,\n",
       "         14, 15, 15, 16, 16, 16, 17, 18],\n",
       "        [ 1,  5,  0,  2,  1,  3,  2,  4, 12,  3,  5,  6,  0,  4,  4,  7, 11,  6,\n",
       "          8,  7,  9,  8, 10,  9, 11, 15,  6, 10, 12,  3, 11, 13, 12, 14, 16, 13,\n",
       "         15, 10, 14, 13, 17, 18, 16, 16]])"
      ]
     },
     "execution_count": 25,
     "metadata": {},
     "output_type": "execute_result"
    }
   ],
   "source": [
    "sample_data2 = dataset[3]\n",
    "sample_data2\n",
    "sample_data2.num_nodes\n",
    "sample_data2.num_edge_features\n",
    "sample_data2.num_edge_types\n",
    "sample_data2.edge_index"
   ]
  },
  {
   "cell_type": "code",
   "execution_count": 29,
   "id": "107fb480-db9a-43b9-8992-3fdde3af9e8e",
   "metadata": {
    "tags": []
   },
   "outputs": [],
   "source": [
    "import networkx as nx\n",
    "from torch_geometric.utils import to_networkx\n",
    "import matplotlib.pyplot as plt"
   ]
  },
  {
   "cell_type": "code",
   "execution_count": 32,
   "id": "2a1ae104-9cc3-4569-8234-a07e1f2d2412",
   "metadata": {},
   "outputs": [
    {
     "data": {
      "text/plain": [
       "<Figure size 200x200 with 0 Axes>"
      ]
     },
     "execution_count": 32,
     "metadata": {},
     "output_type": "execute_result"
    },
    {
     "data": {
      "image/png": "[encoded data removed]",
      "text/plain": [
       "<Figure size 200x200 with 1 Axes>"
      ]
     },
     "metadata": {},
     "output_type": "display_data"
    }
   ],
   "source": [
    "g = to_networkx(sample_data1, to_undirected=True)\n",
    "plt.figure(figsize=(2,2))\n",
    "nx.draw(g)"
   ]
  },
  {
   "cell_type": "code",
   "execution_count": 33,
   "id": "54eca4f5-93ff-4bb9-81f9-676ff076eafe",
   "metadata": {},
   "outputs": [
    {
     "data": {
      "text/plain": [
       "<Figure size 200x200 with 0 Axes>"
      ]
     },
     "execution_count": 33,
     "metadata": {},
     "output_type": "execute_result"
    },
    {
     "data": {
      "image/png": "[encoded data removed]",
      "text/plain": [
       "<Figure size 200x200 with 1 Axes>"
      ]
     },
     "metadata": {},
     "output_type": "display_data"
    }
   ],
   "source": [
    "g = to_networkx(sample_data2, to_undirected=True)\n",
    "plt.figure(figsize=(2,2))\n",
    "nx.draw(g)"
   ]
  },
  {
   "cell_type": "code",
   "execution_count": 35,
   "id": "d149fe24-8a87-4679-b523-087f4cdb3b6c",
   "metadata": {
    "tags": []
   },
   "outputs": [
    {
     "data": {
      "text/plain": [
       "<torch._C.Generator at 0x1363e668530>"
      ]
     },
     "execution_count": 35,
     "metadata": {},
     "output_type": "execute_result"
    }
   ],
   "source": [
    "torch.manual_seed(12345)\n",
    "dataset = dataset.shuffle()\n",
    "\n",
    "train_dataset = dataset[:150]\n",
    "test_dataset = dataset[150:]"
   ]
  },
  {
   "cell_type": "code",
   "execution_count": 36,
   "id": "30856e17-640e-4cbc-abfc-e40a893bf4f1",
   "metadata": {
    "tags": []
   },
   "outputs": [
    {
     "data": {
      "text/plain": [
       "150"
      ]
     },
     "execution_count": 36,
     "metadata": {},
     "output_type": "execute_result"
    },
    {
     "data": {
      "text/plain": [
       "38"
      ]
     },
     "execution_count": 36,
     "metadata": {},
     "output_type": "execute_result"
    }
   ],
   "source": [
    "len(train_dataset)\n",
    "len(test_dataset)"
   ]
  },
  {
   "cell_type": "markdown",
   "id": "9efdce42-0100-4fb2-8e7a-abf31553394b",
   "metadata": {},
   "source": [
    "### Mini Batching"
   ]
  },
  {
   "cell_type": "code",
   "execution_count": 39,
   "id": "087ee131-dbf3-4627-ae59-f9f8d7c2ad2a",
   "metadata": {
    "tags": []
   },
   "outputs": [],
   "source": [
    "from torch_geometric.loader import DataLoader"
   ]
  },
  {
   "cell_type": "code",
   "execution_count": 40,
   "id": "c9633fca-f8fe-4677-aeb9-c3ffb1e48c6e",
   "metadata": {
    "tags": []
   },
   "outputs": [],
   "source": [
    "train_loader = DataLoader(train_dataset, batch_size=64, shuffle=True)\n",
    "test_loader = DataLoader(test_dataset, batch_size=64, shuffle=True)"
   ]
  },
  {
   "cell_type": "code",
   "execution_count": 41,
   "id": "b514cc69-4daa-4901-bfa9-8e143b3c885e",
   "metadata": {
    "tags": []
   },
   "outputs": [],
   "source": [
    "sample_loader = DataLoader(train_dataset, batch_size=2, shuffle=True)"
   ]
  },
  {
   "cell_type": "code",
   "execution_count": 42,
   "id": "3b8dbcb2-1761-44e9-99c8-7b821f4f8436",
   "metadata": {
    "tags": []
   },
   "outputs": [
    {
     "name": "stdout",
     "output_type": "stream",
     "text": [
      "num of graphs in batch :: 2\n"
     ]
    }
   ],
   "source": [
    "for step, batch in enumerate(sample_loader):\n",
    "    print(f\"num of graphs in batch :: {batch.num_graphs}\")\n",
    "    break\n"
   ]
  },
  {
   "cell_type": "code",
   "execution_count": 44,
   "id": "62b79407-bc6e-4f5a-97e5-f12ecb0b3118",
   "metadata": {
    "tags": []
   },
   "outputs": [
    {
     "data": {
      "text/plain": [
       "DataBatch(edge_index=[2, 96], x=[42, 7], edge_attr=[96, 4], y=[2], batch=[42], ptr=[3])"
      ]
     },
     "execution_count": 44,
     "metadata": {},
     "output_type": "execute_result"
    },
    {
     "data": {
      "text/plain": [
       "Data(edge_index=[2, 50], x=[22, 7], edge_attr=[50, 4], y=[1])"
      ]
     },
     "execution_count": 44,
     "metadata": {},
     "output_type": "execute_result"
    },
    {
     "data": {
      "text/plain": [
       "Data(edge_index=[2, 46], x=[20, 7], edge_attr=[46, 4], y=[1])"
      ]
     },
     "execution_count": 44,
     "metadata": {},
     "output_type": "execute_result"
    }
   ],
   "source": [
    "batch\n",
    "batch[0]\n",
    "batch[1]"
   ]
  },
  {
   "cell_type": "code",
   "execution_count": 52,
   "id": "44faf882-6b42-455d-a753-e7f681fd1224",
   "metadata": {
    "tags": []
   },
   "outputs": [
    {
     "data": {
      "text/plain": [
       "tensor([0, 0, 0, 0, 0, 0, 0, 0, 0, 0, 0, 0, 0, 0, 0, 0, 0, 0, 0, 0, 0, 0, 1, 1,\n",
       "        1, 1, 1, 1, 1, 1, 1, 1, 1, 1, 1, 1, 1, 1, 1, 1, 1, 1])"
      ]
     },
     "execution_count": 52,
     "metadata": {},
     "output_type": "execute_result"
    }
   ],
   "source": [
    "batch['batch']"
   ]
  },
  {
   "cell_type": "code",
   "execution_count": 51,
   "id": "1c9c530d-9848-4d60-9bb2-3cbbb84c539c",
   "metadata": {
    "scrolled": true,
    "tags": []
   },
   "outputs": [
    {
     "data": {
      "text/plain": [
       "tensor([ 0,  0,  1,  1,  2,  2,  3,  3,  3,  4,  4,  4,  5,  5,  6,  6,  6,  7,\n",
       "         7,  8,  8,  8,  9,  9, 10, 10, 10, 11, 11, 11, 12, 12, 12, 13, 13, 14,\n",
       "        14, 14, 15, 15, 16, 16, 16, 17, 18, 19, 19, 19, 20, 21, 22, 22, 23, 23,\n",
       "        24, 24, 24, 25, 25, 26, 26, 27, 27, 27, 28, 28, 29, 29, 30, 30, 30, 31,\n",
       "        31, 31, 32, 32, 32, 33, 33, 33, 34, 34, 34, 35, 35, 36, 36, 37, 37, 37,\n",
       "        38, 39, 39, 39, 40, 41])"
      ]
     },
     "execution_count": 51,
     "metadata": {},
     "output_type": "execute_result"
    },
    {
     "data": {
      "text/plain": [
       "tensor([ 1,  5,  0,  2,  1,  3,  2,  4, 12,  3,  5,  6,  0,  4,  4,  7, 11,  6,\n",
       "         8,  7,  9, 19,  8, 10,  9, 11, 15,  6, 10, 12,  3, 11, 13, 12, 14, 13,\n",
       "        15, 16, 10, 14, 14, 17, 18, 16, 16,  8, 20, 21, 19, 19, 23, 35, 22, 24,\n",
       "        23, 25, 33, 24, 26, 25, 27, 26, 28, 32, 27, 29, 28, 30, 29, 31, 39, 30,\n",
       "        32, 37, 27, 31, 33, 24, 32, 34, 33, 35, 36, 22, 34, 34, 37, 31, 36, 38,\n",
       "        37, 30, 40, 41, 39, 39])"
      ]
     },
     "execution_count": 51,
     "metadata": {},
     "output_type": "execute_result"
    },
    {
     "data": {
      "text/plain": [
       "tensor([[ 0,  0,  1,  1,  2,  2,  3,  3,  3,  4,  4,  4,  5,  5,  6,  6,  6,  7,\n",
       "          7,  8,  8,  8,  9,  9, 10, 10, 10, 11, 11, 11, 12, 12, 12, 13, 13, 14,\n",
       "         14, 14, 15, 15, 16, 16, 16, 17, 18, 19, 19, 19, 20, 21],\n",
       "        [ 1,  5,  0,  2,  1,  3,  2,  4, 12,  3,  5,  6,  0,  4,  4,  7, 11,  6,\n",
       "          8,  7,  9, 19,  8, 10,  9, 11, 15,  6, 10, 12,  3, 11, 13, 12, 14, 13,\n",
       "         15, 16, 10, 14, 14, 17, 18, 16, 16,  8, 20, 21, 19, 19]])"
      ]
     },
     "execution_count": 51,
     "metadata": {},
     "output_type": "execute_result"
    },
    {
     "data": {
      "text/plain": [
       "tensor([[ 0,  0,  1,  1,  2,  2,  2,  3,  3,  4,  4,  5,  5,  5,  6,  6,  7,  7,\n",
       "          8,  8,  8,  9,  9,  9, 10, 10, 10, 11, 11, 11, 12, 12, 12, 13, 13, 14,\n",
       "         14, 15, 15, 15, 16, 17, 17, 17, 18, 19],\n",
       "        [ 1, 13,  0,  2,  1,  3, 11,  2,  4,  3,  5,  4,  6, 10,  5,  7,  6,  8,\n",
       "          7,  9, 17,  8, 10, 15,  5,  9, 11,  2, 10, 12, 11, 13, 14,  0, 12, 12,\n",
       "         15,  9, 14, 16, 15,  8, 18, 19, 17, 17]])"
      ]
     },
     "execution_count": 51,
     "metadata": {},
     "output_type": "execute_result"
    }
   ],
   "source": [
    "batch['edge_index'][0]\n",
    "batch['edge_index'][1]\n",
    "batch[0]['edge_index']\n",
    "batch[1]['edge_index']"
   ]
  },
  {
   "cell_type": "markdown",
   "id": "f3e68ba8-6daa-41f6-b20a-81bf97fedab8",
   "metadata": {},
   "source": [
    "### Training a GNN"
   ]
  },
  {
   "cell_type": "markdown",
   "id": "a3577b76-0ba1-4a9b-bd42-499b6c4f0b17",
   "metadata": {},
   "source": [
    " 1. Embed each node by performing multiple rounds of message passing\n",
    " 2. Aggregate node embeddings into a unified graph embedding (readout layer)\n",
    " 3. Train a final classifier on the graph embedding"
   ]
  },
  {
   "cell_type": "code",
   "execution_count": 54,
   "id": "82249dd5-12af-4f1d-8812-98f969b1f602",
   "metadata": {
    "tags": []
   },
   "outputs": [],
   "source": [
    "from torch.nn import Linear\n",
    "from torch_geometric.nn import GCNConv, GATConv, global_mean_pool\n",
    "import torch.nn.functional as F"
   ]
  },
  {
   "cell_type": "code",
   "execution_count": 60,
   "id": "29b2e61d-9791-47ff-842b-289fa4b51589",
   "metadata": {
    "tags": []
   },
   "outputs": [],
   "source": [
    "class GCN(torch.nn.Module):\n",
    "    def __init__(self, hidden_channels):\n",
    "        super().__init__()\n",
    "        self.conv1 = GCNConv(in_channels=dataset.num_node_features, out_channels=hidden_channels)\n",
    "        self.conv2 = GCNConv(in_channels=hidden_channels, out_channels=hidden_channels)\n",
    "        self.conv3 = GCNConv(in_channels=hidden_channels, out_channels=hidden_channels)\n",
    "        self.lin = Linear(in_features=hidden_channels, out_features=dataset.num_classes)\n",
    "        \n",
    "    def forward(self, x, edge_index, batch):\n",
    "        # 1. obtain embeddings\n",
    "        x = self.conv1(x, edge_index)\n",
    "        x = x.relu()\n",
    "        x = self.conv2(x, edge_index)\n",
    "        x = x.relu()\n",
    "        x = self.conv3(x, edge_index)\n",
    "        \n",
    "        # 2. Readout Layer\n",
    "        x = global_mean_pool(x, batch)\n",
    "        \n",
    "        # 3. apply classifier\n",
    "        x = F.dropout(x, p = 0.5, training=self.training)\n",
    "        x = self.lin(x)\n",
    "        \n",
    "        return x"
   ]
  },
  {
   "cell_type": "code",
   "execution_count": 65,
   "id": "f1250be1-d9a7-4f75-ad8c-6469b639cae8",
   "metadata": {
    "tags": []
   },
   "outputs": [
    {
     "data": {
      "text/plain": [
       "GCN(\n",
       "  (conv1): GCNConv(7, 64)\n",
       "  (conv2): GCNConv(64, 64)\n",
       "  (conv3): GCNConv(64, 64)\n",
       "  (lin): Linear(in_features=64, out_features=2, bias=True)\n",
       ")"
      ]
     },
     "execution_count": 65,
     "metadata": {},
     "output_type": "execute_result"
    }
   ],
   "source": [
    "model = GCN(hidden_channels=64)\n",
    "model"
   ]
  },
  {
   "cell_type": "code",
   "execution_count": 66,
   "id": "4b84369a-2bbc-4f73-ad26-72238c12b2ea",
   "metadata": {
    "tags": []
   },
   "outputs": [],
   "source": [
    "optimizer = torch.optim.Adam(params=model.parameters(), lr=0.01)\n",
    "criterion = torch.nn.CrossEntropyLoss()"
   ]
  },
  {
   "cell_type": "code",
   "execution_count": 67,
   "id": "7674822c-422a-4671-acb4-ac5657a575da",
   "metadata": {
    "tags": []
   },
   "outputs": [],
   "source": [
    "def train():\n",
    "    model.train()\n",
    "    for data in train_loader:\n",
    "        optimizer.zero_grad()\n",
    "        out = model(data['x'], data['edge_index'], data['batch'])\n",
    "        loss = criterion(out, data['y'])\n",
    "        loss.backward()\n",
    "        optimizer.step()\n",
    "\n",
    "def test(loader):\n",
    "    model.eval()\n",
    "    \n",
    "    correct = 0\n",
    "    for data in loader:\n",
    "        out = model(data['x'], data['edge_index'], data['batch'])\n",
    "        pred = out.argmax(dim = 1)\n",
    "        correct = correct + int((pred == data['y']).sum())\n",
    "    return correct / len(loader.dataset)"
   ]
  },
  {
   "cell_type": "code",
   "execution_count": 68,
   "id": "f4a1182a-9fc8-48c9-81b7-6ab68ce25216",
   "metadata": {
    "scrolled": true,
    "tags": []
   },
   "outputs": [
    {
     "name": "stdout",
     "output_type": "stream",
     "text": [
      "epoch = 001 :: train_acc = 0.6467 :: test_acc = 0.7368\n",
      "epoch = 002 :: train_acc = 0.6467 :: test_acc = 0.7368\n",
      "epoch = 003 :: train_acc = 0.6467 :: test_acc = 0.7368\n",
      "epoch = 004 :: train_acc = 0.6467 :: test_acc = 0.7368\n",
      "epoch = 005 :: train_acc = 0.6533 :: test_acc = 0.7368\n",
      "epoch = 006 :: train_acc = 0.6467 :: test_acc = 0.7368\n",
      "epoch = 007 :: train_acc = 0.6600 :: test_acc = 0.7368\n",
      "epoch = 008 :: train_acc = 0.7267 :: test_acc = 0.7895\n",
      "epoch = 009 :: train_acc = 0.7200 :: test_acc = 0.7632\n",
      "epoch = 010 :: train_acc = 0.7200 :: test_acc = 0.7632\n",
      "epoch = 011 :: train_acc = 0.7133 :: test_acc = 0.7895\n",
      "epoch = 012 :: train_acc = 0.7133 :: test_acc = 0.7895\n",
      "epoch = 013 :: train_acc = 0.7267 :: test_acc = 0.7632\n",
      "epoch = 014 :: train_acc = 0.7067 :: test_acc = 0.7895\n",
      "epoch = 015 :: train_acc = 0.7067 :: test_acc = 0.8158\n",
      "epoch = 016 :: train_acc = 0.7200 :: test_acc = 0.7895\n",
      "epoch = 017 :: train_acc = 0.7200 :: test_acc = 0.7895\n",
      "epoch = 018 :: train_acc = 0.7267 :: test_acc = 0.7895\n",
      "epoch = 019 :: train_acc = 0.7467 :: test_acc = 0.7895\n",
      "epoch = 020 :: train_acc = 0.7400 :: test_acc = 0.7632\n",
      "epoch = 021 :: train_acc = 0.7333 :: test_acc = 0.7895\n",
      "epoch = 022 :: train_acc = 0.7467 :: test_acc = 0.7895\n",
      "epoch = 023 :: train_acc = 0.7467 :: test_acc = 0.7632\n",
      "epoch = 024 :: train_acc = 0.7200 :: test_acc = 0.8421\n",
      "epoch = 025 :: train_acc = 0.7600 :: test_acc = 0.7632\n",
      "epoch = 026 :: train_acc = 0.7600 :: test_acc = 0.7632\n",
      "epoch = 027 :: train_acc = 0.7600 :: test_acc = 0.7632\n",
      "epoch = 028 :: train_acc = 0.7733 :: test_acc = 0.7895\n",
      "epoch = 029 :: train_acc = 0.7800 :: test_acc = 0.7895\n",
      "epoch = 030 :: train_acc = 0.7467 :: test_acc = 0.7368\n",
      "epoch = 031 :: train_acc = 0.7533 :: test_acc = 0.7632\n",
      "epoch = 032 :: train_acc = 0.7533 :: test_acc = 0.8158\n",
      "epoch = 033 :: train_acc = 0.7733 :: test_acc = 0.7895\n",
      "epoch = 034 :: train_acc = 0.7333 :: test_acc = 0.7632\n",
      "epoch = 035 :: train_acc = 0.7800 :: test_acc = 0.7895\n",
      "epoch = 036 :: train_acc = 0.7733 :: test_acc = 0.7632\n",
      "epoch = 037 :: train_acc = 0.7600 :: test_acc = 0.7632\n",
      "epoch = 038 :: train_acc = 0.7733 :: test_acc = 0.7895\n",
      "epoch = 039 :: train_acc = 0.7667 :: test_acc = 0.8158\n",
      "epoch = 040 :: train_acc = 0.7333 :: test_acc = 0.7105\n",
      "epoch = 041 :: train_acc = 0.7533 :: test_acc = 0.7632\n",
      "epoch = 042 :: train_acc = 0.7667 :: test_acc = 0.7895\n",
      "epoch = 043 :: train_acc = 0.7667 :: test_acc = 0.7632\n",
      "epoch = 044 :: train_acc = 0.7533 :: test_acc = 0.7632\n",
      "epoch = 045 :: train_acc = 0.7667 :: test_acc = 0.8158\n",
      "epoch = 046 :: train_acc = 0.7667 :: test_acc = 0.7895\n",
      "epoch = 047 :: train_acc = 0.7600 :: test_acc = 0.7632\n",
      "epoch = 048 :: train_acc = 0.7533 :: test_acc = 0.7632\n",
      "epoch = 049 :: train_acc = 0.7600 :: test_acc = 0.7632\n",
      "epoch = 050 :: train_acc = 0.7733 :: test_acc = 0.8158\n",
      "epoch = 051 :: train_acc = 0.7667 :: test_acc = 0.7632\n",
      "epoch = 052 :: train_acc = 0.7667 :: test_acc = 0.7632\n",
      "epoch = 053 :: train_acc = 0.7667 :: test_acc = 0.8158\n",
      "epoch = 054 :: train_acc = 0.7733 :: test_acc = 0.8158\n",
      "epoch = 055 :: train_acc = 0.7733 :: test_acc = 0.7895\n",
      "epoch = 056 :: train_acc = 0.7733 :: test_acc = 0.7895\n",
      "epoch = 057 :: train_acc = 0.7533 :: test_acc = 0.7368\n",
      "epoch = 058 :: train_acc = 0.7667 :: test_acc = 0.7632\n",
      "epoch = 059 :: train_acc = 0.7867 :: test_acc = 0.7368\n",
      "epoch = 060 :: train_acc = 0.7667 :: test_acc = 0.7632\n",
      "epoch = 061 :: train_acc = 0.7267 :: test_acc = 0.7632\n",
      "epoch = 062 :: train_acc = 0.7533 :: test_acc = 0.7368\n",
      "epoch = 063 :: train_acc = 0.7733 :: test_acc = 0.7895\n",
      "epoch = 064 :: train_acc = 0.7733 :: test_acc = 0.7895\n",
      "epoch = 065 :: train_acc = 0.7733 :: test_acc = 0.7895\n",
      "epoch = 066 :: train_acc = 0.7733 :: test_acc = 0.7895\n",
      "epoch = 067 :: train_acc = 0.7733 :: test_acc = 0.8158\n",
      "epoch = 068 :: train_acc = 0.7733 :: test_acc = 0.7895\n",
      "epoch = 069 :: train_acc = 0.7667 :: test_acc = 0.7632\n",
      "epoch = 070 :: train_acc = 0.7667 :: test_acc = 0.7632\n",
      "epoch = 071 :: train_acc = 0.7733 :: test_acc = 0.8158\n",
      "epoch = 072 :: train_acc = 0.7733 :: test_acc = 0.7895\n",
      "epoch = 073 :: train_acc = 0.7600 :: test_acc = 0.7368\n",
      "epoch = 074 :: train_acc = 0.7667 :: test_acc = 0.7632\n",
      "epoch = 075 :: train_acc = 0.7800 :: test_acc = 0.7895\n",
      "epoch = 076 :: train_acc = 0.7800 :: test_acc = 0.7895\n",
      "epoch = 077 :: train_acc = 0.7667 :: test_acc = 0.7632\n",
      "epoch = 078 :: train_acc = 0.7667 :: test_acc = 0.7632\n",
      "epoch = 079 :: train_acc = 0.7733 :: test_acc = 0.7895\n",
      "epoch = 080 :: train_acc = 0.7733 :: test_acc = 0.7368\n",
      "epoch = 081 :: train_acc = 0.7600 :: test_acc = 0.7368\n",
      "epoch = 082 :: train_acc = 0.7467 :: test_acc = 0.7632\n",
      "epoch = 083 :: train_acc = 0.7667 :: test_acc = 0.7632\n",
      "epoch = 084 :: train_acc = 0.7800 :: test_acc = 0.7368\n",
      "epoch = 085 :: train_acc = 0.7733 :: test_acc = 0.7895\n",
      "epoch = 086 :: train_acc = 0.7533 :: test_acc = 0.7368\n",
      "epoch = 087 :: train_acc = 0.7467 :: test_acc = 0.7368\n",
      "epoch = 088 :: train_acc = 0.7533 :: test_acc = 0.7632\n",
      "epoch = 089 :: train_acc = 0.7733 :: test_acc = 0.7895\n",
      "epoch = 090 :: train_acc = 0.7733 :: test_acc = 0.7632\n",
      "epoch = 091 :: train_acc = 0.7667 :: test_acc = 0.7632\n",
      "epoch = 092 :: train_acc = 0.7733 :: test_acc = 0.7632\n",
      "epoch = 093 :: train_acc = 0.7667 :: test_acc = 0.7895\n",
      "epoch = 094 :: train_acc = 0.7733 :: test_acc = 0.8158\n",
      "epoch = 095 :: train_acc = 0.7667 :: test_acc = 0.7632\n",
      "epoch = 096 :: train_acc = 0.7733 :: test_acc = 0.8158\n",
      "epoch = 097 :: train_acc = 0.7667 :: test_acc = 0.7895\n",
      "epoch = 098 :: train_acc = 0.7733 :: test_acc = 0.7368\n",
      "epoch = 099 :: train_acc = 0.7467 :: test_acc = 0.7368\n",
      "epoch = 100 :: train_acc = 0.7733 :: test_acc = 0.7368\n",
      "epoch = 101 :: train_acc = 0.7667 :: test_acc = 0.7895\n",
      "epoch = 102 :: train_acc = 0.7733 :: test_acc = 0.7895\n",
      "epoch = 103 :: train_acc = 0.7800 :: test_acc = 0.7632\n",
      "epoch = 104 :: train_acc = 0.7533 :: test_acc = 0.7105\n",
      "epoch = 105 :: train_acc = 0.7600 :: test_acc = 0.7368\n",
      "epoch = 106 :: train_acc = 0.7733 :: test_acc = 0.8158\n",
      "epoch = 107 :: train_acc = 0.7600 :: test_acc = 0.8158\n",
      "epoch = 108 :: train_acc = 0.7733 :: test_acc = 0.7632\n",
      "epoch = 109 :: train_acc = 0.7533 :: test_acc = 0.7105\n",
      "epoch = 110 :: train_acc = 0.7733 :: test_acc = 0.7368\n",
      "epoch = 111 :: train_acc = 0.7667 :: test_acc = 0.7895\n",
      "epoch = 112 :: train_acc = 0.7733 :: test_acc = 0.7368\n",
      "epoch = 113 :: train_acc = 0.7733 :: test_acc = 0.7368\n",
      "epoch = 114 :: train_acc = 0.7733 :: test_acc = 0.7368\n",
      "epoch = 115 :: train_acc = 0.7867 :: test_acc = 0.7632\n",
      "epoch = 116 :: train_acc = 0.7933 :: test_acc = 0.7895\n",
      "epoch = 117 :: train_acc = 0.7867 :: test_acc = 0.7632\n",
      "epoch = 118 :: train_acc = 0.7800 :: test_acc = 0.7895\n",
      "epoch = 119 :: train_acc = 0.7667 :: test_acc = 0.7632\n",
      "epoch = 120 :: train_acc = 0.7867 :: test_acc = 0.7895\n",
      "epoch = 121 :: train_acc = 0.7733 :: test_acc = 0.7632\n",
      "epoch = 122 :: train_acc = 0.8000 :: test_acc = 0.7105\n",
      "epoch = 123 :: train_acc = 0.7733 :: test_acc = 0.7632\n",
      "epoch = 124 :: train_acc = 0.7733 :: test_acc = 0.7105\n",
      "epoch = 125 :: train_acc = 0.7800 :: test_acc = 0.7632\n",
      "epoch = 126 :: train_acc = 0.8133 :: test_acc = 0.7105\n",
      "epoch = 127 :: train_acc = 0.7600 :: test_acc = 0.7895\n",
      "epoch = 128 :: train_acc = 0.7867 :: test_acc = 0.7632\n",
      "epoch = 129 :: train_acc = 0.7733 :: test_acc = 0.7632\n",
      "epoch = 130 :: train_acc = 0.7733 :: test_acc = 0.7632\n",
      "epoch = 131 :: train_acc = 0.7800 :: test_acc = 0.8158\n",
      "epoch = 132 :: train_acc = 0.7800 :: test_acc = 0.8158\n",
      "epoch = 133 :: train_acc = 0.8200 :: test_acc = 0.7105\n",
      "epoch = 134 :: train_acc = 0.7667 :: test_acc = 0.7632\n",
      "epoch = 135 :: train_acc = 0.7800 :: test_acc = 0.7368\n",
      "epoch = 136 :: train_acc = 0.7867 :: test_acc = 0.7895\n",
      "epoch = 137 :: train_acc = 0.7867 :: test_acc = 0.7895\n",
      "epoch = 138 :: train_acc = 0.7933 :: test_acc = 0.7632\n",
      "epoch = 139 :: train_acc = 0.7800 :: test_acc = 0.7632\n",
      "epoch = 140 :: train_acc = 0.7800 :: test_acc = 0.7105\n",
      "epoch = 141 :: train_acc = 0.7733 :: test_acc = 0.7368\n",
      "epoch = 142 :: train_acc = 0.8133 :: test_acc = 0.7105\n",
      "epoch = 143 :: train_acc = 0.8067 :: test_acc = 0.7632\n",
      "epoch = 144 :: train_acc = 0.7800 :: test_acc = 0.7632\n",
      "epoch = 145 :: train_acc = 0.7867 :: test_acc = 0.8158\n",
      "epoch = 146 :: train_acc = 0.7733 :: test_acc = 0.7895\n",
      "epoch = 147 :: train_acc = 0.7733 :: test_acc = 0.7895\n",
      "epoch = 148 :: train_acc = 0.7800 :: test_acc = 0.7895\n",
      "epoch = 149 :: train_acc = 0.7933 :: test_acc = 0.7895\n",
      "epoch = 150 :: train_acc = 0.7933 :: test_acc = 0.7105\n",
      "epoch = 151 :: train_acc = 0.7667 :: test_acc = 0.7368\n",
      "epoch = 152 :: train_acc = 0.8000 :: test_acc = 0.7105\n",
      "epoch = 153 :: train_acc = 0.7933 :: test_acc = 0.7895\n",
      "epoch = 154 :: train_acc = 0.7667 :: test_acc = 0.7632\n",
      "epoch = 155 :: train_acc = 0.8067 :: test_acc = 0.7105\n",
      "epoch = 156 :: train_acc = 0.7733 :: test_acc = 0.7895\n",
      "epoch = 157 :: train_acc = 0.7733 :: test_acc = 0.7105\n",
      "epoch = 158 :: train_acc = 0.7800 :: test_acc = 0.7632\n",
      "epoch = 159 :: train_acc = 0.7733 :: test_acc = 0.7632\n",
      "epoch = 160 :: train_acc = 0.7933 :: test_acc = 0.7632\n",
      "epoch = 161 :: train_acc = 0.7867 :: test_acc = 0.7632\n",
      "epoch = 162 :: train_acc = 0.7800 :: test_acc = 0.7895\n",
      "epoch = 163 :: train_acc = 0.7733 :: test_acc = 0.7632\n",
      "epoch = 164 :: train_acc = 0.7733 :: test_acc = 0.7895\n",
      "epoch = 165 :: train_acc = 0.7867 :: test_acc = 0.7368\n",
      "epoch = 166 :: train_acc = 0.7733 :: test_acc = 0.7632\n",
      "epoch = 167 :: train_acc = 0.8067 :: test_acc = 0.8158\n",
      "epoch = 168 :: train_acc = 0.7800 :: test_acc = 0.7632\n",
      "epoch = 169 :: train_acc = 0.7800 :: test_acc = 0.7632\n",
      "epoch = 170 :: train_acc = 0.8067 :: test_acc = 0.7632\n"
     ]
    }
   ],
   "source": [
    "for epoch in range(1,171):\n",
    "    train()\n",
    "    train_acc = test(train_loader)\n",
    "    test_acc = test(test_loader)\n",
    "    print(f\"epoch = {epoch:03d} :: train_acc = {train_acc:.4f} :: test_acc = {test_acc:.4f}\")"
   ]
  },
  {
   "cell_type": "markdown",
   "id": "80b6ade6-2973-45e4-a7ea-75f90a7fcd4e",
   "metadata": {},
   "source": [
    "Using `GraphConv` instead of `GCNConv` which introduces skip connection to the `GCNConv`"
   ]
  },
  {
   "cell_type": "code",
   "execution_count": 69,
   "id": "62ee7193-e96d-4ee4-8d65-f2d640fb63de",
   "metadata": {
    "tags": []
   },
   "outputs": [],
   "source": [
    "from torch_geometric.nn import GraphConv"
   ]
  },
  {
   "cell_type": "code",
   "execution_count": 76,
   "id": "c99b7778-81c5-46c6-b1cf-aa221427d97e",
   "metadata": {
    "tags": []
   },
   "outputs": [],
   "source": [
    "class GNN(torch.nn.Module):\n",
    "    def __init__(self, hidden_channels):\n",
    "        super().__init__()\n",
    "        self.GConv1 = GraphConv(in_channels=dataset.num_node_features, out_channels=hidden_channels, aggr='add')\n",
    "        self.GConv2 = GraphConv(in_channels=hidden_channels, out_channels=hidden_channels, aggr='add')\n",
    "        self.GConv3 = GraphConv(in_channels=hidden_channels, out_channels=hidden_channels, aggr='add')\n",
    "        self.lin = Linear(in_features=hidden_channels, out_features=dataset.num_classes)\n",
    "        \n",
    "    def forward(self, x, edge_index, batch):\n",
    "        # 1. calculate graph embeddings\n",
    "        x = self.GConv1(x, edge_index)\n",
    "        x = x.relu()\n",
    "        x = self.GConv2(x, edge_index)\n",
    "        x = x.relu()\n",
    "        x = self.GConv3(x, edge_index)\n",
    "        \n",
    "        # 2. obtain the Readout Layer\n",
    "        x = global_mean_pool(x, batch)\n",
    "        \n",
    "        # 3. apply classifier\n",
    "        x = F.dropout(x, p = 0.5, training=self.training)\n",
    "        x = self.lin(x)\n",
    "        \n",
    "        return x"
   ]
  },
  {
   "cell_type": "code",
   "execution_count": 77,
   "id": "68226a61-90d8-43fc-8250-c7eab2d8ffe2",
   "metadata": {
    "tags": []
   },
   "outputs": [
    {
     "data": {
      "text/plain": [
       "GNN(\n",
       "  (GConv1): GraphConv(7, 64)\n",
       "  (GConv2): GraphConv(64, 64)\n",
       "  (GConv3): GraphConv(64, 64)\n",
       "  (lin): Linear(in_features=64, out_features=2, bias=True)\n",
       ")"
      ]
     },
     "execution_count": 77,
     "metadata": {},
     "output_type": "execute_result"
    }
   ],
   "source": [
    "model = GNN(hidden_channels=64)\n",
    "model"
   ]
  },
  {
   "cell_type": "code",
   "execution_count": 78,
   "id": "b3b7dd9e-ba4c-4a90-af80-08b9a167a144",
   "metadata": {
    "tags": []
   },
   "outputs": [],
   "source": [
    "optimizer = torch.optim.Adam(params=model.parameters(), lr = 0.01)\n",
    "criterion = torch.nn.CrossEntropyLoss()"
   ]
  },
  {
   "cell_type": "code",
   "execution_count": 79,
   "id": "f686aa07-32cc-4f7b-9739-22e695bbf61a",
   "metadata": {
    "tags": []
   },
   "outputs": [],
   "source": [
    "def train():\n",
    "    model.train()\n",
    "    for data in train_loader:\n",
    "        optimizer.zero_grad()\n",
    "        out = model(data['x'], data['edge_index'], data['batch'])\n",
    "        loss = criterion(out, data['y'])\n",
    "        loss.backward()\n",
    "        optimizer.step()\n",
    "\n",
    "def test(loader):\n",
    "    model.eval()\n",
    "    correct = 0\n",
    "    for data in loader:\n",
    "        out = model(data['x'], data['edge_index'], data['batch'])\n",
    "        pred = out.argmax(dim = 1)\n",
    "        correct = correct + int((pred == data['y']).sum())\n",
    "    return correct / len(loader.dataset)"
   ]
  },
  {
   "cell_type": "code",
   "execution_count": 80,
   "id": "4077bf26-3ae7-4a12-9173-7c56f704ed2c",
   "metadata": {
    "scrolled": true,
    "tags": []
   },
   "outputs": [
    {
     "name": "stdout",
     "output_type": "stream",
     "text": [
      "epoch = 001 :: train_acc = 0.3533 :: test_acc = 0.2632\n",
      "epoch = 002 :: train_acc = 0.6467 :: test_acc = 0.7368\n",
      "epoch = 003 :: train_acc = 0.6467 :: test_acc = 0.7368\n",
      "epoch = 004 :: train_acc = 0.6467 :: test_acc = 0.7368\n",
      "epoch = 005 :: train_acc = 0.6467 :: test_acc = 0.7368\n",
      "epoch = 006 :: train_acc = 0.6533 :: test_acc = 0.7368\n",
      "epoch = 007 :: train_acc = 0.7267 :: test_acc = 0.8158\n",
      "epoch = 008 :: train_acc = 0.7267 :: test_acc = 0.8158\n",
      "epoch = 009 :: train_acc = 0.7267 :: test_acc = 0.8158\n",
      "epoch = 010 :: train_acc = 0.7400 :: test_acc = 0.7895\n",
      "epoch = 011 :: train_acc = 0.7533 :: test_acc = 0.8158\n",
      "epoch = 012 :: train_acc = 0.7733 :: test_acc = 0.8421\n",
      "epoch = 013 :: train_acc = 0.7667 :: test_acc = 0.7895\n",
      "epoch = 014 :: train_acc = 0.7667 :: test_acc = 0.8158\n",
      "epoch = 015 :: train_acc = 0.7933 :: test_acc = 0.8684\n",
      "epoch = 016 :: train_acc = 0.7800 :: test_acc = 0.8158\n",
      "epoch = 017 :: train_acc = 0.7800 :: test_acc = 0.8421\n",
      "epoch = 018 :: train_acc = 0.7800 :: test_acc = 0.7895\n",
      "epoch = 019 :: train_acc = 0.7933 :: test_acc = 0.8684\n",
      "epoch = 020 :: train_acc = 0.8000 :: test_acc = 0.8421\n",
      "epoch = 021 :: train_acc = 0.7933 :: test_acc = 0.7632\n",
      "epoch = 022 :: train_acc = 0.8000 :: test_acc = 0.8421\n",
      "epoch = 023 :: train_acc = 0.7667 :: test_acc = 0.7895\n",
      "epoch = 024 :: train_acc = 0.7800 :: test_acc = 0.8158\n",
      "epoch = 025 :: train_acc = 0.7733 :: test_acc = 0.8421\n",
      "epoch = 026 :: train_acc = 0.8067 :: test_acc = 0.8684\n",
      "epoch = 027 :: train_acc = 0.8000 :: test_acc = 0.8421\n",
      "epoch = 028 :: train_acc = 0.7800 :: test_acc = 0.7895\n",
      "epoch = 029 :: train_acc = 0.8133 :: test_acc = 0.8421\n",
      "epoch = 030 :: train_acc = 0.8133 :: test_acc = 0.8158\n",
      "epoch = 031 :: train_acc = 0.7867 :: test_acc = 0.7632\n",
      "epoch = 032 :: train_acc = 0.8067 :: test_acc = 0.8158\n",
      "epoch = 033 :: train_acc = 0.8067 :: test_acc = 0.8158\n",
      "epoch = 034 :: train_acc = 0.8067 :: test_acc = 0.8158\n",
      "epoch = 035 :: train_acc = 0.8133 :: test_acc = 0.7632\n",
      "epoch = 036 :: train_acc = 0.8067 :: test_acc = 0.8158\n",
      "epoch = 037 :: train_acc = 0.8067 :: test_acc = 0.7368\n",
      "epoch = 038 :: train_acc = 0.8067 :: test_acc = 0.8158\n",
      "epoch = 039 :: train_acc = 0.8133 :: test_acc = 0.8158\n",
      "epoch = 040 :: train_acc = 0.8267 :: test_acc = 0.8158\n",
      "epoch = 041 :: train_acc = 0.8000 :: test_acc = 0.8158\n",
      "epoch = 042 :: train_acc = 0.8267 :: test_acc = 0.7105\n",
      "epoch = 043 :: train_acc = 0.8400 :: test_acc = 0.8158\n",
      "epoch = 044 :: train_acc = 0.8467 :: test_acc = 0.8158\n",
      "epoch = 045 :: train_acc = 0.8600 :: test_acc = 0.7632\n",
      "epoch = 046 :: train_acc = 0.8133 :: test_acc = 0.7895\n",
      "epoch = 047 :: train_acc = 0.8467 :: test_acc = 0.7895\n",
      "epoch = 048 :: train_acc = 0.8600 :: test_acc = 0.7632\n",
      "epoch = 049 :: train_acc = 0.8400 :: test_acc = 0.8158\n",
      "epoch = 050 :: train_acc = 0.8800 :: test_acc = 0.8158\n",
      "epoch = 051 :: train_acc = 0.8667 :: test_acc = 0.7895\n",
      "epoch = 052 :: train_acc = 0.8267 :: test_acc = 0.7895\n",
      "epoch = 053 :: train_acc = 0.8667 :: test_acc = 0.7632\n",
      "epoch = 054 :: train_acc = 0.8467 :: test_acc = 0.8158\n",
      "epoch = 055 :: train_acc = 0.8800 :: test_acc = 0.8421\n",
      "epoch = 056 :: train_acc = 0.8800 :: test_acc = 0.7895\n",
      "epoch = 057 :: train_acc = 0.8467 :: test_acc = 0.8158\n",
      "epoch = 058 :: train_acc = 0.8600 :: test_acc = 0.7105\n",
      "epoch = 059 :: train_acc = 0.9133 :: test_acc = 0.8158\n",
      "epoch = 060 :: train_acc = 0.8733 :: test_acc = 0.8158\n",
      "epoch = 061 :: train_acc = 0.9067 :: test_acc = 0.8421\n",
      "epoch = 062 :: train_acc = 0.9133 :: test_acc = 0.8158\n",
      "epoch = 063 :: train_acc = 0.9133 :: test_acc = 0.8158\n",
      "epoch = 064 :: train_acc = 0.9133 :: test_acc = 0.7895\n",
      "epoch = 065 :: train_acc = 0.9000 :: test_acc = 0.8158\n",
      "epoch = 066 :: train_acc = 0.8800 :: test_acc = 0.7895\n",
      "epoch = 067 :: train_acc = 0.9133 :: test_acc = 0.8158\n",
      "epoch = 068 :: train_acc = 0.9333 :: test_acc = 0.8158\n",
      "epoch = 069 :: train_acc = 0.9333 :: test_acc = 0.8158\n",
      "epoch = 070 :: train_acc = 0.9067 :: test_acc = 0.8421\n",
      "epoch = 071 :: train_acc = 0.9267 :: test_acc = 0.8421\n",
      "epoch = 072 :: train_acc = 0.9333 :: test_acc = 0.8421\n",
      "epoch = 073 :: train_acc = 0.9000 :: test_acc = 0.8421\n",
      "epoch = 074 :: train_acc = 0.9267 :: test_acc = 0.8684\n",
      "epoch = 075 :: train_acc = 0.9133 :: test_acc = 0.8158\n",
      "epoch = 076 :: train_acc = 0.8800 :: test_acc = 0.8421\n",
      "epoch = 077 :: train_acc = 0.9133 :: test_acc = 0.8158\n",
      "epoch = 078 :: train_acc = 0.9200 :: test_acc = 0.8421\n",
      "epoch = 079 :: train_acc = 0.9133 :: test_acc = 0.8684\n",
      "epoch = 080 :: train_acc = 0.9267 :: test_acc = 0.8421\n",
      "epoch = 081 :: train_acc = 0.9267 :: test_acc = 0.8158\n",
      "epoch = 082 :: train_acc = 0.8933 :: test_acc = 0.8684\n",
      "epoch = 083 :: train_acc = 0.8867 :: test_acc = 0.8421\n",
      "epoch = 084 :: train_acc = 0.9000 :: test_acc = 0.7632\n",
      "epoch = 085 :: train_acc = 0.9000 :: test_acc = 0.8158\n",
      "epoch = 086 :: train_acc = 0.9000 :: test_acc = 0.8421\n",
      "epoch = 087 :: train_acc = 0.9200 :: test_acc = 0.8421\n",
      "epoch = 088 :: train_acc = 0.9133 :: test_acc = 0.8421\n",
      "epoch = 089 :: train_acc = 0.9067 :: test_acc = 0.8684\n",
      "epoch = 090 :: train_acc = 0.9067 :: test_acc = 0.7632\n",
      "epoch = 091 :: train_acc = 0.9267 :: test_acc = 0.8684\n",
      "epoch = 092 :: train_acc = 0.9267 :: test_acc = 0.8684\n",
      "epoch = 093 :: train_acc = 0.9333 :: test_acc = 0.8421\n",
      "epoch = 094 :: train_acc = 0.7933 :: test_acc = 0.8158\n",
      "epoch = 095 :: train_acc = 0.9133 :: test_acc = 0.8947\n",
      "epoch = 096 :: train_acc = 0.9133 :: test_acc = 0.7632\n",
      "epoch = 097 :: train_acc = 0.9067 :: test_acc = 0.8421\n",
      "epoch = 098 :: train_acc = 0.8933 :: test_acc = 0.8421\n",
      "epoch = 099 :: train_acc = 0.8933 :: test_acc = 0.7632\n",
      "epoch = 100 :: train_acc = 0.8933 :: test_acc = 0.8421\n",
      "epoch = 101 :: train_acc = 0.8733 :: test_acc = 0.8421\n",
      "epoch = 102 :: train_acc = 0.9267 :: test_acc = 0.8158\n",
      "epoch = 103 :: train_acc = 0.9133 :: test_acc = 0.8421\n",
      "epoch = 104 :: train_acc = 0.8867 :: test_acc = 0.8421\n",
      "epoch = 105 :: train_acc = 0.9133 :: test_acc = 0.8158\n",
      "epoch = 106 :: train_acc = 0.9267 :: test_acc = 0.8158\n",
      "epoch = 107 :: train_acc = 0.9133 :: test_acc = 0.8158\n",
      "epoch = 108 :: train_acc = 0.9200 :: test_acc = 0.8421\n",
      "epoch = 109 :: train_acc = 0.9200 :: test_acc = 0.8421\n",
      "epoch = 110 :: train_acc = 0.9200 :: test_acc = 0.8421\n",
      "epoch = 111 :: train_acc = 0.9200 :: test_acc = 0.8158\n",
      "epoch = 112 :: train_acc = 0.9267 :: test_acc = 0.8158\n",
      "epoch = 113 :: train_acc = 0.9200 :: test_acc = 0.8421\n",
      "epoch = 114 :: train_acc = 0.9267 :: test_acc = 0.8421\n",
      "epoch = 115 :: train_acc = 0.9267 :: test_acc = 0.8421\n",
      "epoch = 116 :: train_acc = 0.9200 :: test_acc = 0.8421\n",
      "epoch = 117 :: train_acc = 0.9333 :: test_acc = 0.8421\n",
      "epoch = 118 :: train_acc = 0.9333 :: test_acc = 0.8421\n",
      "epoch = 119 :: train_acc = 0.9267 :: test_acc = 0.8421\n",
      "epoch = 120 :: train_acc = 0.9333 :: test_acc = 0.8421\n",
      "epoch = 121 :: train_acc = 0.9133 :: test_acc = 0.8158\n",
      "epoch = 122 :: train_acc = 0.9200 :: test_acc = 0.8158\n",
      "epoch = 123 :: train_acc = 0.9267 :: test_acc = 0.8158\n",
      "epoch = 124 :: train_acc = 0.9267 :: test_acc = 0.8158\n",
      "epoch = 125 :: train_acc = 0.9133 :: test_acc = 0.8158\n",
      "epoch = 126 :: train_acc = 0.9400 :: test_acc = 0.8158\n",
      "epoch = 127 :: train_acc = 0.9400 :: test_acc = 0.8158\n",
      "epoch = 128 :: train_acc = 0.9333 :: test_acc = 0.8158\n",
      "epoch = 129 :: train_acc = 0.9333 :: test_acc = 0.8421\n",
      "epoch = 130 :: train_acc = 0.9267 :: test_acc = 0.8421\n",
      "epoch = 131 :: train_acc = 0.9467 :: test_acc = 0.8158\n",
      "epoch = 132 :: train_acc = 0.9400 :: test_acc = 0.8421\n",
      "epoch = 133 :: train_acc = 0.9200 :: test_acc = 0.8158\n",
      "epoch = 134 :: train_acc = 0.9333 :: test_acc = 0.8158\n",
      "epoch = 135 :: train_acc = 0.9400 :: test_acc = 0.8158\n",
      "epoch = 136 :: train_acc = 0.9267 :: test_acc = 0.8158\n",
      "epoch = 137 :: train_acc = 0.9400 :: test_acc = 0.8421\n",
      "epoch = 138 :: train_acc = 0.9467 :: test_acc = 0.8158\n",
      "epoch = 139 :: train_acc = 0.9200 :: test_acc = 0.8421\n",
      "epoch = 140 :: train_acc = 0.9267 :: test_acc = 0.8421\n",
      "epoch = 141 :: train_acc = 0.9333 :: test_acc = 0.8158\n",
      "epoch = 142 :: train_acc = 0.9333 :: test_acc = 0.8421\n",
      "epoch = 143 :: train_acc = 0.9267 :: test_acc = 0.8158\n",
      "epoch = 144 :: train_acc = 0.9333 :: test_acc = 0.8158\n",
      "epoch = 145 :: train_acc = 0.9333 :: test_acc = 0.7895\n",
      "epoch = 146 :: train_acc = 0.9333 :: test_acc = 0.8158\n",
      "epoch = 147 :: train_acc = 0.9467 :: test_acc = 0.8158\n",
      "epoch = 148 :: train_acc = 0.9467 :: test_acc = 0.8421\n",
      "epoch = 149 :: train_acc = 0.9333 :: test_acc = 0.8421\n",
      "epoch = 150 :: train_acc = 0.9400 :: test_acc = 0.8158\n",
      "epoch = 151 :: train_acc = 0.9467 :: test_acc = 0.8421\n",
      "epoch = 152 :: train_acc = 0.9467 :: test_acc = 0.8421\n",
      "epoch = 153 :: train_acc = 0.9467 :: test_acc = 0.8421\n",
      "epoch = 154 :: train_acc = 0.9333 :: test_acc = 0.8158\n",
      "epoch = 155 :: train_acc = 0.9400 :: test_acc = 0.8421\n",
      "epoch = 156 :: train_acc = 0.9400 :: test_acc = 0.8158\n",
      "epoch = 157 :: train_acc = 0.9400 :: test_acc = 0.8158\n",
      "epoch = 158 :: train_acc = 0.9400 :: test_acc = 0.8158\n",
      "epoch = 159 :: train_acc = 0.9400 :: test_acc = 0.8421\n",
      "epoch = 160 :: train_acc = 0.9467 :: test_acc = 0.8158\n",
      "epoch = 161 :: train_acc = 0.9467 :: test_acc = 0.8158\n",
      "epoch = 162 :: train_acc = 0.9467 :: test_acc = 0.8421\n",
      "epoch = 163 :: train_acc = 0.9267 :: test_acc = 0.8158\n",
      "epoch = 164 :: train_acc = 0.9400 :: test_acc = 0.8158\n",
      "epoch = 165 :: train_acc = 0.9000 :: test_acc = 0.7368\n",
      "epoch = 166 :: train_acc = 0.9267 :: test_acc = 0.8158\n",
      "epoch = 167 :: train_acc = 0.9267 :: test_acc = 0.8158\n",
      "epoch = 168 :: train_acc = 0.9133 :: test_acc = 0.7632\n",
      "epoch = 169 :: train_acc = 0.9467 :: test_acc = 0.8421\n",
      "epoch = 170 :: train_acc = 0.9133 :: test_acc = 0.8158\n",
      "epoch = 171 :: train_acc = 0.9333 :: test_acc = 0.8421\n",
      "epoch = 172 :: train_acc = 0.9400 :: test_acc = 0.8158\n",
      "epoch = 173 :: train_acc = 0.9467 :: test_acc = 0.8421\n",
      "epoch = 174 :: train_acc = 0.9133 :: test_acc = 0.8158\n",
      "epoch = 175 :: train_acc = 0.9333 :: test_acc = 0.8421\n",
      "epoch = 176 :: train_acc = 0.9467 :: test_acc = 0.8421\n",
      "epoch = 177 :: train_acc = 0.9400 :: test_acc = 0.8421\n",
      "epoch = 178 :: train_acc = 0.9400 :: test_acc = 0.8421\n",
      "epoch = 179 :: train_acc = 0.9400 :: test_acc = 0.8421\n",
      "epoch = 180 :: train_acc = 0.9400 :: test_acc = 0.8158\n",
      "epoch = 181 :: train_acc = 0.9467 :: test_acc = 0.8158\n",
      "epoch = 182 :: train_acc = 0.9467 :: test_acc = 0.8421\n",
      "epoch = 183 :: train_acc = 0.9467 :: test_acc = 0.8421\n",
      "epoch = 184 :: train_acc = 0.9467 :: test_acc = 0.8421\n",
      "epoch = 185 :: train_acc = 0.9467 :: test_acc = 0.8421\n",
      "epoch = 186 :: train_acc = 0.9400 :: test_acc = 0.7895\n",
      "epoch = 187 :: train_acc = 0.9067 :: test_acc = 0.8158\n",
      "epoch = 188 :: train_acc = 0.9467 :: test_acc = 0.8158\n",
      "epoch = 189 :: train_acc = 0.9400 :: test_acc = 0.8158\n",
      "epoch = 190 :: train_acc = 0.9400 :: test_acc = 0.8421\n",
      "epoch = 191 :: train_acc = 0.9333 :: test_acc = 0.8421\n",
      "epoch = 192 :: train_acc = 0.9400 :: test_acc = 0.8421\n",
      "epoch = 193 :: train_acc = 0.9400 :: test_acc = 0.8421\n",
      "epoch = 194 :: train_acc = 0.9333 :: test_acc = 0.8421\n",
      "epoch = 195 :: train_acc = 0.9400 :: test_acc = 0.8158\n",
      "epoch = 196 :: train_acc = 0.9400 :: test_acc = 0.8421\n",
      "epoch = 197 :: train_acc = 0.9467 :: test_acc = 0.8158\n",
      "epoch = 198 :: train_acc = 0.9333 :: test_acc = 0.8158\n",
      "epoch = 199 :: train_acc = 0.9400 :: test_acc = 0.8158\n",
      "epoch = 200 :: train_acc = 0.9400 :: test_acc = 0.8158\n"
     ]
    }
   ],
   "source": [
    "for epoch in range(1,201):\n",
    "    train()\n",
    "    train_acc = test(train_loader)\n",
    "    test_acc = test(test_loader)\n",
    "    print(f\"epoch = {epoch:03d} :: train_acc = {train_acc:.4f} :: test_acc = {test_acc:.4f}\")"
   ]
  },
  {
   "cell_type": "code",
   "execution_count": null,
   "id": "df09f24f-8232-40dc-aa64-41c16d2aba3c",
   "metadata": {},
   "outputs": [],
   "source": []
  },
  {
   "cell_type": "code",
   "execution_count": null,
   "id": "0cf4167d-edbc-4c19-a67e-9771eb312e60",
   "metadata": {},
   "outputs": [],
   "source": []
  },
  {
   "cell_type": "code",
   "execution_count": null,
   "id": "2c572d7c-4b77-4d99-b1f1-02a2f737e2d7",
   "metadata": {},
   "outputs": [],
   "source": []
  }
 ],
 "metadata": {
  "kernelspec": {
   "display_name": ".env-gnn",
   "language": "python",
   "name": ".env-gnn"
  },
  "language_info": {
   "codemirror_mode": {
    "name": "ipython",
    "version": 3
   },
   "file_extension": ".py",
   "mimetype": "text/x-python",
   "name": "python",
   "nbconvert_exporter": "python",
   "pygments_lexer": "ipython3",
   "version": "3.9.13"
  },
  "widgets": {
   "application/vnd.jupyter.widget-state+json": {
    "state": {},
    "version_major": 2,
    "version_minor": 0
   }
  }
 },
 "nbformat": 4,
 "nbformat_minor": 5
}
